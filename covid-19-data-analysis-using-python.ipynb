{
 "cells": [
  {
   "cell_type": "markdown",
   "id": "52a1d8b2",
   "metadata": {
    "_cell_guid": "810bd1b0-8f67-44e2-8839-1a206568d514",
    "_uuid": "771a1ad3-d654-4fce-8149-c1a7b105b2f6",
    "papermill": {
     "duration": 0.02981,
     "end_time": "2023-05-20T11:30:55.445609",
     "exception": false,
     "start_time": "2023-05-20T11:30:55.415799",
     "status": "completed"
    },
    "tags": []
   },
   "source": [
    "# Covid-19 Data Analysis using Python"
   ]
  },
  {
   "cell_type": "markdown",
   "id": "092c5f16",
   "metadata": {
    "_cell_guid": "d287fa26-db4c-49c0-ac5a-656ee3e943d0",
    "_uuid": "321324e2-a961-4447-84bd-1caccc307337",
    "papermill": {
     "duration": 0.028459,
     "end_time": "2023-05-20T11:30:55.503223",
     "exception": false,
     "start_time": "2023-05-20T11:30:55.474764",
     "status": "completed"
    },
    "tags": []
   },
   "source": [
    "## Importing Modules"
   ]
  },
  {
   "cell_type": "code",
   "execution_count": 1,
   "id": "a70e1129",
   "metadata": {
    "_cell_guid": "9066858a-f756-44bb-a3fb-2385576d007c",
    "_uuid": "643970dc-852e-496c-9c43-cf2bb81f9054",
    "collapsed": false,
    "execution": {
     "iopub.execute_input": "2023-05-20T11:30:55.562834Z",
     "iopub.status.busy": "2023-05-20T11:30:55.562308Z",
     "iopub.status.idle": "2023-05-20T11:30:57.147784Z",
     "shell.execute_reply": "2023-05-20T11:30:57.146919Z"
    },
    "jupyter": {
     "outputs_hidden": false
    },
    "papermill": {
     "duration": 1.61895,
     "end_time": "2023-05-20T11:30:57.150626",
     "exception": false,
     "start_time": "2023-05-20T11:30:55.531676",
     "status": "completed"
    },
    "tags": []
   },
   "outputs": [
    {
     "name": "stderr",
     "output_type": "stream",
     "text": [
      "/opt/conda/lib/python3.10/site-packages/scipy/__init__.py:146: UserWarning: A NumPy version >=1.16.5 and <1.23.0 is required for this version of SciPy (detected version 1.23.5\n",
      "  warnings.warn(f\"A NumPy version >={np_minversion} and <{np_maxversion}\"\n"
     ]
    },
    {
     "name": "stdout",
     "output_type": "stream",
     "text": [
      "Modules are imported.\n"
     ]
    }
   ],
   "source": [
    "import pandas as pd \n",
    "import numpy as np \n",
    "import seaborn as sns\n",
    "import matplotlib.pyplot as plt\n",
    "print('Modules are imported.')"
   ]
  },
  {
   "cell_type": "markdown",
   "id": "c9fccda5",
   "metadata": {
    "_cell_guid": "cdbd2de7-f20a-4b8e-858f-13f23fc290fa",
    "_uuid": "8b9b54f5-4694-4c92-8801-8f72c287d66d",
    "papermill": {
     "duration": 0.029158,
     "end_time": "2023-05-20T11:30:57.209112",
     "exception": false,
     "start_time": "2023-05-20T11:30:57.179954",
     "status": "completed"
    },
    "tags": []
   },
   "source": [
    "## Importing Covid-19 Confirmed Dataset"
   ]
  },
  {
   "cell_type": "code",
   "execution_count": 2,
   "id": "21e43de4",
   "metadata": {
    "_cell_guid": "10343496-2ee8-4b9d-a88c-dd41dfe34fd2",
    "_uuid": "93096a5d-a804-48c7-bc94-8165a4765a0f",
    "collapsed": false,
    "execution": {
     "iopub.execute_input": "2023-05-20T11:30:57.269242Z",
     "iopub.status.busy": "2023-05-20T11:30:57.268813Z",
     "iopub.status.idle": "2023-05-20T11:30:57.341586Z",
     "shell.execute_reply": "2023-05-20T11:30:57.340445Z"
    },
    "jupyter": {
     "outputs_hidden": false
    },
    "papermill": {
     "duration": 0.10618,
     "end_time": "2023-05-20T11:30:57.344161",
     "exception": false,
     "start_time": "2023-05-20T11:30:57.237981",
     "status": "completed"
    },
    "tags": []
   },
   "outputs": [
    {
     "data": {
      "text/html": [
       "<div>\n",
       "<style scoped>\n",
       "    .dataframe tbody tr th:only-of-type {\n",
       "        vertical-align: middle;\n",
       "    }\n",
       "\n",
       "    .dataframe tbody tr th {\n",
       "        vertical-align: top;\n",
       "    }\n",
       "\n",
       "    .dataframe thead th {\n",
       "        text-align: right;\n",
       "    }\n",
       "</style>\n",
       "<table border=\"1\" class=\"dataframe\">\n",
       "  <thead>\n",
       "    <tr style=\"text-align: right;\">\n",
       "      <th></th>\n",
       "      <th>Province/State</th>\n",
       "      <th>Country/Region</th>\n",
       "      <th>Lat</th>\n",
       "      <th>Long</th>\n",
       "      <th>1/22/20</th>\n",
       "      <th>1/23/20</th>\n",
       "      <th>1/24/20</th>\n",
       "      <th>1/25/20</th>\n",
       "      <th>1/26/20</th>\n",
       "      <th>1/27/20</th>\n",
       "      <th>...</th>\n",
       "      <th>4/21/20</th>\n",
       "      <th>4/22/20</th>\n",
       "      <th>4/23/20</th>\n",
       "      <th>4/24/20</th>\n",
       "      <th>4/25/20</th>\n",
       "      <th>4/26/20</th>\n",
       "      <th>4/27/20</th>\n",
       "      <th>4/28/20</th>\n",
       "      <th>4/29/20</th>\n",
       "      <th>4/30/20</th>\n",
       "    </tr>\n",
       "  </thead>\n",
       "  <tbody>\n",
       "    <tr>\n",
       "      <th>0</th>\n",
       "      <td>NaN</td>\n",
       "      <td>Afghanistan</td>\n",
       "      <td>33.0000</td>\n",
       "      <td>65.0000</td>\n",
       "      <td>0</td>\n",
       "      <td>0</td>\n",
       "      <td>0</td>\n",
       "      <td>0</td>\n",
       "      <td>0</td>\n",
       "      <td>0</td>\n",
       "      <td>...</td>\n",
       "      <td>1092</td>\n",
       "      <td>1176</td>\n",
       "      <td>1279</td>\n",
       "      <td>1351</td>\n",
       "      <td>1463</td>\n",
       "      <td>1531</td>\n",
       "      <td>1703</td>\n",
       "      <td>1828</td>\n",
       "      <td>1939</td>\n",
       "      <td>2171</td>\n",
       "    </tr>\n",
       "    <tr>\n",
       "      <th>1</th>\n",
       "      <td>NaN</td>\n",
       "      <td>Albania</td>\n",
       "      <td>41.1533</td>\n",
       "      <td>20.1683</td>\n",
       "      <td>0</td>\n",
       "      <td>0</td>\n",
       "      <td>0</td>\n",
       "      <td>0</td>\n",
       "      <td>0</td>\n",
       "      <td>0</td>\n",
       "      <td>...</td>\n",
       "      <td>609</td>\n",
       "      <td>634</td>\n",
       "      <td>663</td>\n",
       "      <td>678</td>\n",
       "      <td>712</td>\n",
       "      <td>726</td>\n",
       "      <td>736</td>\n",
       "      <td>750</td>\n",
       "      <td>766</td>\n",
       "      <td>773</td>\n",
       "    </tr>\n",
       "    <tr>\n",
       "      <th>2</th>\n",
       "      <td>NaN</td>\n",
       "      <td>Algeria</td>\n",
       "      <td>28.0339</td>\n",
       "      <td>1.6596</td>\n",
       "      <td>0</td>\n",
       "      <td>0</td>\n",
       "      <td>0</td>\n",
       "      <td>0</td>\n",
       "      <td>0</td>\n",
       "      <td>0</td>\n",
       "      <td>...</td>\n",
       "      <td>2811</td>\n",
       "      <td>2910</td>\n",
       "      <td>3007</td>\n",
       "      <td>3127</td>\n",
       "      <td>3256</td>\n",
       "      <td>3382</td>\n",
       "      <td>3517</td>\n",
       "      <td>3649</td>\n",
       "      <td>3848</td>\n",
       "      <td>4006</td>\n",
       "    </tr>\n",
       "    <tr>\n",
       "      <th>3</th>\n",
       "      <td>NaN</td>\n",
       "      <td>Andorra</td>\n",
       "      <td>42.5063</td>\n",
       "      <td>1.5218</td>\n",
       "      <td>0</td>\n",
       "      <td>0</td>\n",
       "      <td>0</td>\n",
       "      <td>0</td>\n",
       "      <td>0</td>\n",
       "      <td>0</td>\n",
       "      <td>...</td>\n",
       "      <td>717</td>\n",
       "      <td>723</td>\n",
       "      <td>723</td>\n",
       "      <td>731</td>\n",
       "      <td>738</td>\n",
       "      <td>738</td>\n",
       "      <td>743</td>\n",
       "      <td>743</td>\n",
       "      <td>743</td>\n",
       "      <td>745</td>\n",
       "    </tr>\n",
       "    <tr>\n",
       "      <th>4</th>\n",
       "      <td>NaN</td>\n",
       "      <td>Angola</td>\n",
       "      <td>-11.2027</td>\n",
       "      <td>17.8739</td>\n",
       "      <td>0</td>\n",
       "      <td>0</td>\n",
       "      <td>0</td>\n",
       "      <td>0</td>\n",
       "      <td>0</td>\n",
       "      <td>0</td>\n",
       "      <td>...</td>\n",
       "      <td>24</td>\n",
       "      <td>25</td>\n",
       "      <td>25</td>\n",
       "      <td>25</td>\n",
       "      <td>25</td>\n",
       "      <td>26</td>\n",
       "      <td>27</td>\n",
       "      <td>27</td>\n",
       "      <td>27</td>\n",
       "      <td>27</td>\n",
       "    </tr>\n",
       "    <tr>\n",
       "      <th>5</th>\n",
       "      <td>NaN</td>\n",
       "      <td>Antigua and Barbuda</td>\n",
       "      <td>17.0608</td>\n",
       "      <td>-61.7964</td>\n",
       "      <td>0</td>\n",
       "      <td>0</td>\n",
       "      <td>0</td>\n",
       "      <td>0</td>\n",
       "      <td>0</td>\n",
       "      <td>0</td>\n",
       "      <td>...</td>\n",
       "      <td>23</td>\n",
       "      <td>24</td>\n",
       "      <td>24</td>\n",
       "      <td>24</td>\n",
       "      <td>24</td>\n",
       "      <td>24</td>\n",
       "      <td>24</td>\n",
       "      <td>24</td>\n",
       "      <td>24</td>\n",
       "      <td>24</td>\n",
       "    </tr>\n",
       "    <tr>\n",
       "      <th>6</th>\n",
       "      <td>NaN</td>\n",
       "      <td>Argentina</td>\n",
       "      <td>-38.4161</td>\n",
       "      <td>-63.6167</td>\n",
       "      <td>0</td>\n",
       "      <td>0</td>\n",
       "      <td>0</td>\n",
       "      <td>0</td>\n",
       "      <td>0</td>\n",
       "      <td>0</td>\n",
       "      <td>...</td>\n",
       "      <td>3031</td>\n",
       "      <td>3144</td>\n",
       "      <td>3435</td>\n",
       "      <td>3607</td>\n",
       "      <td>3780</td>\n",
       "      <td>3892</td>\n",
       "      <td>4003</td>\n",
       "      <td>4127</td>\n",
       "      <td>4285</td>\n",
       "      <td>4428</td>\n",
       "    </tr>\n",
       "    <tr>\n",
       "      <th>7</th>\n",
       "      <td>NaN</td>\n",
       "      <td>Armenia</td>\n",
       "      <td>40.0691</td>\n",
       "      <td>45.0382</td>\n",
       "      <td>0</td>\n",
       "      <td>0</td>\n",
       "      <td>0</td>\n",
       "      <td>0</td>\n",
       "      <td>0</td>\n",
       "      <td>0</td>\n",
       "      <td>...</td>\n",
       "      <td>1401</td>\n",
       "      <td>1473</td>\n",
       "      <td>1523</td>\n",
       "      <td>1596</td>\n",
       "      <td>1677</td>\n",
       "      <td>1746</td>\n",
       "      <td>1808</td>\n",
       "      <td>1867</td>\n",
       "      <td>1932</td>\n",
       "      <td>2066</td>\n",
       "    </tr>\n",
       "    <tr>\n",
       "      <th>8</th>\n",
       "      <td>Australian Capital Territory</td>\n",
       "      <td>Australia</td>\n",
       "      <td>-35.4735</td>\n",
       "      <td>149.0124</td>\n",
       "      <td>0</td>\n",
       "      <td>0</td>\n",
       "      <td>0</td>\n",
       "      <td>0</td>\n",
       "      <td>0</td>\n",
       "      <td>0</td>\n",
       "      <td>...</td>\n",
       "      <td>104</td>\n",
       "      <td>104</td>\n",
       "      <td>104</td>\n",
       "      <td>105</td>\n",
       "      <td>106</td>\n",
       "      <td>106</td>\n",
       "      <td>106</td>\n",
       "      <td>106</td>\n",
       "      <td>106</td>\n",
       "      <td>106</td>\n",
       "    </tr>\n",
       "    <tr>\n",
       "      <th>9</th>\n",
       "      <td>New South Wales</td>\n",
       "      <td>Australia</td>\n",
       "      <td>-33.8688</td>\n",
       "      <td>151.2093</td>\n",
       "      <td>0</td>\n",
       "      <td>0</td>\n",
       "      <td>0</td>\n",
       "      <td>0</td>\n",
       "      <td>3</td>\n",
       "      <td>4</td>\n",
       "      <td>...</td>\n",
       "      <td>2969</td>\n",
       "      <td>2971</td>\n",
       "      <td>2976</td>\n",
       "      <td>2982</td>\n",
       "      <td>2994</td>\n",
       "      <td>3002</td>\n",
       "      <td>3004</td>\n",
       "      <td>3016</td>\n",
       "      <td>3016</td>\n",
       "      <td>3025</td>\n",
       "    </tr>\n",
       "  </tbody>\n",
       "</table>\n",
       "<p>10 rows × 104 columns</p>\n",
       "</div>"
      ],
      "text/plain": [
       "                 Province/State       Country/Region      Lat      Long  \\\n",
       "0                           NaN          Afghanistan  33.0000   65.0000   \n",
       "1                           NaN              Albania  41.1533   20.1683   \n",
       "2                           NaN              Algeria  28.0339    1.6596   \n",
       "3                           NaN              Andorra  42.5063    1.5218   \n",
       "4                           NaN               Angola -11.2027   17.8739   \n",
       "5                           NaN  Antigua and Barbuda  17.0608  -61.7964   \n",
       "6                           NaN            Argentina -38.4161  -63.6167   \n",
       "7                           NaN              Armenia  40.0691   45.0382   \n",
       "8  Australian Capital Territory            Australia -35.4735  149.0124   \n",
       "9               New South Wales            Australia -33.8688  151.2093   \n",
       "\n",
       "   1/22/20  1/23/20  1/24/20  1/25/20  1/26/20  1/27/20  ...  4/21/20  \\\n",
       "0        0        0        0        0        0        0  ...     1092   \n",
       "1        0        0        0        0        0        0  ...      609   \n",
       "2        0        0        0        0        0        0  ...     2811   \n",
       "3        0        0        0        0        0        0  ...      717   \n",
       "4        0        0        0        0        0        0  ...       24   \n",
       "5        0        0        0        0        0        0  ...       23   \n",
       "6        0        0        0        0        0        0  ...     3031   \n",
       "7        0        0        0        0        0        0  ...     1401   \n",
       "8        0        0        0        0        0        0  ...      104   \n",
       "9        0        0        0        0        3        4  ...     2969   \n",
       "\n",
       "   4/22/20  4/23/20  4/24/20  4/25/20  4/26/20  4/27/20  4/28/20  4/29/20  \\\n",
       "0     1176     1279     1351     1463     1531     1703     1828     1939   \n",
       "1      634      663      678      712      726      736      750      766   \n",
       "2     2910     3007     3127     3256     3382     3517     3649     3848   \n",
       "3      723      723      731      738      738      743      743      743   \n",
       "4       25       25       25       25       26       27       27       27   \n",
       "5       24       24       24       24       24       24       24       24   \n",
       "6     3144     3435     3607     3780     3892     4003     4127     4285   \n",
       "7     1473     1523     1596     1677     1746     1808     1867     1932   \n",
       "8      104      104      105      106      106      106      106      106   \n",
       "9     2971     2976     2982     2994     3002     3004     3016     3016   \n",
       "\n",
       "   4/30/20  \n",
       "0     2171  \n",
       "1      773  \n",
       "2     4006  \n",
       "3      745  \n",
       "4       27  \n",
       "5       24  \n",
       "6     4428  \n",
       "7     2066  \n",
       "8      106  \n",
       "9     3025  \n",
       "\n",
       "[10 rows x 104 columns]"
      ]
     },
     "execution_count": 2,
     "metadata": {},
     "output_type": "execute_result"
    }
   ],
   "source": [
    "corona_dataset_csv = pd.read_csv(\"/kaggle/input/covid19-and-world-happiness-report/covid19_Confirmed_dataset.csv\")\n",
    "corona_dataset_csv.head(10)"
   ]
  },
  {
   "cell_type": "code",
   "execution_count": 3,
   "id": "c1e17fc7",
   "metadata": {
    "_cell_guid": "ae068167-d7a1-4255-b78f-1e231aea1d24",
    "_uuid": "cff84f7b-606a-4dd2-a3a0-64ad7f3c95b3",
    "collapsed": false,
    "execution": {
     "iopub.execute_input": "2023-05-20T11:30:57.405289Z",
     "iopub.status.busy": "2023-05-20T11:30:57.404616Z",
     "iopub.status.idle": "2023-05-20T11:30:57.411334Z",
     "shell.execute_reply": "2023-05-20T11:30:57.410250Z"
    },
    "jupyter": {
     "outputs_hidden": false
    },
    "papermill": {
     "duration": 0.040037,
     "end_time": "2023-05-20T11:30:57.413567",
     "exception": false,
     "start_time": "2023-05-20T11:30:57.373530",
     "status": "completed"
    },
    "tags": []
   },
   "outputs": [
    {
     "data": {
      "text/plain": [
       "(266, 104)"
      ]
     },
     "execution_count": 3,
     "metadata": {},
     "output_type": "execute_result"
    }
   ],
   "source": [
    "corona_dataset_csv.shape"
   ]
  },
  {
   "cell_type": "markdown",
   "id": "b3d757bf",
   "metadata": {
    "_cell_guid": "3276c9a6-35d1-4309-94b5-faabc1a64bb3",
    "_uuid": "0310b0a0-6073-4463-b196-482d997fa5b0",
    "papermill": {
     "duration": 0.029418,
     "end_time": "2023-05-20T11:30:57.472494",
     "exception": false,
     "start_time": "2023-05-20T11:30:57.443076",
     "status": "completed"
    },
    "tags": []
   },
   "source": [
    "## Removing columns not needed for the analysis"
   ]
  },
  {
   "cell_type": "code",
   "execution_count": 4,
   "id": "c5f5529a",
   "metadata": {
    "_cell_guid": "1fc18279-a1d3-4f66-8254-dad41a93f285",
    "_uuid": "9ce22262-3698-4e0c-981a-104c21c589c1",
    "collapsed": false,
    "execution": {
     "iopub.execute_input": "2023-05-20T11:30:57.533877Z",
     "iopub.status.busy": "2023-05-20T11:30:57.533242Z",
     "iopub.status.idle": "2023-05-20T11:30:57.543755Z",
     "shell.execute_reply": "2023-05-20T11:30:57.542490Z"
    },
    "jupyter": {
     "outputs_hidden": false
    },
    "papermill": {
     "duration": 0.044488,
     "end_time": "2023-05-20T11:30:57.546542",
     "exception": false,
     "start_time": "2023-05-20T11:30:57.502054",
     "status": "completed"
    },
    "tags": []
   },
   "outputs": [],
   "source": [
    "df = corona_dataset_csv.drop([\"Lat\", \"Long\"],axis=1,inplace=True)"
   ]
  },
  {
   "cell_type": "code",
   "execution_count": 5,
   "id": "8f6fa370",
   "metadata": {
    "_cell_guid": "a39e80c5-6177-4fed-be86-4a5f6bc826c1",
    "_uuid": "0c27525b-a38e-4da3-af74-f4602a366eea",
    "collapsed": false,
    "execution": {
     "iopub.execute_input": "2023-05-20T11:30:57.608978Z",
     "iopub.status.busy": "2023-05-20T11:30:57.608576Z",
     "iopub.status.idle": "2023-05-20T11:30:57.632508Z",
     "shell.execute_reply": "2023-05-20T11:30:57.631121Z"
    },
    "jupyter": {
     "outputs_hidden": false
    },
    "papermill": {
     "duration": 0.058195,
     "end_time": "2023-05-20T11:30:57.635136",
     "exception": false,
     "start_time": "2023-05-20T11:30:57.576941",
     "status": "completed"
    },
    "tags": []
   },
   "outputs": [
    {
     "data": {
      "text/html": [
       "<div>\n",
       "<style scoped>\n",
       "    .dataframe tbody tr th:only-of-type {\n",
       "        vertical-align: middle;\n",
       "    }\n",
       "\n",
       "    .dataframe tbody tr th {\n",
       "        vertical-align: top;\n",
       "    }\n",
       "\n",
       "    .dataframe thead th {\n",
       "        text-align: right;\n",
       "    }\n",
       "</style>\n",
       "<table border=\"1\" class=\"dataframe\">\n",
       "  <thead>\n",
       "    <tr style=\"text-align: right;\">\n",
       "      <th></th>\n",
       "      <th>Province/State</th>\n",
       "      <th>Country/Region</th>\n",
       "      <th>1/22/20</th>\n",
       "      <th>1/23/20</th>\n",
       "      <th>1/24/20</th>\n",
       "      <th>1/25/20</th>\n",
       "      <th>1/26/20</th>\n",
       "      <th>1/27/20</th>\n",
       "      <th>1/28/20</th>\n",
       "      <th>1/29/20</th>\n",
       "      <th>...</th>\n",
       "      <th>4/21/20</th>\n",
       "      <th>4/22/20</th>\n",
       "      <th>4/23/20</th>\n",
       "      <th>4/24/20</th>\n",
       "      <th>4/25/20</th>\n",
       "      <th>4/26/20</th>\n",
       "      <th>4/27/20</th>\n",
       "      <th>4/28/20</th>\n",
       "      <th>4/29/20</th>\n",
       "      <th>4/30/20</th>\n",
       "    </tr>\n",
       "  </thead>\n",
       "  <tbody>\n",
       "    <tr>\n",
       "      <th>0</th>\n",
       "      <td>NaN</td>\n",
       "      <td>Afghanistan</td>\n",
       "      <td>0</td>\n",
       "      <td>0</td>\n",
       "      <td>0</td>\n",
       "      <td>0</td>\n",
       "      <td>0</td>\n",
       "      <td>0</td>\n",
       "      <td>0</td>\n",
       "      <td>0</td>\n",
       "      <td>...</td>\n",
       "      <td>1092</td>\n",
       "      <td>1176</td>\n",
       "      <td>1279</td>\n",
       "      <td>1351</td>\n",
       "      <td>1463</td>\n",
       "      <td>1531</td>\n",
       "      <td>1703</td>\n",
       "      <td>1828</td>\n",
       "      <td>1939</td>\n",
       "      <td>2171</td>\n",
       "    </tr>\n",
       "    <tr>\n",
       "      <th>1</th>\n",
       "      <td>NaN</td>\n",
       "      <td>Albania</td>\n",
       "      <td>0</td>\n",
       "      <td>0</td>\n",
       "      <td>0</td>\n",
       "      <td>0</td>\n",
       "      <td>0</td>\n",
       "      <td>0</td>\n",
       "      <td>0</td>\n",
       "      <td>0</td>\n",
       "      <td>...</td>\n",
       "      <td>609</td>\n",
       "      <td>634</td>\n",
       "      <td>663</td>\n",
       "      <td>678</td>\n",
       "      <td>712</td>\n",
       "      <td>726</td>\n",
       "      <td>736</td>\n",
       "      <td>750</td>\n",
       "      <td>766</td>\n",
       "      <td>773</td>\n",
       "    </tr>\n",
       "    <tr>\n",
       "      <th>2</th>\n",
       "      <td>NaN</td>\n",
       "      <td>Algeria</td>\n",
       "      <td>0</td>\n",
       "      <td>0</td>\n",
       "      <td>0</td>\n",
       "      <td>0</td>\n",
       "      <td>0</td>\n",
       "      <td>0</td>\n",
       "      <td>0</td>\n",
       "      <td>0</td>\n",
       "      <td>...</td>\n",
       "      <td>2811</td>\n",
       "      <td>2910</td>\n",
       "      <td>3007</td>\n",
       "      <td>3127</td>\n",
       "      <td>3256</td>\n",
       "      <td>3382</td>\n",
       "      <td>3517</td>\n",
       "      <td>3649</td>\n",
       "      <td>3848</td>\n",
       "      <td>4006</td>\n",
       "    </tr>\n",
       "    <tr>\n",
       "      <th>3</th>\n",
       "      <td>NaN</td>\n",
       "      <td>Andorra</td>\n",
       "      <td>0</td>\n",
       "      <td>0</td>\n",
       "      <td>0</td>\n",
       "      <td>0</td>\n",
       "      <td>0</td>\n",
       "      <td>0</td>\n",
       "      <td>0</td>\n",
       "      <td>0</td>\n",
       "      <td>...</td>\n",
       "      <td>717</td>\n",
       "      <td>723</td>\n",
       "      <td>723</td>\n",
       "      <td>731</td>\n",
       "      <td>738</td>\n",
       "      <td>738</td>\n",
       "      <td>743</td>\n",
       "      <td>743</td>\n",
       "      <td>743</td>\n",
       "      <td>745</td>\n",
       "    </tr>\n",
       "    <tr>\n",
       "      <th>4</th>\n",
       "      <td>NaN</td>\n",
       "      <td>Angola</td>\n",
       "      <td>0</td>\n",
       "      <td>0</td>\n",
       "      <td>0</td>\n",
       "      <td>0</td>\n",
       "      <td>0</td>\n",
       "      <td>0</td>\n",
       "      <td>0</td>\n",
       "      <td>0</td>\n",
       "      <td>...</td>\n",
       "      <td>24</td>\n",
       "      <td>25</td>\n",
       "      <td>25</td>\n",
       "      <td>25</td>\n",
       "      <td>25</td>\n",
       "      <td>26</td>\n",
       "      <td>27</td>\n",
       "      <td>27</td>\n",
       "      <td>27</td>\n",
       "      <td>27</td>\n",
       "    </tr>\n",
       "    <tr>\n",
       "      <th>5</th>\n",
       "      <td>NaN</td>\n",
       "      <td>Antigua and Barbuda</td>\n",
       "      <td>0</td>\n",
       "      <td>0</td>\n",
       "      <td>0</td>\n",
       "      <td>0</td>\n",
       "      <td>0</td>\n",
       "      <td>0</td>\n",
       "      <td>0</td>\n",
       "      <td>0</td>\n",
       "      <td>...</td>\n",
       "      <td>23</td>\n",
       "      <td>24</td>\n",
       "      <td>24</td>\n",
       "      <td>24</td>\n",
       "      <td>24</td>\n",
       "      <td>24</td>\n",
       "      <td>24</td>\n",
       "      <td>24</td>\n",
       "      <td>24</td>\n",
       "      <td>24</td>\n",
       "    </tr>\n",
       "    <tr>\n",
       "      <th>6</th>\n",
       "      <td>NaN</td>\n",
       "      <td>Argentina</td>\n",
       "      <td>0</td>\n",
       "      <td>0</td>\n",
       "      <td>0</td>\n",
       "      <td>0</td>\n",
       "      <td>0</td>\n",
       "      <td>0</td>\n",
       "      <td>0</td>\n",
       "      <td>0</td>\n",
       "      <td>...</td>\n",
       "      <td>3031</td>\n",
       "      <td>3144</td>\n",
       "      <td>3435</td>\n",
       "      <td>3607</td>\n",
       "      <td>3780</td>\n",
       "      <td>3892</td>\n",
       "      <td>4003</td>\n",
       "      <td>4127</td>\n",
       "      <td>4285</td>\n",
       "      <td>4428</td>\n",
       "    </tr>\n",
       "    <tr>\n",
       "      <th>7</th>\n",
       "      <td>NaN</td>\n",
       "      <td>Armenia</td>\n",
       "      <td>0</td>\n",
       "      <td>0</td>\n",
       "      <td>0</td>\n",
       "      <td>0</td>\n",
       "      <td>0</td>\n",
       "      <td>0</td>\n",
       "      <td>0</td>\n",
       "      <td>0</td>\n",
       "      <td>...</td>\n",
       "      <td>1401</td>\n",
       "      <td>1473</td>\n",
       "      <td>1523</td>\n",
       "      <td>1596</td>\n",
       "      <td>1677</td>\n",
       "      <td>1746</td>\n",
       "      <td>1808</td>\n",
       "      <td>1867</td>\n",
       "      <td>1932</td>\n",
       "      <td>2066</td>\n",
       "    </tr>\n",
       "    <tr>\n",
       "      <th>8</th>\n",
       "      <td>Australian Capital Territory</td>\n",
       "      <td>Australia</td>\n",
       "      <td>0</td>\n",
       "      <td>0</td>\n",
       "      <td>0</td>\n",
       "      <td>0</td>\n",
       "      <td>0</td>\n",
       "      <td>0</td>\n",
       "      <td>0</td>\n",
       "      <td>0</td>\n",
       "      <td>...</td>\n",
       "      <td>104</td>\n",
       "      <td>104</td>\n",
       "      <td>104</td>\n",
       "      <td>105</td>\n",
       "      <td>106</td>\n",
       "      <td>106</td>\n",
       "      <td>106</td>\n",
       "      <td>106</td>\n",
       "      <td>106</td>\n",
       "      <td>106</td>\n",
       "    </tr>\n",
       "    <tr>\n",
       "      <th>9</th>\n",
       "      <td>New South Wales</td>\n",
       "      <td>Australia</td>\n",
       "      <td>0</td>\n",
       "      <td>0</td>\n",
       "      <td>0</td>\n",
       "      <td>0</td>\n",
       "      <td>3</td>\n",
       "      <td>4</td>\n",
       "      <td>4</td>\n",
       "      <td>4</td>\n",
       "      <td>...</td>\n",
       "      <td>2969</td>\n",
       "      <td>2971</td>\n",
       "      <td>2976</td>\n",
       "      <td>2982</td>\n",
       "      <td>2994</td>\n",
       "      <td>3002</td>\n",
       "      <td>3004</td>\n",
       "      <td>3016</td>\n",
       "      <td>3016</td>\n",
       "      <td>3025</td>\n",
       "    </tr>\n",
       "  </tbody>\n",
       "</table>\n",
       "<p>10 rows × 102 columns</p>\n",
       "</div>"
      ],
      "text/plain": [
       "                 Province/State       Country/Region  1/22/20  1/23/20  \\\n",
       "0                           NaN          Afghanistan        0        0   \n",
       "1                           NaN              Albania        0        0   \n",
       "2                           NaN              Algeria        0        0   \n",
       "3                           NaN              Andorra        0        0   \n",
       "4                           NaN               Angola        0        0   \n",
       "5                           NaN  Antigua and Barbuda        0        0   \n",
       "6                           NaN            Argentina        0        0   \n",
       "7                           NaN              Armenia        0        0   \n",
       "8  Australian Capital Territory            Australia        0        0   \n",
       "9               New South Wales            Australia        0        0   \n",
       "\n",
       "   1/24/20  1/25/20  1/26/20  1/27/20  1/28/20  1/29/20  ...  4/21/20  \\\n",
       "0        0        0        0        0        0        0  ...     1092   \n",
       "1        0        0        0        0        0        0  ...      609   \n",
       "2        0        0        0        0        0        0  ...     2811   \n",
       "3        0        0        0        0        0        0  ...      717   \n",
       "4        0        0        0        0        0        0  ...       24   \n",
       "5        0        0        0        0        0        0  ...       23   \n",
       "6        0        0        0        0        0        0  ...     3031   \n",
       "7        0        0        0        0        0        0  ...     1401   \n",
       "8        0        0        0        0        0        0  ...      104   \n",
       "9        0        0        3        4        4        4  ...     2969   \n",
       "\n",
       "   4/22/20  4/23/20  4/24/20  4/25/20  4/26/20  4/27/20  4/28/20  4/29/20  \\\n",
       "0     1176     1279     1351     1463     1531     1703     1828     1939   \n",
       "1      634      663      678      712      726      736      750      766   \n",
       "2     2910     3007     3127     3256     3382     3517     3649     3848   \n",
       "3      723      723      731      738      738      743      743      743   \n",
       "4       25       25       25       25       26       27       27       27   \n",
       "5       24       24       24       24       24       24       24       24   \n",
       "6     3144     3435     3607     3780     3892     4003     4127     4285   \n",
       "7     1473     1523     1596     1677     1746     1808     1867     1932   \n",
       "8      104      104      105      106      106      106      106      106   \n",
       "9     2971     2976     2982     2994     3002     3004     3016     3016   \n",
       "\n",
       "   4/30/20  \n",
       "0     2171  \n",
       "1      773  \n",
       "2     4006  \n",
       "3      745  \n",
       "4       27  \n",
       "5       24  \n",
       "6     4428  \n",
       "7     2066  \n",
       "8      106  \n",
       "9     3025  \n",
       "\n",
       "[10 rows x 102 columns]"
      ]
     },
     "execution_count": 5,
     "metadata": {},
     "output_type": "execute_result"
    }
   ],
   "source": [
    "corona_dataset_csv.head(10)"
   ]
  },
  {
   "cell_type": "markdown",
   "id": "731e875d",
   "metadata": {
    "_cell_guid": "9109d72b-8e34-472a-8bd7-cd2b1968b77f",
    "_uuid": "3a1b8921-0f89-489f-8864-00e66d285eb9",
    "papermill": {
     "duration": 0.030653,
     "end_time": "2023-05-20T11:30:57.696867",
     "exception": false,
     "start_time": "2023-05-20T11:30:57.666214",
     "status": "completed"
    },
    "tags": []
   },
   "source": [
    "## Aggregating rows by country"
   ]
  },
  {
   "cell_type": "code",
   "execution_count": 6,
   "id": "71056b2e",
   "metadata": {
    "_cell_guid": "14dac9fd-f581-4082-9053-4d026f8ddcc8",
    "_uuid": "16037b3a-f85e-486c-a8b6-9586c419f878",
    "collapsed": false,
    "execution": {
     "iopub.execute_input": "2023-05-20T11:30:57.759243Z",
     "iopub.status.busy": "2023-05-20T11:30:57.758828Z",
     "iopub.status.idle": "2023-05-20T11:30:57.777060Z",
     "shell.execute_reply": "2023-05-20T11:30:57.775458Z"
    },
    "jupyter": {
     "outputs_hidden": false
    },
    "papermill": {
     "duration": 0.052592,
     "end_time": "2023-05-20T11:30:57.779800",
     "exception": false,
     "start_time": "2023-05-20T11:30:57.727208",
     "status": "completed"
    },
    "tags": []
   },
   "outputs": [
    {
     "name": "stderr",
     "output_type": "stream",
     "text": [
      "/tmp/ipykernel_19/3159044292.py:1: FutureWarning: The default value of numeric_only in DataFrameGroupBy.sum is deprecated. In a future version, numeric_only will default to False. Either specify numeric_only or select only columns which should be valid for the function.\n",
      "  corona_dataset_aggregated = corona_dataset_csv.groupby(\"Country/Region\").sum()\n"
     ]
    }
   ],
   "source": [
    "corona_dataset_aggregated = corona_dataset_csv.groupby(\"Country/Region\").sum()"
   ]
  },
  {
   "cell_type": "code",
   "execution_count": 7,
   "id": "189cd7c5",
   "metadata": {
    "_cell_guid": "ab31b482-24e3-465f-bac8-d0674e357405",
    "_uuid": "667f2634-f413-4be6-8898-69846a59bd72",
    "collapsed": false,
    "execution": {
     "iopub.execute_input": "2023-05-20T11:30:57.843499Z",
     "iopub.status.busy": "2023-05-20T11:30:57.843021Z",
     "iopub.status.idle": "2023-05-20T11:30:57.865409Z",
     "shell.execute_reply": "2023-05-20T11:30:57.864122Z"
    },
    "jupyter": {
     "outputs_hidden": false
    },
    "papermill": {
     "duration": 0.056892,
     "end_time": "2023-05-20T11:30:57.867892",
     "exception": false,
     "start_time": "2023-05-20T11:30:57.811000",
     "status": "completed"
    },
    "tags": []
   },
   "outputs": [
    {
     "data": {
      "text/html": [
       "<div>\n",
       "<style scoped>\n",
       "    .dataframe tbody tr th:only-of-type {\n",
       "        vertical-align: middle;\n",
       "    }\n",
       "\n",
       "    .dataframe tbody tr th {\n",
       "        vertical-align: top;\n",
       "    }\n",
       "\n",
       "    .dataframe thead th {\n",
       "        text-align: right;\n",
       "    }\n",
       "</style>\n",
       "<table border=\"1\" class=\"dataframe\">\n",
       "  <thead>\n",
       "    <tr style=\"text-align: right;\">\n",
       "      <th></th>\n",
       "      <th>1/22/20</th>\n",
       "      <th>1/23/20</th>\n",
       "      <th>1/24/20</th>\n",
       "      <th>1/25/20</th>\n",
       "      <th>1/26/20</th>\n",
       "      <th>1/27/20</th>\n",
       "      <th>1/28/20</th>\n",
       "      <th>1/29/20</th>\n",
       "      <th>1/30/20</th>\n",
       "      <th>1/31/20</th>\n",
       "      <th>...</th>\n",
       "      <th>4/21/20</th>\n",
       "      <th>4/22/20</th>\n",
       "      <th>4/23/20</th>\n",
       "      <th>4/24/20</th>\n",
       "      <th>4/25/20</th>\n",
       "      <th>4/26/20</th>\n",
       "      <th>4/27/20</th>\n",
       "      <th>4/28/20</th>\n",
       "      <th>4/29/20</th>\n",
       "      <th>4/30/20</th>\n",
       "    </tr>\n",
       "    <tr>\n",
       "      <th>Country/Region</th>\n",
       "      <th></th>\n",
       "      <th></th>\n",
       "      <th></th>\n",
       "      <th></th>\n",
       "      <th></th>\n",
       "      <th></th>\n",
       "      <th></th>\n",
       "      <th></th>\n",
       "      <th></th>\n",
       "      <th></th>\n",
       "      <th></th>\n",
       "      <th></th>\n",
       "      <th></th>\n",
       "      <th></th>\n",
       "      <th></th>\n",
       "      <th></th>\n",
       "      <th></th>\n",
       "      <th></th>\n",
       "      <th></th>\n",
       "      <th></th>\n",
       "      <th></th>\n",
       "    </tr>\n",
       "  </thead>\n",
       "  <tbody>\n",
       "    <tr>\n",
       "      <th>Afghanistan</th>\n",
       "      <td>0</td>\n",
       "      <td>0</td>\n",
       "      <td>0</td>\n",
       "      <td>0</td>\n",
       "      <td>0</td>\n",
       "      <td>0</td>\n",
       "      <td>0</td>\n",
       "      <td>0</td>\n",
       "      <td>0</td>\n",
       "      <td>0</td>\n",
       "      <td>...</td>\n",
       "      <td>1092</td>\n",
       "      <td>1176</td>\n",
       "      <td>1279</td>\n",
       "      <td>1351</td>\n",
       "      <td>1463</td>\n",
       "      <td>1531</td>\n",
       "      <td>1703</td>\n",
       "      <td>1828</td>\n",
       "      <td>1939</td>\n",
       "      <td>2171</td>\n",
       "    </tr>\n",
       "    <tr>\n",
       "      <th>Albania</th>\n",
       "      <td>0</td>\n",
       "      <td>0</td>\n",
       "      <td>0</td>\n",
       "      <td>0</td>\n",
       "      <td>0</td>\n",
       "      <td>0</td>\n",
       "      <td>0</td>\n",
       "      <td>0</td>\n",
       "      <td>0</td>\n",
       "      <td>0</td>\n",
       "      <td>...</td>\n",
       "      <td>609</td>\n",
       "      <td>634</td>\n",
       "      <td>663</td>\n",
       "      <td>678</td>\n",
       "      <td>712</td>\n",
       "      <td>726</td>\n",
       "      <td>736</td>\n",
       "      <td>750</td>\n",
       "      <td>766</td>\n",
       "      <td>773</td>\n",
       "    </tr>\n",
       "    <tr>\n",
       "      <th>Algeria</th>\n",
       "      <td>0</td>\n",
       "      <td>0</td>\n",
       "      <td>0</td>\n",
       "      <td>0</td>\n",
       "      <td>0</td>\n",
       "      <td>0</td>\n",
       "      <td>0</td>\n",
       "      <td>0</td>\n",
       "      <td>0</td>\n",
       "      <td>0</td>\n",
       "      <td>...</td>\n",
       "      <td>2811</td>\n",
       "      <td>2910</td>\n",
       "      <td>3007</td>\n",
       "      <td>3127</td>\n",
       "      <td>3256</td>\n",
       "      <td>3382</td>\n",
       "      <td>3517</td>\n",
       "      <td>3649</td>\n",
       "      <td>3848</td>\n",
       "      <td>4006</td>\n",
       "    </tr>\n",
       "    <tr>\n",
       "      <th>Andorra</th>\n",
       "      <td>0</td>\n",
       "      <td>0</td>\n",
       "      <td>0</td>\n",
       "      <td>0</td>\n",
       "      <td>0</td>\n",
       "      <td>0</td>\n",
       "      <td>0</td>\n",
       "      <td>0</td>\n",
       "      <td>0</td>\n",
       "      <td>0</td>\n",
       "      <td>...</td>\n",
       "      <td>717</td>\n",
       "      <td>723</td>\n",
       "      <td>723</td>\n",
       "      <td>731</td>\n",
       "      <td>738</td>\n",
       "      <td>738</td>\n",
       "      <td>743</td>\n",
       "      <td>743</td>\n",
       "      <td>743</td>\n",
       "      <td>745</td>\n",
       "    </tr>\n",
       "    <tr>\n",
       "      <th>Angola</th>\n",
       "      <td>0</td>\n",
       "      <td>0</td>\n",
       "      <td>0</td>\n",
       "      <td>0</td>\n",
       "      <td>0</td>\n",
       "      <td>0</td>\n",
       "      <td>0</td>\n",
       "      <td>0</td>\n",
       "      <td>0</td>\n",
       "      <td>0</td>\n",
       "      <td>...</td>\n",
       "      <td>24</td>\n",
       "      <td>25</td>\n",
       "      <td>25</td>\n",
       "      <td>25</td>\n",
       "      <td>25</td>\n",
       "      <td>26</td>\n",
       "      <td>27</td>\n",
       "      <td>27</td>\n",
       "      <td>27</td>\n",
       "      <td>27</td>\n",
       "    </tr>\n",
       "  </tbody>\n",
       "</table>\n",
       "<p>5 rows × 100 columns</p>\n",
       "</div>"
      ],
      "text/plain": [
       "                1/22/20  1/23/20  1/24/20  1/25/20  1/26/20  1/27/20  1/28/20  \\\n",
       "Country/Region                                                                  \n",
       "Afghanistan           0        0        0        0        0        0        0   \n",
       "Albania               0        0        0        0        0        0        0   \n",
       "Algeria               0        0        0        0        0        0        0   \n",
       "Andorra               0        0        0        0        0        0        0   \n",
       "Angola                0        0        0        0        0        0        0   \n",
       "\n",
       "                1/29/20  1/30/20  1/31/20  ...  4/21/20  4/22/20  4/23/20  \\\n",
       "Country/Region                             ...                              \n",
       "Afghanistan           0        0        0  ...     1092     1176     1279   \n",
       "Albania               0        0        0  ...      609      634      663   \n",
       "Algeria               0        0        0  ...     2811     2910     3007   \n",
       "Andorra               0        0        0  ...      717      723      723   \n",
       "Angola                0        0        0  ...       24       25       25   \n",
       "\n",
       "                4/24/20  4/25/20  4/26/20  4/27/20  4/28/20  4/29/20  4/30/20  \n",
       "Country/Region                                                                 \n",
       "Afghanistan        1351     1463     1531     1703     1828     1939     2171  \n",
       "Albania             678      712      726      736      750      766      773  \n",
       "Algeria            3127     3256     3382     3517     3649     3848     4006  \n",
       "Andorra             731      738      738      743      743      743      745  \n",
       "Angola               25       25       26       27       27       27       27  \n",
       "\n",
       "[5 rows x 100 columns]"
      ]
     },
     "execution_count": 7,
     "metadata": {},
     "output_type": "execute_result"
    }
   ],
   "source": [
    "corona_dataset_aggregated.head()"
   ]
  },
  {
   "cell_type": "code",
   "execution_count": 8,
   "id": "0b9e943d",
   "metadata": {
    "_cell_guid": "f1c69677-915c-4f82-bc1c-d7d92ab19a3d",
    "_uuid": "9a945e4f-c2f7-4096-b139-7700a61ee274",
    "collapsed": false,
    "execution": {
     "iopub.execute_input": "2023-05-20T11:30:57.932976Z",
     "iopub.status.busy": "2023-05-20T11:30:57.931737Z",
     "iopub.status.idle": "2023-05-20T11:30:57.938110Z",
     "shell.execute_reply": "2023-05-20T11:30:57.937268Z"
    },
    "jupyter": {
     "outputs_hidden": false
    },
    "papermill": {
     "duration": 0.0416,
     "end_time": "2023-05-20T11:30:57.940409",
     "exception": false,
     "start_time": "2023-05-20T11:30:57.898809",
     "status": "completed"
    },
    "tags": []
   },
   "outputs": [
    {
     "data": {
      "text/plain": [
       "(187, 100)"
      ]
     },
     "execution_count": 8,
     "metadata": {},
     "output_type": "execute_result"
    }
   ],
   "source": [
    "corona_dataset_aggregated.shape"
   ]
  },
  {
   "cell_type": "markdown",
   "id": "bedc8e68",
   "metadata": {
    "_cell_guid": "ca82e966-38c6-4d91-a71c-cb4c5e9b4f7d",
    "_uuid": "bb1bedb4-9be5-4ae3-879a-70e7e1086340",
    "papermill": {
     "duration": 0.030716,
     "end_time": "2023-05-20T11:30:58.002143",
     "exception": false,
     "start_time": "2023-05-20T11:30:57.971427",
     "status": "completed"
    },
    "tags": []
   },
   "source": [
    "## Inital visualization of related data to a sample of coutries. China, Italy and Spain"
   ]
  },
  {
   "cell_type": "code",
   "execution_count": 9,
   "id": "c38a6be0",
   "metadata": {
    "_cell_guid": "70027db8-1d32-4a82-b4f7-814443ef0c60",
    "_uuid": "fff0fb78-39ff-489e-8573-0fc8a3aafb4e",
    "collapsed": false,
    "execution": {
     "iopub.execute_input": "2023-05-20T11:30:58.067242Z",
     "iopub.status.busy": "2023-05-20T11:30:58.066170Z",
     "iopub.status.idle": "2023-05-20T11:30:58.435055Z",
     "shell.execute_reply": "2023-05-20T11:30:58.433844Z"
    },
    "jupyter": {
     "outputs_hidden": false
    },
    "papermill": {
     "duration": 0.404869,
     "end_time": "2023-05-20T11:30:58.437799",
     "exception": false,
     "start_time": "2023-05-20T11:30:58.032930",
     "status": "completed"
    },
    "tags": []
   },
   "outputs": [
    {
     "data": {
      "text/plain": [
       "<matplotlib.legend.Legend at 0x7e12c495f850>"
      ]
     },
     "execution_count": 9,
     "metadata": {},
     "output_type": "execute_result"
    },
    {
     "data": {
      "image/png": "[encoded data removed]",
      "text/plain": [
       "<Figure size 640x480 with 1 Axes>"
      ]
     },
     "metadata": {},
     "output_type": "display_data"
    }
   ],
   "source": [
    "corona_dataset_aggregated.loc[\"China\"].plot()\n",
    "corona_dataset_aggregated.loc[\"Italy\"].plot()\n",
    "corona_dataset_aggregated.loc[\"Spain\"].plot()\n",
    "plt.legend()"
   ]
  },
  {
   "cell_type": "markdown",
   "id": "9b96b52e",
   "metadata": {
    "_cell_guid": "bec852e3-b581-4952-865e-52e206a846fa",
    "_uuid": "0786bc44-0074-48eb-8939-0ba4cd4d14b5",
    "papermill": {
     "duration": 0.031898,
     "end_time": "2023-05-20T11:30:58.501973",
     "exception": false,
     "start_time": "2023-05-20T11:30:58.470075",
     "status": "completed"
    },
    "tags": []
   },
   "source": [
    "## Caculating the first derivative of the vacine"
   ]
  },
  {
   "cell_type": "code",
   "execution_count": 10,
   "id": "6a64a195",
   "metadata": {
    "_cell_guid": "c53e9e6b-8214-480f-beba-9a9454806692",
    "_uuid": "45a92e97-8166-4d1d-8932-77f0a1ef3796",
    "collapsed": false,
    "execution": {
     "iopub.execute_input": "2023-05-20T11:30:58.567468Z",
     "iopub.status.busy": "2023-05-20T11:30:58.567066Z",
     "iopub.status.idle": "2023-05-20T11:30:58.760073Z",
     "shell.execute_reply": "2023-05-20T11:30:58.758791Z"
    },
    "jupyter": {
     "outputs_hidden": false
    },
    "papermill": {
     "duration": 0.22942,
     "end_time": "2023-05-20T11:30:58.763225",
     "exception": false,
     "start_time": "2023-05-20T11:30:58.533805",
     "status": "completed"
    },
    "tags": []
   },
   "outputs": [
    {
     "data": {
      "text/plain": [
       "<AxesSubplot: >"
      ]
     },
     "execution_count": 10,
     "metadata": {},
     "output_type": "execute_result"
    },
    {
     "data": {
      "image/png": "[encoded data removed]",
      "text/plain": [
       "<Figure size 640x480 with 1 Axes>"
      ]
     },
     "metadata": {},
     "output_type": "display_data"
    }
   ],
   "source": [
    "corona_dataset_aggregated.loc[\"China\"].diff().plot()"
   ]
  },
  {
   "cell_type": "markdown",
   "id": "a0d6ae6f",
   "metadata": {
    "_cell_guid": "3cc8baa0-79d5-4e26-a6e1-494c5717748a",
    "_uuid": "8c505469-9871-4e1e-94b1-90a11338d4a0",
    "papermill": {
     "duration": 0.033192,
     "end_time": "2023-05-20T11:30:58.829760",
     "exception": false,
     "start_time": "2023-05-20T11:30:58.796568",
     "status": "completed"
    },
    "tags": []
   },
   "source": [
    "## Finding maxmimum infection rate for China, Italy and Spain"
   ]
  },
  {
   "cell_type": "code",
   "execution_count": 11,
   "id": "b775838e",
   "metadata": {
    "_cell_guid": "7e8a2936-a809-407f-9354-a2471d0532c3",
    "_uuid": "c011f521-dbd6-48e6-9525-f928b813531d",
    "collapsed": false,
    "execution": {
     "iopub.execute_input": "2023-05-20T11:30:58.898923Z",
     "iopub.status.busy": "2023-05-20T11:30:58.898131Z",
     "iopub.status.idle": "2023-05-20T11:30:58.906228Z",
     "shell.execute_reply": "2023-05-20T11:30:58.905272Z"
    },
    "jupyter": {
     "outputs_hidden": false
    },
    "papermill": {
     "duration": 0.04454,
     "end_time": "2023-05-20T11:30:58.908550",
     "exception": false,
     "start_time": "2023-05-20T11:30:58.864010",
     "status": "completed"
    },
    "tags": []
   },
   "outputs": [
    {
     "data": {
      "text/plain": [
       "15136.0"
      ]
     },
     "execution_count": 11,
     "metadata": {},
     "output_type": "execute_result"
    }
   ],
   "source": [
    "corona_dataset_aggregated.loc[\"China\"].diff().max()"
   ]
  },
  {
   "cell_type": "code",
   "execution_count": 12,
   "id": "262f9ad5",
   "metadata": {
    "_cell_guid": "e8c800da-6ef0-4455-aa6b-b54bddc40fad",
    "_uuid": "ccf759ca-43d0-415b-97fb-8b09cdddb9c0",
    "collapsed": false,
    "execution": {
     "iopub.execute_input": "2023-05-20T11:30:58.976781Z",
     "iopub.status.busy": "2023-05-20T11:30:58.975938Z",
     "iopub.status.idle": "2023-05-20T11:30:58.984398Z",
     "shell.execute_reply": "2023-05-20T11:30:58.983140Z"
    },
    "jupyter": {
     "outputs_hidden": false
    },
    "papermill": {
     "duration": 0.045852,
     "end_time": "2023-05-20T11:30:58.987011",
     "exception": false,
     "start_time": "2023-05-20T11:30:58.941159",
     "status": "completed"
    },
    "tags": []
   },
   "outputs": [
    {
     "data": {
      "text/plain": [
       "6557.0"
      ]
     },
     "execution_count": 12,
     "metadata": {},
     "output_type": "execute_result"
    }
   ],
   "source": [
    "corona_dataset_aggregated.loc[\"Italy\"].diff().max()"
   ]
  },
  {
   "cell_type": "code",
   "execution_count": 13,
   "id": "ca19d09b",
   "metadata": {
    "_cell_guid": "1e6169c4-b1bd-4d73-9684-1ac9bd8550b5",
    "_uuid": "33ca9039-f42a-4664-b2c7-3cf63926b2e8",
    "collapsed": false,
    "execution": {
     "iopub.execute_input": "2023-05-20T11:30:59.055471Z",
     "iopub.status.busy": "2023-05-20T11:30:59.054696Z",
     "iopub.status.idle": "2023-05-20T11:30:59.062063Z",
     "shell.execute_reply": "2023-05-20T11:30:59.061196Z"
    },
    "jupyter": {
     "outputs_hidden": false
    },
    "papermill": {
     "duration": 0.044306,
     "end_time": "2023-05-20T11:30:59.064402",
     "exception": false,
     "start_time": "2023-05-20T11:30:59.020096",
     "status": "completed"
    },
    "tags": []
   },
   "outputs": [
    {
     "data": {
      "text/plain": [
       "9630.0"
      ]
     },
     "execution_count": 13,
     "metadata": {},
     "output_type": "execute_result"
    }
   ],
   "source": [
    "corona_dataset_aggregated.loc[\"Spain\"].diff().max()"
   ]
  },
  {
   "cell_type": "markdown",
   "id": "e47c346e",
   "metadata": {
    "_cell_guid": "cd671533-5efb-467f-9f26-822e5fdae932",
    "_uuid": "6a020ead-d3e0-46f6-8c23-ac5f3028d5a6",
    "papermill": {
     "duration": 0.033267,
     "end_time": "2023-05-20T11:30:59.131136",
     "exception": false,
     "start_time": "2023-05-20T11:30:59.097869",
     "status": "completed"
    },
    "tags": []
   },
   "source": [
    "## Using for loop to find the maximum inferction rate for all countries"
   ]
  },
  {
   "cell_type": "code",
   "execution_count": 14,
   "id": "15432d24",
   "metadata": {
    "_cell_guid": "021df1f0-8839-486e-8476-514971e98387",
    "_uuid": "f517cc32-fbca-40b8-a8c8-dac80a49d10c",
    "collapsed": false,
    "execution": {
     "iopub.execute_input": "2023-05-20T11:30:59.200059Z",
     "iopub.status.busy": "2023-05-20T11:30:59.199301Z",
     "iopub.status.idle": "2023-05-20T11:30:59.263834Z",
     "shell.execute_reply": "2023-05-20T11:30:59.262973Z"
    },
    "jupyter": {
     "outputs_hidden": false
    },
    "papermill": {
     "duration": 0.102184,
     "end_time": "2023-05-20T11:30:59.266611",
     "exception": false,
     "start_time": "2023-05-20T11:30:59.164427",
     "status": "completed"
    },
    "tags": []
   },
   "outputs": [],
   "source": [
    "countries = list(corona_dataset_aggregated.index)\n",
    "max_infection_rates = []\n",
    "for c in countries :\n",
    "    max_infection_rates.append(corona_dataset_aggregated.loc[c].diff().max())\n",
    "corona_dataset_aggregated[\"max_infection_rates\"] = max_infection_rates"
   ]
  },
  {
   "cell_type": "code",
   "execution_count": 15,
   "id": "0a8043a7",
   "metadata": {
    "_cell_guid": "bda5879e-6818-4226-87e2-7831bbea528f",
    "_uuid": "7291425e-c914-4f39-b475-4ef5ff4c85ab",
    "collapsed": false,
    "execution": {
     "iopub.execute_input": "2023-05-20T11:30:59.337551Z",
     "iopub.status.busy": "2023-05-20T11:30:59.337099Z",
     "iopub.status.idle": "2023-05-20T11:30:59.359305Z",
     "shell.execute_reply": "2023-05-20T11:30:59.358122Z"
    },
    "jupyter": {
     "outputs_hidden": false
    },
    "papermill": {
     "duration": 0.06017,
     "end_time": "2023-05-20T11:30:59.361903",
     "exception": false,
     "start_time": "2023-05-20T11:30:59.301733",
     "status": "completed"
    },
    "tags": []
   },
   "outputs": [
    {
     "data": {
      "text/html": [
       "<div>\n",
       "<style scoped>\n",
       "    .dataframe tbody tr th:only-of-type {\n",
       "        vertical-align: middle;\n",
       "    }\n",
       "\n",
       "    .dataframe tbody tr th {\n",
       "        vertical-align: top;\n",
       "    }\n",
       "\n",
       "    .dataframe thead th {\n",
       "        text-align: right;\n",
       "    }\n",
       "</style>\n",
       "<table border=\"1\" class=\"dataframe\">\n",
       "  <thead>\n",
       "    <tr style=\"text-align: right;\">\n",
       "      <th></th>\n",
       "      <th>1/22/20</th>\n",
       "      <th>1/23/20</th>\n",
       "      <th>1/24/20</th>\n",
       "      <th>1/25/20</th>\n",
       "      <th>1/26/20</th>\n",
       "      <th>1/27/20</th>\n",
       "      <th>1/28/20</th>\n",
       "      <th>1/29/20</th>\n",
       "      <th>1/30/20</th>\n",
       "      <th>1/31/20</th>\n",
       "      <th>...</th>\n",
       "      <th>4/22/20</th>\n",
       "      <th>4/23/20</th>\n",
       "      <th>4/24/20</th>\n",
       "      <th>4/25/20</th>\n",
       "      <th>4/26/20</th>\n",
       "      <th>4/27/20</th>\n",
       "      <th>4/28/20</th>\n",
       "      <th>4/29/20</th>\n",
       "      <th>4/30/20</th>\n",
       "      <th>max_infection_rates</th>\n",
       "    </tr>\n",
       "    <tr>\n",
       "      <th>Country/Region</th>\n",
       "      <th></th>\n",
       "      <th></th>\n",
       "      <th></th>\n",
       "      <th></th>\n",
       "      <th></th>\n",
       "      <th></th>\n",
       "      <th></th>\n",
       "      <th></th>\n",
       "      <th></th>\n",
       "      <th></th>\n",
       "      <th></th>\n",
       "      <th></th>\n",
       "      <th></th>\n",
       "      <th></th>\n",
       "      <th></th>\n",
       "      <th></th>\n",
       "      <th></th>\n",
       "      <th></th>\n",
       "      <th></th>\n",
       "      <th></th>\n",
       "      <th></th>\n",
       "    </tr>\n",
       "  </thead>\n",
       "  <tbody>\n",
       "    <tr>\n",
       "      <th>Afghanistan</th>\n",
       "      <td>0</td>\n",
       "      <td>0</td>\n",
       "      <td>0</td>\n",
       "      <td>0</td>\n",
       "      <td>0</td>\n",
       "      <td>0</td>\n",
       "      <td>0</td>\n",
       "      <td>0</td>\n",
       "      <td>0</td>\n",
       "      <td>0</td>\n",
       "      <td>...</td>\n",
       "      <td>1176</td>\n",
       "      <td>1279</td>\n",
       "      <td>1351</td>\n",
       "      <td>1463</td>\n",
       "      <td>1531</td>\n",
       "      <td>1703</td>\n",
       "      <td>1828</td>\n",
       "      <td>1939</td>\n",
       "      <td>2171</td>\n",
       "      <td>232.0</td>\n",
       "    </tr>\n",
       "    <tr>\n",
       "      <th>Albania</th>\n",
       "      <td>0</td>\n",
       "      <td>0</td>\n",
       "      <td>0</td>\n",
       "      <td>0</td>\n",
       "      <td>0</td>\n",
       "      <td>0</td>\n",
       "      <td>0</td>\n",
       "      <td>0</td>\n",
       "      <td>0</td>\n",
       "      <td>0</td>\n",
       "      <td>...</td>\n",
       "      <td>634</td>\n",
       "      <td>663</td>\n",
       "      <td>678</td>\n",
       "      <td>712</td>\n",
       "      <td>726</td>\n",
       "      <td>736</td>\n",
       "      <td>750</td>\n",
       "      <td>766</td>\n",
       "      <td>773</td>\n",
       "      <td>34.0</td>\n",
       "    </tr>\n",
       "    <tr>\n",
       "      <th>Algeria</th>\n",
       "      <td>0</td>\n",
       "      <td>0</td>\n",
       "      <td>0</td>\n",
       "      <td>0</td>\n",
       "      <td>0</td>\n",
       "      <td>0</td>\n",
       "      <td>0</td>\n",
       "      <td>0</td>\n",
       "      <td>0</td>\n",
       "      <td>0</td>\n",
       "      <td>...</td>\n",
       "      <td>2910</td>\n",
       "      <td>3007</td>\n",
       "      <td>3127</td>\n",
       "      <td>3256</td>\n",
       "      <td>3382</td>\n",
       "      <td>3517</td>\n",
       "      <td>3649</td>\n",
       "      <td>3848</td>\n",
       "      <td>4006</td>\n",
       "      <td>199.0</td>\n",
       "    </tr>\n",
       "    <tr>\n",
       "      <th>Andorra</th>\n",
       "      <td>0</td>\n",
       "      <td>0</td>\n",
       "      <td>0</td>\n",
       "      <td>0</td>\n",
       "      <td>0</td>\n",
       "      <td>0</td>\n",
       "      <td>0</td>\n",
       "      <td>0</td>\n",
       "      <td>0</td>\n",
       "      <td>0</td>\n",
       "      <td>...</td>\n",
       "      <td>723</td>\n",
       "      <td>723</td>\n",
       "      <td>731</td>\n",
       "      <td>738</td>\n",
       "      <td>738</td>\n",
       "      <td>743</td>\n",
       "      <td>743</td>\n",
       "      <td>743</td>\n",
       "      <td>745</td>\n",
       "      <td>43.0</td>\n",
       "    </tr>\n",
       "    <tr>\n",
       "      <th>Angola</th>\n",
       "      <td>0</td>\n",
       "      <td>0</td>\n",
       "      <td>0</td>\n",
       "      <td>0</td>\n",
       "      <td>0</td>\n",
       "      <td>0</td>\n",
       "      <td>0</td>\n",
       "      <td>0</td>\n",
       "      <td>0</td>\n",
       "      <td>0</td>\n",
       "      <td>...</td>\n",
       "      <td>25</td>\n",
       "      <td>25</td>\n",
       "      <td>25</td>\n",
       "      <td>25</td>\n",
       "      <td>26</td>\n",
       "      <td>27</td>\n",
       "      <td>27</td>\n",
       "      <td>27</td>\n",
       "      <td>27</td>\n",
       "      <td>5.0</td>\n",
       "    </tr>\n",
       "  </tbody>\n",
       "</table>\n",
       "<p>5 rows × 101 columns</p>\n",
       "</div>"
      ],
      "text/plain": [
       "                1/22/20  1/23/20  1/24/20  1/25/20  1/26/20  1/27/20  1/28/20  \\\n",
       "Country/Region                                                                  \n",
       "Afghanistan           0        0        0        0        0        0        0   \n",
       "Albania               0        0        0        0        0        0        0   \n",
       "Algeria               0        0        0        0        0        0        0   \n",
       "Andorra               0        0        0        0        0        0        0   \n",
       "Angola                0        0        0        0        0        0        0   \n",
       "\n",
       "                1/29/20  1/30/20  1/31/20  ...  4/22/20  4/23/20  4/24/20  \\\n",
       "Country/Region                             ...                              \n",
       "Afghanistan           0        0        0  ...     1176     1279     1351   \n",
       "Albania               0        0        0  ...      634      663      678   \n",
       "Algeria               0        0        0  ...     2910     3007     3127   \n",
       "Andorra               0        0        0  ...      723      723      731   \n",
       "Angola                0        0        0  ...       25       25       25   \n",
       "\n",
       "                4/25/20  4/26/20  4/27/20  4/28/20  4/29/20  4/30/20  \\\n",
       "Country/Region                                                         \n",
       "Afghanistan        1463     1531     1703     1828     1939     2171   \n",
       "Albania             712      726      736      750      766      773   \n",
       "Algeria            3256     3382     3517     3649     3848     4006   \n",
       "Andorra             738      738      743      743      743      745   \n",
       "Angola               25       26       27       27       27       27   \n",
       "\n",
       "                max_infection_rates  \n",
       "Country/Region                       \n",
       "Afghanistan                   232.0  \n",
       "Albania                        34.0  \n",
       "Algeria                       199.0  \n",
       "Andorra                        43.0  \n",
       "Angola                          5.0  \n",
       "\n",
       "[5 rows x 101 columns]"
      ]
     },
     "execution_count": 15,
     "metadata": {},
     "output_type": "execute_result"
    }
   ],
   "source": [
    "corona_dataset_aggregated.head()"
   ]
  },
  {
   "cell_type": "markdown",
   "id": "3c460b44",
   "metadata": {
    "_cell_guid": "94f83d3e-abf3-4602-88c8-90cc77ea03d5",
    "_uuid": "ae76afc8-813c-4ccc-888b-b791a7f782a4",
    "papermill": {
     "duration": 0.033277,
     "end_time": "2023-05-20T11:30:59.428916",
     "exception": false,
     "start_time": "2023-05-20T11:30:59.395639",
     "status": "completed"
    },
    "tags": []
   },
   "source": [
    "## Creating a dataframe with relevant columns to the analysis"
   ]
  },
  {
   "cell_type": "code",
   "execution_count": 16,
   "id": "48c3bc3a",
   "metadata": {
    "_cell_guid": "fa95facd-d49d-4fe4-9bb0-04f4a22866c5",
    "_uuid": "250a770e-4866-4132-93a3-f4ab439a756c",
    "collapsed": false,
    "execution": {
     "iopub.execute_input": "2023-05-20T11:30:59.498953Z",
     "iopub.status.busy": "2023-05-20T11:30:59.498140Z",
     "iopub.status.idle": "2023-05-20T11:30:59.503958Z",
     "shell.execute_reply": "2023-05-20T11:30:59.503096Z"
    },
    "jupyter": {
     "outputs_hidden": false
    },
    "papermill": {
     "duration": 0.043621,
     "end_time": "2023-05-20T11:30:59.506512",
     "exception": false,
     "start_time": "2023-05-20T11:30:59.462891",
     "status": "completed"
    },
    "tags": []
   },
   "outputs": [],
   "source": [
    "corona_data = pd.DataFrame(corona_dataset_aggregated[\"max_infection_rates\"])"
   ]
  },
  {
   "cell_type": "code",
   "execution_count": 17,
   "id": "c955be0c",
   "metadata": {
    "_cell_guid": "3cec79bf-0241-476b-a02b-9f79683b361d",
    "_uuid": "fe184f76-f8dc-4950-895c-223595f64ed3",
    "collapsed": false,
    "execution": {
     "iopub.execute_input": "2023-05-20T11:30:59.577667Z",
     "iopub.status.busy": "2023-05-20T11:30:59.576807Z",
     "iopub.status.idle": "2023-05-20T11:30:59.587603Z",
     "shell.execute_reply": "2023-05-20T11:30:59.586447Z"
    },
    "jupyter": {
     "outputs_hidden": false
    },
    "papermill": {
     "duration": 0.049799,
     "end_time": "2023-05-20T11:30:59.589991",
     "exception": false,
     "start_time": "2023-05-20T11:30:59.540192",
     "status": "completed"
    },
    "tags": []
   },
   "outputs": [
    {
     "data": {
      "text/html": [
       "<div>\n",
       "<style scoped>\n",
       "    .dataframe tbody tr th:only-of-type {\n",
       "        vertical-align: middle;\n",
       "    }\n",
       "\n",
       "    .dataframe tbody tr th {\n",
       "        vertical-align: top;\n",
       "    }\n",
       "\n",
       "    .dataframe thead th {\n",
       "        text-align: right;\n",
       "    }\n",
       "</style>\n",
       "<table border=\"1\" class=\"dataframe\">\n",
       "  <thead>\n",
       "    <tr style=\"text-align: right;\">\n",
       "      <th></th>\n",
       "      <th>max_infection_rates</th>\n",
       "    </tr>\n",
       "    <tr>\n",
       "      <th>Country/Region</th>\n",
       "      <th></th>\n",
       "    </tr>\n",
       "  </thead>\n",
       "  <tbody>\n",
       "    <tr>\n",
       "      <th>Afghanistan</th>\n",
       "      <td>232.0</td>\n",
       "    </tr>\n",
       "    <tr>\n",
       "      <th>Albania</th>\n",
       "      <td>34.0</td>\n",
       "    </tr>\n",
       "    <tr>\n",
       "      <th>Algeria</th>\n",
       "      <td>199.0</td>\n",
       "    </tr>\n",
       "    <tr>\n",
       "      <th>Andorra</th>\n",
       "      <td>43.0</td>\n",
       "    </tr>\n",
       "    <tr>\n",
       "      <th>Angola</th>\n",
       "      <td>5.0</td>\n",
       "    </tr>\n",
       "  </tbody>\n",
       "</table>\n",
       "</div>"
      ],
      "text/plain": [
       "                max_infection_rates\n",
       "Country/Region                     \n",
       "Afghanistan                   232.0\n",
       "Albania                        34.0\n",
       "Algeria                       199.0\n",
       "Andorra                        43.0\n",
       "Angola                          5.0"
      ]
     },
     "execution_count": 17,
     "metadata": {},
     "output_type": "execute_result"
    }
   ],
   "source": [
    "corona_data.head()"
   ]
  },
  {
   "cell_type": "markdown",
   "id": "9b27e1b5",
   "metadata": {
    "_cell_guid": "32d9be94-9235-48ef-86a6-e32a4a7cec4a",
    "_uuid": "7159ce68-667c-4dfd-9f55-7b7468353394",
    "papermill": {
     "duration": 0.034541,
     "end_time": "2023-05-20T11:30:59.661546",
     "exception": false,
     "start_time": "2023-05-20T11:30:59.627005",
     "status": "completed"
    },
    "tags": []
   },
   "source": [
    "## Importing World happiness Dataset"
   ]
  },
  {
   "cell_type": "code",
   "execution_count": 18,
   "id": "d2c752a3",
   "metadata": {
    "_cell_guid": "a893c47f-7952-496e-94b1-a63d7588cae3",
    "_uuid": "fe64ff96-6cf8-477f-85d3-414d7f62f55b",
    "collapsed": false,
    "execution": {
     "iopub.execute_input": "2023-05-20T11:30:59.731218Z",
     "iopub.status.busy": "2023-05-20T11:30:59.730812Z",
     "iopub.status.idle": "2023-05-20T11:30:59.741834Z",
     "shell.execute_reply": "2023-05-20T11:30:59.740619Z"
    },
    "jupyter": {
     "outputs_hidden": false
    },
    "papermill": {
     "duration": 0.048946,
     "end_time": "2023-05-20T11:30:59.744607",
     "exception": false,
     "start_time": "2023-05-20T11:30:59.695661",
     "status": "completed"
    },
    "tags": []
   },
   "outputs": [],
   "source": [
    "happiness_report_csv = pd.read_csv(\"/kaggle/input/covid19-and-world-happiness-report/worldwide_happiness_report.csv\")"
   ]
  },
  {
   "cell_type": "code",
   "execution_count": 19,
   "id": "7116f840",
   "metadata": {
    "_cell_guid": "313888f2-e21a-4c99-bea7-49cf01bacdd4",
    "_uuid": "f37a865c-c91e-4864-bb0e-b3498b502430",
    "collapsed": false,
    "execution": {
     "iopub.execute_input": "2023-05-20T11:30:59.817743Z",
     "iopub.status.busy": "2023-05-20T11:30:59.816515Z",
     "iopub.status.idle": "2023-05-20T11:30:59.834113Z",
     "shell.execute_reply": "2023-05-20T11:30:59.833031Z"
    },
    "jupyter": {
     "outputs_hidden": false
    },
    "papermill": {
     "duration": 0.056263,
     "end_time": "2023-05-20T11:30:59.836613",
     "exception": false,
     "start_time": "2023-05-20T11:30:59.780350",
     "status": "completed"
    },
    "tags": []
   },
   "outputs": [
    {
     "data": {
      "text/html": [
       "<div>\n",
       "<style scoped>\n",
       "    .dataframe tbody tr th:only-of-type {\n",
       "        vertical-align: middle;\n",
       "    }\n",
       "\n",
       "    .dataframe tbody tr th {\n",
       "        vertical-align: top;\n",
       "    }\n",
       "\n",
       "    .dataframe thead th {\n",
       "        text-align: right;\n",
       "    }\n",
       "</style>\n",
       "<table border=\"1\" class=\"dataframe\">\n",
       "  <thead>\n",
       "    <tr style=\"text-align: right;\">\n",
       "      <th></th>\n",
       "      <th>Overall rank</th>\n",
       "      <th>Country or region</th>\n",
       "      <th>Score</th>\n",
       "      <th>GDP per capita</th>\n",
       "      <th>Social support</th>\n",
       "      <th>Healthy life expectancy</th>\n",
       "      <th>Freedom to make life choices</th>\n",
       "      <th>Generosity</th>\n",
       "      <th>Perceptions of corruption</th>\n",
       "    </tr>\n",
       "  </thead>\n",
       "  <tbody>\n",
       "    <tr>\n",
       "      <th>0</th>\n",
       "      <td>1</td>\n",
       "      <td>Finland</td>\n",
       "      <td>7.769</td>\n",
       "      <td>1.340</td>\n",
       "      <td>1.587</td>\n",
       "      <td>0.986</td>\n",
       "      <td>0.596</td>\n",
       "      <td>0.153</td>\n",
       "      <td>0.393</td>\n",
       "    </tr>\n",
       "    <tr>\n",
       "      <th>1</th>\n",
       "      <td>2</td>\n",
       "      <td>Denmark</td>\n",
       "      <td>7.600</td>\n",
       "      <td>1.383</td>\n",
       "      <td>1.573</td>\n",
       "      <td>0.996</td>\n",
       "      <td>0.592</td>\n",
       "      <td>0.252</td>\n",
       "      <td>0.410</td>\n",
       "    </tr>\n",
       "    <tr>\n",
       "      <th>2</th>\n",
       "      <td>3</td>\n",
       "      <td>Norway</td>\n",
       "      <td>7.554</td>\n",
       "      <td>1.488</td>\n",
       "      <td>1.582</td>\n",
       "      <td>1.028</td>\n",
       "      <td>0.603</td>\n",
       "      <td>0.271</td>\n",
       "      <td>0.341</td>\n",
       "    </tr>\n",
       "    <tr>\n",
       "      <th>3</th>\n",
       "      <td>4</td>\n",
       "      <td>Iceland</td>\n",
       "      <td>7.494</td>\n",
       "      <td>1.380</td>\n",
       "      <td>1.624</td>\n",
       "      <td>1.026</td>\n",
       "      <td>0.591</td>\n",
       "      <td>0.354</td>\n",
       "      <td>0.118</td>\n",
       "    </tr>\n",
       "    <tr>\n",
       "      <th>4</th>\n",
       "      <td>5</td>\n",
       "      <td>Netherlands</td>\n",
       "      <td>7.488</td>\n",
       "      <td>1.396</td>\n",
       "      <td>1.522</td>\n",
       "      <td>0.999</td>\n",
       "      <td>0.557</td>\n",
       "      <td>0.322</td>\n",
       "      <td>0.298</td>\n",
       "    </tr>\n",
       "  </tbody>\n",
       "</table>\n",
       "</div>"
      ],
      "text/plain": [
       "   Overall rank Country or region  Score  GDP per capita  Social support  \\\n",
       "0             1           Finland  7.769           1.340           1.587   \n",
       "1             2           Denmark  7.600           1.383           1.573   \n",
       "2             3            Norway  7.554           1.488           1.582   \n",
       "3             4           Iceland  7.494           1.380           1.624   \n",
       "4             5       Netherlands  7.488           1.396           1.522   \n",
       "\n",
       "   Healthy life expectancy  Freedom to make life choices  Generosity  \\\n",
       "0                    0.986                         0.596       0.153   \n",
       "1                    0.996                         0.592       0.252   \n",
       "2                    1.028                         0.603       0.271   \n",
       "3                    1.026                         0.591       0.354   \n",
       "4                    0.999                         0.557       0.322   \n",
       "\n",
       "   Perceptions of corruption  \n",
       "0                      0.393  \n",
       "1                      0.410  \n",
       "2                      0.341  \n",
       "3                      0.118  \n",
       "4                      0.298  "
      ]
     },
     "execution_count": 19,
     "metadata": {},
     "output_type": "execute_result"
    }
   ],
   "source": [
    "happiness_report_csv.head()"
   ]
  },
  {
   "cell_type": "markdown",
   "id": "c64657da",
   "metadata": {
    "_cell_guid": "9308102e-4a98-45cb-bae0-ce6e39aceb75",
    "_uuid": "584fa528-c74d-42d6-b8f3-d5aad3b8a3af",
    "papermill": {
     "duration": 0.034655,
     "end_time": "2023-05-20T11:30:59.906089",
     "exception": false,
     "start_time": "2023-05-20T11:30:59.871434",
     "status": "completed"
    },
    "tags": []
   },
   "source": [
    "## Removing columns not needed for the analysis"
   ]
  },
  {
   "cell_type": "code",
   "execution_count": 20,
   "id": "a0900936",
   "metadata": {
    "_cell_guid": "139fefae-d882-422c-8555-78315cebd6dc",
    "_uuid": "fe1eaf9e-faf4-46e3-8f68-5a11444e41a0",
    "collapsed": false,
    "execution": {
     "iopub.execute_input": "2023-05-20T11:30:59.978457Z",
     "iopub.status.busy": "2023-05-20T11:30:59.977257Z",
     "iopub.status.idle": "2023-05-20T11:30:59.982742Z",
     "shell.execute_reply": "2023-05-20T11:30:59.981793Z"
    },
    "jupyter": {
     "outputs_hidden": false
    },
    "papermill": {
     "duration": 0.043923,
     "end_time": "2023-05-20T11:30:59.985182",
     "exception": false,
     "start_time": "2023-05-20T11:30:59.941259",
     "status": "completed"
    },
    "tags": []
   },
   "outputs": [],
   "source": [
    "na_cols = [\"Overall rank\", \"Score\", \"Generosity\", \"Perceptions of corruption\"]"
   ]
  },
  {
   "cell_type": "code",
   "execution_count": 21,
   "id": "2a09f108",
   "metadata": {
    "_cell_guid": "cfc273c4-ce8c-4b2f-a83c-e522dbadae8d",
    "_uuid": "47ddb665-a461-4a1a-aa60-4175e9225646",
    "collapsed": false,
    "execution": {
     "iopub.execute_input": "2023-05-20T11:31:00.058077Z",
     "iopub.status.busy": "2023-05-20T11:31:00.057295Z",
     "iopub.status.idle": "2023-05-20T11:31:00.072872Z",
     "shell.execute_reply": "2023-05-20T11:31:00.071665Z"
    },
    "jupyter": {
     "outputs_hidden": false
    },
    "papermill": {
     "duration": 0.054643,
     "end_time": "2023-05-20T11:31:00.075466",
     "exception": false,
     "start_time": "2023-05-20T11:31:00.020823",
     "status": "completed"
    },
    "tags": []
   },
   "outputs": [
    {
     "data": {
      "text/html": [
       "<div>\n",
       "<style scoped>\n",
       "    .dataframe tbody tr th:only-of-type {\n",
       "        vertical-align: middle;\n",
       "    }\n",
       "\n",
       "    .dataframe tbody tr th {\n",
       "        vertical-align: top;\n",
       "    }\n",
       "\n",
       "    .dataframe thead th {\n",
       "        text-align: right;\n",
       "    }\n",
       "</style>\n",
       "<table border=\"1\" class=\"dataframe\">\n",
       "  <thead>\n",
       "    <tr style=\"text-align: right;\">\n",
       "      <th></th>\n",
       "      <th>Country or region</th>\n",
       "      <th>GDP per capita</th>\n",
       "      <th>Social support</th>\n",
       "      <th>Healthy life expectancy</th>\n",
       "      <th>Freedom to make life choices</th>\n",
       "    </tr>\n",
       "  </thead>\n",
       "  <tbody>\n",
       "    <tr>\n",
       "      <th>0</th>\n",
       "      <td>Finland</td>\n",
       "      <td>1.340</td>\n",
       "      <td>1.587</td>\n",
       "      <td>0.986</td>\n",
       "      <td>0.596</td>\n",
       "    </tr>\n",
       "    <tr>\n",
       "      <th>1</th>\n",
       "      <td>Denmark</td>\n",
       "      <td>1.383</td>\n",
       "      <td>1.573</td>\n",
       "      <td>0.996</td>\n",
       "      <td>0.592</td>\n",
       "    </tr>\n",
       "    <tr>\n",
       "      <th>2</th>\n",
       "      <td>Norway</td>\n",
       "      <td>1.488</td>\n",
       "      <td>1.582</td>\n",
       "      <td>1.028</td>\n",
       "      <td>0.603</td>\n",
       "    </tr>\n",
       "    <tr>\n",
       "      <th>3</th>\n",
       "      <td>Iceland</td>\n",
       "      <td>1.380</td>\n",
       "      <td>1.624</td>\n",
       "      <td>1.026</td>\n",
       "      <td>0.591</td>\n",
       "    </tr>\n",
       "    <tr>\n",
       "      <th>4</th>\n",
       "      <td>Netherlands</td>\n",
       "      <td>1.396</td>\n",
       "      <td>1.522</td>\n",
       "      <td>0.999</td>\n",
       "      <td>0.557</td>\n",
       "    </tr>\n",
       "  </tbody>\n",
       "</table>\n",
       "</div>"
      ],
      "text/plain": [
       "  Country or region  GDP per capita  Social support  Healthy life expectancy  \\\n",
       "0           Finland           1.340           1.587                    0.986   \n",
       "1           Denmark           1.383           1.573                    0.996   \n",
       "2            Norway           1.488           1.582                    1.028   \n",
       "3           Iceland           1.380           1.624                    1.026   \n",
       "4       Netherlands           1.396           1.522                    0.999   \n",
       "\n",
       "   Freedom to make life choices  \n",
       "0                         0.596  \n",
       "1                         0.592  \n",
       "2                         0.603  \n",
       "3                         0.591  \n",
       "4                         0.557  "
      ]
     },
     "execution_count": 21,
     "metadata": {},
     "output_type": "execute_result"
    }
   ],
   "source": [
    "happiness_report_csv.drop(na_cols,axis=1,inplace=True)\n",
    "happiness_report_csv.head()"
   ]
  },
  {
   "cell_type": "markdown",
   "id": "d8bc5870",
   "metadata": {
    "_cell_guid": "d1c6d8bd-9fb9-40bd-a1be-540ac971741b",
    "_uuid": "cc43470e-c667-410b-b66e-71aa7db3c0a7",
    "papermill": {
     "duration": 0.034466,
     "end_time": "2023-05-20T11:31:00.144810",
     "exception": false,
     "start_time": "2023-05-20T11:31:00.110344",
     "status": "completed"
    },
    "tags": []
   },
   "source": [
    "## Changing the indices of the dataframe"
   ]
  },
  {
   "cell_type": "code",
   "execution_count": 22,
   "id": "92e90c29",
   "metadata": {
    "_cell_guid": "d27806c7-166f-4e57-95f7-10bc0078ca1a",
    "_uuid": "2f60c2fe-23c6-499d-b77b-338f37d82e5f",
    "collapsed": false,
    "execution": {
     "iopub.execute_input": "2023-05-20T11:31:00.216835Z",
     "iopub.status.busy": "2023-05-20T11:31:00.216020Z",
     "iopub.status.idle": "2023-05-20T11:31:00.221916Z",
     "shell.execute_reply": "2023-05-20T11:31:00.221089Z"
    },
    "jupyter": {
     "outputs_hidden": false
    },
    "papermill": {
     "duration": 0.044649,
     "end_time": "2023-05-20T11:31:00.224351",
     "exception": false,
     "start_time": "2023-05-20T11:31:00.179702",
     "status": "completed"
    },
    "tags": []
   },
   "outputs": [],
   "source": [
    "happiness_report_csv.set_index(\"Country or region\",inplace=True)"
   ]
  },
  {
   "cell_type": "code",
   "execution_count": 23,
   "id": "cfcfc7cc",
   "metadata": {
    "_cell_guid": "f8d81d78-d2c7-4536-945e-3de5a61ee98c",
    "_uuid": "b4f45c5b-97cc-403f-a206-7083bfe42bbe",
    "collapsed": false,
    "execution": {
     "iopub.execute_input": "2023-05-20T11:31:00.296780Z",
     "iopub.status.busy": "2023-05-20T11:31:00.295980Z",
     "iopub.status.idle": "2023-05-20T11:31:00.310880Z",
     "shell.execute_reply": "2023-05-20T11:31:00.309737Z"
    },
    "jupyter": {
     "outputs_hidden": false
    },
    "papermill": {
     "duration": 0.054175,
     "end_time": "2023-05-20T11:31:00.313307",
     "exception": false,
     "start_time": "2023-05-20T11:31:00.259132",
     "status": "completed"
    },
    "tags": []
   },
   "outputs": [
    {
     "data": {
      "text/html": [
       "<div>\n",
       "<style scoped>\n",
       "    .dataframe tbody tr th:only-of-type {\n",
       "        vertical-align: middle;\n",
       "    }\n",
       "\n",
       "    .dataframe tbody tr th {\n",
       "        vertical-align: top;\n",
       "    }\n",
       "\n",
       "    .dataframe thead th {\n",
       "        text-align: right;\n",
       "    }\n",
       "</style>\n",
       "<table border=\"1\" class=\"dataframe\">\n",
       "  <thead>\n",
       "    <tr style=\"text-align: right;\">\n",
       "      <th></th>\n",
       "      <th>GDP per capita</th>\n",
       "      <th>Social support</th>\n",
       "      <th>Healthy life expectancy</th>\n",
       "      <th>Freedom to make life choices</th>\n",
       "    </tr>\n",
       "    <tr>\n",
       "      <th>Country or region</th>\n",
       "      <th></th>\n",
       "      <th></th>\n",
       "      <th></th>\n",
       "      <th></th>\n",
       "    </tr>\n",
       "  </thead>\n",
       "  <tbody>\n",
       "    <tr>\n",
       "      <th>Finland</th>\n",
       "      <td>1.340</td>\n",
       "      <td>1.587</td>\n",
       "      <td>0.986</td>\n",
       "      <td>0.596</td>\n",
       "    </tr>\n",
       "    <tr>\n",
       "      <th>Denmark</th>\n",
       "      <td>1.383</td>\n",
       "      <td>1.573</td>\n",
       "      <td>0.996</td>\n",
       "      <td>0.592</td>\n",
       "    </tr>\n",
       "    <tr>\n",
       "      <th>Norway</th>\n",
       "      <td>1.488</td>\n",
       "      <td>1.582</td>\n",
       "      <td>1.028</td>\n",
       "      <td>0.603</td>\n",
       "    </tr>\n",
       "    <tr>\n",
       "      <th>Iceland</th>\n",
       "      <td>1.380</td>\n",
       "      <td>1.624</td>\n",
       "      <td>1.026</td>\n",
       "      <td>0.591</td>\n",
       "    </tr>\n",
       "    <tr>\n",
       "      <th>Netherlands</th>\n",
       "      <td>1.396</td>\n",
       "      <td>1.522</td>\n",
       "      <td>0.999</td>\n",
       "      <td>0.557</td>\n",
       "    </tr>\n",
       "  </tbody>\n",
       "</table>\n",
       "</div>"
      ],
      "text/plain": [
       "                   GDP per capita  Social support  Healthy life expectancy  \\\n",
       "Country or region                                                            \n",
       "Finland                     1.340           1.587                    0.986   \n",
       "Denmark                     1.383           1.573                    0.996   \n",
       "Norway                      1.488           1.582                    1.028   \n",
       "Iceland                     1.380           1.624                    1.026   \n",
       "Netherlands                 1.396           1.522                    0.999   \n",
       "\n",
       "                   Freedom to make life choices  \n",
       "Country or region                                \n",
       "Finland                                   0.596  \n",
       "Denmark                                   0.592  \n",
       "Norway                                    0.603  \n",
       "Iceland                                   0.591  \n",
       "Netherlands                               0.557  "
      ]
     },
     "execution_count": 23,
     "metadata": {},
     "output_type": "execute_result"
    }
   ],
   "source": [
    "happiness_report_csv.head()"
   ]
  },
  {
   "cell_type": "markdown",
   "id": "26b5dbc1",
   "metadata": {
    "_cell_guid": "f37efc02-ed6d-48c5-b2d0-63d8e895c531",
    "_uuid": "c8872f59-c47e-411a-af7d-51e67f6f1dbe",
    "papermill": {
     "duration": 0.035199,
     "end_time": "2023-05-20T11:31:00.383875",
     "exception": false,
     "start_time": "2023-05-20T11:31:00.348676",
     "status": "completed"
    },
    "tags": []
   },
   "source": [
    "## Joining COVID-19 Confirmed Infection and World Happiness Datasets"
   ]
  },
  {
   "cell_type": "markdown",
   "id": "39f65efe",
   "metadata": {
    "_cell_guid": "774ed79b-4296-4794-8df5-2a53f343168a",
    "_uuid": "eeb555b4-fd7d-41fa-88df-0aac42a00d24",
    "papermill": {
     "duration": 0.036587,
     "end_time": "2023-05-20T11:31:00.456313",
     "exception": false,
     "start_time": "2023-05-20T11:31:00.419726",
     "status": "completed"
    },
    "tags": []
   },
   "source": [
    "### Covid-19 Confirmed Infection Dataset"
   ]
  },
  {
   "cell_type": "code",
   "execution_count": 24,
   "id": "110449e0",
   "metadata": {
    "_cell_guid": "86f0ff7a-1911-4296-9f0e-edbe1e2b0757",
    "_uuid": "65d882b0-de05-4bb8-9d67-3ae72acef65a",
    "collapsed": false,
    "execution": {
     "iopub.execute_input": "2023-05-20T11:31:00.529810Z",
     "iopub.status.busy": "2023-05-20T11:31:00.529006Z",
     "iopub.status.idle": "2023-05-20T11:31:00.539359Z",
     "shell.execute_reply": "2023-05-20T11:31:00.538273Z"
    },
    "jupyter": {
     "outputs_hidden": false
    },
    "papermill": {
     "duration": 0.049814,
     "end_time": "2023-05-20T11:31:00.541841",
     "exception": false,
     "start_time": "2023-05-20T11:31:00.492027",
     "status": "completed"
    },
    "tags": []
   },
   "outputs": [
    {
     "data": {
      "text/html": [
       "<div>\n",
       "<style scoped>\n",
       "    .dataframe tbody tr th:only-of-type {\n",
       "        vertical-align: middle;\n",
       "    }\n",
       "\n",
       "    .dataframe tbody tr th {\n",
       "        vertical-align: top;\n",
       "    }\n",
       "\n",
       "    .dataframe thead th {\n",
       "        text-align: right;\n",
       "    }\n",
       "</style>\n",
       "<table border=\"1\" class=\"dataframe\">\n",
       "  <thead>\n",
       "    <tr style=\"text-align: right;\">\n",
       "      <th></th>\n",
       "      <th>max_infection_rates</th>\n",
       "    </tr>\n",
       "    <tr>\n",
       "      <th>Country/Region</th>\n",
       "      <th></th>\n",
       "    </tr>\n",
       "  </thead>\n",
       "  <tbody>\n",
       "    <tr>\n",
       "      <th>Afghanistan</th>\n",
       "      <td>232.0</td>\n",
       "    </tr>\n",
       "    <tr>\n",
       "      <th>Albania</th>\n",
       "      <td>34.0</td>\n",
       "    </tr>\n",
       "    <tr>\n",
       "      <th>Algeria</th>\n",
       "      <td>199.0</td>\n",
       "    </tr>\n",
       "    <tr>\n",
       "      <th>Andorra</th>\n",
       "      <td>43.0</td>\n",
       "    </tr>\n",
       "    <tr>\n",
       "      <th>Angola</th>\n",
       "      <td>5.0</td>\n",
       "    </tr>\n",
       "  </tbody>\n",
       "</table>\n",
       "</div>"
      ],
      "text/plain": [
       "                max_infection_rates\n",
       "Country/Region                     \n",
       "Afghanistan                   232.0\n",
       "Albania                        34.0\n",
       "Algeria                       199.0\n",
       "Andorra                        43.0\n",
       "Angola                          5.0"
      ]
     },
     "execution_count": 24,
     "metadata": {},
     "output_type": "execute_result"
    }
   ],
   "source": [
    "corona_data.head()"
   ]
  },
  {
   "cell_type": "code",
   "execution_count": 25,
   "id": "79e0b59a",
   "metadata": {
    "_cell_guid": "0a261639-33b1-4fba-8a3c-54cc834c796b",
    "_uuid": "38f4dfa8-db0a-4f4c-b2b5-9fcb5562fe63",
    "collapsed": false,
    "execution": {
     "iopub.execute_input": "2023-05-20T11:31:00.616452Z",
     "iopub.status.busy": "2023-05-20T11:31:00.615581Z",
     "iopub.status.idle": "2023-05-20T11:31:00.622727Z",
     "shell.execute_reply": "2023-05-20T11:31:00.621819Z"
    },
    "jupyter": {
     "outputs_hidden": false
    },
    "papermill": {
     "duration": 0.047695,
     "end_time": "2023-05-20T11:31:00.625088",
     "exception": false,
     "start_time": "2023-05-20T11:31:00.577393",
     "status": "completed"
    },
    "tags": []
   },
   "outputs": [
    {
     "data": {
      "text/plain": [
       "(187, 1)"
      ]
     },
     "execution_count": 25,
     "metadata": {},
     "output_type": "execute_result"
    }
   ],
   "source": [
    "corona_data.shape"
   ]
  },
  {
   "cell_type": "markdown",
   "id": "da2d0dff",
   "metadata": {
    "_cell_guid": "df8471bc-364f-4c33-b7dc-97d7eaf537fa",
    "_uuid": "4ad65b70-69f2-4ee0-96c4-670539bccd80",
    "papermill": {
     "duration": 0.035729,
     "end_time": "2023-05-20T11:31:00.697756",
     "exception": false,
     "start_time": "2023-05-20T11:31:00.662027",
     "status": "completed"
    },
    "tags": []
   },
   "source": [
    "### World happiness report Dataset"
   ]
  },
  {
   "cell_type": "code",
   "execution_count": 26,
   "id": "79016d9a",
   "metadata": {
    "_cell_guid": "cc2f6524-43c1-4f30-a3e6-b2a0c0964693",
    "_uuid": "868a121e-4911-416b-8b76-34e96b22c069",
    "collapsed": false,
    "execution": {
     "iopub.execute_input": "2023-05-20T11:31:00.772960Z",
     "iopub.status.busy": "2023-05-20T11:31:00.772202Z",
     "iopub.status.idle": "2023-05-20T11:31:00.785816Z",
     "shell.execute_reply": "2023-05-20T11:31:00.784781Z"
    },
    "jupyter": {
     "outputs_hidden": false
    },
    "papermill": {
     "duration": 0.05452,
     "end_time": "2023-05-20T11:31:00.788338",
     "exception": false,
     "start_time": "2023-05-20T11:31:00.733818",
     "status": "completed"
    },
    "tags": []
   },
   "outputs": [
    {
     "data": {
      "text/html": [
       "<div>\n",
       "<style scoped>\n",
       "    .dataframe tbody tr th:only-of-type {\n",
       "        vertical-align: middle;\n",
       "    }\n",
       "\n",
       "    .dataframe tbody tr th {\n",
       "        vertical-align: top;\n",
       "    }\n",
       "\n",
       "    .dataframe thead th {\n",
       "        text-align: right;\n",
       "    }\n",
       "</style>\n",
       "<table border=\"1\" class=\"dataframe\">\n",
       "  <thead>\n",
       "    <tr style=\"text-align: right;\">\n",
       "      <th></th>\n",
       "      <th>GDP per capita</th>\n",
       "      <th>Social support</th>\n",
       "      <th>Healthy life expectancy</th>\n",
       "      <th>Freedom to make life choices</th>\n",
       "    </tr>\n",
       "    <tr>\n",
       "      <th>Country or region</th>\n",
       "      <th></th>\n",
       "      <th></th>\n",
       "      <th></th>\n",
       "      <th></th>\n",
       "    </tr>\n",
       "  </thead>\n",
       "  <tbody>\n",
       "    <tr>\n",
       "      <th>Finland</th>\n",
       "      <td>1.340</td>\n",
       "      <td>1.587</td>\n",
       "      <td>0.986</td>\n",
       "      <td>0.596</td>\n",
       "    </tr>\n",
       "    <tr>\n",
       "      <th>Denmark</th>\n",
       "      <td>1.383</td>\n",
       "      <td>1.573</td>\n",
       "      <td>0.996</td>\n",
       "      <td>0.592</td>\n",
       "    </tr>\n",
       "    <tr>\n",
       "      <th>Norway</th>\n",
       "      <td>1.488</td>\n",
       "      <td>1.582</td>\n",
       "      <td>1.028</td>\n",
       "      <td>0.603</td>\n",
       "    </tr>\n",
       "    <tr>\n",
       "      <th>Iceland</th>\n",
       "      <td>1.380</td>\n",
       "      <td>1.624</td>\n",
       "      <td>1.026</td>\n",
       "      <td>0.591</td>\n",
       "    </tr>\n",
       "    <tr>\n",
       "      <th>Netherlands</th>\n",
       "      <td>1.396</td>\n",
       "      <td>1.522</td>\n",
       "      <td>0.999</td>\n",
       "      <td>0.557</td>\n",
       "    </tr>\n",
       "  </tbody>\n",
       "</table>\n",
       "</div>"
      ],
      "text/plain": [
       "                   GDP per capita  Social support  Healthy life expectancy  \\\n",
       "Country or region                                                            \n",
       "Finland                     1.340           1.587                    0.986   \n",
       "Denmark                     1.383           1.573                    0.996   \n",
       "Norway                      1.488           1.582                    1.028   \n",
       "Iceland                     1.380           1.624                    1.026   \n",
       "Netherlands                 1.396           1.522                    0.999   \n",
       "\n",
       "                   Freedom to make life choices  \n",
       "Country or region                                \n",
       "Finland                                   0.596  \n",
       "Denmark                                   0.592  \n",
       "Norway                                    0.603  \n",
       "Iceland                                   0.591  \n",
       "Netherlands                               0.557  "
      ]
     },
     "execution_count": 26,
     "metadata": {},
     "output_type": "execute_result"
    }
   ],
   "source": [
    "happiness_report_csv.head()"
   ]
  },
  {
   "cell_type": "code",
   "execution_count": 27,
   "id": "d8aed2e3",
   "metadata": {
    "_cell_guid": "1420d5e5-e3b0-4e9e-a93c-2bfbe8928698",
    "_uuid": "54597f52-f9de-4c1c-85cd-c8609c046d11",
    "collapsed": false,
    "execution": {
     "iopub.execute_input": "2023-05-20T11:31:00.862800Z",
     "iopub.status.busy": "2023-05-20T11:31:00.862373Z",
     "iopub.status.idle": "2023-05-20T11:31:00.869200Z",
     "shell.execute_reply": "2023-05-20T11:31:00.868373Z"
    },
    "jupyter": {
     "outputs_hidden": false
    },
    "papermill": {
     "duration": 0.046698,
     "end_time": "2023-05-20T11:31:00.871337",
     "exception": false,
     "start_time": "2023-05-20T11:31:00.824639",
     "status": "completed"
    },
    "tags": []
   },
   "outputs": [
    {
     "data": {
      "text/plain": [
       "(156, 4)"
      ]
     },
     "execution_count": 27,
     "metadata": {},
     "output_type": "execute_result"
    }
   ],
   "source": [
    "happiness_report_csv.shape"
   ]
  },
  {
   "cell_type": "code",
   "execution_count": 28,
   "id": "66ca39af",
   "metadata": {
    "_cell_guid": "e065e647-bb34-451a-8c92-9ed8cb15a3bc",
    "_uuid": "293c98cb-af01-43bc-a34a-6b8e9316c166",
    "collapsed": false,
    "execution": {
     "iopub.execute_input": "2023-05-20T11:31:00.948198Z",
     "iopub.status.busy": "2023-05-20T11:31:00.947428Z",
     "iopub.status.idle": "2023-05-20T11:31:00.963914Z",
     "shell.execute_reply": "2023-05-20T11:31:00.962770Z"
    },
    "jupyter": {
     "outputs_hidden": false
    },
    "papermill": {
     "duration": 0.058239,
     "end_time": "2023-05-20T11:31:00.966717",
     "exception": false,
     "start_time": "2023-05-20T11:31:00.908478",
     "status": "completed"
    },
    "tags": []
   },
   "outputs": [
    {
     "data": {
      "text/html": [
       "<div>\n",
       "<style scoped>\n",
       "    .dataframe tbody tr th:only-of-type {\n",
       "        vertical-align: middle;\n",
       "    }\n",
       "\n",
       "    .dataframe tbody tr th {\n",
       "        vertical-align: top;\n",
       "    }\n",
       "\n",
       "    .dataframe thead th {\n",
       "        text-align: right;\n",
       "    }\n",
       "</style>\n",
       "<table border=\"1\" class=\"dataframe\">\n",
       "  <thead>\n",
       "    <tr style=\"text-align: right;\">\n",
       "      <th></th>\n",
       "      <th>max_infection_rates</th>\n",
       "      <th>GDP per capita</th>\n",
       "      <th>Social support</th>\n",
       "      <th>Healthy life expectancy</th>\n",
       "      <th>Freedom to make life choices</th>\n",
       "    </tr>\n",
       "  </thead>\n",
       "  <tbody>\n",
       "    <tr>\n",
       "      <th>Afghanistan</th>\n",
       "      <td>232.0</td>\n",
       "      <td>0.350</td>\n",
       "      <td>0.517</td>\n",
       "      <td>0.361</td>\n",
       "      <td>0.000</td>\n",
       "    </tr>\n",
       "    <tr>\n",
       "      <th>Albania</th>\n",
       "      <td>34.0</td>\n",
       "      <td>0.947</td>\n",
       "      <td>0.848</td>\n",
       "      <td>0.874</td>\n",
       "      <td>0.383</td>\n",
       "    </tr>\n",
       "    <tr>\n",
       "      <th>Algeria</th>\n",
       "      <td>199.0</td>\n",
       "      <td>1.002</td>\n",
       "      <td>1.160</td>\n",
       "      <td>0.785</td>\n",
       "      <td>0.086</td>\n",
       "    </tr>\n",
       "    <tr>\n",
       "      <th>Argentina</th>\n",
       "      <td>291.0</td>\n",
       "      <td>1.092</td>\n",
       "      <td>1.432</td>\n",
       "      <td>0.881</td>\n",
       "      <td>0.471</td>\n",
       "    </tr>\n",
       "    <tr>\n",
       "      <th>Armenia</th>\n",
       "      <td>134.0</td>\n",
       "      <td>0.850</td>\n",
       "      <td>1.055</td>\n",
       "      <td>0.815</td>\n",
       "      <td>0.283</td>\n",
       "    </tr>\n",
       "  </tbody>\n",
       "</table>\n",
       "</div>"
      ],
      "text/plain": [
       "             max_infection_rates  GDP per capita  Social support  \\\n",
       "Afghanistan                232.0           0.350           0.517   \n",
       "Albania                     34.0           0.947           0.848   \n",
       "Algeria                    199.0           1.002           1.160   \n",
       "Argentina                  291.0           1.092           1.432   \n",
       "Armenia                    134.0           0.850           1.055   \n",
       "\n",
       "             Healthy life expectancy  Freedom to make life choices  \n",
       "Afghanistan                    0.361                         0.000  \n",
       "Albania                        0.874                         0.383  \n",
       "Algeria                        0.785                         0.086  \n",
       "Argentina                      0.881                         0.471  \n",
       "Armenia                        0.815                         0.283  "
      ]
     },
     "execution_count": 28,
     "metadata": {},
     "output_type": "execute_result"
    }
   ],
   "source": [
    "data = corona_data.join(happiness_report_csv,how=\"inner\")\n",
    "data.head()"
   ]
  },
  {
   "cell_type": "markdown",
   "id": "e67a64d7",
   "metadata": {
    "_cell_guid": "56a381c5-d206-461a-b05e-50bd5a3a8d9d",
    "_uuid": "cb78daf4-3e8c-4a99-bc01-920ccfd0bb20",
    "papermill": {
     "duration": 0.03682,
     "end_time": "2023-05-20T11:31:01.041377",
     "exception": false,
     "start_time": "2023-05-20T11:31:01.004557",
     "status": "completed"
    },
    "tags": []
   },
   "source": [
    "## Correlation matirx for inital insights"
   ]
  },
  {
   "cell_type": "code",
   "execution_count": 29,
   "id": "71e9dc11",
   "metadata": {
    "_cell_guid": "9272c68d-a4f1-46b8-8f8c-0fc1eb65dbe5",
    "_uuid": "ba8a1d57-480b-4aca-b2b1-84ef39b8f160",
    "collapsed": false,
    "execution": {
     "iopub.execute_input": "2023-05-20T11:31:01.118050Z",
     "iopub.status.busy": "2023-05-20T11:31:01.117598Z",
     "iopub.status.idle": "2023-05-20T11:31:01.133433Z",
     "shell.execute_reply": "2023-05-20T11:31:01.132632Z"
    },
    "jupyter": {
     "outputs_hidden": false
    },
    "papermill": {
     "duration": 0.057049,
     "end_time": "2023-05-20T11:31:01.135934",
     "exception": false,
     "start_time": "2023-05-20T11:31:01.078885",
     "status": "completed"
    },
    "tags": []
   },
   "outputs": [
    {
     "data": {
      "text/html": [
       "<div>\n",
       "<style scoped>\n",
       "    .dataframe tbody tr th:only-of-type {\n",
       "        vertical-align: middle;\n",
       "    }\n",
       "\n",
       "    .dataframe tbody tr th {\n",
       "        vertical-align: top;\n",
       "    }\n",
       "\n",
       "    .dataframe thead th {\n",
       "        text-align: right;\n",
       "    }\n",
       "</style>\n",
       "<table border=\"1\" class=\"dataframe\">\n",
       "  <thead>\n",
       "    <tr style=\"text-align: right;\">\n",
       "      <th></th>\n",
       "      <th>max_infection_rates</th>\n",
       "      <th>GDP per capita</th>\n",
       "      <th>Social support</th>\n",
       "      <th>Healthy life expectancy</th>\n",
       "      <th>Freedom to make life choices</th>\n",
       "    </tr>\n",
       "  </thead>\n",
       "  <tbody>\n",
       "    <tr>\n",
       "      <th>max_infection_rates</th>\n",
       "      <td>1.000000</td>\n",
       "      <td>0.250118</td>\n",
       "      <td>0.191958</td>\n",
       "      <td>0.289263</td>\n",
       "      <td>0.078196</td>\n",
       "    </tr>\n",
       "    <tr>\n",
       "      <th>GDP per capita</th>\n",
       "      <td>0.250118</td>\n",
       "      <td>1.000000</td>\n",
       "      <td>0.759468</td>\n",
       "      <td>0.863062</td>\n",
       "      <td>0.394603</td>\n",
       "    </tr>\n",
       "    <tr>\n",
       "      <th>Social support</th>\n",
       "      <td>0.191958</td>\n",
       "      <td>0.759468</td>\n",
       "      <td>1.000000</td>\n",
       "      <td>0.765286</td>\n",
       "      <td>0.456246</td>\n",
       "    </tr>\n",
       "    <tr>\n",
       "      <th>Healthy life expectancy</th>\n",
       "      <td>0.289263</td>\n",
       "      <td>0.863062</td>\n",
       "      <td>0.765286</td>\n",
       "      <td>1.000000</td>\n",
       "      <td>0.427892</td>\n",
       "    </tr>\n",
       "    <tr>\n",
       "      <th>Freedom to make life choices</th>\n",
       "      <td>0.078196</td>\n",
       "      <td>0.394603</td>\n",
       "      <td>0.456246</td>\n",
       "      <td>0.427892</td>\n",
       "      <td>1.000000</td>\n",
       "    </tr>\n",
       "  </tbody>\n",
       "</table>\n",
       "</div>"
      ],
      "text/plain": [
       "                              max_infection_rates  GDP per capita  \\\n",
       "max_infection_rates                      1.000000        0.250118   \n",
       "GDP per capita                           0.250118        1.000000   \n",
       "Social support                           0.191958        0.759468   \n",
       "Healthy life expectancy                  0.289263        0.863062   \n",
       "Freedom to make life choices             0.078196        0.394603   \n",
       "\n",
       "                              Social support  Healthy life expectancy  \\\n",
       "max_infection_rates                 0.191958                 0.289263   \n",
       "GDP per capita                      0.759468                 0.863062   \n",
       "Social support                      1.000000                 0.765286   \n",
       "Healthy life expectancy             0.765286                 1.000000   \n",
       "Freedom to make life choices        0.456246                 0.427892   \n",
       "\n",
       "                              Freedom to make life choices  \n",
       "max_infection_rates                               0.078196  \n",
       "GDP per capita                                    0.394603  \n",
       "Social support                                    0.456246  \n",
       "Healthy life expectancy                           0.427892  \n",
       "Freedom to make life choices                      1.000000  "
      ]
     },
     "execution_count": 29,
     "metadata": {},
     "output_type": "execute_result"
    }
   ],
   "source": [
    "data.corr()"
   ]
  },
  {
   "cell_type": "markdown",
   "id": "8fa80be6",
   "metadata": {
    "_cell_guid": "ea08e760-b93b-4515-9ddd-89bd7051a704",
    "_uuid": "4b4aa7e3-7e6e-4b41-96f7-d6ede8d124db",
    "papermill": {
     "duration": 0.037441,
     "end_time": "2023-05-20T11:31:01.213851",
     "exception": false,
     "start_time": "2023-05-20T11:31:01.176410",
     "status": "completed"
    },
    "tags": []
   },
   "source": [
    "### Visualization of the results"
   ]
  },
  {
   "cell_type": "code",
   "execution_count": 30,
   "id": "803b6e81",
   "metadata": {
    "_cell_guid": "412fe82f-1c11-4811-a931-c2527209b32e",
    "_uuid": "c0d92b2f-248d-4929-aa3f-f4d09c2fcbbb",
    "collapsed": false,
    "execution": {
     "iopub.execute_input": "2023-05-20T11:31:01.290634Z",
     "iopub.status.busy": "2023-05-20T11:31:01.289527Z",
     "iopub.status.idle": "2023-05-20T11:31:01.303391Z",
     "shell.execute_reply": "2023-05-20T11:31:01.302535Z"
    },
    "jupyter": {
     "outputs_hidden": false
    },
    "papermill": {
     "duration": 0.054993,
     "end_time": "2023-05-20T11:31:01.305905",
     "exception": false,
     "start_time": "2023-05-20T11:31:01.250912",
     "status": "completed"
    },
    "tags": []
   },
   "outputs": [
    {
     "data": {
      "text/html": [
       "<div>\n",
       "<style scoped>\n",
       "    .dataframe tbody tr th:only-of-type {\n",
       "        vertical-align: middle;\n",
       "    }\n",
       "\n",
       "    .dataframe tbody tr th {\n",
       "        vertical-align: top;\n",
       "    }\n",
       "\n",
       "    .dataframe thead th {\n",
       "        text-align: right;\n",
       "    }\n",
       "</style>\n",
       "<table border=\"1\" class=\"dataframe\">\n",
       "  <thead>\n",
       "    <tr style=\"text-align: right;\">\n",
       "      <th></th>\n",
       "      <th>max_infection_rates</th>\n",
       "      <th>GDP per capita</th>\n",
       "      <th>Social support</th>\n",
       "      <th>Healthy life expectancy</th>\n",
       "      <th>Freedom to make life choices</th>\n",
       "    </tr>\n",
       "  </thead>\n",
       "  <tbody>\n",
       "    <tr>\n",
       "      <th>Afghanistan</th>\n",
       "      <td>232.0</td>\n",
       "      <td>0.350</td>\n",
       "      <td>0.517</td>\n",
       "      <td>0.361</td>\n",
       "      <td>0.000</td>\n",
       "    </tr>\n",
       "    <tr>\n",
       "      <th>Albania</th>\n",
       "      <td>34.0</td>\n",
       "      <td>0.947</td>\n",
       "      <td>0.848</td>\n",
       "      <td>0.874</td>\n",
       "      <td>0.383</td>\n",
       "    </tr>\n",
       "    <tr>\n",
       "      <th>Algeria</th>\n",
       "      <td>199.0</td>\n",
       "      <td>1.002</td>\n",
       "      <td>1.160</td>\n",
       "      <td>0.785</td>\n",
       "      <td>0.086</td>\n",
       "    </tr>\n",
       "    <tr>\n",
       "      <th>Argentina</th>\n",
       "      <td>291.0</td>\n",
       "      <td>1.092</td>\n",
       "      <td>1.432</td>\n",
       "      <td>0.881</td>\n",
       "      <td>0.471</td>\n",
       "    </tr>\n",
       "    <tr>\n",
       "      <th>Armenia</th>\n",
       "      <td>134.0</td>\n",
       "      <td>0.850</td>\n",
       "      <td>1.055</td>\n",
       "      <td>0.815</td>\n",
       "      <td>0.283</td>\n",
       "    </tr>\n",
       "  </tbody>\n",
       "</table>\n",
       "</div>"
      ],
      "text/plain": [
       "             max_infection_rates  GDP per capita  Social support  \\\n",
       "Afghanistan                232.0           0.350           0.517   \n",
       "Albania                     34.0           0.947           0.848   \n",
       "Algeria                    199.0           1.002           1.160   \n",
       "Argentina                  291.0           1.092           1.432   \n",
       "Armenia                    134.0           0.850           1.055   \n",
       "\n",
       "             Healthy life expectancy  Freedom to make life choices  \n",
       "Afghanistan                    0.361                         0.000  \n",
       "Albania                        0.874                         0.383  \n",
       "Algeria                        0.785                         0.086  \n",
       "Argentina                      0.881                         0.471  \n",
       "Armenia                        0.815                         0.283  "
      ]
     },
     "execution_count": 30,
     "metadata": {},
     "output_type": "execute_result"
    }
   ],
   "source": [
    "data.head()"
   ]
  },
  {
   "cell_type": "markdown",
   "id": "7b807613",
   "metadata": {
    "_cell_guid": "cc87f3e8-c6f2-4cd7-9e3e-d36ea085e5ef",
    "_uuid": "1300e5d3-d998-44e9-bed2-ec7aed0d7784",
    "papermill": {
     "duration": 0.037867,
     "end_time": "2023-05-20T11:31:01.382003",
     "exception": false,
     "start_time": "2023-05-20T11:31:01.344136",
     "status": "completed"
    },
    "tags": []
   },
   "source": [
    "## Plotting GDP vs maximum infection rates"
   ]
  },
  {
   "cell_type": "code",
   "execution_count": 31,
   "id": "8bbe6633",
   "metadata": {
    "_cell_guid": "af3cbf4e-30f6-4283-ba31-e3c3302c1b4f",
    "_uuid": "fc4e8dff-e4c9-435f-8602-855616cf0b93",
    "collapsed": false,
    "execution": {
     "iopub.execute_input": "2023-05-20T11:31:01.459056Z",
     "iopub.status.busy": "2023-05-20T11:31:01.458605Z",
     "iopub.status.idle": "2023-05-20T11:31:01.760633Z",
     "shell.execute_reply": "2023-05-20T11:31:01.759299Z"
    },
    "jupyter": {
     "outputs_hidden": false
    },
    "papermill": {
     "duration": 0.343839,
     "end_time": "2023-05-20T11:31:01.763182",
     "exception": false,
     "start_time": "2023-05-20T11:31:01.419343",
     "status": "completed"
    },
    "tags": []
   },
   "outputs": [
    {
     "data": {
      "text/plain": [
       "<AxesSubplot: xlabel='GDP per capita', ylabel='max_infection_rates'>"
      ]
     },
     "execution_count": 31,
     "metadata": {},
     "output_type": "execute_result"
    },
    {
     "data": {
      "image/png": "[encoded data removed]",
      "text/plain": [
       "<Figure size 640x480 with 1 Axes>"
      ]
     },
     "metadata": {},
     "output_type": "display_data"
    }
   ],
   "source": [
    "sns.scatterplot(x=\"GDP per capita\", y=np.log(data[\"max_infection_rates\"]), data=data)"
   ]
  },
  {
   "cell_type": "code",
   "execution_count": 32,
   "id": "533c9076",
   "metadata": {
    "_cell_guid": "bafd1b07-d0c2-44b0-aae6-62680510dc96",
    "_uuid": "fa3b8b29-c7ee-4439-81e4-e60ece096385",
    "collapsed": false,
    "execution": {
     "iopub.execute_input": "2023-05-20T11:31:01.842027Z",
     "iopub.status.busy": "2023-05-20T11:31:01.841608Z",
     "iopub.status.idle": "2023-05-20T11:31:02.253266Z",
     "shell.execute_reply": "2023-05-20T11:31:02.251906Z"
    },
    "jupyter": {
     "outputs_hidden": false
    },
    "papermill": {
     "duration": 0.454826,
     "end_time": "2023-05-20T11:31:02.256057",
     "exception": false,
     "start_time": "2023-05-20T11:31:01.801231",
     "status": "completed"
    },
    "tags": []
   },
   "outputs": [
    {
     "data": {
      "text/plain": [
       "<AxesSubplot: xlabel='GDP per capita', ylabel='max_infection_rates'>"
      ]
     },
     "execution_count": 32,
     "metadata": {},
     "output_type": "execute_result"
    },
    {
     "data": {
      "image/png": "[encoded data removed]",
      "text/plain": [
       "<Figure size 640x480 with 1 Axes>"
      ]
     },
     "metadata": {},
     "output_type": "display_data"
    }
   ],
   "source": [
    "sns.regplot(x=\"GDP per capita\", y=np.log(data[\"max_infection_rates\"]), data=data)"
   ]
  },
  {
   "cell_type": "markdown",
   "id": "34c99e2d",
   "metadata": {
    "_cell_guid": "c50cb899-2ead-4c50-8e55-bb0c13904a8e",
    "_uuid": "a1853ab8-7464-4e5e-8b7f-87166c12960e",
    "papermill": {
     "duration": 0.038982,
     "end_time": "2023-05-20T11:31:02.334107",
     "exception": false,
     "start_time": "2023-05-20T11:31:02.295125",
     "status": "completed"
    },
    "tags": []
   },
   "source": [
    "## Plotting Social support vs maximum infection rates"
   ]
  },
  {
   "cell_type": "code",
   "execution_count": 33,
   "id": "c510fccf",
   "metadata": {
    "_cell_guid": "60b93605-115f-4517-b96c-502fe48a8ffd",
    "_uuid": "dc1e6520-059e-406a-bd0d-c66453efadb9",
    "collapsed": false,
    "execution": {
     "iopub.execute_input": "2023-05-20T11:31:02.415400Z",
     "iopub.status.busy": "2023-05-20T11:31:02.414963Z",
     "iopub.status.idle": "2023-05-20T11:31:02.708941Z",
     "shell.execute_reply": "2023-05-20T11:31:02.707739Z"
    },
    "jupyter": {
     "outputs_hidden": false
    },
    "papermill": {
     "duration": 0.338261,
     "end_time": "2023-05-20T11:31:02.711486",
     "exception": false,
     "start_time": "2023-05-20T11:31:02.373225",
     "status": "completed"
    },
    "tags": []
   },
   "outputs": [
    {
     "data": {
      "text/plain": [
       "<AxesSubplot: xlabel='Social support', ylabel='max_infection_rates'>"
      ]
     },
     "execution_count": 33,
     "metadata": {},
     "output_type": "execute_result"
    },
    {
     "data": {
      "image/png": "[encoded data removed]",
      "text/plain": [
       "<Figure size 640x480 with 1 Axes>"
      ]
     },
     "metadata": {},
     "output_type": "display_data"
    }
   ],
   "source": [
    "sns.scatterplot(x=\"Social support\", y=np.log(data[\"max_infection_rates\"]), data=data)"
   ]
  },
  {
   "cell_type": "code",
   "execution_count": 34,
   "id": "15f4f9b8",
   "metadata": {
    "_cell_guid": "3ccd81bc-2b30-49cb-b675-17b42d8e0638",
    "_uuid": "b372c88f-785e-4640-bcc9-12fc2ea54adb",
    "collapsed": false,
    "execution": {
     "iopub.execute_input": "2023-05-20T11:31:02.793781Z",
     "iopub.status.busy": "2023-05-20T11:31:02.793091Z",
     "iopub.status.idle": "2023-05-20T11:31:03.195613Z",
     "shell.execute_reply": "2023-05-20T11:31:03.194495Z"
    },
    "jupyter": {
     "outputs_hidden": false
    },
    "papermill": {
     "duration": 0.446892,
     "end_time": "2023-05-20T11:31:03.198058",
     "exception": false,
     "start_time": "2023-05-20T11:31:02.751166",
     "status": "completed"
    },
    "tags": []
   },
   "outputs": [
    {
     "data": {
      "text/plain": [
       "<AxesSubplot: xlabel='Social support', ylabel='max_infection_rates'>"
      ]
     },
     "execution_count": 34,
     "metadata": {},
     "output_type": "execute_result"
    },
    {
     "data": {
      "image/png": "[encoded data removed]",
      "text/plain": [
       "<Figure size 640x480 with 1 Axes>"
      ]
     },
     "metadata": {},
     "output_type": "display_data"
    }
   ],
   "source": [
    "sns.regplot(x=\"Social support\", y=np.log(data[\"max_infection_rates\"]), data=data)"
   ]
  },
  {
   "cell_type": "markdown",
   "id": "cb3b6100",
   "metadata": {
    "_cell_guid": "41f06aac-16d1-4714-bdd7-20d399ad6539",
    "_uuid": "757aa46b-23ca-4b82-b054-05fd0fdfa319",
    "papermill": {
     "duration": 0.040849,
     "end_time": "2023-05-20T11:31:03.279593",
     "exception": false,
     "start_time": "2023-05-20T11:31:03.238744",
     "status": "completed"
    },
    "tags": []
   },
   "source": [
    "## Plotting Healthy life expectancy vs maximum infection rates"
   ]
  },
  {
   "cell_type": "code",
   "execution_count": 35,
   "id": "75cd8e13",
   "metadata": {
    "_cell_guid": "91141725-ae69-4e68-bff7-5b429d0036fb",
    "_uuid": "fc2d45e1-35fb-4a14-b422-4aa8f060dbf0",
    "collapsed": false,
    "execution": {
     "iopub.execute_input": "2023-05-20T11:31:03.363587Z",
     "iopub.status.busy": "2023-05-20T11:31:03.362424Z",
     "iopub.status.idle": "2023-05-20T11:31:03.632318Z",
     "shell.execute_reply": "2023-05-20T11:31:03.631112Z"
    },
    "jupyter": {
     "outputs_hidden": false
    },
    "papermill": {
     "duration": 0.314643,
     "end_time": "2023-05-20T11:31:03.635055",
     "exception": false,
     "start_time": "2023-05-20T11:31:03.320412",
     "status": "completed"
    },
    "tags": []
   },
   "outputs": [
    {
     "data": {
      "text/plain": [
       "<AxesSubplot: xlabel='Healthy life expectancy', ylabel='max_infection_rates'>"
      ]
     },
     "execution_count": 35,
     "metadata": {},
     "output_type": "execute_result"
    },
    {
     "data": {
      "image/png": "[encoded data removed]",
      "text/plain": [
       "<Figure size 640x480 with 1 Axes>"
      ]
     },
     "metadata": {},
     "output_type": "display_data"
    }
   ],
   "source": [
    "sns.scatterplot(x=\"Healthy life expectancy\", y=np.log(data[\"max_infection_rates\"]), data=data)"
   ]
  },
  {
   "cell_type": "code",
   "execution_count": 36,
   "id": "fd323e71",
   "metadata": {
    "_cell_guid": "68dccab3-0f02-4eb1-8faa-bcc6deac569a",
    "_uuid": "2fcc5cb3-7826-48ab-9130-5441323adcdb",
    "collapsed": false,
    "execution": {
     "iopub.execute_input": "2023-05-20T11:31:03.721830Z",
     "iopub.status.busy": "2023-05-20T11:31:03.721136Z",
     "iopub.status.idle": "2023-05-20T11:31:04.104379Z",
     "shell.execute_reply": "2023-05-20T11:31:04.103231Z"
    },
    "jupyter": {
     "outputs_hidden": false
    },
    "papermill": {
     "duration": 0.428719,
     "end_time": "2023-05-20T11:31:04.106947",
     "exception": false,
     "start_time": "2023-05-20T11:31:03.678228",
     "status": "completed"
    },
    "tags": []
   },
   "outputs": [
    {
     "data": {
      "text/plain": [
       "<AxesSubplot: xlabel='Healthy life expectancy', ylabel='max_infection_rates'>"
      ]
     },
     "execution_count": 36,
     "metadata": {},
     "output_type": "execute_result"
    },
    {
     "data": {
      "image/png": "[encoded data removed]",
      "text/plain": [
       "<Figure size 640x480 with 1 Axes>"
      ]
     },
     "metadata": {},
     "output_type": "display_data"
    }
   ],
   "source": [
    "sns.regplot(x=\"Healthy life expectancy\", y=np.log(data[\"max_infection_rates\"]), data=data)"
   ]
  },
  {
   "cell_type": "markdown",
   "id": "b58bd567",
   "metadata": {
    "_cell_guid": "2b7a3acb-2cba-4c51-8ac5-2cd9fe08d6a9",
    "_uuid": "0c9c00c3-4f29-4205-a750-7d9459b42adf",
    "papermill": {
     "duration": 0.051651,
     "end_time": "2023-05-20T11:31:04.200645",
     "exception": false,
     "start_time": "2023-05-20T11:31:04.148994",
     "status": "completed"
    },
    "tags": []
   },
   "source": [
    "## Plotting Freedom to make life choices vs maximum infection rates"
   ]
  },
  {
   "cell_type": "code",
   "execution_count": 37,
   "id": "4fd4f603",
   "metadata": {
    "_cell_guid": "8ac80e77-30ad-4920-9c1f-f449c1d7c274",
    "_uuid": "23e71887-6f05-4c0e-9cd7-2323648e89f2",
    "collapsed": false,
    "execution": {
     "iopub.execute_input": "2023-05-20T11:31:04.296097Z",
     "iopub.status.busy": "2023-05-20T11:31:04.295675Z",
     "iopub.status.idle": "2023-05-20T11:31:04.581073Z",
     "shell.execute_reply": "2023-05-20T11:31:04.579890Z"
    },
    "jupyter": {
     "outputs_hidden": false
    },
    "papermill": {
     "duration": 0.332054,
     "end_time": "2023-05-20T11:31:04.583798",
     "exception": false,
     "start_time": "2023-05-20T11:31:04.251744",
     "status": "completed"
    },
    "tags": []
   },
   "outputs": [
    {
     "data": {
      "text/plain": [
       "<AxesSubplot: xlabel='Freedom to make life choices', ylabel='max_infection_rates'>"
      ]
     },
     "execution_count": 37,
     "metadata": {},
     "output_type": "execute_result"
    },
    {
     "data": {
      "image/png": "[encoded data removed]",
      "text/plain": [
       "<Figure size 640x480 with 1 Axes>"
      ]
     },
     "metadata": {},
     "output_type": "display_data"
    }
   ],
   "source": [
    "sns.scatterplot(x=\"Freedom to make life choices\", y=np.log(data[\"max_infection_rates\"]), data=data)"
   ]
  },
  {
   "cell_type": "code",
   "execution_count": 38,
   "id": "caae7f4a",
   "metadata": {
    "_cell_guid": "76058d02-f3c3-46ad-9141-3dfbddb5b5e2",
    "_uuid": "955d2b87-47d4-4ef4-8c77-699f7ad6f1ec",
    "collapsed": false,
    "execution": {
     "iopub.execute_input": "2023-05-20T11:31:04.673813Z",
     "iopub.status.busy": "2023-05-20T11:31:04.673150Z",
     "iopub.status.idle": "2023-05-20T11:31:05.064869Z",
     "shell.execute_reply": "2023-05-20T11:31:05.063686Z"
    },
    "jupyter": {
     "outputs_hidden": false
    },
    "papermill": {
     "duration": 0.440064,
     "end_time": "2023-05-20T11:31:05.067309",
     "exception": false,
     "start_time": "2023-05-20T11:31:04.627245",
     "status": "completed"
    },
    "tags": []
   },
   "outputs": [
    {
     "data": {
      "text/plain": [
       "<AxesSubplot: xlabel='Freedom to make life choices', ylabel='max_infection_rates'>"
      ]
     },
     "execution_count": 38,
     "metadata": {},
     "output_type": "execute_result"
    },
    {
     "data": {
      "image/png": "[encoded data removed]",
      "text/plain": [
       "<Figure size 640x480 with 1 Axes>"
      ]
     },
     "metadata": {},
     "output_type": "display_data"
    }
   ],
   "source": [
    "sns.regplot(x=\"Freedom to make life choices\", y=np.log(data[\"max_infection_rates\"]), data=data)"
   ]
  },
  {
   "cell_type": "markdown",
   "id": "059e3a98",
   "metadata": {
    "_cell_guid": "76760dfa-e308-477c-8a14-b50c5c4c7b73",
    "_uuid": "e7289b73-d4c9-47eb-941e-c6a2dc0906ec",
    "papermill": {
     "duration": 0.043793,
     "end_time": "2023-05-20T11:31:05.155445",
     "exception": false,
     "start_time": "2023-05-20T11:31:05.111652",
     "status": "completed"
    },
    "tags": []
   },
   "source": [
    "## Inital Findings"
   ]
  },
  {
   "cell_type": "markdown",
   "id": "84241a4b",
   "metadata": {
    "_cell_guid": "f48c1ec5-30b4-41e3-91d5-398f1db51f93",
    "_uuid": "dab01bef-cd0b-489b-9791-ba76e0195dca",
    "papermill": {
     "duration": 0.043671,
     "end_time": "2023-05-20T11:31:05.243648",
     "exception": false,
     "start_time": "2023-05-20T11:31:05.199977",
     "status": "completed"
    },
    "tags": []
   },
   "source": [
    "Results from this initial analysis show that people who are living in more developed countries are more susceptible to getting COVID-19 compared to less developed countries."
   ]
  },
  {
   "cell_type": "markdown",
   "id": "36e1b792",
   "metadata": {
    "_cell_guid": "f3d39b6d-21c1-47f0-a1b9-8ea51c045e9a",
    "_uuid": "06ab7c90-d5b1-4383-9553-5f1fb868713a",
    "papermill": {
     "duration": 0.044326,
     "end_time": "2023-05-20T11:31:05.331850",
     "exception": false,
     "start_time": "2023-05-20T11:31:05.287524",
     "status": "completed"
    },
    "tags": []
   },
   "source": [
    "## Futher Analysis"
   ]
  },
  {
   "cell_type": "markdown",
   "id": "be74e0e9",
   "metadata": {
    "_cell_guid": "c5d1170c-0a10-4073-94ea-9d9c7b9841af",
    "_uuid": "2d0da4df-7485-4ea2-a619-535ba2c88e78",
    "papermill": {
     "duration": 0.043269,
     "end_time": "2023-05-20T11:31:05.418970",
     "exception": false,
     "start_time": "2023-05-20T11:31:05.375701",
     "status": "completed"
    },
    "tags": []
   },
   "source": [
    "To confirm if the initial analysis is correct, I need to compare and confirm that it is not being represented due to a lack of COVID-19 test kits in the less developed countries.\n",
    "\n",
    "In order to prove that this is not the case, I will complete a further analysis where I will use a dataset related to the cumulative number of deaths instead of the confirmed COVID-19 cases."
   ]
  },
  {
   "cell_type": "markdown",
   "id": "cbd93ae5",
   "metadata": {
    "_cell_guid": "86eb9f3e-6298-45c3-a3d4-39f1186a328b",
    "_uuid": "345b9213-e39b-48eb-92fa-626cb29a4fd4",
    "papermill": {
     "duration": 0.04735,
     "end_time": "2023-05-20T11:31:05.510242",
     "exception": false,
     "start_time": "2023-05-20T11:31:05.462892",
     "status": "completed"
    },
    "tags": []
   },
   "source": [
    "## Importing Covid-19 Deaths Dataset"
   ]
  },
  {
   "cell_type": "code",
   "execution_count": 39,
   "id": "e2a82569",
   "metadata": {
    "_cell_guid": "9fc51e69-86c1-4f37-88df-9bff450e358d",
    "_uuid": "7e9f649d-cbcd-4fbc-a097-ce6b47ac4420",
    "collapsed": false,
    "execution": {
     "iopub.execute_input": "2023-05-20T11:31:05.600485Z",
     "iopub.status.busy": "2023-05-20T11:31:05.599759Z",
     "iopub.status.idle": "2023-05-20T11:31:05.639592Z",
     "shell.execute_reply": "2023-05-20T11:31:05.638477Z"
    },
    "jupyter": {
     "outputs_hidden": false
    },
    "papermill": {
     "duration": 0.088149,
     "end_time": "2023-05-20T11:31:05.642222",
     "exception": false,
     "start_time": "2023-05-20T11:31:05.554073",
     "status": "completed"
    },
    "tags": []
   },
   "outputs": [
    {
     "data": {
      "text/html": [
       "<div>\n",
       "<style scoped>\n",
       "    .dataframe tbody tr th:only-of-type {\n",
       "        vertical-align: middle;\n",
       "    }\n",
       "\n",
       "    .dataframe tbody tr th {\n",
       "        vertical-align: top;\n",
       "    }\n",
       "\n",
       "    .dataframe thead th {\n",
       "        text-align: right;\n",
       "    }\n",
       "</style>\n",
       "<table border=\"1\" class=\"dataframe\">\n",
       "  <thead>\n",
       "    <tr style=\"text-align: right;\">\n",
       "      <th></th>\n",
       "      <th>Province/State</th>\n",
       "      <th>Country/Region</th>\n",
       "      <th>Lat</th>\n",
       "      <th>Long</th>\n",
       "      <th>1/22/20</th>\n",
       "      <th>1/23/20</th>\n",
       "      <th>1/24/20</th>\n",
       "      <th>1/25/20</th>\n",
       "      <th>1/26/20</th>\n",
       "      <th>1/27/20</th>\n",
       "      <th>...</th>\n",
       "      <th>4/21/20</th>\n",
       "      <th>4/22/20</th>\n",
       "      <th>4/23/20</th>\n",
       "      <th>4/24/20</th>\n",
       "      <th>4/25/20</th>\n",
       "      <th>4/26/20</th>\n",
       "      <th>4/27/20</th>\n",
       "      <th>4/28/20</th>\n",
       "      <th>4/29/20</th>\n",
       "      <th>4/30/20</th>\n",
       "    </tr>\n",
       "  </thead>\n",
       "  <tbody>\n",
       "    <tr>\n",
       "      <th>0</th>\n",
       "      <td>NaN</td>\n",
       "      <td>Afghanistan</td>\n",
       "      <td>33.0000</td>\n",
       "      <td>65.0000</td>\n",
       "      <td>0</td>\n",
       "      <td>0</td>\n",
       "      <td>0</td>\n",
       "      <td>0</td>\n",
       "      <td>0</td>\n",
       "      <td>0</td>\n",
       "      <td>...</td>\n",
       "      <td>36</td>\n",
       "      <td>40</td>\n",
       "      <td>42</td>\n",
       "      <td>43</td>\n",
       "      <td>47</td>\n",
       "      <td>50</td>\n",
       "      <td>57</td>\n",
       "      <td>58</td>\n",
       "      <td>60</td>\n",
       "      <td>64</td>\n",
       "    </tr>\n",
       "    <tr>\n",
       "      <th>1</th>\n",
       "      <td>NaN</td>\n",
       "      <td>Albania</td>\n",
       "      <td>41.1533</td>\n",
       "      <td>20.1683</td>\n",
       "      <td>0</td>\n",
       "      <td>0</td>\n",
       "      <td>0</td>\n",
       "      <td>0</td>\n",
       "      <td>0</td>\n",
       "      <td>0</td>\n",
       "      <td>...</td>\n",
       "      <td>26</td>\n",
       "      <td>27</td>\n",
       "      <td>27</td>\n",
       "      <td>27</td>\n",
       "      <td>27</td>\n",
       "      <td>28</td>\n",
       "      <td>28</td>\n",
       "      <td>30</td>\n",
       "      <td>30</td>\n",
       "      <td>31</td>\n",
       "    </tr>\n",
       "    <tr>\n",
       "      <th>2</th>\n",
       "      <td>NaN</td>\n",
       "      <td>Algeria</td>\n",
       "      <td>28.0339</td>\n",
       "      <td>1.6596</td>\n",
       "      <td>0</td>\n",
       "      <td>0</td>\n",
       "      <td>0</td>\n",
       "      <td>0</td>\n",
       "      <td>0</td>\n",
       "      <td>0</td>\n",
       "      <td>...</td>\n",
       "      <td>392</td>\n",
       "      <td>402</td>\n",
       "      <td>407</td>\n",
       "      <td>415</td>\n",
       "      <td>419</td>\n",
       "      <td>425</td>\n",
       "      <td>432</td>\n",
       "      <td>437</td>\n",
       "      <td>444</td>\n",
       "      <td>450</td>\n",
       "    </tr>\n",
       "    <tr>\n",
       "      <th>3</th>\n",
       "      <td>NaN</td>\n",
       "      <td>Andorra</td>\n",
       "      <td>42.5063</td>\n",
       "      <td>1.5218</td>\n",
       "      <td>0</td>\n",
       "      <td>0</td>\n",
       "      <td>0</td>\n",
       "      <td>0</td>\n",
       "      <td>0</td>\n",
       "      <td>0</td>\n",
       "      <td>...</td>\n",
       "      <td>37</td>\n",
       "      <td>37</td>\n",
       "      <td>37</td>\n",
       "      <td>40</td>\n",
       "      <td>40</td>\n",
       "      <td>40</td>\n",
       "      <td>40</td>\n",
       "      <td>41</td>\n",
       "      <td>42</td>\n",
       "      <td>42</td>\n",
       "    </tr>\n",
       "    <tr>\n",
       "      <th>4</th>\n",
       "      <td>NaN</td>\n",
       "      <td>Angola</td>\n",
       "      <td>-11.2027</td>\n",
       "      <td>17.8739</td>\n",
       "      <td>0</td>\n",
       "      <td>0</td>\n",
       "      <td>0</td>\n",
       "      <td>0</td>\n",
       "      <td>0</td>\n",
       "      <td>0</td>\n",
       "      <td>...</td>\n",
       "      <td>2</td>\n",
       "      <td>2</td>\n",
       "      <td>2</td>\n",
       "      <td>2</td>\n",
       "      <td>2</td>\n",
       "      <td>2</td>\n",
       "      <td>2</td>\n",
       "      <td>2</td>\n",
       "      <td>2</td>\n",
       "      <td>2</td>\n",
       "    </tr>\n",
       "    <tr>\n",
       "      <th>5</th>\n",
       "      <td>NaN</td>\n",
       "      <td>Antigua and Barbuda</td>\n",
       "      <td>17.0608</td>\n",
       "      <td>-61.7964</td>\n",
       "      <td>0</td>\n",
       "      <td>0</td>\n",
       "      <td>0</td>\n",
       "      <td>0</td>\n",
       "      <td>0</td>\n",
       "      <td>0</td>\n",
       "      <td>...</td>\n",
       "      <td>3</td>\n",
       "      <td>3</td>\n",
       "      <td>3</td>\n",
       "      <td>3</td>\n",
       "      <td>3</td>\n",
       "      <td>3</td>\n",
       "      <td>3</td>\n",
       "      <td>3</td>\n",
       "      <td>3</td>\n",
       "      <td>3</td>\n",
       "    </tr>\n",
       "    <tr>\n",
       "      <th>6</th>\n",
       "      <td>NaN</td>\n",
       "      <td>Argentina</td>\n",
       "      <td>-38.4161</td>\n",
       "      <td>-63.6167</td>\n",
       "      <td>0</td>\n",
       "      <td>0</td>\n",
       "      <td>0</td>\n",
       "      <td>0</td>\n",
       "      <td>0</td>\n",
       "      <td>0</td>\n",
       "      <td>...</td>\n",
       "      <td>147</td>\n",
       "      <td>152</td>\n",
       "      <td>165</td>\n",
       "      <td>176</td>\n",
       "      <td>185</td>\n",
       "      <td>192</td>\n",
       "      <td>197</td>\n",
       "      <td>207</td>\n",
       "      <td>214</td>\n",
       "      <td>218</td>\n",
       "    </tr>\n",
       "    <tr>\n",
       "      <th>7</th>\n",
       "      <td>NaN</td>\n",
       "      <td>Armenia</td>\n",
       "      <td>40.0691</td>\n",
       "      <td>45.0382</td>\n",
       "      <td>0</td>\n",
       "      <td>0</td>\n",
       "      <td>0</td>\n",
       "      <td>0</td>\n",
       "      <td>0</td>\n",
       "      <td>0</td>\n",
       "      <td>...</td>\n",
       "      <td>24</td>\n",
       "      <td>24</td>\n",
       "      <td>24</td>\n",
       "      <td>27</td>\n",
       "      <td>28</td>\n",
       "      <td>28</td>\n",
       "      <td>29</td>\n",
       "      <td>30</td>\n",
       "      <td>30</td>\n",
       "      <td>32</td>\n",
       "    </tr>\n",
       "    <tr>\n",
       "      <th>8</th>\n",
       "      <td>Australian Capital Territory</td>\n",
       "      <td>Australia</td>\n",
       "      <td>-35.4735</td>\n",
       "      <td>149.0124</td>\n",
       "      <td>0</td>\n",
       "      <td>0</td>\n",
       "      <td>0</td>\n",
       "      <td>0</td>\n",
       "      <td>0</td>\n",
       "      <td>0</td>\n",
       "      <td>...</td>\n",
       "      <td>3</td>\n",
       "      <td>3</td>\n",
       "      <td>3</td>\n",
       "      <td>3</td>\n",
       "      <td>3</td>\n",
       "      <td>3</td>\n",
       "      <td>3</td>\n",
       "      <td>3</td>\n",
       "      <td>3</td>\n",
       "      <td>3</td>\n",
       "    </tr>\n",
       "    <tr>\n",
       "      <th>9</th>\n",
       "      <td>New South Wales</td>\n",
       "      <td>Australia</td>\n",
       "      <td>-33.8688</td>\n",
       "      <td>151.2093</td>\n",
       "      <td>0</td>\n",
       "      <td>0</td>\n",
       "      <td>0</td>\n",
       "      <td>0</td>\n",
       "      <td>0</td>\n",
       "      <td>0</td>\n",
       "      <td>...</td>\n",
       "      <td>26</td>\n",
       "      <td>26</td>\n",
       "      <td>31</td>\n",
       "      <td>33</td>\n",
       "      <td>33</td>\n",
       "      <td>34</td>\n",
       "      <td>34</td>\n",
       "      <td>39</td>\n",
       "      <td>40</td>\n",
       "      <td>41</td>\n",
       "    </tr>\n",
       "  </tbody>\n",
       "</table>\n",
       "<p>10 rows × 104 columns</p>\n",
       "</div>"
      ],
      "text/plain": [
       "                 Province/State       Country/Region      Lat      Long  \\\n",
       "0                           NaN          Afghanistan  33.0000   65.0000   \n",
       "1                           NaN              Albania  41.1533   20.1683   \n",
       "2                           NaN              Algeria  28.0339    1.6596   \n",
       "3                           NaN              Andorra  42.5063    1.5218   \n",
       "4                           NaN               Angola -11.2027   17.8739   \n",
       "5                           NaN  Antigua and Barbuda  17.0608  -61.7964   \n",
       "6                           NaN            Argentina -38.4161  -63.6167   \n",
       "7                           NaN              Armenia  40.0691   45.0382   \n",
       "8  Australian Capital Territory            Australia -35.4735  149.0124   \n",
       "9               New South Wales            Australia -33.8688  151.2093   \n",
       "\n",
       "   1/22/20  1/23/20  1/24/20  1/25/20  1/26/20  1/27/20  ...  4/21/20  \\\n",
       "0        0        0        0        0        0        0  ...       36   \n",
       "1        0        0        0        0        0        0  ...       26   \n",
       "2        0        0        0        0        0        0  ...      392   \n",
       "3        0        0        0        0        0        0  ...       37   \n",
       "4        0        0        0        0        0        0  ...        2   \n",
       "5        0        0        0        0        0        0  ...        3   \n",
       "6        0        0        0        0        0        0  ...      147   \n",
       "7        0        0        0        0        0        0  ...       24   \n",
       "8        0        0        0        0        0        0  ...        3   \n",
       "9        0        0        0        0        0        0  ...       26   \n",
       "\n",
       "   4/22/20  4/23/20  4/24/20  4/25/20  4/26/20  4/27/20  4/28/20  4/29/20  \\\n",
       "0       40       42       43       47       50       57       58       60   \n",
       "1       27       27       27       27       28       28       30       30   \n",
       "2      402      407      415      419      425      432      437      444   \n",
       "3       37       37       40       40       40       40       41       42   \n",
       "4        2        2        2        2        2        2        2        2   \n",
       "5        3        3        3        3        3        3        3        3   \n",
       "6      152      165      176      185      192      197      207      214   \n",
       "7       24       24       27       28       28       29       30       30   \n",
       "8        3        3        3        3        3        3        3        3   \n",
       "9       26       31       33       33       34       34       39       40   \n",
       "\n",
       "   4/30/20  \n",
       "0       64  \n",
       "1       31  \n",
       "2      450  \n",
       "3       42  \n",
       "4        2  \n",
       "5        3  \n",
       "6      218  \n",
       "7       32  \n",
       "8        3  \n",
       "9       41  \n",
       "\n",
       "[10 rows x 104 columns]"
      ]
     },
     "execution_count": 39,
     "metadata": {},
     "output_type": "execute_result"
    }
   ],
   "source": [
    "corona_deaths_dataset_csv = pd.read_csv(\"/kaggle/input/covid19-and-world-happiness-report/covid19_deaths_dataset.csv\")\n",
    "corona_deaths_dataset_csv.head(10)"
   ]
  },
  {
   "cell_type": "code",
   "execution_count": 40,
   "id": "0211b8d6",
   "metadata": {
    "_cell_guid": "9cfbc49a-18b0-44b9-9433-4f22a0987f08",
    "_uuid": "9f276f0d-899d-4422-99c8-1f5f903a5791",
    "collapsed": false,
    "execution": {
     "iopub.execute_input": "2023-05-20T11:31:05.736530Z",
     "iopub.status.busy": "2023-05-20T11:31:05.735815Z",
     "iopub.status.idle": "2023-05-20T11:31:05.741866Z",
     "shell.execute_reply": "2023-05-20T11:31:05.740860Z"
    },
    "jupyter": {
     "outputs_hidden": false
    },
    "papermill": {
     "duration": 0.055013,
     "end_time": "2023-05-20T11:31:05.744198",
     "exception": false,
     "start_time": "2023-05-20T11:31:05.689185",
     "status": "completed"
    },
    "tags": []
   },
   "outputs": [
    {
     "data": {
      "text/plain": [
       "(266, 104)"
      ]
     },
     "execution_count": 40,
     "metadata": {},
     "output_type": "execute_result"
    }
   ],
   "source": [
    "corona_deaths_dataset_csv.shape"
   ]
  },
  {
   "cell_type": "markdown",
   "id": "d3eb3d3d",
   "metadata": {
    "_cell_guid": "1501f5c0-3f90-43cf-b9c5-851757e1f8a1",
    "_uuid": "436c71d5-6802-45a9-b9b7-a03087ccb6d4",
    "papermill": {
     "duration": 0.04467,
     "end_time": "2023-05-20T11:31:05.834730",
     "exception": false,
     "start_time": "2023-05-20T11:31:05.790060",
     "status": "completed"
    },
    "tags": []
   },
   "source": [
    "## Removing columns not needed for the analysis"
   ]
  },
  {
   "cell_type": "code",
   "execution_count": 41,
   "id": "e6726f33",
   "metadata": {
    "_cell_guid": "dc507ec9-7f71-4e1b-833c-f2551e64f390",
    "_uuid": "8bb7839e-7887-4bda-96a8-e97402d944ba",
    "collapsed": false,
    "execution": {
     "iopub.execute_input": "2023-05-20T11:31:05.927371Z",
     "iopub.status.busy": "2023-05-20T11:31:05.926895Z",
     "iopub.status.idle": "2023-05-20T11:31:05.933377Z",
     "shell.execute_reply": "2023-05-20T11:31:05.932175Z"
    },
    "jupyter": {
     "outputs_hidden": false
    },
    "papermill": {
     "duration": 0.056551,
     "end_time": "2023-05-20T11:31:05.936327",
     "exception": false,
     "start_time": "2023-05-20T11:31:05.879776",
     "status": "completed"
    },
    "tags": []
   },
   "outputs": [],
   "source": [
    "df = corona_deaths_dataset_csv.drop([\"Lat\", \"Long\"],axis=1,inplace=True)"
   ]
  },
  {
   "cell_type": "code",
   "execution_count": 42,
   "id": "6169dcf4",
   "metadata": {
    "_cell_guid": "f0ad7a6c-6515-430d-9dc8-ca04371d9cd2",
    "_uuid": "d3a894a3-0256-4e53-9906-e3f383f493b4",
    "collapsed": false,
    "execution": {
     "iopub.execute_input": "2023-05-20T11:31:06.028740Z",
     "iopub.status.busy": "2023-05-20T11:31:06.027351Z",
     "iopub.status.idle": "2023-05-20T11:31:06.051628Z",
     "shell.execute_reply": "2023-05-20T11:31:06.050712Z"
    },
    "jupyter": {
     "outputs_hidden": false
    },
    "papermill": {
     "duration": 0.072698,
     "end_time": "2023-05-20T11:31:06.053995",
     "exception": false,
     "start_time": "2023-05-20T11:31:05.981297",
     "status": "completed"
    },
    "tags": []
   },
   "outputs": [
    {
     "data": {
      "text/html": [
       "<div>\n",
       "<style scoped>\n",
       "    .dataframe tbody tr th:only-of-type {\n",
       "        vertical-align: middle;\n",
       "    }\n",
       "\n",
       "    .dataframe tbody tr th {\n",
       "        vertical-align: top;\n",
       "    }\n",
       "\n",
       "    .dataframe thead th {\n",
       "        text-align: right;\n",
       "    }\n",
       "</style>\n",
       "<table border=\"1\" class=\"dataframe\">\n",
       "  <thead>\n",
       "    <tr style=\"text-align: right;\">\n",
       "      <th></th>\n",
       "      <th>Province/State</th>\n",
       "      <th>Country/Region</th>\n",
       "      <th>1/22/20</th>\n",
       "      <th>1/23/20</th>\n",
       "      <th>1/24/20</th>\n",
       "      <th>1/25/20</th>\n",
       "      <th>1/26/20</th>\n",
       "      <th>1/27/20</th>\n",
       "      <th>1/28/20</th>\n",
       "      <th>1/29/20</th>\n",
       "      <th>...</th>\n",
       "      <th>4/21/20</th>\n",
       "      <th>4/22/20</th>\n",
       "      <th>4/23/20</th>\n",
       "      <th>4/24/20</th>\n",
       "      <th>4/25/20</th>\n",
       "      <th>4/26/20</th>\n",
       "      <th>4/27/20</th>\n",
       "      <th>4/28/20</th>\n",
       "      <th>4/29/20</th>\n",
       "      <th>4/30/20</th>\n",
       "    </tr>\n",
       "  </thead>\n",
       "  <tbody>\n",
       "    <tr>\n",
       "      <th>0</th>\n",
       "      <td>NaN</td>\n",
       "      <td>Afghanistan</td>\n",
       "      <td>0</td>\n",
       "      <td>0</td>\n",
       "      <td>0</td>\n",
       "      <td>0</td>\n",
       "      <td>0</td>\n",
       "      <td>0</td>\n",
       "      <td>0</td>\n",
       "      <td>0</td>\n",
       "      <td>...</td>\n",
       "      <td>36</td>\n",
       "      <td>40</td>\n",
       "      <td>42</td>\n",
       "      <td>43</td>\n",
       "      <td>47</td>\n",
       "      <td>50</td>\n",
       "      <td>57</td>\n",
       "      <td>58</td>\n",
       "      <td>60</td>\n",
       "      <td>64</td>\n",
       "    </tr>\n",
       "    <tr>\n",
       "      <th>1</th>\n",
       "      <td>NaN</td>\n",
       "      <td>Albania</td>\n",
       "      <td>0</td>\n",
       "      <td>0</td>\n",
       "      <td>0</td>\n",
       "      <td>0</td>\n",
       "      <td>0</td>\n",
       "      <td>0</td>\n",
       "      <td>0</td>\n",
       "      <td>0</td>\n",
       "      <td>...</td>\n",
       "      <td>26</td>\n",
       "      <td>27</td>\n",
       "      <td>27</td>\n",
       "      <td>27</td>\n",
       "      <td>27</td>\n",
       "      <td>28</td>\n",
       "      <td>28</td>\n",
       "      <td>30</td>\n",
       "      <td>30</td>\n",
       "      <td>31</td>\n",
       "    </tr>\n",
       "    <tr>\n",
       "      <th>2</th>\n",
       "      <td>NaN</td>\n",
       "      <td>Algeria</td>\n",
       "      <td>0</td>\n",
       "      <td>0</td>\n",
       "      <td>0</td>\n",
       "      <td>0</td>\n",
       "      <td>0</td>\n",
       "      <td>0</td>\n",
       "      <td>0</td>\n",
       "      <td>0</td>\n",
       "      <td>...</td>\n",
       "      <td>392</td>\n",
       "      <td>402</td>\n",
       "      <td>407</td>\n",
       "      <td>415</td>\n",
       "      <td>419</td>\n",
       "      <td>425</td>\n",
       "      <td>432</td>\n",
       "      <td>437</td>\n",
       "      <td>444</td>\n",
       "      <td>450</td>\n",
       "    </tr>\n",
       "    <tr>\n",
       "      <th>3</th>\n",
       "      <td>NaN</td>\n",
       "      <td>Andorra</td>\n",
       "      <td>0</td>\n",
       "      <td>0</td>\n",
       "      <td>0</td>\n",
       "      <td>0</td>\n",
       "      <td>0</td>\n",
       "      <td>0</td>\n",
       "      <td>0</td>\n",
       "      <td>0</td>\n",
       "      <td>...</td>\n",
       "      <td>37</td>\n",
       "      <td>37</td>\n",
       "      <td>37</td>\n",
       "      <td>40</td>\n",
       "      <td>40</td>\n",
       "      <td>40</td>\n",
       "      <td>40</td>\n",
       "      <td>41</td>\n",
       "      <td>42</td>\n",
       "      <td>42</td>\n",
       "    </tr>\n",
       "    <tr>\n",
       "      <th>4</th>\n",
       "      <td>NaN</td>\n",
       "      <td>Angola</td>\n",
       "      <td>0</td>\n",
       "      <td>0</td>\n",
       "      <td>0</td>\n",
       "      <td>0</td>\n",
       "      <td>0</td>\n",
       "      <td>0</td>\n",
       "      <td>0</td>\n",
       "      <td>0</td>\n",
       "      <td>...</td>\n",
       "      <td>2</td>\n",
       "      <td>2</td>\n",
       "      <td>2</td>\n",
       "      <td>2</td>\n",
       "      <td>2</td>\n",
       "      <td>2</td>\n",
       "      <td>2</td>\n",
       "      <td>2</td>\n",
       "      <td>2</td>\n",
       "      <td>2</td>\n",
       "    </tr>\n",
       "    <tr>\n",
       "      <th>5</th>\n",
       "      <td>NaN</td>\n",
       "      <td>Antigua and Barbuda</td>\n",
       "      <td>0</td>\n",
       "      <td>0</td>\n",
       "      <td>0</td>\n",
       "      <td>0</td>\n",
       "      <td>0</td>\n",
       "      <td>0</td>\n",
       "      <td>0</td>\n",
       "      <td>0</td>\n",
       "      <td>...</td>\n",
       "      <td>3</td>\n",
       "      <td>3</td>\n",
       "      <td>3</td>\n",
       "      <td>3</td>\n",
       "      <td>3</td>\n",
       "      <td>3</td>\n",
       "      <td>3</td>\n",
       "      <td>3</td>\n",
       "      <td>3</td>\n",
       "      <td>3</td>\n",
       "    </tr>\n",
       "    <tr>\n",
       "      <th>6</th>\n",
       "      <td>NaN</td>\n",
       "      <td>Argentina</td>\n",
       "      <td>0</td>\n",
       "      <td>0</td>\n",
       "      <td>0</td>\n",
       "      <td>0</td>\n",
       "      <td>0</td>\n",
       "      <td>0</td>\n",
       "      <td>0</td>\n",
       "      <td>0</td>\n",
       "      <td>...</td>\n",
       "      <td>147</td>\n",
       "      <td>152</td>\n",
       "      <td>165</td>\n",
       "      <td>176</td>\n",
       "      <td>185</td>\n",
       "      <td>192</td>\n",
       "      <td>197</td>\n",
       "      <td>207</td>\n",
       "      <td>214</td>\n",
       "      <td>218</td>\n",
       "    </tr>\n",
       "    <tr>\n",
       "      <th>7</th>\n",
       "      <td>NaN</td>\n",
       "      <td>Armenia</td>\n",
       "      <td>0</td>\n",
       "      <td>0</td>\n",
       "      <td>0</td>\n",
       "      <td>0</td>\n",
       "      <td>0</td>\n",
       "      <td>0</td>\n",
       "      <td>0</td>\n",
       "      <td>0</td>\n",
       "      <td>...</td>\n",
       "      <td>24</td>\n",
       "      <td>24</td>\n",
       "      <td>24</td>\n",
       "      <td>27</td>\n",
       "      <td>28</td>\n",
       "      <td>28</td>\n",
       "      <td>29</td>\n",
       "      <td>30</td>\n",
       "      <td>30</td>\n",
       "      <td>32</td>\n",
       "    </tr>\n",
       "    <tr>\n",
       "      <th>8</th>\n",
       "      <td>Australian Capital Territory</td>\n",
       "      <td>Australia</td>\n",
       "      <td>0</td>\n",
       "      <td>0</td>\n",
       "      <td>0</td>\n",
       "      <td>0</td>\n",
       "      <td>0</td>\n",
       "      <td>0</td>\n",
       "      <td>0</td>\n",
       "      <td>0</td>\n",
       "      <td>...</td>\n",
       "      <td>3</td>\n",
       "      <td>3</td>\n",
       "      <td>3</td>\n",
       "      <td>3</td>\n",
       "      <td>3</td>\n",
       "      <td>3</td>\n",
       "      <td>3</td>\n",
       "      <td>3</td>\n",
       "      <td>3</td>\n",
       "      <td>3</td>\n",
       "    </tr>\n",
       "    <tr>\n",
       "      <th>9</th>\n",
       "      <td>New South Wales</td>\n",
       "      <td>Australia</td>\n",
       "      <td>0</td>\n",
       "      <td>0</td>\n",
       "      <td>0</td>\n",
       "      <td>0</td>\n",
       "      <td>0</td>\n",
       "      <td>0</td>\n",
       "      <td>0</td>\n",
       "      <td>0</td>\n",
       "      <td>...</td>\n",
       "      <td>26</td>\n",
       "      <td>26</td>\n",
       "      <td>31</td>\n",
       "      <td>33</td>\n",
       "      <td>33</td>\n",
       "      <td>34</td>\n",
       "      <td>34</td>\n",
       "      <td>39</td>\n",
       "      <td>40</td>\n",
       "      <td>41</td>\n",
       "    </tr>\n",
       "  </tbody>\n",
       "</table>\n",
       "<p>10 rows × 102 columns</p>\n",
       "</div>"
      ],
      "text/plain": [
       "                 Province/State       Country/Region  1/22/20  1/23/20  \\\n",
       "0                           NaN          Afghanistan        0        0   \n",
       "1                           NaN              Albania        0        0   \n",
       "2                           NaN              Algeria        0        0   \n",
       "3                           NaN              Andorra        0        0   \n",
       "4                           NaN               Angola        0        0   \n",
       "5                           NaN  Antigua and Barbuda        0        0   \n",
       "6                           NaN            Argentina        0        0   \n",
       "7                           NaN              Armenia        0        0   \n",
       "8  Australian Capital Territory            Australia        0        0   \n",
       "9               New South Wales            Australia        0        0   \n",
       "\n",
       "   1/24/20  1/25/20  1/26/20  1/27/20  1/28/20  1/29/20  ...  4/21/20  \\\n",
       "0        0        0        0        0        0        0  ...       36   \n",
       "1        0        0        0        0        0        0  ...       26   \n",
       "2        0        0        0        0        0        0  ...      392   \n",
       "3        0        0        0        0        0        0  ...       37   \n",
       "4        0        0        0        0        0        0  ...        2   \n",
       "5        0        0        0        0        0        0  ...        3   \n",
       "6        0        0        0        0        0        0  ...      147   \n",
       "7        0        0        0        0        0        0  ...       24   \n",
       "8        0        0        0        0        0        0  ...        3   \n",
       "9        0        0        0        0        0        0  ...       26   \n",
       "\n",
       "   4/22/20  4/23/20  4/24/20  4/25/20  4/26/20  4/27/20  4/28/20  4/29/20  \\\n",
       "0       40       42       43       47       50       57       58       60   \n",
       "1       27       27       27       27       28       28       30       30   \n",
       "2      402      407      415      419      425      432      437      444   \n",
       "3       37       37       40       40       40       40       41       42   \n",
       "4        2        2        2        2        2        2        2        2   \n",
       "5        3        3        3        3        3        3        3        3   \n",
       "6      152      165      176      185      192      197      207      214   \n",
       "7       24       24       27       28       28       29       30       30   \n",
       "8        3        3        3        3        3        3        3        3   \n",
       "9       26       31       33       33       34       34       39       40   \n",
       "\n",
       "   4/30/20  \n",
       "0       64  \n",
       "1       31  \n",
       "2      450  \n",
       "3       42  \n",
       "4        2  \n",
       "5        3  \n",
       "6      218  \n",
       "7       32  \n",
       "8        3  \n",
       "9       41  \n",
       "\n",
       "[10 rows x 102 columns]"
      ]
     },
     "execution_count": 42,
     "metadata": {},
     "output_type": "execute_result"
    }
   ],
   "source": [
    "corona_deaths_dataset_csv.head(10)"
   ]
  },
  {
   "cell_type": "markdown",
   "id": "defccfd9",
   "metadata": {
    "_cell_guid": "6138495b-da59-4eb5-95e4-25ef1edecd35",
    "_uuid": "c8df20da-e598-4f3b-b4a2-1e75f8970749",
    "papermill": {
     "duration": 0.045561,
     "end_time": "2023-05-20T11:31:06.145135",
     "exception": false,
     "start_time": "2023-05-20T11:31:06.099574",
     "status": "completed"
    },
    "tags": []
   },
   "source": [
    "## Aggregating rows by country"
   ]
  },
  {
   "cell_type": "code",
   "execution_count": 43,
   "id": "b1f1e792",
   "metadata": {
    "_cell_guid": "46d66461-1b86-45d7-bf14-18616fb14411",
    "_uuid": "7f092699-0947-4dcc-94ab-274d979f7a5b",
    "collapsed": false,
    "execution": {
     "iopub.execute_input": "2023-05-20T11:31:06.240049Z",
     "iopub.status.busy": "2023-05-20T11:31:06.239319Z",
     "iopub.status.idle": "2023-05-20T11:31:06.248350Z",
     "shell.execute_reply": "2023-05-20T11:31:06.246904Z"
    },
    "jupyter": {
     "outputs_hidden": false
    },
    "papermill": {
     "duration": 0.058796,
     "end_time": "2023-05-20T11:31:06.250785",
     "exception": false,
     "start_time": "2023-05-20T11:31:06.191989",
     "status": "completed"
    },
    "tags": []
   },
   "outputs": [
    {
     "name": "stderr",
     "output_type": "stream",
     "text": [
      "/tmp/ipykernel_19/3353960659.py:1: FutureWarning: The default value of numeric_only in DataFrameGroupBy.sum is deprecated. In a future version, numeric_only will default to False. Either specify numeric_only or select only columns which should be valid for the function.\n",
      "  corona_deaths_dataset_aggregated = corona_deaths_dataset_csv.groupby(\"Country/Region\").sum()\n"
     ]
    }
   ],
   "source": [
    "corona_deaths_dataset_aggregated = corona_deaths_dataset_csv.groupby(\"Country/Region\").sum()"
   ]
  },
  {
   "cell_type": "code",
   "execution_count": 44,
   "id": "17284644",
   "metadata": {
    "_cell_guid": "67298ba8-5e58-4cc4-b8d7-bf943e467080",
    "_uuid": "efcf193b-ad12-41ba-93d6-72ec7947e481",
    "collapsed": false,
    "execution": {
     "iopub.execute_input": "2023-05-20T11:31:06.344152Z",
     "iopub.status.busy": "2023-05-20T11:31:06.343433Z",
     "iopub.status.idle": "2023-05-20T11:31:06.362373Z",
     "shell.execute_reply": "2023-05-20T11:31:06.361199Z"
    },
    "jupyter": {
     "outputs_hidden": false
    },
    "papermill": {
     "duration": 0.068484,
     "end_time": "2023-05-20T11:31:06.364905",
     "exception": false,
     "start_time": "2023-05-20T11:31:06.296421",
     "status": "completed"
    },
    "tags": []
   },
   "outputs": [
    {
     "data": {
      "text/html": [
       "<div>\n",
       "<style scoped>\n",
       "    .dataframe tbody tr th:only-of-type {\n",
       "        vertical-align: middle;\n",
       "    }\n",
       "\n",
       "    .dataframe tbody tr th {\n",
       "        vertical-align: top;\n",
       "    }\n",
       "\n",
       "    .dataframe thead th {\n",
       "        text-align: right;\n",
       "    }\n",
       "</style>\n",
       "<table border=\"1\" class=\"dataframe\">\n",
       "  <thead>\n",
       "    <tr style=\"text-align: right;\">\n",
       "      <th></th>\n",
       "      <th>1/22/20</th>\n",
       "      <th>1/23/20</th>\n",
       "      <th>1/24/20</th>\n",
       "      <th>1/25/20</th>\n",
       "      <th>1/26/20</th>\n",
       "      <th>1/27/20</th>\n",
       "      <th>1/28/20</th>\n",
       "      <th>1/29/20</th>\n",
       "      <th>1/30/20</th>\n",
       "      <th>1/31/20</th>\n",
       "      <th>...</th>\n",
       "      <th>4/21/20</th>\n",
       "      <th>4/22/20</th>\n",
       "      <th>4/23/20</th>\n",
       "      <th>4/24/20</th>\n",
       "      <th>4/25/20</th>\n",
       "      <th>4/26/20</th>\n",
       "      <th>4/27/20</th>\n",
       "      <th>4/28/20</th>\n",
       "      <th>4/29/20</th>\n",
       "      <th>4/30/20</th>\n",
       "    </tr>\n",
       "    <tr>\n",
       "      <th>Country/Region</th>\n",
       "      <th></th>\n",
       "      <th></th>\n",
       "      <th></th>\n",
       "      <th></th>\n",
       "      <th></th>\n",
       "      <th></th>\n",
       "      <th></th>\n",
       "      <th></th>\n",
       "      <th></th>\n",
       "      <th></th>\n",
       "      <th></th>\n",
       "      <th></th>\n",
       "      <th></th>\n",
       "      <th></th>\n",
       "      <th></th>\n",
       "      <th></th>\n",
       "      <th></th>\n",
       "      <th></th>\n",
       "      <th></th>\n",
       "      <th></th>\n",
       "      <th></th>\n",
       "    </tr>\n",
       "  </thead>\n",
       "  <tbody>\n",
       "    <tr>\n",
       "      <th>Afghanistan</th>\n",
       "      <td>0</td>\n",
       "      <td>0</td>\n",
       "      <td>0</td>\n",
       "      <td>0</td>\n",
       "      <td>0</td>\n",
       "      <td>0</td>\n",
       "      <td>0</td>\n",
       "      <td>0</td>\n",
       "      <td>0</td>\n",
       "      <td>0</td>\n",
       "      <td>...</td>\n",
       "      <td>36</td>\n",
       "      <td>40</td>\n",
       "      <td>42</td>\n",
       "      <td>43</td>\n",
       "      <td>47</td>\n",
       "      <td>50</td>\n",
       "      <td>57</td>\n",
       "      <td>58</td>\n",
       "      <td>60</td>\n",
       "      <td>64</td>\n",
       "    </tr>\n",
       "    <tr>\n",
       "      <th>Albania</th>\n",
       "      <td>0</td>\n",
       "      <td>0</td>\n",
       "      <td>0</td>\n",
       "      <td>0</td>\n",
       "      <td>0</td>\n",
       "      <td>0</td>\n",
       "      <td>0</td>\n",
       "      <td>0</td>\n",
       "      <td>0</td>\n",
       "      <td>0</td>\n",
       "      <td>...</td>\n",
       "      <td>26</td>\n",
       "      <td>27</td>\n",
       "      <td>27</td>\n",
       "      <td>27</td>\n",
       "      <td>27</td>\n",
       "      <td>28</td>\n",
       "      <td>28</td>\n",
       "      <td>30</td>\n",
       "      <td>30</td>\n",
       "      <td>31</td>\n",
       "    </tr>\n",
       "    <tr>\n",
       "      <th>Algeria</th>\n",
       "      <td>0</td>\n",
       "      <td>0</td>\n",
       "      <td>0</td>\n",
       "      <td>0</td>\n",
       "      <td>0</td>\n",
       "      <td>0</td>\n",
       "      <td>0</td>\n",
       "      <td>0</td>\n",
       "      <td>0</td>\n",
       "      <td>0</td>\n",
       "      <td>...</td>\n",
       "      <td>392</td>\n",
       "      <td>402</td>\n",
       "      <td>407</td>\n",
       "      <td>415</td>\n",
       "      <td>419</td>\n",
       "      <td>425</td>\n",
       "      <td>432</td>\n",
       "      <td>437</td>\n",
       "      <td>444</td>\n",
       "      <td>450</td>\n",
       "    </tr>\n",
       "    <tr>\n",
       "      <th>Andorra</th>\n",
       "      <td>0</td>\n",
       "      <td>0</td>\n",
       "      <td>0</td>\n",
       "      <td>0</td>\n",
       "      <td>0</td>\n",
       "      <td>0</td>\n",
       "      <td>0</td>\n",
       "      <td>0</td>\n",
       "      <td>0</td>\n",
       "      <td>0</td>\n",
       "      <td>...</td>\n",
       "      <td>37</td>\n",
       "      <td>37</td>\n",
       "      <td>37</td>\n",
       "      <td>40</td>\n",
       "      <td>40</td>\n",
       "      <td>40</td>\n",
       "      <td>40</td>\n",
       "      <td>41</td>\n",
       "      <td>42</td>\n",
       "      <td>42</td>\n",
       "    </tr>\n",
       "    <tr>\n",
       "      <th>Angola</th>\n",
       "      <td>0</td>\n",
       "      <td>0</td>\n",
       "      <td>0</td>\n",
       "      <td>0</td>\n",
       "      <td>0</td>\n",
       "      <td>0</td>\n",
       "      <td>0</td>\n",
       "      <td>0</td>\n",
       "      <td>0</td>\n",
       "      <td>0</td>\n",
       "      <td>...</td>\n",
       "      <td>2</td>\n",
       "      <td>2</td>\n",
       "      <td>2</td>\n",
       "      <td>2</td>\n",
       "      <td>2</td>\n",
       "      <td>2</td>\n",
       "      <td>2</td>\n",
       "      <td>2</td>\n",
       "      <td>2</td>\n",
       "      <td>2</td>\n",
       "    </tr>\n",
       "  </tbody>\n",
       "</table>\n",
       "<p>5 rows × 100 columns</p>\n",
       "</div>"
      ],
      "text/plain": [
       "                1/22/20  1/23/20  1/24/20  1/25/20  1/26/20  1/27/20  1/28/20  \\\n",
       "Country/Region                                                                  \n",
       "Afghanistan           0        0        0        0        0        0        0   \n",
       "Albania               0        0        0        0        0        0        0   \n",
       "Algeria               0        0        0        0        0        0        0   \n",
       "Andorra               0        0        0        0        0        0        0   \n",
       "Angola                0        0        0        0        0        0        0   \n",
       "\n",
       "                1/29/20  1/30/20  1/31/20  ...  4/21/20  4/22/20  4/23/20  \\\n",
       "Country/Region                             ...                              \n",
       "Afghanistan           0        0        0  ...       36       40       42   \n",
       "Albania               0        0        0  ...       26       27       27   \n",
       "Algeria               0        0        0  ...      392      402      407   \n",
       "Andorra               0        0        0  ...       37       37       37   \n",
       "Angola                0        0        0  ...        2        2        2   \n",
       "\n",
       "                4/24/20  4/25/20  4/26/20  4/27/20  4/28/20  4/29/20  4/30/20  \n",
       "Country/Region                                                                 \n",
       "Afghanistan          43       47       50       57       58       60       64  \n",
       "Albania              27       27       28       28       30       30       31  \n",
       "Algeria             415      419      425      432      437      444      450  \n",
       "Andorra              40       40       40       40       41       42       42  \n",
       "Angola                2        2        2        2        2        2        2  \n",
       "\n",
       "[5 rows x 100 columns]"
      ]
     },
     "execution_count": 44,
     "metadata": {},
     "output_type": "execute_result"
    }
   ],
   "source": [
    "corona_deaths_dataset_aggregated.head()"
   ]
  },
  {
   "cell_type": "markdown",
   "id": "266a4d1a",
   "metadata": {
    "_cell_guid": "f976df50-8507-4f3c-8313-8afbde5ee95e",
    "_uuid": "11b803f2-a946-47ac-b872-dfcd44b751d2",
    "papermill": {
     "duration": 0.047027,
     "end_time": "2023-05-20T11:31:06.458680",
     "exception": false,
     "start_time": "2023-05-20T11:31:06.411653",
     "status": "completed"
    },
    "tags": []
   },
   "source": [
    "## Inital visualization of related data to a sample of coutries. China, Italy and Spain"
   ]
  },
  {
   "cell_type": "code",
   "execution_count": 45,
   "id": "d90b4212",
   "metadata": {
    "_cell_guid": "0e65ff77-43f6-43ad-abc8-a9545cd1b479",
    "_uuid": "876bfd73-60c4-4773-acb7-6df43de7f462",
    "collapsed": false,
    "execution": {
     "iopub.execute_input": "2023-05-20T11:31:06.553648Z",
     "iopub.status.busy": "2023-05-20T11:31:06.552578Z",
     "iopub.status.idle": "2023-05-20T11:31:06.851291Z",
     "shell.execute_reply": "2023-05-20T11:31:06.850021Z"
    },
    "jupyter": {
     "outputs_hidden": false
    },
    "papermill": {
     "duration": 0.34864,
     "end_time": "2023-05-20T11:31:06.853830",
     "exception": false,
     "start_time": "2023-05-20T11:31:06.505190",
     "status": "completed"
    },
    "tags": []
   },
   "outputs": [
    {
     "data": {
      "text/plain": [
       "<matplotlib.legend.Legend at 0x7e12c1dcab60>"
      ]
     },
     "execution_count": 45,
     "metadata": {},
     "output_type": "execute_result"
    },
    {
     "data": {
      "image/png": "[encoded data removed]",
      "text/plain": [
       "<Figure size 640x480 with 1 Axes>"
      ]
     },
     "metadata": {},
     "output_type": "display_data"
    }
   ],
   "source": [
    "corona_deaths_dataset_aggregated.loc[\"China\"].plot()\n",
    "corona_deaths_dataset_aggregated.loc[\"Italy\"].plot()\n",
    "corona_deaths_dataset_aggregated.loc[\"Spain\"].plot()\n",
    "plt.legend()"
   ]
  },
  {
   "cell_type": "markdown",
   "id": "084b108e",
   "metadata": {
    "_cell_guid": "ebed8c36-2d8a-4cb0-bff7-b65b30c23c60",
    "_uuid": "62cadcaa-860c-43e1-b4eb-2da87dcac673",
    "papermill": {
     "duration": 0.046775,
     "end_time": "2023-05-20T11:31:06.948972",
     "exception": false,
     "start_time": "2023-05-20T11:31:06.902197",
     "status": "completed"
    },
    "tags": []
   },
   "source": [
    "## Finding total deaths for China, Italy and Spain"
   ]
  },
  {
   "cell_type": "code",
   "execution_count": 46,
   "id": "cd89dd71",
   "metadata": {
    "_cell_guid": "953eba89-31a2-4b0a-93b9-c65361652e90",
    "_uuid": "6ea48731-3ff5-42e0-aab8-199898757049",
    "collapsed": false,
    "execution": {
     "iopub.execute_input": "2023-05-20T11:31:07.045642Z",
     "iopub.status.busy": "2023-05-20T11:31:07.045215Z",
     "iopub.status.idle": "2023-05-20T11:31:07.052944Z",
     "shell.execute_reply": "2023-05-20T11:31:07.052054Z"
    },
    "jupyter": {
     "outputs_hidden": false
    },
    "papermill": {
     "duration": 0.059011,
     "end_time": "2023-05-20T11:31:07.055106",
     "exception": false,
     "start_time": "2023-05-20T11:31:06.996095",
     "status": "completed"
    },
    "tags": []
   },
   "outputs": [
    {
     "data": {
      "text/plain": [
       "264084"
      ]
     },
     "execution_count": 46,
     "metadata": {},
     "output_type": "execute_result"
    }
   ],
   "source": [
    "corona_deaths_dataset_aggregated.loc[\"China\"].sum()"
   ]
  },
  {
   "cell_type": "code",
   "execution_count": 47,
   "id": "0274ccaf",
   "metadata": {
    "_cell_guid": "e63d246a-e6db-4102-a5c6-9c5cb2a59ffa",
    "_uuid": "2b5f0d27-dae2-41d0-89a1-7041dc666944",
    "collapsed": false,
    "execution": {
     "iopub.execute_input": "2023-05-20T11:31:07.152240Z",
     "iopub.status.busy": "2023-05-20T11:31:07.151163Z",
     "iopub.status.idle": "2023-05-20T11:31:07.158452Z",
     "shell.execute_reply": "2023-05-20T11:31:07.157492Z"
    },
    "jupyter": {
     "outputs_hidden": false
    },
    "papermill": {
     "duration": 0.058534,
     "end_time": "2023-05-20T11:31:07.160721",
     "exception": false,
     "start_time": "2023-05-20T11:31:07.102187",
     "status": "completed"
    },
    "tags": []
   },
   "outputs": [
    {
     "data": {
      "text/plain": [
       "760700"
      ]
     },
     "execution_count": 47,
     "metadata": {},
     "output_type": "execute_result"
    }
   ],
   "source": [
    "corona_deaths_dataset_aggregated.loc[\"Italy\"].sum()"
   ]
  },
  {
   "cell_type": "code",
   "execution_count": 48,
   "id": "a5551adc",
   "metadata": {
    "_cell_guid": "3821214a-650a-4bc1-bf20-8e3944e5941d",
    "_uuid": "26287354-ae15-4dfb-aae8-acefa2288d19",
    "collapsed": false,
    "execution": {
     "iopub.execute_input": "2023-05-20T11:31:07.257480Z",
     "iopub.status.busy": "2023-05-20T11:31:07.257062Z",
     "iopub.status.idle": "2023-05-20T11:31:07.264679Z",
     "shell.execute_reply": "2023-05-20T11:31:07.263397Z"
    },
    "jupyter": {
     "outputs_hidden": false
    },
    "papermill": {
     "duration": 0.059013,
     "end_time": "2023-05-20T11:31:07.267115",
     "exception": false,
     "start_time": "2023-05-20T11:31:07.208102",
     "status": "completed"
    },
    "tags": []
   },
   "outputs": [
    {
     "data": {
      "text/plain": [
       "602739"
      ]
     },
     "execution_count": 48,
     "metadata": {},
     "output_type": "execute_result"
    }
   ],
   "source": [
    "corona_deaths_dataset_aggregated.loc[\"Spain\"].sum()"
   ]
  },
  {
   "cell_type": "markdown",
   "id": "a6dd12e1",
   "metadata": {
    "_cell_guid": "3e4fe97b-1aa8-423d-aeeb-94dee03368b6",
    "_uuid": "8aa7f6aa-2387-4e05-b006-f5460b3f6ab3",
    "papermill": {
     "duration": 0.047905,
     "end_time": "2023-05-20T11:31:07.362516",
     "exception": false,
     "start_time": "2023-05-20T11:31:07.314611",
     "status": "completed"
    },
    "tags": []
   },
   "source": [
    "## Using for loop to find the total deaths for all countries"
   ]
  },
  {
   "cell_type": "code",
   "execution_count": 49,
   "id": "530c0f79",
   "metadata": {
    "_cell_guid": "dae44c55-9307-4a27-b00d-2dbea9126051",
    "_uuid": "4c8ce27d-24d8-40df-8c58-1533637c7c7f",
    "collapsed": false,
    "execution": {
     "iopub.execute_input": "2023-05-20T11:31:07.459992Z",
     "iopub.status.busy": "2023-05-20T11:31:07.459579Z",
     "iopub.status.idle": "2023-05-20T11:31:07.491222Z",
     "shell.execute_reply": "2023-05-20T11:31:07.490282Z"
    },
    "jupyter": {
     "outputs_hidden": false
    },
    "papermill": {
     "duration": 0.083562,
     "end_time": "2023-05-20T11:31:07.493813",
     "exception": false,
     "start_time": "2023-05-20T11:31:07.410251",
     "status": "completed"
    },
    "tags": []
   },
   "outputs": [],
   "source": [
    "countries = list(corona_deaths_dataset_aggregated.index)\n",
    "total_deaths = []\n",
    "for c in countries :\n",
    "    total_deaths.append(corona_deaths_dataset_aggregated.loc[c].sum())\n",
    "corona_deaths_dataset_aggregated[\"total_deaths\"] = total_deaths"
   ]
  },
  {
   "cell_type": "code",
   "execution_count": 50,
   "id": "47eaa7ca",
   "metadata": {
    "_cell_guid": "1d560ee2-672d-4579-aaef-504fda7137ed",
    "_uuid": "3c3ac65b-be98-4d2f-a996-40269c5b0b18",
    "collapsed": false,
    "execution": {
     "iopub.execute_input": "2023-05-20T11:31:07.592344Z",
     "iopub.status.busy": "2023-05-20T11:31:07.591264Z",
     "iopub.status.idle": "2023-05-20T11:31:07.612425Z",
     "shell.execute_reply": "2023-05-20T11:31:07.611517Z"
    },
    "jupyter": {
     "outputs_hidden": false
    },
    "papermill": {
     "duration": 0.073181,
     "end_time": "2023-05-20T11:31:07.614625",
     "exception": false,
     "start_time": "2023-05-20T11:31:07.541444",
     "status": "completed"
    },
    "tags": []
   },
   "outputs": [
    {
     "data": {
      "text/html": [
       "<div>\n",
       "<style scoped>\n",
       "    .dataframe tbody tr th:only-of-type {\n",
       "        vertical-align: middle;\n",
       "    }\n",
       "\n",
       "    .dataframe tbody tr th {\n",
       "        vertical-align: top;\n",
       "    }\n",
       "\n",
       "    .dataframe thead th {\n",
       "        text-align: right;\n",
       "    }\n",
       "</style>\n",
       "<table border=\"1\" class=\"dataframe\">\n",
       "  <thead>\n",
       "    <tr style=\"text-align: right;\">\n",
       "      <th></th>\n",
       "      <th>1/22/20</th>\n",
       "      <th>1/23/20</th>\n",
       "      <th>1/24/20</th>\n",
       "      <th>1/25/20</th>\n",
       "      <th>1/26/20</th>\n",
       "      <th>1/27/20</th>\n",
       "      <th>1/28/20</th>\n",
       "      <th>1/29/20</th>\n",
       "      <th>1/30/20</th>\n",
       "      <th>1/31/20</th>\n",
       "      <th>...</th>\n",
       "      <th>4/22/20</th>\n",
       "      <th>4/23/20</th>\n",
       "      <th>4/24/20</th>\n",
       "      <th>4/25/20</th>\n",
       "      <th>4/26/20</th>\n",
       "      <th>4/27/20</th>\n",
       "      <th>4/28/20</th>\n",
       "      <th>4/29/20</th>\n",
       "      <th>4/30/20</th>\n",
       "      <th>total_deaths</th>\n",
       "    </tr>\n",
       "    <tr>\n",
       "      <th>Country/Region</th>\n",
       "      <th></th>\n",
       "      <th></th>\n",
       "      <th></th>\n",
       "      <th></th>\n",
       "      <th></th>\n",
       "      <th></th>\n",
       "      <th></th>\n",
       "      <th></th>\n",
       "      <th></th>\n",
       "      <th></th>\n",
       "      <th></th>\n",
       "      <th></th>\n",
       "      <th></th>\n",
       "      <th></th>\n",
       "      <th></th>\n",
       "      <th></th>\n",
       "      <th></th>\n",
       "      <th></th>\n",
       "      <th></th>\n",
       "      <th></th>\n",
       "      <th></th>\n",
       "    </tr>\n",
       "  </thead>\n",
       "  <tbody>\n",
       "    <tr>\n",
       "      <th>Afghanistan</th>\n",
       "      <td>0</td>\n",
       "      <td>0</td>\n",
       "      <td>0</td>\n",
       "      <td>0</td>\n",
       "      <td>0</td>\n",
       "      <td>0</td>\n",
       "      <td>0</td>\n",
       "      <td>0</td>\n",
       "      <td>0</td>\n",
       "      <td>0</td>\n",
       "      <td>...</td>\n",
       "      <td>40</td>\n",
       "      <td>42</td>\n",
       "      <td>43</td>\n",
       "      <td>47</td>\n",
       "      <td>50</td>\n",
       "      <td>57</td>\n",
       "      <td>58</td>\n",
       "      <td>60</td>\n",
       "      <td>64</td>\n",
       "      <td>889</td>\n",
       "    </tr>\n",
       "    <tr>\n",
       "      <th>Albania</th>\n",
       "      <td>0</td>\n",
       "      <td>0</td>\n",
       "      <td>0</td>\n",
       "      <td>0</td>\n",
       "      <td>0</td>\n",
       "      <td>0</td>\n",
       "      <td>0</td>\n",
       "      <td>0</td>\n",
       "      <td>0</td>\n",
       "      <td>0</td>\n",
       "      <td>...</td>\n",
       "      <td>27</td>\n",
       "      <td>27</td>\n",
       "      <td>27</td>\n",
       "      <td>27</td>\n",
       "      <td>28</td>\n",
       "      <td>28</td>\n",
       "      <td>30</td>\n",
       "      <td>30</td>\n",
       "      <td>31</td>\n",
       "      <td>819</td>\n",
       "    </tr>\n",
       "    <tr>\n",
       "      <th>Algeria</th>\n",
       "      <td>0</td>\n",
       "      <td>0</td>\n",
       "      <td>0</td>\n",
       "      <td>0</td>\n",
       "      <td>0</td>\n",
       "      <td>0</td>\n",
       "      <td>0</td>\n",
       "      <td>0</td>\n",
       "      <td>0</td>\n",
       "      <td>0</td>\n",
       "      <td>...</td>\n",
       "      <td>402</td>\n",
       "      <td>407</td>\n",
       "      <td>415</td>\n",
       "      <td>419</td>\n",
       "      <td>425</td>\n",
       "      <td>432</td>\n",
       "      <td>437</td>\n",
       "      <td>444</td>\n",
       "      <td>450</td>\n",
       "      <td>9521</td>\n",
       "    </tr>\n",
       "    <tr>\n",
       "      <th>Andorra</th>\n",
       "      <td>0</td>\n",
       "      <td>0</td>\n",
       "      <td>0</td>\n",
       "      <td>0</td>\n",
       "      <td>0</td>\n",
       "      <td>0</td>\n",
       "      <td>0</td>\n",
       "      <td>0</td>\n",
       "      <td>0</td>\n",
       "      <td>0</td>\n",
       "      <td>...</td>\n",
       "      <td>37</td>\n",
       "      <td>37</td>\n",
       "      <td>40</td>\n",
       "      <td>40</td>\n",
       "      <td>40</td>\n",
       "      <td>40</td>\n",
       "      <td>41</td>\n",
       "      <td>42</td>\n",
       "      <td>42</td>\n",
       "      <td>956</td>\n",
       "    </tr>\n",
       "    <tr>\n",
       "      <th>Angola</th>\n",
       "      <td>0</td>\n",
       "      <td>0</td>\n",
       "      <td>0</td>\n",
       "      <td>0</td>\n",
       "      <td>0</td>\n",
       "      <td>0</td>\n",
       "      <td>0</td>\n",
       "      <td>0</td>\n",
       "      <td>0</td>\n",
       "      <td>0</td>\n",
       "      <td>...</td>\n",
       "      <td>2</td>\n",
       "      <td>2</td>\n",
       "      <td>2</td>\n",
       "      <td>2</td>\n",
       "      <td>2</td>\n",
       "      <td>2</td>\n",
       "      <td>2</td>\n",
       "      <td>2</td>\n",
       "      <td>2</td>\n",
       "      <td>66</td>\n",
       "    </tr>\n",
       "  </tbody>\n",
       "</table>\n",
       "<p>5 rows × 101 columns</p>\n",
       "</div>"
      ],
      "text/plain": [
       "                1/22/20  1/23/20  1/24/20  1/25/20  1/26/20  1/27/20  1/28/20  \\\n",
       "Country/Region                                                                  \n",
       "Afghanistan           0        0        0        0        0        0        0   \n",
       "Albania               0        0        0        0        0        0        0   \n",
       "Algeria               0        0        0        0        0        0        0   \n",
       "Andorra               0        0        0        0        0        0        0   \n",
       "Angola                0        0        0        0        0        0        0   \n",
       "\n",
       "                1/29/20  1/30/20  1/31/20  ...  4/22/20  4/23/20  4/24/20  \\\n",
       "Country/Region                             ...                              \n",
       "Afghanistan           0        0        0  ...       40       42       43   \n",
       "Albania               0        0        0  ...       27       27       27   \n",
       "Algeria               0        0        0  ...      402      407      415   \n",
       "Andorra               0        0        0  ...       37       37       40   \n",
       "Angola                0        0        0  ...        2        2        2   \n",
       "\n",
       "                4/25/20  4/26/20  4/27/20  4/28/20  4/29/20  4/30/20  \\\n",
       "Country/Region                                                         \n",
       "Afghanistan          47       50       57       58       60       64   \n",
       "Albania              27       28       28       30       30       31   \n",
       "Algeria             419      425      432      437      444      450   \n",
       "Andorra              40       40       40       41       42       42   \n",
       "Angola                2        2        2        2        2        2   \n",
       "\n",
       "                total_deaths  \n",
       "Country/Region                \n",
       "Afghanistan              889  \n",
       "Albania                  819  \n",
       "Algeria                 9521  \n",
       "Andorra                  956  \n",
       "Angola                    66  \n",
       "\n",
       "[5 rows x 101 columns]"
      ]
     },
     "execution_count": 50,
     "metadata": {},
     "output_type": "execute_result"
    }
   ],
   "source": [
    "corona_deaths_dataset_aggregated.head()"
   ]
  },
  {
   "cell_type": "markdown",
   "id": "0d247773",
   "metadata": {
    "_cell_guid": "1a9208f9-f686-4ab3-88d3-52d3acb95b6c",
    "_uuid": "8c6d5f67-1a16-480d-a4a9-5b03749d8023",
    "papermill": {
     "duration": 0.049344,
     "end_time": "2023-05-20T11:31:07.712679",
     "exception": false,
     "start_time": "2023-05-20T11:31:07.663335",
     "status": "completed"
    },
    "tags": []
   },
   "source": [
    "## Creating a dataframe with relevant columns to the analysis"
   ]
  },
  {
   "cell_type": "code",
   "execution_count": 51,
   "id": "d39f9533",
   "metadata": {
    "_cell_guid": "e5bf86f8-d893-4067-82ab-9ff583714acd",
    "_uuid": "d827230c-9387-4be1-8907-a9abc6d6503b",
    "collapsed": false,
    "execution": {
     "iopub.execute_input": "2023-05-20T11:31:07.812447Z",
     "iopub.status.busy": "2023-05-20T11:31:07.811999Z",
     "iopub.status.idle": "2023-05-20T11:31:07.817824Z",
     "shell.execute_reply": "2023-05-20T11:31:07.816674Z"
    },
    "jupyter": {
     "outputs_hidden": false
    },
    "papermill": {
     "duration": 0.058702,
     "end_time": "2023-05-20T11:31:07.820472",
     "exception": false,
     "start_time": "2023-05-20T11:31:07.761770",
     "status": "completed"
    },
    "tags": []
   },
   "outputs": [],
   "source": [
    "corona_deaths_data = pd.DataFrame(corona_deaths_dataset_aggregated[\"total_deaths\"])"
   ]
  },
  {
   "cell_type": "code",
   "execution_count": 52,
   "id": "63de4a9f",
   "metadata": {
    "_cell_guid": "54c2f893-cae9-4d08-aef8-aab67bf3f325",
    "_uuid": "b7996124-62b5-4812-87f2-98bdf09b6ccf",
    "collapsed": false,
    "execution": {
     "iopub.execute_input": "2023-05-20T11:31:07.918900Z",
     "iopub.status.busy": "2023-05-20T11:31:07.918456Z",
     "iopub.status.idle": "2023-05-20T11:31:07.928917Z",
     "shell.execute_reply": "2023-05-20T11:31:07.927469Z"
    },
    "jupyter": {
     "outputs_hidden": false
    },
    "papermill": {
     "duration": 0.063112,
     "end_time": "2023-05-20T11:31:07.931624",
     "exception": false,
     "start_time": "2023-05-20T11:31:07.868512",
     "status": "completed"
    },
    "tags": []
   },
   "outputs": [
    {
     "data": {
      "text/html": [
       "<div>\n",
       "<style scoped>\n",
       "    .dataframe tbody tr th:only-of-type {\n",
       "        vertical-align: middle;\n",
       "    }\n",
       "\n",
       "    .dataframe tbody tr th {\n",
       "        vertical-align: top;\n",
       "    }\n",
       "\n",
       "    .dataframe thead th {\n",
       "        text-align: right;\n",
       "    }\n",
       "</style>\n",
       "<table border=\"1\" class=\"dataframe\">\n",
       "  <thead>\n",
       "    <tr style=\"text-align: right;\">\n",
       "      <th></th>\n",
       "      <th>total_deaths</th>\n",
       "    </tr>\n",
       "    <tr>\n",
       "      <th>Country/Region</th>\n",
       "      <th></th>\n",
       "    </tr>\n",
       "  </thead>\n",
       "  <tbody>\n",
       "    <tr>\n",
       "      <th>Afghanistan</th>\n",
       "      <td>889</td>\n",
       "    </tr>\n",
       "    <tr>\n",
       "      <th>Albania</th>\n",
       "      <td>819</td>\n",
       "    </tr>\n",
       "    <tr>\n",
       "      <th>Algeria</th>\n",
       "      <td>9521</td>\n",
       "    </tr>\n",
       "    <tr>\n",
       "      <th>Andorra</th>\n",
       "      <td>956</td>\n",
       "    </tr>\n",
       "    <tr>\n",
       "      <th>Angola</th>\n",
       "      <td>66</td>\n",
       "    </tr>\n",
       "  </tbody>\n",
       "</table>\n",
       "</div>"
      ],
      "text/plain": [
       "                total_deaths\n",
       "Country/Region              \n",
       "Afghanistan              889\n",
       "Albania                  819\n",
       "Algeria                 9521\n",
       "Andorra                  956\n",
       "Angola                    66"
      ]
     },
     "execution_count": 52,
     "metadata": {},
     "output_type": "execute_result"
    }
   ],
   "source": [
    "corona_deaths_data.head()"
   ]
  },
  {
   "cell_type": "markdown",
   "id": "f5e04ff1",
   "metadata": {
    "_cell_guid": "acf816cb-bf61-4bd5-99a8-1315de9de669",
    "_uuid": "4a4668a6-7f40-4f3a-ac9c-bb5269fa1a31",
    "papermill": {
     "duration": 0.049622,
     "end_time": "2023-05-20T11:31:08.029841",
     "exception": false,
     "start_time": "2023-05-20T11:31:07.980219",
     "status": "completed"
    },
    "tags": []
   },
   "source": [
    "## Joining COVID-19 Deaths and World Happiness Datasets"
   ]
  },
  {
   "cell_type": "markdown",
   "id": "16199d82",
   "metadata": {
    "_cell_guid": "c040f631-b865-4f5a-aa0f-97dd6080d197",
    "_uuid": "8fad46a5-9fdb-4409-a01b-19f28db990f7",
    "papermill": {
     "duration": 0.048125,
     "end_time": "2023-05-20T11:31:08.126811",
     "exception": false,
     "start_time": "2023-05-20T11:31:08.078686",
     "status": "completed"
    },
    "tags": []
   },
   "source": [
    "### COVID-19 Deaths Dataset"
   ]
  },
  {
   "cell_type": "code",
   "execution_count": 53,
   "id": "4dab8ebb",
   "metadata": {
    "_cell_guid": "ece2d50c-d04d-4a50-88c0-758ec562ed56",
    "_uuid": "9bf0e293-22ba-4845-9853-77ac5f6dfdb9",
    "collapsed": false,
    "execution": {
     "iopub.execute_input": "2023-05-20T11:31:08.225629Z",
     "iopub.status.busy": "2023-05-20T11:31:08.225225Z",
     "iopub.status.idle": "2023-05-20T11:31:08.234686Z",
     "shell.execute_reply": "2023-05-20T11:31:08.233436Z"
    },
    "jupyter": {
     "outputs_hidden": false
    },
    "papermill": {
     "duration": 0.06203,
     "end_time": "2023-05-20T11:31:08.237026",
     "exception": false,
     "start_time": "2023-05-20T11:31:08.174996",
     "status": "completed"
    },
    "tags": []
   },
   "outputs": [
    {
     "data": {
      "text/html": [
       "<div>\n",
       "<style scoped>\n",
       "    .dataframe tbody tr th:only-of-type {\n",
       "        vertical-align: middle;\n",
       "    }\n",
       "\n",
       "    .dataframe tbody tr th {\n",
       "        vertical-align: top;\n",
       "    }\n",
       "\n",
       "    .dataframe thead th {\n",
       "        text-align: right;\n",
       "    }\n",
       "</style>\n",
       "<table border=\"1\" class=\"dataframe\">\n",
       "  <thead>\n",
       "    <tr style=\"text-align: right;\">\n",
       "      <th></th>\n",
       "      <th>total_deaths</th>\n",
       "    </tr>\n",
       "    <tr>\n",
       "      <th>Country/Region</th>\n",
       "      <th></th>\n",
       "    </tr>\n",
       "  </thead>\n",
       "  <tbody>\n",
       "    <tr>\n",
       "      <th>Afghanistan</th>\n",
       "      <td>889</td>\n",
       "    </tr>\n",
       "    <tr>\n",
       "      <th>Albania</th>\n",
       "      <td>819</td>\n",
       "    </tr>\n",
       "    <tr>\n",
       "      <th>Algeria</th>\n",
       "      <td>9521</td>\n",
       "    </tr>\n",
       "    <tr>\n",
       "      <th>Andorra</th>\n",
       "      <td>956</td>\n",
       "    </tr>\n",
       "    <tr>\n",
       "      <th>Angola</th>\n",
       "      <td>66</td>\n",
       "    </tr>\n",
       "  </tbody>\n",
       "</table>\n",
       "</div>"
      ],
      "text/plain": [
       "                total_deaths\n",
       "Country/Region              \n",
       "Afghanistan              889\n",
       "Albania                  819\n",
       "Algeria                 9521\n",
       "Andorra                  956\n",
       "Angola                    66"
      ]
     },
     "execution_count": 53,
     "metadata": {},
     "output_type": "execute_result"
    }
   ],
   "source": [
    "corona_deaths_data.head()"
   ]
  },
  {
   "cell_type": "code",
   "execution_count": 54,
   "id": "932b6aa7",
   "metadata": {
    "_cell_guid": "0a9aab26-e386-43fb-868d-c41bf0590c82",
    "_uuid": "ebdb0278-cff7-4f8e-8b16-85c542f20dcf",
    "collapsed": false,
    "execution": {
     "iopub.execute_input": "2023-05-20T11:31:08.336708Z",
     "iopub.status.busy": "2023-05-20T11:31:08.335761Z",
     "iopub.status.idle": "2023-05-20T11:31:08.342308Z",
     "shell.execute_reply": "2023-05-20T11:31:08.341079Z"
    },
    "jupyter": {
     "outputs_hidden": false
    },
    "papermill": {
     "duration": 0.058832,
     "end_time": "2023-05-20T11:31:08.344666",
     "exception": false,
     "start_time": "2023-05-20T11:31:08.285834",
     "status": "completed"
    },
    "tags": []
   },
   "outputs": [
    {
     "data": {
      "text/plain": [
       "(187, 1)"
      ]
     },
     "execution_count": 54,
     "metadata": {},
     "output_type": "execute_result"
    }
   ],
   "source": [
    "corona_deaths_data.shape"
   ]
  },
  {
   "cell_type": "markdown",
   "id": "31a2116f",
   "metadata": {
    "_cell_guid": "1e83fe21-a3b0-44c1-b18f-f02721278838",
    "_uuid": "dc7bfe0a-fa30-4b3c-aa25-477eab88319c",
    "papermill": {
     "duration": 0.048708,
     "end_time": "2023-05-20T11:31:08.442593",
     "exception": false,
     "start_time": "2023-05-20T11:31:08.393885",
     "status": "completed"
    },
    "tags": []
   },
   "source": [
    "### World happiness report Dataset"
   ]
  },
  {
   "cell_type": "code",
   "execution_count": 55,
   "id": "0d5fe2ec",
   "metadata": {
    "_cell_guid": "825ecd08-81a2-4807-bc67-346045a57493",
    "_uuid": "4a8b791e-7661-4598-9837-b1730ef35833",
    "collapsed": false,
    "execution": {
     "iopub.execute_input": "2023-05-20T11:31:08.543808Z",
     "iopub.status.busy": "2023-05-20T11:31:08.543410Z",
     "iopub.status.idle": "2023-05-20T11:31:08.557925Z",
     "shell.execute_reply": "2023-05-20T11:31:08.556712Z"
    },
    "jupyter": {
     "outputs_hidden": false
    },
    "papermill": {
     "duration": 0.067869,
     "end_time": "2023-05-20T11:31:08.560213",
     "exception": false,
     "start_time": "2023-05-20T11:31:08.492344",
     "status": "completed"
    },
    "tags": []
   },
   "outputs": [
    {
     "data": {
      "text/html": [
       "<div>\n",
       "<style scoped>\n",
       "    .dataframe tbody tr th:only-of-type {\n",
       "        vertical-align: middle;\n",
       "    }\n",
       "\n",
       "    .dataframe tbody tr th {\n",
       "        vertical-align: top;\n",
       "    }\n",
       "\n",
       "    .dataframe thead th {\n",
       "        text-align: right;\n",
       "    }\n",
       "</style>\n",
       "<table border=\"1\" class=\"dataframe\">\n",
       "  <thead>\n",
       "    <tr style=\"text-align: right;\">\n",
       "      <th></th>\n",
       "      <th>GDP per capita</th>\n",
       "      <th>Social support</th>\n",
       "      <th>Healthy life expectancy</th>\n",
       "      <th>Freedom to make life choices</th>\n",
       "    </tr>\n",
       "    <tr>\n",
       "      <th>Country or region</th>\n",
       "      <th></th>\n",
       "      <th></th>\n",
       "      <th></th>\n",
       "      <th></th>\n",
       "    </tr>\n",
       "  </thead>\n",
       "  <tbody>\n",
       "    <tr>\n",
       "      <th>Finland</th>\n",
       "      <td>1.340</td>\n",
       "      <td>1.587</td>\n",
       "      <td>0.986</td>\n",
       "      <td>0.596</td>\n",
       "    </tr>\n",
       "    <tr>\n",
       "      <th>Denmark</th>\n",
       "      <td>1.383</td>\n",
       "      <td>1.573</td>\n",
       "      <td>0.996</td>\n",
       "      <td>0.592</td>\n",
       "    </tr>\n",
       "    <tr>\n",
       "      <th>Norway</th>\n",
       "      <td>1.488</td>\n",
       "      <td>1.582</td>\n",
       "      <td>1.028</td>\n",
       "      <td>0.603</td>\n",
       "    </tr>\n",
       "    <tr>\n",
       "      <th>Iceland</th>\n",
       "      <td>1.380</td>\n",
       "      <td>1.624</td>\n",
       "      <td>1.026</td>\n",
       "      <td>0.591</td>\n",
       "    </tr>\n",
       "    <tr>\n",
       "      <th>Netherlands</th>\n",
       "      <td>1.396</td>\n",
       "      <td>1.522</td>\n",
       "      <td>0.999</td>\n",
       "      <td>0.557</td>\n",
       "    </tr>\n",
       "  </tbody>\n",
       "</table>\n",
       "</div>"
      ],
      "text/plain": [
       "                   GDP per capita  Social support  Healthy life expectancy  \\\n",
       "Country or region                                                            \n",
       "Finland                     1.340           1.587                    0.986   \n",
       "Denmark                     1.383           1.573                    0.996   \n",
       "Norway                      1.488           1.582                    1.028   \n",
       "Iceland                     1.380           1.624                    1.026   \n",
       "Netherlands                 1.396           1.522                    0.999   \n",
       "\n",
       "                   Freedom to make life choices  \n",
       "Country or region                                \n",
       "Finland                                   0.596  \n",
       "Denmark                                   0.592  \n",
       "Norway                                    0.603  \n",
       "Iceland                                   0.591  \n",
       "Netherlands                               0.557  "
      ]
     },
     "execution_count": 55,
     "metadata": {},
     "output_type": "execute_result"
    }
   ],
   "source": [
    "happiness_report_csv.head()"
   ]
  },
  {
   "cell_type": "code",
   "execution_count": 56,
   "id": "9fa8c5a0",
   "metadata": {
    "_cell_guid": "63dc4f2c-c475-4305-b99d-3f2f56e7bbfa",
    "_uuid": "4d34b726-60f3-4587-a9b0-f72a32efcc4d",
    "collapsed": false,
    "execution": {
     "iopub.execute_input": "2023-05-20T11:31:08.662268Z",
     "iopub.status.busy": "2023-05-20T11:31:08.661839Z",
     "iopub.status.idle": "2023-05-20T11:31:08.668479Z",
     "shell.execute_reply": "2023-05-20T11:31:08.667346Z"
    },
    "jupyter": {
     "outputs_hidden": false
    },
    "papermill": {
     "duration": 0.059797,
     "end_time": "2023-05-20T11:31:08.670736",
     "exception": false,
     "start_time": "2023-05-20T11:31:08.610939",
     "status": "completed"
    },
    "tags": []
   },
   "outputs": [
    {
     "data": {
      "text/plain": [
       "(156, 4)"
      ]
     },
     "execution_count": 56,
     "metadata": {},
     "output_type": "execute_result"
    }
   ],
   "source": [
    "happiness_report_csv.shape"
   ]
  },
  {
   "cell_type": "code",
   "execution_count": 57,
   "id": "954c4307",
   "metadata": {
    "_cell_guid": "022bebb7-9c64-4dfb-a679-f402b903531b",
    "_uuid": "13723868-f14e-4c70-a99e-850d9d0845bb",
    "collapsed": false,
    "execution": {
     "iopub.execute_input": "2023-05-20T11:31:08.775115Z",
     "iopub.status.busy": "2023-05-20T11:31:08.773938Z",
     "iopub.status.idle": "2023-05-20T11:31:08.789934Z",
     "shell.execute_reply": "2023-05-20T11:31:08.788980Z"
    },
    "jupyter": {
     "outputs_hidden": false
    },
    "papermill": {
     "duration": 0.069817,
     "end_time": "2023-05-20T11:31:08.792517",
     "exception": false,
     "start_time": "2023-05-20T11:31:08.722700",
     "status": "completed"
    },
    "tags": []
   },
   "outputs": [
    {
     "data": {
      "text/html": [
       "<div>\n",
       "<style scoped>\n",
       "    .dataframe tbody tr th:only-of-type {\n",
       "        vertical-align: middle;\n",
       "    }\n",
       "\n",
       "    .dataframe tbody tr th {\n",
       "        vertical-align: top;\n",
       "    }\n",
       "\n",
       "    .dataframe thead th {\n",
       "        text-align: right;\n",
       "    }\n",
       "</style>\n",
       "<table border=\"1\" class=\"dataframe\">\n",
       "  <thead>\n",
       "    <tr style=\"text-align: right;\">\n",
       "      <th></th>\n",
       "      <th>total_deaths</th>\n",
       "      <th>GDP per capita</th>\n",
       "      <th>Social support</th>\n",
       "      <th>Healthy life expectancy</th>\n",
       "      <th>Freedom to make life choices</th>\n",
       "    </tr>\n",
       "  </thead>\n",
       "  <tbody>\n",
       "    <tr>\n",
       "      <th>Afghanistan</th>\n",
       "      <td>889</td>\n",
       "      <td>0.350</td>\n",
       "      <td>0.517</td>\n",
       "      <td>0.361</td>\n",
       "      <td>0.000</td>\n",
       "    </tr>\n",
       "    <tr>\n",
       "      <th>Albania</th>\n",
       "      <td>819</td>\n",
       "      <td>0.947</td>\n",
       "      <td>0.848</td>\n",
       "      <td>0.874</td>\n",
       "      <td>0.383</td>\n",
       "    </tr>\n",
       "    <tr>\n",
       "      <th>Algeria</th>\n",
       "      <td>9521</td>\n",
       "      <td>1.002</td>\n",
       "      <td>1.160</td>\n",
       "      <td>0.785</td>\n",
       "      <td>0.086</td>\n",
       "    </tr>\n",
       "    <tr>\n",
       "      <th>Argentina</th>\n",
       "      <td>3640</td>\n",
       "      <td>1.092</td>\n",
       "      <td>1.432</td>\n",
       "      <td>0.881</td>\n",
       "      <td>0.471</td>\n",
       "    </tr>\n",
       "    <tr>\n",
       "      <th>Armenia</th>\n",
       "      <td>539</td>\n",
       "      <td>0.850</td>\n",
       "      <td>1.055</td>\n",
       "      <td>0.815</td>\n",
       "      <td>0.283</td>\n",
       "    </tr>\n",
       "  </tbody>\n",
       "</table>\n",
       "</div>"
      ],
      "text/plain": [
       "             total_deaths  GDP per capita  Social support  \\\n",
       "Afghanistan           889           0.350           0.517   \n",
       "Albania               819           0.947           0.848   \n",
       "Algeria              9521           1.002           1.160   \n",
       "Argentina            3640           1.092           1.432   \n",
       "Armenia               539           0.850           1.055   \n",
       "\n",
       "             Healthy life expectancy  Freedom to make life choices  \n",
       "Afghanistan                    0.361                         0.000  \n",
       "Albania                        0.874                         0.383  \n",
       "Algeria                        0.785                         0.086  \n",
       "Argentina                      0.881                         0.471  \n",
       "Armenia                        0.815                         0.283  "
      ]
     },
     "execution_count": 57,
     "metadata": {},
     "output_type": "execute_result"
    }
   ],
   "source": [
    "data_deaths = corona_deaths_data.join(happiness_report_csv,how=\"inner\")\n",
    "data_deaths.head()"
   ]
  },
  {
   "cell_type": "markdown",
   "id": "fc9ffc5f",
   "metadata": {
    "_cell_guid": "c04a0a31-bfe9-465d-9484-3c2ae18951cb",
    "_uuid": "b06d1cd4-d4b8-4b63-b552-cfb12b02c34a",
    "papermill": {
     "duration": 0.049822,
     "end_time": "2023-05-20T11:31:08.893374",
     "exception": false,
     "start_time": "2023-05-20T11:31:08.843552",
     "status": "completed"
    },
    "tags": []
   },
   "source": [
    "## Correlation matirx of futher analysis"
   ]
  },
  {
   "cell_type": "code",
   "execution_count": 58,
   "id": "dd762b02",
   "metadata": {
    "_cell_guid": "713a438c-930e-4ce0-8421-ee74730d6610",
    "_uuid": "f65e56e5-da93-4503-87b5-6a3e762578fe",
    "collapsed": false,
    "execution": {
     "iopub.execute_input": "2023-05-20T11:31:08.997337Z",
     "iopub.status.busy": "2023-05-20T11:31:08.996686Z",
     "iopub.status.idle": "2023-05-20T11:31:09.011102Z",
     "shell.execute_reply": "2023-05-20T11:31:09.009556Z"
    },
    "jupyter": {
     "outputs_hidden": false
    },
    "papermill": {
     "duration": 0.069349,
     "end_time": "2023-05-20T11:31:09.013940",
     "exception": false,
     "start_time": "2023-05-20T11:31:08.944591",
     "status": "completed"
    },
    "tags": []
   },
   "outputs": [
    {
     "data": {
      "text/html": [
       "<div>\n",
       "<style scoped>\n",
       "    .dataframe tbody tr th:only-of-type {\n",
       "        vertical-align: middle;\n",
       "    }\n",
       "\n",
       "    .dataframe tbody tr th {\n",
       "        vertical-align: top;\n",
       "    }\n",
       "\n",
       "    .dataframe thead th {\n",
       "        text-align: right;\n",
       "    }\n",
       "</style>\n",
       "<table border=\"1\" class=\"dataframe\">\n",
       "  <thead>\n",
       "    <tr style=\"text-align: right;\">\n",
       "      <th></th>\n",
       "      <th>total_deaths</th>\n",
       "      <th>GDP per capita</th>\n",
       "      <th>Social support</th>\n",
       "      <th>Healthy life expectancy</th>\n",
       "      <th>Freedom to make life choices</th>\n",
       "    </tr>\n",
       "  </thead>\n",
       "  <tbody>\n",
       "    <tr>\n",
       "      <th>total_deaths</th>\n",
       "      <td>1.000000</td>\n",
       "      <td>0.232279</td>\n",
       "      <td>0.178278</td>\n",
       "      <td>0.282871</td>\n",
       "      <td>-0.006343</td>\n",
       "    </tr>\n",
       "    <tr>\n",
       "      <th>GDP per capita</th>\n",
       "      <td>0.232279</td>\n",
       "      <td>1.000000</td>\n",
       "      <td>0.759468</td>\n",
       "      <td>0.863062</td>\n",
       "      <td>0.394603</td>\n",
       "    </tr>\n",
       "    <tr>\n",
       "      <th>Social support</th>\n",
       "      <td>0.178278</td>\n",
       "      <td>0.759468</td>\n",
       "      <td>1.000000</td>\n",
       "      <td>0.765286</td>\n",
       "      <td>0.456246</td>\n",
       "    </tr>\n",
       "    <tr>\n",
       "      <th>Healthy life expectancy</th>\n",
       "      <td>0.282871</td>\n",
       "      <td>0.863062</td>\n",
       "      <td>0.765286</td>\n",
       "      <td>1.000000</td>\n",
       "      <td>0.427892</td>\n",
       "    </tr>\n",
       "    <tr>\n",
       "      <th>Freedom to make life choices</th>\n",
       "      <td>-0.006343</td>\n",
       "      <td>0.394603</td>\n",
       "      <td>0.456246</td>\n",
       "      <td>0.427892</td>\n",
       "      <td>1.000000</td>\n",
       "    </tr>\n",
       "  </tbody>\n",
       "</table>\n",
       "</div>"
      ],
      "text/plain": [
       "                              total_deaths  GDP per capita  Social support  \\\n",
       "total_deaths                      1.000000        0.232279        0.178278   \n",
       "GDP per capita                    0.232279        1.000000        0.759468   \n",
       "Social support                    0.178278        0.759468        1.000000   \n",
       "Healthy life expectancy           0.282871        0.863062        0.765286   \n",
       "Freedom to make life choices     -0.006343        0.394603        0.456246   \n",
       "\n",
       "                              Healthy life expectancy  \\\n",
       "total_deaths                                 0.282871   \n",
       "GDP per capita                               0.863062   \n",
       "Social support                               0.765286   \n",
       "Healthy life expectancy                      1.000000   \n",
       "Freedom to make life choices                 0.427892   \n",
       "\n",
       "                              Freedom to make life choices  \n",
       "total_deaths                                     -0.006343  \n",
       "GDP per capita                                    0.394603  \n",
       "Social support                                    0.456246  \n",
       "Healthy life expectancy                           0.427892  \n",
       "Freedom to make life choices                      1.000000  "
      ]
     },
     "execution_count": 58,
     "metadata": {},
     "output_type": "execute_result"
    }
   ],
   "source": [
    "data_deaths.corr()"
   ]
  },
  {
   "cell_type": "markdown",
   "id": "3d0edb8e",
   "metadata": {
    "_cell_guid": "12923ddb-60a5-4459-8ed9-62ad24cfa33c",
    "_uuid": "2214f1ac-6766-44cc-80f9-040fa2319469",
    "papermill": {
     "duration": 0.050217,
     "end_time": "2023-05-20T11:31:09.115208",
     "exception": false,
     "start_time": "2023-05-20T11:31:09.064991",
     "status": "completed"
    },
    "tags": []
   },
   "source": [
    "### Visualization of the results"
   ]
  },
  {
   "cell_type": "code",
   "execution_count": 59,
   "id": "ad9d7b63",
   "metadata": {
    "_cell_guid": "0d4f4a42-a2b8-4edf-9ed4-a6ea8077af91",
    "_uuid": "4d06095d-70c2-4904-899f-1191994c6446",
    "collapsed": false,
    "execution": {
     "iopub.execute_input": "2023-05-20T11:31:09.218416Z",
     "iopub.status.busy": "2023-05-20T11:31:09.217716Z",
     "iopub.status.idle": "2023-05-20T11:31:09.232577Z",
     "shell.execute_reply": "2023-05-20T11:31:09.231416Z"
    },
    "jupyter": {
     "outputs_hidden": false
    },
    "papermill": {
     "duration": 0.06965,
     "end_time": "2023-05-20T11:31:09.235354",
     "exception": false,
     "start_time": "2023-05-20T11:31:09.165704",
     "status": "completed"
    },
    "tags": []
   },
   "outputs": [
    {
     "data": {
      "text/html": [
       "<div>\n",
       "<style scoped>\n",
       "    .dataframe tbody tr th:only-of-type {\n",
       "        vertical-align: middle;\n",
       "    }\n",
       "\n",
       "    .dataframe tbody tr th {\n",
       "        vertical-align: top;\n",
       "    }\n",
       "\n",
       "    .dataframe thead th {\n",
       "        text-align: right;\n",
       "    }\n",
       "</style>\n",
       "<table border=\"1\" class=\"dataframe\">\n",
       "  <thead>\n",
       "    <tr style=\"text-align: right;\">\n",
       "      <th></th>\n",
       "      <th>total_deaths</th>\n",
       "      <th>GDP per capita</th>\n",
       "      <th>Social support</th>\n",
       "      <th>Healthy life expectancy</th>\n",
       "      <th>Freedom to make life choices</th>\n",
       "    </tr>\n",
       "  </thead>\n",
       "  <tbody>\n",
       "    <tr>\n",
       "      <th>Afghanistan</th>\n",
       "      <td>889</td>\n",
       "      <td>0.350</td>\n",
       "      <td>0.517</td>\n",
       "      <td>0.361</td>\n",
       "      <td>0.000</td>\n",
       "    </tr>\n",
       "    <tr>\n",
       "      <th>Albania</th>\n",
       "      <td>819</td>\n",
       "      <td>0.947</td>\n",
       "      <td>0.848</td>\n",
       "      <td>0.874</td>\n",
       "      <td>0.383</td>\n",
       "    </tr>\n",
       "    <tr>\n",
       "      <th>Algeria</th>\n",
       "      <td>9521</td>\n",
       "      <td>1.002</td>\n",
       "      <td>1.160</td>\n",
       "      <td>0.785</td>\n",
       "      <td>0.086</td>\n",
       "    </tr>\n",
       "    <tr>\n",
       "      <th>Argentina</th>\n",
       "      <td>3640</td>\n",
       "      <td>1.092</td>\n",
       "      <td>1.432</td>\n",
       "      <td>0.881</td>\n",
       "      <td>0.471</td>\n",
       "    </tr>\n",
       "    <tr>\n",
       "      <th>Armenia</th>\n",
       "      <td>539</td>\n",
       "      <td>0.850</td>\n",
       "      <td>1.055</td>\n",
       "      <td>0.815</td>\n",
       "      <td>0.283</td>\n",
       "    </tr>\n",
       "  </tbody>\n",
       "</table>\n",
       "</div>"
      ],
      "text/plain": [
       "             total_deaths  GDP per capita  Social support  \\\n",
       "Afghanistan           889           0.350           0.517   \n",
       "Albania               819           0.947           0.848   \n",
       "Algeria              9521           1.002           1.160   \n",
       "Argentina            3640           1.092           1.432   \n",
       "Armenia               539           0.850           1.055   \n",
       "\n",
       "             Healthy life expectancy  Freedom to make life choices  \n",
       "Afghanistan                    0.361                         0.000  \n",
       "Albania                        0.874                         0.383  \n",
       "Algeria                        0.785                         0.086  \n",
       "Argentina                      0.881                         0.471  \n",
       "Armenia                        0.815                         0.283  "
      ]
     },
     "execution_count": 59,
     "metadata": {},
     "output_type": "execute_result"
    }
   ],
   "source": [
    "data_deaths.head()"
   ]
  },
  {
   "cell_type": "markdown",
   "id": "c05d7fb3",
   "metadata": {
    "_cell_guid": "673bfc90-d078-4ec7-896c-8d39cc21b719",
    "_uuid": "32836d03-3edb-4373-8d05-10ff5510c745",
    "papermill": {
     "duration": 0.050388,
     "end_time": "2023-05-20T11:31:09.336602",
     "exception": false,
     "start_time": "2023-05-20T11:31:09.286214",
     "status": "completed"
    },
    "tags": []
   },
   "source": [
    "## Adding a shift to make all death data positive"
   ]
  },
  {
   "cell_type": "code",
   "execution_count": 60,
   "id": "49b69158",
   "metadata": {
    "_cell_guid": "80f6229e-96f1-4c1e-a5ce-68dd7a3d04c0",
    "_uuid": "5bb69904-0e38-4f59-bf96-7a64904356a1",
    "collapsed": false,
    "execution": {
     "iopub.execute_input": "2023-05-20T11:31:09.440614Z",
     "iopub.status.busy": "2023-05-20T11:31:09.440151Z",
     "iopub.status.idle": "2023-05-20T11:31:09.446837Z",
     "shell.execute_reply": "2023-05-20T11:31:09.445399Z"
    },
    "jupyter": {
     "outputs_hidden": false
    },
    "papermill": {
     "duration": 0.06193,
     "end_time": "2023-05-20T11:31:09.449385",
     "exception": false,
     "start_time": "2023-05-20T11:31:09.387455",
     "status": "completed"
    },
    "tags": []
   },
   "outputs": [],
   "source": [
    "shifted_deaths = data_deaths[\"total_deaths\"] - data_deaths[\"total_deaths\"].min() + 1"
   ]
  },
  {
   "cell_type": "code",
   "execution_count": 61,
   "id": "29243ad8",
   "metadata": {
    "_cell_guid": "9ba48d8b-c715-4aae-ba98-a31faf23be22",
    "_uuid": "10255030-8c47-4be3-84ea-cf567105bb2c",
    "collapsed": false,
    "execution": {
     "iopub.execute_input": "2023-05-20T11:31:09.552989Z",
     "iopub.status.busy": "2023-05-20T11:31:09.552592Z",
     "iopub.status.idle": "2023-05-20T11:31:09.557805Z",
     "shell.execute_reply": "2023-05-20T11:31:09.556930Z"
    },
    "jupyter": {
     "outputs_hidden": false
    },
    "papermill": {
     "duration": 0.059791,
     "end_time": "2023-05-20T11:31:09.560242",
     "exception": false,
     "start_time": "2023-05-20T11:31:09.500451",
     "status": "completed"
    },
    "tags": []
   },
   "outputs": [],
   "source": [
    "log_transformed_deaths = np.log(shifted_deaths)"
   ]
  },
  {
   "cell_type": "markdown",
   "id": "85c517fe",
   "metadata": {
    "_cell_guid": "a766d102-0199-4c0a-9c4c-09e07c120951",
    "_uuid": "2823aeda-0118-44a5-a64d-3cebed2d2951",
    "papermill": {
     "duration": 0.051631,
     "end_time": "2023-05-20T11:31:09.663797",
     "exception": false,
     "start_time": "2023-05-20T11:31:09.612166",
     "status": "completed"
    },
    "tags": []
   },
   "source": [
    "## Plotting GDP vs total deaths"
   ]
  },
  {
   "cell_type": "code",
   "execution_count": 62,
   "id": "66cd9bed",
   "metadata": {
    "_cell_guid": "94a6a7d5-23f0-435f-a895-58402bcb2b7b",
    "_uuid": "5ae5d4b5-2cd4-4ed2-825f-dca28eeed523",
    "collapsed": false,
    "execution": {
     "iopub.execute_input": "2023-05-20T11:31:09.771126Z",
     "iopub.status.busy": "2023-05-20T11:31:09.770692Z",
     "iopub.status.idle": "2023-05-20T11:31:10.070391Z",
     "shell.execute_reply": "2023-05-20T11:31:10.069160Z"
    },
    "jupyter": {
     "outputs_hidden": false
    },
    "papermill": {
     "duration": 0.356651,
     "end_time": "2023-05-20T11:31:10.073332",
     "exception": false,
     "start_time": "2023-05-20T11:31:09.716681",
     "status": "completed"
    },
    "tags": []
   },
   "outputs": [
    {
     "data": {
      "text/plain": [
       "<AxesSubplot: xlabel='GDP per capita', ylabel='total_deaths'>"
      ]
     },
     "execution_count": 62,
     "metadata": {},
     "output_type": "execute_result"
    },
    {
     "data": {
      "image/png": "[encoded data removed]",
      "text/plain": [
       "<Figure size 640x480 with 1 Axes>"
      ]
     },
     "metadata": {},
     "output_type": "display_data"
    }
   ],
   "source": [
    "sns.scatterplot(x=\"GDP per capita\", y=log_transformed_deaths, data=data_deaths)"
   ]
  },
  {
   "cell_type": "code",
   "execution_count": 63,
   "id": "169c2862",
   "metadata": {
    "_cell_guid": "ea5e50de-5f82-4c57-b433-a2b2a33ad6ee",
    "_uuid": "e0ce384f-46c5-43e0-b2ef-54e8e7b6ab29",
    "collapsed": false,
    "execution": {
     "iopub.execute_input": "2023-05-20T11:31:10.180879Z",
     "iopub.status.busy": "2023-05-20T11:31:10.180461Z",
     "iopub.status.idle": "2023-05-20T11:31:10.605368Z",
     "shell.execute_reply": "2023-05-20T11:31:10.604114Z"
    },
    "jupyter": {
     "outputs_hidden": false
    },
    "papermill": {
     "duration": 0.481244,
     "end_time": "2023-05-20T11:31:10.608012",
     "exception": false,
     "start_time": "2023-05-20T11:31:10.126768",
     "status": "completed"
    },
    "tags": []
   },
   "outputs": [
    {
     "data": {
      "text/plain": [
       "<AxesSubplot: xlabel='GDP per capita', ylabel='total_deaths'>"
      ]
     },
     "execution_count": 63,
     "metadata": {},
     "output_type": "execute_result"
    },
    {
     "data": {
      "image/png": "[encoded data removed]",
      "text/plain": [
       "<Figure size 640x480 with 1 Axes>"
      ]
     },
     "metadata": {},
     "output_type": "display_data"
    }
   ],
   "source": [
    "sns.regplot(x=\"GDP per capita\", y=log_transformed_deaths, data=data_deaths)"
   ]
  },
  {
   "cell_type": "markdown",
   "id": "d171de5e",
   "metadata": {
    "_cell_guid": "06d30358-2629-447c-9867-50ff25941b91",
    "_uuid": "8f5ea483-cf92-4d41-8c5f-60c53a4a884c",
    "papermill": {
     "duration": 0.052777,
     "end_time": "2023-05-20T11:31:10.714241",
     "exception": false,
     "start_time": "2023-05-20T11:31:10.661464",
     "status": "completed"
    },
    "tags": []
   },
   "source": [
    "## Plotting Social support vs total deaths"
   ]
  },
  {
   "cell_type": "code",
   "execution_count": 64,
   "id": "9d4b282f",
   "metadata": {
    "_cell_guid": "8a031832-3cc3-449d-8819-7dbc45eb8c7b",
    "_uuid": "f477324d-1480-4263-ba88-8b4778dba675",
    "collapsed": false,
    "execution": {
     "iopub.execute_input": "2023-05-20T11:31:10.824873Z",
     "iopub.status.busy": "2023-05-20T11:31:10.823992Z",
     "iopub.status.idle": "2023-05-20T11:31:11.293930Z",
     "shell.execute_reply": "2023-05-20T11:31:11.292539Z"
    },
    "jupyter": {
     "outputs_hidden": false
    },
    "papermill": {
     "duration": 0.528587,
     "end_time": "2023-05-20T11:31:11.296891",
     "exception": false,
     "start_time": "2023-05-20T11:31:10.768304",
     "status": "completed"
    },
    "tags": []
   },
   "outputs": [
    {
     "data": {
      "text/plain": [
       "<AxesSubplot: xlabel='Social support', ylabel='total_deaths'>"
      ]
     },
     "execution_count": 64,
     "metadata": {},
     "output_type": "execute_result"
    },
    {
     "data": {
      "image/png": "[encoded data removed]",
      "text/plain": [
       "<Figure size 640x480 with 1 Axes>"
      ]
     },
     "metadata": {},
     "output_type": "display_data"
    }
   ],
   "source": [
    "sns.scatterplot(x=\"Social support\", y=log_transformed_deaths, data=data_deaths)"
   ]
  },
  {
   "cell_type": "code",
   "execution_count": 65,
   "id": "3760b9ef",
   "metadata": {
    "_cell_guid": "aa1a556d-1067-4fbb-9acd-758423087437",
    "_uuid": "41eef44c-b56e-46e6-9419-380716d2d6e7",
    "collapsed": false,
    "execution": {
     "iopub.execute_input": "2023-05-20T11:31:11.406232Z",
     "iopub.status.busy": "2023-05-20T11:31:11.405806Z",
     "iopub.status.idle": "2023-05-20T11:31:11.834821Z",
     "shell.execute_reply": "2023-05-20T11:31:11.833527Z"
    },
    "jupyter": {
     "outputs_hidden": false
    },
    "papermill": {
     "duration": 0.486988,
     "end_time": "2023-05-20T11:31:11.837633",
     "exception": false,
     "start_time": "2023-05-20T11:31:11.350645",
     "status": "completed"
    },
    "tags": []
   },
   "outputs": [
    {
     "data": {
      "text/plain": [
       "<AxesSubplot: xlabel='Social support', ylabel='total_deaths'>"
      ]
     },
     "execution_count": 65,
     "metadata": {},
     "output_type": "execute_result"
    },
    {
     "data": {
      "image/png": "[encoded data removed]",
      "text/plain": [
       "<Figure size 640x480 with 1 Axes>"
      ]
     },
     "metadata": {},
     "output_type": "display_data"
    }
   ],
   "source": [
    "sns.regplot(x=\"Social support\", y=log_transformed_deaths, data=data_deaths)"
   ]
  },
  {
   "cell_type": "markdown",
   "id": "5be9297b",
   "metadata": {
    "_cell_guid": "0ab6edf8-5cc0-4789-b00c-869817a99f89",
    "_uuid": "f85205e1-3aad-41a8-8fa3-d4f909f95120",
    "papermill": {
     "duration": 0.054696,
     "end_time": "2023-05-20T11:31:11.947296",
     "exception": false,
     "start_time": "2023-05-20T11:31:11.892600",
     "status": "completed"
    },
    "tags": []
   },
   "source": [
    "## Plotting Healthy life expectancy vs total deaths"
   ]
  },
  {
   "cell_type": "code",
   "execution_count": 66,
   "id": "a35fbc52",
   "metadata": {
    "_cell_guid": "0e7314a6-8677-4459-a336-c698a582a888",
    "_uuid": "8cf1eabc-d291-4115-b464-3d0015d379b7",
    "collapsed": false,
    "execution": {
     "iopub.execute_input": "2023-05-20T11:31:12.060321Z",
     "iopub.status.busy": "2023-05-20T11:31:12.059880Z",
     "iopub.status.idle": "2023-05-20T11:31:12.344321Z",
     "shell.execute_reply": "2023-05-20T11:31:12.343086Z"
    },
    "jupyter": {
     "outputs_hidden": false
    },
    "papermill": {
     "duration": 0.34418,
     "end_time": "2023-05-20T11:31:12.347182",
     "exception": false,
     "start_time": "2023-05-20T11:31:12.003002",
     "status": "completed"
    },
    "tags": []
   },
   "outputs": [
    {
     "data": {
      "text/plain": [
       "<AxesSubplot: xlabel='Healthy life expectancy', ylabel='total_deaths'>"
      ]
     },
     "execution_count": 66,
     "metadata": {},
     "output_type": "execute_result"
    },
    {
     "data": {
      "image/png": "[encoded data removed]",
      "text/plain": [
       "<Figure size 640x480 with 1 Axes>"
      ]
     },
     "metadata": {},
     "output_type": "display_data"
    }
   ],
   "source": [
    "sns.scatterplot(x=\"Healthy life expectancy\", y=log_transformed_deaths, data=data_deaths)"
   ]
  },
  {
   "cell_type": "code",
   "execution_count": 67,
   "id": "078e380d",
   "metadata": {
    "_cell_guid": "5889ed01-6fd4-4cd6-aa2b-757f91779750",
    "_uuid": "4e4def25-d66b-47e7-abc8-a5d9aeca0e09",
    "collapsed": false,
    "execution": {
     "iopub.execute_input": "2023-05-20T11:31:12.462017Z",
     "iopub.status.busy": "2023-05-20T11:31:12.461224Z",
     "iopub.status.idle": "2023-05-20T11:31:12.860731Z",
     "shell.execute_reply": "2023-05-20T11:31:12.859569Z"
    },
    "jupyter": {
     "outputs_hidden": false
    },
    "papermill": {
     "duration": 0.459545,
     "end_time": "2023-05-20T11:31:12.863515",
     "exception": false,
     "start_time": "2023-05-20T11:31:12.403970",
     "status": "completed"
    },
    "tags": []
   },
   "outputs": [
    {
     "data": {
      "text/plain": [
       "<AxesSubplot: xlabel='Healthy life expectancy', ylabel='total_deaths'>"
      ]
     },
     "execution_count": 67,
     "metadata": {},
     "output_type": "execute_result"
    },
    {
     "data": {
      "image/png": "[encoded data removed]",
      "text/plain": [
       "<Figure size 640x480 with 1 Axes>"
      ]
     },
     "metadata": {},
     "output_type": "display_data"
    }
   ],
   "source": [
    "sns.regplot(x=\"Healthy life expectancy\", y=log_transformed_deaths, data=data_deaths)"
   ]
  },
  {
   "cell_type": "markdown",
   "id": "d9110f7a",
   "metadata": {
    "_cell_guid": "81e5944b-5b8b-477b-aedb-0aaaec8e54ce",
    "_uuid": "72206ef8-9e58-4693-80ce-a598500ffbc5",
    "papermill": {
     "duration": 0.056164,
     "end_time": "2023-05-20T11:31:12.975796",
     "exception": false,
     "start_time": "2023-05-20T11:31:12.919632",
     "status": "completed"
    },
    "tags": []
   },
   "source": [
    "## Plotting Freedom to make life choices vs total deaths"
   ]
  },
  {
   "cell_type": "code",
   "execution_count": 68,
   "id": "f5d5eea8",
   "metadata": {
    "_cell_guid": "089884f1-1c06-4fe5-b9c7-d210200f4290",
    "_uuid": "8e3b9ce8-d234-4aaa-9ae2-2a68834975eb",
    "collapsed": false,
    "execution": {
     "iopub.execute_input": "2023-05-20T11:31:13.092988Z",
     "iopub.status.busy": "2023-05-20T11:31:13.092124Z",
     "iopub.status.idle": "2023-05-20T11:31:13.387069Z",
     "shell.execute_reply": "2023-05-20T11:31:13.385515Z"
    },
    "jupyter": {
     "outputs_hidden": false
    },
    "papermill": {
     "duration": 0.35851,
     "end_time": "2023-05-20T11:31:13.390366",
     "exception": false,
     "start_time": "2023-05-20T11:31:13.031856",
     "status": "completed"
    },
    "tags": []
   },
   "outputs": [
    {
     "data": {
      "text/plain": [
       "<AxesSubplot: xlabel='Freedom to make life choices', ylabel='total_deaths'>"
      ]
     },
     "execution_count": 68,
     "metadata": {},
     "output_type": "execute_result"
    },
    {
     "data": {
      "image/png": "[encoded data removed]",
      "text/plain": [
       "<Figure size 640x480 with 1 Axes>"
      ]
     },
     "metadata": {},
     "output_type": "display_data"
    }
   ],
   "source": [
    "sns.scatterplot(x=\"Freedom to make life choices\", y=log_transformed_deaths, data=data_deaths)"
   ]
  },
  {
   "cell_type": "code",
   "execution_count": 69,
   "id": "906711a3",
   "metadata": {
    "_cell_guid": "eb161fcf-91e8-4fda-b153-8880e0d51676",
    "_uuid": "5cef7191-2f4a-470f-b0b3-dbf5f92fa41a",
    "collapsed": false,
    "execution": {
     "iopub.execute_input": "2023-05-20T11:31:13.505190Z",
     "iopub.status.busy": "2023-05-20T11:31:13.504747Z",
     "iopub.status.idle": "2023-05-20T11:31:13.920429Z",
     "shell.execute_reply": "2023-05-20T11:31:13.919410Z"
    },
    "jupyter": {
     "outputs_hidden": false
    },
    "papermill": {
     "duration": 0.476046,
     "end_time": "2023-05-20T11:31:13.922965",
     "exception": false,
     "start_time": "2023-05-20T11:31:13.446919",
     "status": "completed"
    },
    "tags": []
   },
   "outputs": [
    {
     "data": {
      "text/plain": [
       "<AxesSubplot: xlabel='Freedom to make life choices', ylabel='total_deaths'>"
      ]
     },
     "execution_count": 69,
     "metadata": {},
     "output_type": "execute_result"
    },
    {
     "data": {
      "image/png": "[encoded data removed]",
      "text/plain": [
       "<Figure size 640x480 with 1 Axes>"
      ]
     },
     "metadata": {},
     "output_type": "display_data"
    }
   ],
   "source": [
    "sns.regplot(x=\"Freedom to make life choices\", y=log_transformed_deaths, data=data_deaths)"
   ]
  },
  {
   "cell_type": "markdown",
   "id": "7c3358e4",
   "metadata": {
    "_cell_guid": "04aa8af9-fd2a-4578-8645-98d724db9ebe",
    "_uuid": "42766342-6c8a-4b93-bfe4-048f799f426c",
    "papermill": {
     "duration": 0.057526,
     "end_time": "2023-05-20T11:31:14.103462",
     "exception": false,
     "start_time": "2023-05-20T11:31:14.045936",
     "status": "completed"
    },
    "tags": []
   },
   "source": [
    "## Futher Analysis Findins"
   ]
  },
  {
   "cell_type": "markdown",
   "id": "1007ae31",
   "metadata": {
    "_cell_guid": "803e4ace-0f9a-44ab-a7f5-dbbf1bd23a0b",
    "_uuid": "912a4172-ff64-4fa4-ad73-77860c980543",
    "papermill": {
     "duration": 0.057904,
     "end_time": "2023-05-20T11:31:14.220841",
     "exception": false,
     "start_time": "2023-05-20T11:31:14.162937",
     "status": "completed"
    },
    "tags": []
   },
   "source": []
  }
 ],
 "metadata": {
  "kernelspec": {
   "display_name": "Python 3",
   "language": "python",
   "name": "python3"
  },
  "language_info": {
   "codemirror_mode": {
    "name": "ipython",
    "version": 3
   },
   "file_extension": ".py",
   "mimetype": "text/x-python",
   "name": "python",
   "nbconvert_exporter": "python",
   "pygments_lexer": "ipython3",
   "version": "3.10.10"
  },
  "papermill": {
   "default_parameters": {},
   "duration": 33.6598,
   "end_time": "2023-05-20T11:31:15.403606",
   "environment_variables": {},
   "exception": null,
   "input_path": "__notebook__.ipynb",
   "output_path": "__notebook__.ipynb",
   "parameters": {},
   "start_time": "2023-05-20T11:30:41.743806",
   "version": "2.4.0"
  }
 },
 "nbformat": 4,
 "nbformat_minor": 5
}
