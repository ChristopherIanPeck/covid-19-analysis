{
 "cells": [
  {
   "cell_type": "markdown",
   "id": "f2644060",
   "metadata": {
    "_cell_guid": "759fd8ef-3ca5-44a1-822a-b873e3b79dc3",
    "_uuid": "a62cffae-274e-44ce-a779-a3f632f931ee",
    "papermill": {
     "duration": 0.030058,
     "end_time": "2023-05-20T10:07:18.229732",
     "exception": false,
     "start_time": "2023-05-20T10:07:18.199674",
     "status": "completed"
    },
    "tags": []
   },
   "source": [
    "# Covid-19 Data Analysis using Python"
   ]
  },
  {
   "cell_type": "markdown",
   "id": "416367af",
   "metadata": {
    "_cell_guid": "da63e5c1-a215-4bb1-9a10-57ba99329b03",
    "_uuid": "ae99c9cb-f5da-408b-a420-1c4609239e8f",
    "papermill": {
     "duration": 0.027854,
     "end_time": "2023-05-20T10:07:18.286392",
     "exception": false,
     "start_time": "2023-05-20T10:07:18.258538",
     "status": "completed"
    },
    "tags": []
   },
   "source": [
    "## Inporting Modules"
   ]
  },
  {
   "cell_type": "code",
   "execution_count": 1,
   "id": "9137e63d",
   "metadata": {
    "_cell_guid": "621fe131-c94a-4d39-8266-5a5d89eaff7a",
    "_uuid": "2177f81d-cd59-4527-b97f-61a4d1065964",
    "collapsed": false,
    "execution": {
     "iopub.execute_input": "2023-05-20T10:07:18.344497Z",
     "iopub.status.busy": "2023-05-20T10:07:18.343961Z",
     "iopub.status.idle": "2023-05-20T10:07:19.693358Z",
     "shell.execute_reply": "2023-05-20T10:07:19.692118Z"
    },
    "jupyter": {
     "outputs_hidden": false
    },
    "papermill": {
     "duration": 1.381374,
     "end_time": "2023-05-20T10:07:19.695935",
     "exception": false,
     "start_time": "2023-05-20T10:07:18.314561",
     "status": "completed"
    },
    "tags": []
   },
   "outputs": [
    {
     "name": "stderr",
     "output_type": "stream",
     "text": [
      "/opt/conda/lib/python3.10/site-packages/scipy/__init__.py:146: UserWarning: A NumPy version >=1.16.5 and <1.23.0 is required for this version of SciPy (detected version 1.23.5\n",
      "  warnings.warn(f\"A NumPy version >={np_minversion} and <{np_maxversion}\"\n"
     ]
    },
    {
     "name": "stdout",
     "output_type": "stream",
     "text": [
      "Modules are imported.\n"
     ]
    }
   ],
   "source": [
    "import pandas as pd \n",
    "import numpy as np \n",
    "import seaborn as sns\n",
    "import matplotlib.pyplot as plt\n",
    "print('Modules are imported.')"
   ]
  },
  {
   "cell_type": "markdown",
   "id": "40045315",
   "metadata": {
    "_cell_guid": "a807dc60-77ad-4d81-b089-f3f228835297",
    "_uuid": "a1ef2670-5c11-406a-af70-4c8960cf20d9",
    "papermill": {
     "duration": 0.027859,
     "end_time": "2023-05-20T10:07:19.752071",
     "exception": false,
     "start_time": "2023-05-20T10:07:19.724212",
     "status": "completed"
    },
    "tags": []
   },
   "source": [
    "## Importing Covid-19 Confirmed Dataset"
   ]
  },
  {
   "cell_type": "code",
   "execution_count": 2,
   "id": "7355f8bf",
   "metadata": {
    "_cell_guid": "113500a0-c7be-42e5-b748-635167a0698e",
    "_uuid": "96400d03-07bd-47cd-bb54-58309d3de95b",
    "collapsed": false,
    "execution": {
     "iopub.execute_input": "2023-05-20T10:07:19.810953Z",
     "iopub.status.busy": "2023-05-20T10:07:19.809776Z",
     "iopub.status.idle": "2023-05-20T10:07:19.883530Z",
     "shell.execute_reply": "2023-05-20T10:07:19.882389Z"
    },
    "jupyter": {
     "outputs_hidden": false
    },
    "papermill": {
     "duration": 0.106133,
     "end_time": "2023-05-20T10:07:19.886255",
     "exception": false,
     "start_time": "2023-05-20T10:07:19.780122",
     "status": "completed"
    },
    "tags": []
   },
   "outputs": [
    {
     "data": {
      "text/html": [
       "<div>\n",
       "<style scoped>\n",
       "    .dataframe tbody tr th:only-of-type {\n",
       "        vertical-align: middle;\n",
       "    }\n",
       "\n",
       "    .dataframe tbody tr th {\n",
       "        vertical-align: top;\n",
       "    }\n",
       "\n",
       "    .dataframe thead th {\n",
       "        text-align: right;\n",
       "    }\n",
       "</style>\n",
       "<table border=\"1\" class=\"dataframe\">\n",
       "  <thead>\n",
       "    <tr style=\"text-align: right;\">\n",
       "      <th></th>\n",
       "      <th>Province/State</th>\n",
       "      <th>Country/Region</th>\n",
       "      <th>Lat</th>\n",
       "      <th>Long</th>\n",
       "      <th>1/22/20</th>\n",
       "      <th>1/23/20</th>\n",
       "      <th>1/24/20</th>\n",
       "      <th>1/25/20</th>\n",
       "      <th>1/26/20</th>\n",
       "      <th>1/27/20</th>\n",
       "      <th>...</th>\n",
       "      <th>4/21/20</th>\n",
       "      <th>4/22/20</th>\n",
       "      <th>4/23/20</th>\n",
       "      <th>4/24/20</th>\n",
       "      <th>4/25/20</th>\n",
       "      <th>4/26/20</th>\n",
       "      <th>4/27/20</th>\n",
       "      <th>4/28/20</th>\n",
       "      <th>4/29/20</th>\n",
       "      <th>4/30/20</th>\n",
       "    </tr>\n",
       "  </thead>\n",
       "  <tbody>\n",
       "    <tr>\n",
       "      <th>0</th>\n",
       "      <td>NaN</td>\n",
       "      <td>Afghanistan</td>\n",
       "      <td>33.0000</td>\n",
       "      <td>65.0000</td>\n",
       "      <td>0</td>\n",
       "      <td>0</td>\n",
       "      <td>0</td>\n",
       "      <td>0</td>\n",
       "      <td>0</td>\n",
       "      <td>0</td>\n",
       "      <td>...</td>\n",
       "      <td>1092</td>\n",
       "      <td>1176</td>\n",
       "      <td>1279</td>\n",
       "      <td>1351</td>\n",
       "      <td>1463</td>\n",
       "      <td>1531</td>\n",
       "      <td>1703</td>\n",
       "      <td>1828</td>\n",
       "      <td>1939</td>\n",
       "      <td>2171</td>\n",
       "    </tr>\n",
       "    <tr>\n",
       "      <th>1</th>\n",
       "      <td>NaN</td>\n",
       "      <td>Albania</td>\n",
       "      <td>41.1533</td>\n",
       "      <td>20.1683</td>\n",
       "      <td>0</td>\n",
       "      <td>0</td>\n",
       "      <td>0</td>\n",
       "      <td>0</td>\n",
       "      <td>0</td>\n",
       "      <td>0</td>\n",
       "      <td>...</td>\n",
       "      <td>609</td>\n",
       "      <td>634</td>\n",
       "      <td>663</td>\n",
       "      <td>678</td>\n",
       "      <td>712</td>\n",
       "      <td>726</td>\n",
       "      <td>736</td>\n",
       "      <td>750</td>\n",
       "      <td>766</td>\n",
       "      <td>773</td>\n",
       "    </tr>\n",
       "    <tr>\n",
       "      <th>2</th>\n",
       "      <td>NaN</td>\n",
       "      <td>Algeria</td>\n",
       "      <td>28.0339</td>\n",
       "      <td>1.6596</td>\n",
       "      <td>0</td>\n",
       "      <td>0</td>\n",
       "      <td>0</td>\n",
       "      <td>0</td>\n",
       "      <td>0</td>\n",
       "      <td>0</td>\n",
       "      <td>...</td>\n",
       "      <td>2811</td>\n",
       "      <td>2910</td>\n",
       "      <td>3007</td>\n",
       "      <td>3127</td>\n",
       "      <td>3256</td>\n",
       "      <td>3382</td>\n",
       "      <td>3517</td>\n",
       "      <td>3649</td>\n",
       "      <td>3848</td>\n",
       "      <td>4006</td>\n",
       "    </tr>\n",
       "    <tr>\n",
       "      <th>3</th>\n",
       "      <td>NaN</td>\n",
       "      <td>Andorra</td>\n",
       "      <td>42.5063</td>\n",
       "      <td>1.5218</td>\n",
       "      <td>0</td>\n",
       "      <td>0</td>\n",
       "      <td>0</td>\n",
       "      <td>0</td>\n",
       "      <td>0</td>\n",
       "      <td>0</td>\n",
       "      <td>...</td>\n",
       "      <td>717</td>\n",
       "      <td>723</td>\n",
       "      <td>723</td>\n",
       "      <td>731</td>\n",
       "      <td>738</td>\n",
       "      <td>738</td>\n",
       "      <td>743</td>\n",
       "      <td>743</td>\n",
       "      <td>743</td>\n",
       "      <td>745</td>\n",
       "    </tr>\n",
       "    <tr>\n",
       "      <th>4</th>\n",
       "      <td>NaN</td>\n",
       "      <td>Angola</td>\n",
       "      <td>-11.2027</td>\n",
       "      <td>17.8739</td>\n",
       "      <td>0</td>\n",
       "      <td>0</td>\n",
       "      <td>0</td>\n",
       "      <td>0</td>\n",
       "      <td>0</td>\n",
       "      <td>0</td>\n",
       "      <td>...</td>\n",
       "      <td>24</td>\n",
       "      <td>25</td>\n",
       "      <td>25</td>\n",
       "      <td>25</td>\n",
       "      <td>25</td>\n",
       "      <td>26</td>\n",
       "      <td>27</td>\n",
       "      <td>27</td>\n",
       "      <td>27</td>\n",
       "      <td>27</td>\n",
       "    </tr>\n",
       "    <tr>\n",
       "      <th>5</th>\n",
       "      <td>NaN</td>\n",
       "      <td>Antigua and Barbuda</td>\n",
       "      <td>17.0608</td>\n",
       "      <td>-61.7964</td>\n",
       "      <td>0</td>\n",
       "      <td>0</td>\n",
       "      <td>0</td>\n",
       "      <td>0</td>\n",
       "      <td>0</td>\n",
       "      <td>0</td>\n",
       "      <td>...</td>\n",
       "      <td>23</td>\n",
       "      <td>24</td>\n",
       "      <td>24</td>\n",
       "      <td>24</td>\n",
       "      <td>24</td>\n",
       "      <td>24</td>\n",
       "      <td>24</td>\n",
       "      <td>24</td>\n",
       "      <td>24</td>\n",
       "      <td>24</td>\n",
       "    </tr>\n",
       "    <tr>\n",
       "      <th>6</th>\n",
       "      <td>NaN</td>\n",
       "      <td>Argentina</td>\n",
       "      <td>-38.4161</td>\n",
       "      <td>-63.6167</td>\n",
       "      <td>0</td>\n",
       "      <td>0</td>\n",
       "      <td>0</td>\n",
       "      <td>0</td>\n",
       "      <td>0</td>\n",
       "      <td>0</td>\n",
       "      <td>...</td>\n",
       "      <td>3031</td>\n",
       "      <td>3144</td>\n",
       "      <td>3435</td>\n",
       "      <td>3607</td>\n",
       "      <td>3780</td>\n",
       "      <td>3892</td>\n",
       "      <td>4003</td>\n",
       "      <td>4127</td>\n",
       "      <td>4285</td>\n",
       "      <td>4428</td>\n",
       "    </tr>\n",
       "    <tr>\n",
       "      <th>7</th>\n",
       "      <td>NaN</td>\n",
       "      <td>Armenia</td>\n",
       "      <td>40.0691</td>\n",
       "      <td>45.0382</td>\n",
       "      <td>0</td>\n",
       "      <td>0</td>\n",
       "      <td>0</td>\n",
       "      <td>0</td>\n",
       "      <td>0</td>\n",
       "      <td>0</td>\n",
       "      <td>...</td>\n",
       "      <td>1401</td>\n",
       "      <td>1473</td>\n",
       "      <td>1523</td>\n",
       "      <td>1596</td>\n",
       "      <td>1677</td>\n",
       "      <td>1746</td>\n",
       "      <td>1808</td>\n",
       "      <td>1867</td>\n",
       "      <td>1932</td>\n",
       "      <td>2066</td>\n",
       "    </tr>\n",
       "    <tr>\n",
       "      <th>8</th>\n",
       "      <td>Australian Capital Territory</td>\n",
       "      <td>Australia</td>\n",
       "      <td>-35.4735</td>\n",
       "      <td>149.0124</td>\n",
       "      <td>0</td>\n",
       "      <td>0</td>\n",
       "      <td>0</td>\n",
       "      <td>0</td>\n",
       "      <td>0</td>\n",
       "      <td>0</td>\n",
       "      <td>...</td>\n",
       "      <td>104</td>\n",
       "      <td>104</td>\n",
       "      <td>104</td>\n",
       "      <td>105</td>\n",
       "      <td>106</td>\n",
       "      <td>106</td>\n",
       "      <td>106</td>\n",
       "      <td>106</td>\n",
       "      <td>106</td>\n",
       "      <td>106</td>\n",
       "    </tr>\n",
       "    <tr>\n",
       "      <th>9</th>\n",
       "      <td>New South Wales</td>\n",
       "      <td>Australia</td>\n",
       "      <td>-33.8688</td>\n",
       "      <td>151.2093</td>\n",
       "      <td>0</td>\n",
       "      <td>0</td>\n",
       "      <td>0</td>\n",
       "      <td>0</td>\n",
       "      <td>3</td>\n",
       "      <td>4</td>\n",
       "      <td>...</td>\n",
       "      <td>2969</td>\n",
       "      <td>2971</td>\n",
       "      <td>2976</td>\n",
       "      <td>2982</td>\n",
       "      <td>2994</td>\n",
       "      <td>3002</td>\n",
       "      <td>3004</td>\n",
       "      <td>3016</td>\n",
       "      <td>3016</td>\n",
       "      <td>3025</td>\n",
       "    </tr>\n",
       "  </tbody>\n",
       "</table>\n",
       "<p>10 rows × 104 columns</p>\n",
       "</div>"
      ],
      "text/plain": [
       "                 Province/State       Country/Region      Lat      Long  \\\n",
       "0                           NaN          Afghanistan  33.0000   65.0000   \n",
       "1                           NaN              Albania  41.1533   20.1683   \n",
       "2                           NaN              Algeria  28.0339    1.6596   \n",
       "3                           NaN              Andorra  42.5063    1.5218   \n",
       "4                           NaN               Angola -11.2027   17.8739   \n",
       "5                           NaN  Antigua and Barbuda  17.0608  -61.7964   \n",
       "6                           NaN            Argentina -38.4161  -63.6167   \n",
       "7                           NaN              Armenia  40.0691   45.0382   \n",
       "8  Australian Capital Territory            Australia -35.4735  149.0124   \n",
       "9               New South Wales            Australia -33.8688  151.2093   \n",
       "\n",
       "   1/22/20  1/23/20  1/24/20  1/25/20  1/26/20  1/27/20  ...  4/21/20  \\\n",
       "0        0        0        0        0        0        0  ...     1092   \n",
       "1        0        0        0        0        0        0  ...      609   \n",
       "2        0        0        0        0        0        0  ...     2811   \n",
       "3        0        0        0        0        0        0  ...      717   \n",
       "4        0        0        0        0        0        0  ...       24   \n",
       "5        0        0        0        0        0        0  ...       23   \n",
       "6        0        0        0        0        0        0  ...     3031   \n",
       "7        0        0        0        0        0        0  ...     1401   \n",
       "8        0        0        0        0        0        0  ...      104   \n",
       "9        0        0        0        0        3        4  ...     2969   \n",
       "\n",
       "   4/22/20  4/23/20  4/24/20  4/25/20  4/26/20  4/27/20  4/28/20  4/29/20  \\\n",
       "0     1176     1279     1351     1463     1531     1703     1828     1939   \n",
       "1      634      663      678      712      726      736      750      766   \n",
       "2     2910     3007     3127     3256     3382     3517     3649     3848   \n",
       "3      723      723      731      738      738      743      743      743   \n",
       "4       25       25       25       25       26       27       27       27   \n",
       "5       24       24       24       24       24       24       24       24   \n",
       "6     3144     3435     3607     3780     3892     4003     4127     4285   \n",
       "7     1473     1523     1596     1677     1746     1808     1867     1932   \n",
       "8      104      104      105      106      106      106      106      106   \n",
       "9     2971     2976     2982     2994     3002     3004     3016     3016   \n",
       "\n",
       "   4/30/20  \n",
       "0     2171  \n",
       "1      773  \n",
       "2     4006  \n",
       "3      745  \n",
       "4       27  \n",
       "5       24  \n",
       "6     4428  \n",
       "7     2066  \n",
       "8      106  \n",
       "9     3025  \n",
       "\n",
       "[10 rows x 104 columns]"
      ]
     },
     "execution_count": 2,
     "metadata": {},
     "output_type": "execute_result"
    }
   ],
   "source": [
    "corona_dataset_csv = pd.read_csv(\"/kaggle/input/covid19-and-world-happiness-report/covid19_Confirmed_dataset.csv\")\n",
    "corona_dataset_csv.head(10)"
   ]
  },
  {
   "cell_type": "code",
   "execution_count": 3,
   "id": "c636ee7b",
   "metadata": {
    "_cell_guid": "847bcc61-94ac-45ee-aa38-c700e3a2a998",
    "_uuid": "9d84e34d-83c7-4888-b2b5-fed469da112d",
    "collapsed": false,
    "execution": {
     "iopub.execute_input": "2023-05-20T10:07:19.945252Z",
     "iopub.status.busy": "2023-05-20T10:07:19.944874Z",
     "iopub.status.idle": "2023-05-20T10:07:19.952650Z",
     "shell.execute_reply": "2023-05-20T10:07:19.951462Z"
    },
    "jupyter": {
     "outputs_hidden": false
    },
    "papermill": {
     "duration": 0.039883,
     "end_time": "2023-05-20T10:07:19.954948",
     "exception": false,
     "start_time": "2023-05-20T10:07:19.915065",
     "status": "completed"
    },
    "tags": []
   },
   "outputs": [
    {
     "data": {
      "text/plain": [
       "(266, 104)"
      ]
     },
     "execution_count": 3,
     "metadata": {},
     "output_type": "execute_result"
    }
   ],
   "source": [
    "corona_dataset_csv.shape"
   ]
  },
  {
   "cell_type": "markdown",
   "id": "7178be28",
   "metadata": {
    "_cell_guid": "4b4176e6-c08f-41dc-a105-f6aa080c8ce3",
    "_uuid": "37a6dd4c-9118-48f5-a40d-6134b87a2c36",
    "papermill": {
     "duration": 0.029589,
     "end_time": "2023-05-20T10:07:20.014723",
     "exception": false,
     "start_time": "2023-05-20T10:07:19.985134",
     "status": "completed"
    },
    "tags": []
   },
   "source": [
    "## Removing columns not needed for the analysis"
   ]
  },
  {
   "cell_type": "code",
   "execution_count": 4,
   "id": "4f912635",
   "metadata": {
    "_cell_guid": "6a9c41b9-2076-42ba-8405-205ed0285513",
    "_uuid": "927b1d32-ef07-4528-9ff9-77175ef5a88b",
    "collapsed": false,
    "execution": {
     "iopub.execute_input": "2023-05-20T10:07:20.075672Z",
     "iopub.status.busy": "2023-05-20T10:07:20.075283Z",
     "iopub.status.idle": "2023-05-20T10:07:20.085199Z",
     "shell.execute_reply": "2023-05-20T10:07:20.084008Z"
    },
    "jupyter": {
     "outputs_hidden": false
    },
    "papermill": {
     "duration": 0.042763,
     "end_time": "2023-05-20T10:07:20.087587",
     "exception": false,
     "start_time": "2023-05-20T10:07:20.044824",
     "status": "completed"
    },
    "tags": []
   },
   "outputs": [],
   "source": [
    "df = corona_dataset_csv.drop([\"Lat\", \"Long\"],axis=1,inplace=True)"
   ]
  },
  {
   "cell_type": "code",
   "execution_count": 5,
   "id": "cf54fdc9",
   "metadata": {
    "_cell_guid": "53473d9c-f7f8-425e-b32b-3d3aa5e8a420",
    "_uuid": "926875e1-8aad-4b34-82c0-5faee9f79cb8",
    "collapsed": false,
    "execution": {
     "iopub.execute_input": "2023-05-20T10:07:20.149110Z",
     "iopub.status.busy": "2023-05-20T10:07:20.148732Z",
     "iopub.status.idle": "2023-05-20T10:07:20.171230Z",
     "shell.execute_reply": "2023-05-20T10:07:20.170034Z"
    },
    "jupyter": {
     "outputs_hidden": false
    },
    "papermill": {
     "duration": 0.055428,
     "end_time": "2023-05-20T10:07:20.173680",
     "exception": false,
     "start_time": "2023-05-20T10:07:20.118252",
     "status": "completed"
    },
    "tags": []
   },
   "outputs": [
    {
     "data": {
      "text/html": [
       "<div>\n",
       "<style scoped>\n",
       "    .dataframe tbody tr th:only-of-type {\n",
       "        vertical-align: middle;\n",
       "    }\n",
       "\n",
       "    .dataframe tbody tr th {\n",
       "        vertical-align: top;\n",
       "    }\n",
       "\n",
       "    .dataframe thead th {\n",
       "        text-align: right;\n",
       "    }\n",
       "</style>\n",
       "<table border=\"1\" class=\"dataframe\">\n",
       "  <thead>\n",
       "    <tr style=\"text-align: right;\">\n",
       "      <th></th>\n",
       "      <th>Province/State</th>\n",
       "      <th>Country/Region</th>\n",
       "      <th>1/22/20</th>\n",
       "      <th>1/23/20</th>\n",
       "      <th>1/24/20</th>\n",
       "      <th>1/25/20</th>\n",
       "      <th>1/26/20</th>\n",
       "      <th>1/27/20</th>\n",
       "      <th>1/28/20</th>\n",
       "      <th>1/29/20</th>\n",
       "      <th>...</th>\n",
       "      <th>4/21/20</th>\n",
       "      <th>4/22/20</th>\n",
       "      <th>4/23/20</th>\n",
       "      <th>4/24/20</th>\n",
       "      <th>4/25/20</th>\n",
       "      <th>4/26/20</th>\n",
       "      <th>4/27/20</th>\n",
       "      <th>4/28/20</th>\n",
       "      <th>4/29/20</th>\n",
       "      <th>4/30/20</th>\n",
       "    </tr>\n",
       "  </thead>\n",
       "  <tbody>\n",
       "    <tr>\n",
       "      <th>0</th>\n",
       "      <td>NaN</td>\n",
       "      <td>Afghanistan</td>\n",
       "      <td>0</td>\n",
       "      <td>0</td>\n",
       "      <td>0</td>\n",
       "      <td>0</td>\n",
       "      <td>0</td>\n",
       "      <td>0</td>\n",
       "      <td>0</td>\n",
       "      <td>0</td>\n",
       "      <td>...</td>\n",
       "      <td>1092</td>\n",
       "      <td>1176</td>\n",
       "      <td>1279</td>\n",
       "      <td>1351</td>\n",
       "      <td>1463</td>\n",
       "      <td>1531</td>\n",
       "      <td>1703</td>\n",
       "      <td>1828</td>\n",
       "      <td>1939</td>\n",
       "      <td>2171</td>\n",
       "    </tr>\n",
       "    <tr>\n",
       "      <th>1</th>\n",
       "      <td>NaN</td>\n",
       "      <td>Albania</td>\n",
       "      <td>0</td>\n",
       "      <td>0</td>\n",
       "      <td>0</td>\n",
       "      <td>0</td>\n",
       "      <td>0</td>\n",
       "      <td>0</td>\n",
       "      <td>0</td>\n",
       "      <td>0</td>\n",
       "      <td>...</td>\n",
       "      <td>609</td>\n",
       "      <td>634</td>\n",
       "      <td>663</td>\n",
       "      <td>678</td>\n",
       "      <td>712</td>\n",
       "      <td>726</td>\n",
       "      <td>736</td>\n",
       "      <td>750</td>\n",
       "      <td>766</td>\n",
       "      <td>773</td>\n",
       "    </tr>\n",
       "    <tr>\n",
       "      <th>2</th>\n",
       "      <td>NaN</td>\n",
       "      <td>Algeria</td>\n",
       "      <td>0</td>\n",
       "      <td>0</td>\n",
       "      <td>0</td>\n",
       "      <td>0</td>\n",
       "      <td>0</td>\n",
       "      <td>0</td>\n",
       "      <td>0</td>\n",
       "      <td>0</td>\n",
       "      <td>...</td>\n",
       "      <td>2811</td>\n",
       "      <td>2910</td>\n",
       "      <td>3007</td>\n",
       "      <td>3127</td>\n",
       "      <td>3256</td>\n",
       "      <td>3382</td>\n",
       "      <td>3517</td>\n",
       "      <td>3649</td>\n",
       "      <td>3848</td>\n",
       "      <td>4006</td>\n",
       "    </tr>\n",
       "    <tr>\n",
       "      <th>3</th>\n",
       "      <td>NaN</td>\n",
       "      <td>Andorra</td>\n",
       "      <td>0</td>\n",
       "      <td>0</td>\n",
       "      <td>0</td>\n",
       "      <td>0</td>\n",
       "      <td>0</td>\n",
       "      <td>0</td>\n",
       "      <td>0</td>\n",
       "      <td>0</td>\n",
       "      <td>...</td>\n",
       "      <td>717</td>\n",
       "      <td>723</td>\n",
       "      <td>723</td>\n",
       "      <td>731</td>\n",
       "      <td>738</td>\n",
       "      <td>738</td>\n",
       "      <td>743</td>\n",
       "      <td>743</td>\n",
       "      <td>743</td>\n",
       "      <td>745</td>\n",
       "    </tr>\n",
       "    <tr>\n",
       "      <th>4</th>\n",
       "      <td>NaN</td>\n",
       "      <td>Angola</td>\n",
       "      <td>0</td>\n",
       "      <td>0</td>\n",
       "      <td>0</td>\n",
       "      <td>0</td>\n",
       "      <td>0</td>\n",
       "      <td>0</td>\n",
       "      <td>0</td>\n",
       "      <td>0</td>\n",
       "      <td>...</td>\n",
       "      <td>24</td>\n",
       "      <td>25</td>\n",
       "      <td>25</td>\n",
       "      <td>25</td>\n",
       "      <td>25</td>\n",
       "      <td>26</td>\n",
       "      <td>27</td>\n",
       "      <td>27</td>\n",
       "      <td>27</td>\n",
       "      <td>27</td>\n",
       "    </tr>\n",
       "    <tr>\n",
       "      <th>5</th>\n",
       "      <td>NaN</td>\n",
       "      <td>Antigua and Barbuda</td>\n",
       "      <td>0</td>\n",
       "      <td>0</td>\n",
       "      <td>0</td>\n",
       "      <td>0</td>\n",
       "      <td>0</td>\n",
       "      <td>0</td>\n",
       "      <td>0</td>\n",
       "      <td>0</td>\n",
       "      <td>...</td>\n",
       "      <td>23</td>\n",
       "      <td>24</td>\n",
       "      <td>24</td>\n",
       "      <td>24</td>\n",
       "      <td>24</td>\n",
       "      <td>24</td>\n",
       "      <td>24</td>\n",
       "      <td>24</td>\n",
       "      <td>24</td>\n",
       "      <td>24</td>\n",
       "    </tr>\n",
       "    <tr>\n",
       "      <th>6</th>\n",
       "      <td>NaN</td>\n",
       "      <td>Argentina</td>\n",
       "      <td>0</td>\n",
       "      <td>0</td>\n",
       "      <td>0</td>\n",
       "      <td>0</td>\n",
       "      <td>0</td>\n",
       "      <td>0</td>\n",
       "      <td>0</td>\n",
       "      <td>0</td>\n",
       "      <td>...</td>\n",
       "      <td>3031</td>\n",
       "      <td>3144</td>\n",
       "      <td>3435</td>\n",
       "      <td>3607</td>\n",
       "      <td>3780</td>\n",
       "      <td>3892</td>\n",
       "      <td>4003</td>\n",
       "      <td>4127</td>\n",
       "      <td>4285</td>\n",
       "      <td>4428</td>\n",
       "    </tr>\n",
       "    <tr>\n",
       "      <th>7</th>\n",
       "      <td>NaN</td>\n",
       "      <td>Armenia</td>\n",
       "      <td>0</td>\n",
       "      <td>0</td>\n",
       "      <td>0</td>\n",
       "      <td>0</td>\n",
       "      <td>0</td>\n",
       "      <td>0</td>\n",
       "      <td>0</td>\n",
       "      <td>0</td>\n",
       "      <td>...</td>\n",
       "      <td>1401</td>\n",
       "      <td>1473</td>\n",
       "      <td>1523</td>\n",
       "      <td>1596</td>\n",
       "      <td>1677</td>\n",
       "      <td>1746</td>\n",
       "      <td>1808</td>\n",
       "      <td>1867</td>\n",
       "      <td>1932</td>\n",
       "      <td>2066</td>\n",
       "    </tr>\n",
       "    <tr>\n",
       "      <th>8</th>\n",
       "      <td>Australian Capital Territory</td>\n",
       "      <td>Australia</td>\n",
       "      <td>0</td>\n",
       "      <td>0</td>\n",
       "      <td>0</td>\n",
       "      <td>0</td>\n",
       "      <td>0</td>\n",
       "      <td>0</td>\n",
       "      <td>0</td>\n",
       "      <td>0</td>\n",
       "      <td>...</td>\n",
       "      <td>104</td>\n",
       "      <td>104</td>\n",
       "      <td>104</td>\n",
       "      <td>105</td>\n",
       "      <td>106</td>\n",
       "      <td>106</td>\n",
       "      <td>106</td>\n",
       "      <td>106</td>\n",
       "      <td>106</td>\n",
       "      <td>106</td>\n",
       "    </tr>\n",
       "    <tr>\n",
       "      <th>9</th>\n",
       "      <td>New South Wales</td>\n",
       "      <td>Australia</td>\n",
       "      <td>0</td>\n",
       "      <td>0</td>\n",
       "      <td>0</td>\n",
       "      <td>0</td>\n",
       "      <td>3</td>\n",
       "      <td>4</td>\n",
       "      <td>4</td>\n",
       "      <td>4</td>\n",
       "      <td>...</td>\n",
       "      <td>2969</td>\n",
       "      <td>2971</td>\n",
       "      <td>2976</td>\n",
       "      <td>2982</td>\n",
       "      <td>2994</td>\n",
       "      <td>3002</td>\n",
       "      <td>3004</td>\n",
       "      <td>3016</td>\n",
       "      <td>3016</td>\n",
       "      <td>3025</td>\n",
       "    </tr>\n",
       "  </tbody>\n",
       "</table>\n",
       "<p>10 rows × 102 columns</p>\n",
       "</div>"
      ],
      "text/plain": [
       "                 Province/State       Country/Region  1/22/20  1/23/20  \\\n",
       "0                           NaN          Afghanistan        0        0   \n",
       "1                           NaN              Albania        0        0   \n",
       "2                           NaN              Algeria        0        0   \n",
       "3                           NaN              Andorra        0        0   \n",
       "4                           NaN               Angola        0        0   \n",
       "5                           NaN  Antigua and Barbuda        0        0   \n",
       "6                           NaN            Argentina        0        0   \n",
       "7                           NaN              Armenia        0        0   \n",
       "8  Australian Capital Territory            Australia        0        0   \n",
       "9               New South Wales            Australia        0        0   \n",
       "\n",
       "   1/24/20  1/25/20  1/26/20  1/27/20  1/28/20  1/29/20  ...  4/21/20  \\\n",
       "0        0        0        0        0        0        0  ...     1092   \n",
       "1        0        0        0        0        0        0  ...      609   \n",
       "2        0        0        0        0        0        0  ...     2811   \n",
       "3        0        0        0        0        0        0  ...      717   \n",
       "4        0        0        0        0        0        0  ...       24   \n",
       "5        0        0        0        0        0        0  ...       23   \n",
       "6        0        0        0        0        0        0  ...     3031   \n",
       "7        0        0        0        0        0        0  ...     1401   \n",
       "8        0        0        0        0        0        0  ...      104   \n",
       "9        0        0        3        4        4        4  ...     2969   \n",
       "\n",
       "   4/22/20  4/23/20  4/24/20  4/25/20  4/26/20  4/27/20  4/28/20  4/29/20  \\\n",
       "0     1176     1279     1351     1463     1531     1703     1828     1939   \n",
       "1      634      663      678      712      726      736      750      766   \n",
       "2     2910     3007     3127     3256     3382     3517     3649     3848   \n",
       "3      723      723      731      738      738      743      743      743   \n",
       "4       25       25       25       25       26       27       27       27   \n",
       "5       24       24       24       24       24       24       24       24   \n",
       "6     3144     3435     3607     3780     3892     4003     4127     4285   \n",
       "7     1473     1523     1596     1677     1746     1808     1867     1932   \n",
       "8      104      104      105      106      106      106      106      106   \n",
       "9     2971     2976     2982     2994     3002     3004     3016     3016   \n",
       "\n",
       "   4/30/20  \n",
       "0     2171  \n",
       "1      773  \n",
       "2     4006  \n",
       "3      745  \n",
       "4       27  \n",
       "5       24  \n",
       "6     4428  \n",
       "7     2066  \n",
       "8      106  \n",
       "9     3025  \n",
       "\n",
       "[10 rows x 102 columns]"
      ]
     },
     "execution_count": 5,
     "metadata": {},
     "output_type": "execute_result"
    }
   ],
   "source": [
    "corona_dataset_csv.head(10)"
   ]
  },
  {
   "cell_type": "markdown",
   "id": "33d5ecdf",
   "metadata": {
    "_cell_guid": "de1d94eb-7c0a-4d59-8c6b-a69d98536ce4",
    "_uuid": "526c06b5-7544-4f92-86ac-a9c6aacb2c1c",
    "papermill": {
     "duration": 0.029646,
     "end_time": "2023-05-20T10:07:20.233430",
     "exception": false,
     "start_time": "2023-05-20T10:07:20.203784",
     "status": "completed"
    },
    "tags": []
   },
   "source": [
    "## Aggregating rows by country"
   ]
  },
  {
   "cell_type": "code",
   "execution_count": 6,
   "id": "1b4dde7b",
   "metadata": {
    "_cell_guid": "b354dfdd-49b4-4dfe-8aac-bc367e5470b1",
    "_uuid": "693bedb4-a7cd-4b27-a8ab-cede46927bbf",
    "collapsed": false,
    "execution": {
     "iopub.execute_input": "2023-05-20T10:07:20.294595Z",
     "iopub.status.busy": "2023-05-20T10:07:20.293776Z",
     "iopub.status.idle": "2023-05-20T10:07:20.307762Z",
     "shell.execute_reply": "2023-05-20T10:07:20.306659Z"
    },
    "jupyter": {
     "outputs_hidden": false
    },
    "papermill": {
     "duration": 0.047267,
     "end_time": "2023-05-20T10:07:20.310117",
     "exception": false,
     "start_time": "2023-05-20T10:07:20.262850",
     "status": "completed"
    },
    "tags": []
   },
   "outputs": [
    {
     "name": "stderr",
     "output_type": "stream",
     "text": [
      "/tmp/ipykernel_20/3159044292.py:1: FutureWarning: The default value of numeric_only in DataFrameGroupBy.sum is deprecated. In a future version, numeric_only will default to False. Either specify numeric_only or select only columns which should be valid for the function.\n",
      "  corona_dataset_aggregated = corona_dataset_csv.groupby(\"Country/Region\").sum()\n"
     ]
    }
   ],
   "source": [
    "corona_dataset_aggregated = corona_dataset_csv.groupby(\"Country/Region\").sum()"
   ]
  },
  {
   "cell_type": "code",
   "execution_count": 7,
   "id": "7c092582",
   "metadata": {
    "_cell_guid": "36c8e432-71c5-49c6-bb1a-e5c9d2fbed6c",
    "_uuid": "bda7dbc8-d7a3-4b16-b1e5-f017da475d15",
    "collapsed": false,
    "execution": {
     "iopub.execute_input": "2023-05-20T10:07:20.371121Z",
     "iopub.status.busy": "2023-05-20T10:07:20.370678Z",
     "iopub.status.idle": "2023-05-20T10:07:20.389526Z",
     "shell.execute_reply": "2023-05-20T10:07:20.388604Z"
    },
    "jupyter": {
     "outputs_hidden": false
    },
    "papermill": {
     "duration": 0.052233,
     "end_time": "2023-05-20T10:07:20.391814",
     "exception": false,
     "start_time": "2023-05-20T10:07:20.339581",
     "status": "completed"
    },
    "tags": []
   },
   "outputs": [
    {
     "data": {
      "text/html": [
       "<div>\n",
       "<style scoped>\n",
       "    .dataframe tbody tr th:only-of-type {\n",
       "        vertical-align: middle;\n",
       "    }\n",
       "\n",
       "    .dataframe tbody tr th {\n",
       "        vertical-align: top;\n",
       "    }\n",
       "\n",
       "    .dataframe thead th {\n",
       "        text-align: right;\n",
       "    }\n",
       "</style>\n",
       "<table border=\"1\" class=\"dataframe\">\n",
       "  <thead>\n",
       "    <tr style=\"text-align: right;\">\n",
       "      <th></th>\n",
       "      <th>1/22/20</th>\n",
       "      <th>1/23/20</th>\n",
       "      <th>1/24/20</th>\n",
       "      <th>1/25/20</th>\n",
       "      <th>1/26/20</th>\n",
       "      <th>1/27/20</th>\n",
       "      <th>1/28/20</th>\n",
       "      <th>1/29/20</th>\n",
       "      <th>1/30/20</th>\n",
       "      <th>1/31/20</th>\n",
       "      <th>...</th>\n",
       "      <th>4/21/20</th>\n",
       "      <th>4/22/20</th>\n",
       "      <th>4/23/20</th>\n",
       "      <th>4/24/20</th>\n",
       "      <th>4/25/20</th>\n",
       "      <th>4/26/20</th>\n",
       "      <th>4/27/20</th>\n",
       "      <th>4/28/20</th>\n",
       "      <th>4/29/20</th>\n",
       "      <th>4/30/20</th>\n",
       "    </tr>\n",
       "    <tr>\n",
       "      <th>Country/Region</th>\n",
       "      <th></th>\n",
       "      <th></th>\n",
       "      <th></th>\n",
       "      <th></th>\n",
       "      <th></th>\n",
       "      <th></th>\n",
       "      <th></th>\n",
       "      <th></th>\n",
       "      <th></th>\n",
       "      <th></th>\n",
       "      <th></th>\n",
       "      <th></th>\n",
       "      <th></th>\n",
       "      <th></th>\n",
       "      <th></th>\n",
       "      <th></th>\n",
       "      <th></th>\n",
       "      <th></th>\n",
       "      <th></th>\n",
       "      <th></th>\n",
       "      <th></th>\n",
       "    </tr>\n",
       "  </thead>\n",
       "  <tbody>\n",
       "    <tr>\n",
       "      <th>Afghanistan</th>\n",
       "      <td>0</td>\n",
       "      <td>0</td>\n",
       "      <td>0</td>\n",
       "      <td>0</td>\n",
       "      <td>0</td>\n",
       "      <td>0</td>\n",
       "      <td>0</td>\n",
       "      <td>0</td>\n",
       "      <td>0</td>\n",
       "      <td>0</td>\n",
       "      <td>...</td>\n",
       "      <td>1092</td>\n",
       "      <td>1176</td>\n",
       "      <td>1279</td>\n",
       "      <td>1351</td>\n",
       "      <td>1463</td>\n",
       "      <td>1531</td>\n",
       "      <td>1703</td>\n",
       "      <td>1828</td>\n",
       "      <td>1939</td>\n",
       "      <td>2171</td>\n",
       "    </tr>\n",
       "    <tr>\n",
       "      <th>Albania</th>\n",
       "      <td>0</td>\n",
       "      <td>0</td>\n",
       "      <td>0</td>\n",
       "      <td>0</td>\n",
       "      <td>0</td>\n",
       "      <td>0</td>\n",
       "      <td>0</td>\n",
       "      <td>0</td>\n",
       "      <td>0</td>\n",
       "      <td>0</td>\n",
       "      <td>...</td>\n",
       "      <td>609</td>\n",
       "      <td>634</td>\n",
       "      <td>663</td>\n",
       "      <td>678</td>\n",
       "      <td>712</td>\n",
       "      <td>726</td>\n",
       "      <td>736</td>\n",
       "      <td>750</td>\n",
       "      <td>766</td>\n",
       "      <td>773</td>\n",
       "    </tr>\n",
       "    <tr>\n",
       "      <th>Algeria</th>\n",
       "      <td>0</td>\n",
       "      <td>0</td>\n",
       "      <td>0</td>\n",
       "      <td>0</td>\n",
       "      <td>0</td>\n",
       "      <td>0</td>\n",
       "      <td>0</td>\n",
       "      <td>0</td>\n",
       "      <td>0</td>\n",
       "      <td>0</td>\n",
       "      <td>...</td>\n",
       "      <td>2811</td>\n",
       "      <td>2910</td>\n",
       "      <td>3007</td>\n",
       "      <td>3127</td>\n",
       "      <td>3256</td>\n",
       "      <td>3382</td>\n",
       "      <td>3517</td>\n",
       "      <td>3649</td>\n",
       "      <td>3848</td>\n",
       "      <td>4006</td>\n",
       "    </tr>\n",
       "    <tr>\n",
       "      <th>Andorra</th>\n",
       "      <td>0</td>\n",
       "      <td>0</td>\n",
       "      <td>0</td>\n",
       "      <td>0</td>\n",
       "      <td>0</td>\n",
       "      <td>0</td>\n",
       "      <td>0</td>\n",
       "      <td>0</td>\n",
       "      <td>0</td>\n",
       "      <td>0</td>\n",
       "      <td>...</td>\n",
       "      <td>717</td>\n",
       "      <td>723</td>\n",
       "      <td>723</td>\n",
       "      <td>731</td>\n",
       "      <td>738</td>\n",
       "      <td>738</td>\n",
       "      <td>743</td>\n",
       "      <td>743</td>\n",
       "      <td>743</td>\n",
       "      <td>745</td>\n",
       "    </tr>\n",
       "    <tr>\n",
       "      <th>Angola</th>\n",
       "      <td>0</td>\n",
       "      <td>0</td>\n",
       "      <td>0</td>\n",
       "      <td>0</td>\n",
       "      <td>0</td>\n",
       "      <td>0</td>\n",
       "      <td>0</td>\n",
       "      <td>0</td>\n",
       "      <td>0</td>\n",
       "      <td>0</td>\n",
       "      <td>...</td>\n",
       "      <td>24</td>\n",
       "      <td>25</td>\n",
       "      <td>25</td>\n",
       "      <td>25</td>\n",
       "      <td>25</td>\n",
       "      <td>26</td>\n",
       "      <td>27</td>\n",
       "      <td>27</td>\n",
       "      <td>27</td>\n",
       "      <td>27</td>\n",
       "    </tr>\n",
       "  </tbody>\n",
       "</table>\n",
       "<p>5 rows × 100 columns</p>\n",
       "</div>"
      ],
      "text/plain": [
       "                1/22/20  1/23/20  1/24/20  1/25/20  1/26/20  1/27/20  1/28/20  \\\n",
       "Country/Region                                                                  \n",
       "Afghanistan           0        0        0        0        0        0        0   \n",
       "Albania               0        0        0        0        0        0        0   \n",
       "Algeria               0        0        0        0        0        0        0   \n",
       "Andorra               0        0        0        0        0        0        0   \n",
       "Angola                0        0        0        0        0        0        0   \n",
       "\n",
       "                1/29/20  1/30/20  1/31/20  ...  4/21/20  4/22/20  4/23/20  \\\n",
       "Country/Region                             ...                              \n",
       "Afghanistan           0        0        0  ...     1092     1176     1279   \n",
       "Albania               0        0        0  ...      609      634      663   \n",
       "Algeria               0        0        0  ...     2811     2910     3007   \n",
       "Andorra               0        0        0  ...      717      723      723   \n",
       "Angola                0        0        0  ...       24       25       25   \n",
       "\n",
       "                4/24/20  4/25/20  4/26/20  4/27/20  4/28/20  4/29/20  4/30/20  \n",
       "Country/Region                                                                 \n",
       "Afghanistan        1351     1463     1531     1703     1828     1939     2171  \n",
       "Albania             678      712      726      736      750      766      773  \n",
       "Algeria            3127     3256     3382     3517     3649     3848     4006  \n",
       "Andorra             731      738      738      743      743      743      745  \n",
       "Angola               25       25       26       27       27       27       27  \n",
       "\n",
       "[5 rows x 100 columns]"
      ]
     },
     "execution_count": 7,
     "metadata": {},
     "output_type": "execute_result"
    }
   ],
   "source": [
    "corona_dataset_aggregated.head()"
   ]
  },
  {
   "cell_type": "code",
   "execution_count": 8,
   "id": "b43d6685",
   "metadata": {
    "_cell_guid": "63f78366-2318-429b-b81e-70d797167f5d",
    "_uuid": "5a3810b8-9a98-45d2-b511-d1992a4b4b58",
    "collapsed": false,
    "execution": {
     "iopub.execute_input": "2023-05-20T10:07:20.455377Z",
     "iopub.status.busy": "2023-05-20T10:07:20.454201Z",
     "iopub.status.idle": "2023-05-20T10:07:20.460408Z",
     "shell.execute_reply": "2023-05-20T10:07:20.459599Z"
    },
    "jupyter": {
     "outputs_hidden": false
    },
    "papermill": {
     "duration": 0.040315,
     "end_time": "2023-05-20T10:07:20.462536",
     "exception": false,
     "start_time": "2023-05-20T10:07:20.422221",
     "status": "completed"
    },
    "tags": []
   },
   "outputs": [
    {
     "data": {
      "text/plain": [
       "(187, 100)"
      ]
     },
     "execution_count": 8,
     "metadata": {},
     "output_type": "execute_result"
    }
   ],
   "source": [
    "corona_dataset_aggregated.shape"
   ]
  },
  {
   "cell_type": "markdown",
   "id": "006f2ab3",
   "metadata": {
    "_cell_guid": "161ac394-773d-48b1-aedf-e804554a71e4",
    "_uuid": "758b430b-3f7e-4062-b5c5-0ac1069d67ae",
    "papermill": {
     "duration": 0.030078,
     "end_time": "2023-05-20T10:07:20.522958",
     "exception": false,
     "start_time": "2023-05-20T10:07:20.492880",
     "status": "completed"
    },
    "tags": []
   },
   "source": [
    "## Inital visualization of related data to a sample of coutries. China, Italy and Spain"
   ]
  },
  {
   "cell_type": "code",
   "execution_count": 9,
   "id": "8025f406",
   "metadata": {
    "_cell_guid": "d28b4be5-9d56-4b80-9af2-18e902cadb54",
    "_uuid": "419bb5df-5204-4434-87bf-7253f966bc00",
    "collapsed": false,
    "execution": {
     "iopub.execute_input": "2023-05-20T10:07:20.585816Z",
     "iopub.status.busy": "2023-05-20T10:07:20.584654Z",
     "iopub.status.idle": "2023-05-20T10:07:20.895559Z",
     "shell.execute_reply": "2023-05-20T10:07:20.894281Z"
    },
    "jupyter": {
     "outputs_hidden": false
    },
    "papermill": {
     "duration": 0.344976,
     "end_time": "2023-05-20T10:07:20.898295",
     "exception": false,
     "start_time": "2023-05-20T10:07:20.553319",
     "status": "completed"
    },
    "tags": []
   },
   "outputs": [
    {
     "data": {
      "text/plain": [
       "<matplotlib.legend.Legend at 0x789529513850>"
      ]
     },
     "execution_count": 9,
     "metadata": {},
     "output_type": "execute_result"
    },
    {
     "data": {
      "image/png": "[encoded data removed]",
      "text/plain": [
       "<Figure size 640x480 with 1 Axes>"
      ]
     },
     "metadata": {},
     "output_type": "display_data"
    }
   ],
   "source": [
    "corona_dataset_aggregated.loc[\"China\"].plot()\n",
    "corona_dataset_aggregated.loc[\"Italy\"].plot()\n",
    "corona_dataset_aggregated.loc[\"Spain\"].plot()\n",
    "plt.legend()"
   ]
  },
  {
   "cell_type": "markdown",
   "id": "97488e68",
   "metadata": {
    "_cell_guid": "4a4e050d-00b7-4433-84eb-6a3054cab517",
    "_uuid": "41944161-e00e-4fbc-8149-cfe8e3618e2a",
    "papermill": {
     "duration": 0.031963,
     "end_time": "2023-05-20T10:07:20.962020",
     "exception": false,
     "start_time": "2023-05-20T10:07:20.930057",
     "status": "completed"
    },
    "tags": []
   },
   "source": [
    "## Caculating the first derivative of the vacine"
   ]
  },
  {
   "cell_type": "code",
   "execution_count": 10,
   "id": "06731765",
   "metadata": {
    "_cell_guid": "9d58557a-6252-4294-8d97-bc153f4c923e",
    "_uuid": "e07fcdcf-22cf-47b2-be81-b42ed0087552",
    "collapsed": false,
    "execution": {
     "iopub.execute_input": "2023-05-20T10:07:21.027766Z",
     "iopub.status.busy": "2023-05-20T10:07:21.026590Z",
     "iopub.status.idle": "2023-05-20T10:07:21.212545Z",
     "shell.execute_reply": "2023-05-20T10:07:21.211428Z"
    },
    "jupyter": {
     "outputs_hidden": false
    },
    "papermill": {
     "duration": 0.220907,
     "end_time": "2023-05-20T10:07:21.214848",
     "exception": false,
     "start_time": "2023-05-20T10:07:20.993941",
     "status": "completed"
    },
    "tags": []
   },
   "outputs": [
    {
     "data": {
      "text/plain": [
       "<AxesSubplot: >"
      ]
     },
     "execution_count": 10,
     "metadata": {},
     "output_type": "execute_result"
    },
    {
     "data": {
      "image/png": "[encoded data removed]",
      "text/plain": [
       "<Figure size 640x480 with 1 Axes>"
      ]
     },
     "metadata": {},
     "output_type": "display_data"
    }
   ],
   "source": [
    "corona_dataset_aggregated.loc[\"China\"].diff().plot()"
   ]
  },
  {
   "cell_type": "markdown",
   "id": "87d14a1f",
   "metadata": {
    "_cell_guid": "dc9dfaf6-7f7a-49c6-b417-c29a260a3718",
    "_uuid": "49a5576b-d1a6-48b5-be90-974be8a8c573",
    "papermill": {
     "duration": 0.03245,
     "end_time": "2023-05-20T10:07:21.279655",
     "exception": false,
     "start_time": "2023-05-20T10:07:21.247205",
     "status": "completed"
    },
    "tags": []
   },
   "source": [
    "## Finding maxmimum infection rate for China, Italy and Spain"
   ]
  },
  {
   "cell_type": "code",
   "execution_count": 11,
   "id": "ef817cdd",
   "metadata": {
    "_cell_guid": "ea7b1824-b800-40f4-be5d-a6a402fe1569",
    "_uuid": "47ffdaeb-4c5a-4443-adea-abbdf8dc82bc",
    "collapsed": false,
    "execution": {
     "iopub.execute_input": "2023-05-20T10:07:21.345383Z",
     "iopub.status.busy": "2023-05-20T10:07:21.344966Z",
     "iopub.status.idle": "2023-05-20T10:07:21.352913Z",
     "shell.execute_reply": "2023-05-20T10:07:21.351863Z"
    },
    "jupyter": {
     "outputs_hidden": false
    },
    "papermill": {
     "duration": 0.043404,
     "end_time": "2023-05-20T10:07:21.355113",
     "exception": false,
     "start_time": "2023-05-20T10:07:21.311709",
     "status": "completed"
    },
    "tags": []
   },
   "outputs": [
    {
     "data": {
      "text/plain": [
       "15136.0"
      ]
     },
     "execution_count": 11,
     "metadata": {},
     "output_type": "execute_result"
    }
   ],
   "source": [
    "corona_dataset_aggregated.loc[\"China\"].diff().max()"
   ]
  },
  {
   "cell_type": "code",
   "execution_count": 12,
   "id": "f086cce2",
   "metadata": {
    "_cell_guid": "5707d8ba-c363-40b6-a937-238a4e532c09",
    "_uuid": "f6dca21f-75a9-43e4-977d-ce25665e1a4a",
    "collapsed": false,
    "execution": {
     "iopub.execute_input": "2023-05-20T10:07:21.421716Z",
     "iopub.status.busy": "2023-05-20T10:07:21.420992Z",
     "iopub.status.idle": "2023-05-20T10:07:21.428017Z",
     "shell.execute_reply": "2023-05-20T10:07:21.426985Z"
    },
    "jupyter": {
     "outputs_hidden": false
    },
    "papermill": {
     "duration": 0.042966,
     "end_time": "2023-05-20T10:07:21.430157",
     "exception": false,
     "start_time": "2023-05-20T10:07:21.387191",
     "status": "completed"
    },
    "tags": []
   },
   "outputs": [
    {
     "data": {
      "text/plain": [
       "6557.0"
      ]
     },
     "execution_count": 12,
     "metadata": {},
     "output_type": "execute_result"
    }
   ],
   "source": [
    "corona_dataset_aggregated.loc[\"Italy\"].diff().max()"
   ]
  },
  {
   "cell_type": "code",
   "execution_count": 13,
   "id": "60ad7a6c",
   "metadata": {
    "_cell_guid": "75c9dd37-9d67-404d-930a-722a40918e85",
    "_uuid": "6e70df84-6a6d-4109-8af6-d7c3dcdf7d41",
    "collapsed": false,
    "execution": {
     "iopub.execute_input": "2023-05-20T10:07:21.497434Z",
     "iopub.status.busy": "2023-05-20T10:07:21.496995Z",
     "iopub.status.idle": "2023-05-20T10:07:21.505122Z",
     "shell.execute_reply": "2023-05-20T10:07:21.504301Z"
    },
    "jupyter": {
     "outputs_hidden": false
    },
    "papermill": {
     "duration": 0.044173,
     "end_time": "2023-05-20T10:07:21.507322",
     "exception": false,
     "start_time": "2023-05-20T10:07:21.463149",
     "status": "completed"
    },
    "tags": []
   },
   "outputs": [
    {
     "data": {
      "text/plain": [
       "9630.0"
      ]
     },
     "execution_count": 13,
     "metadata": {},
     "output_type": "execute_result"
    }
   ],
   "source": [
    "corona_dataset_aggregated.loc[\"Spain\"].diff().max()"
   ]
  },
  {
   "cell_type": "markdown",
   "id": "d051c348",
   "metadata": {
    "_cell_guid": "9102db42-4ed3-4b53-bc24-e4e869691f7b",
    "_uuid": "888289a0-b904-44d1-8739-299fac094499",
    "papermill": {
     "duration": 0.03266,
     "end_time": "2023-05-20T10:07:21.572594",
     "exception": false,
     "start_time": "2023-05-20T10:07:21.539934",
     "status": "completed"
    },
    "tags": []
   },
   "source": [
    "## Using for loop to find the maximum inferction rate for all countries"
   ]
  },
  {
   "cell_type": "code",
   "execution_count": 14,
   "id": "7528435e",
   "metadata": {
    "_cell_guid": "cf6a06ac-e03b-44fa-a6a9-04e25314c69d",
    "_uuid": "565f67e7-6378-488f-bce0-9212b4f5f3eb",
    "collapsed": false,
    "execution": {
     "iopub.execute_input": "2023-05-20T10:07:21.640983Z",
     "iopub.status.busy": "2023-05-20T10:07:21.639787Z",
     "iopub.status.idle": "2023-05-20T10:07:21.706587Z",
     "shell.execute_reply": "2023-05-20T10:07:21.705406Z"
    },
    "jupyter": {
     "outputs_hidden": false
    },
    "papermill": {
     "duration": 0.104308,
     "end_time": "2023-05-20T10:07:21.709377",
     "exception": false,
     "start_time": "2023-05-20T10:07:21.605069",
     "status": "completed"
    },
    "tags": []
   },
   "outputs": [],
   "source": [
    "countries = list(corona_dataset_aggregated.index)\n",
    "max_infection_rates = []\n",
    "for c in countries :\n",
    "    max_infection_rates.append(corona_dataset_aggregated.loc[c].diff().max())\n",
    "corona_dataset_aggregated[\"max_infection_rates\"] = max_infection_rates"
   ]
  },
  {
   "cell_type": "code",
   "execution_count": 15,
   "id": "5cab4729",
   "metadata": {
    "_cell_guid": "52e79a74-b948-4f0d-b0c1-c1eff79e687e",
    "_uuid": "a0aa544b-aeef-4382-bacc-dbda4bce14b2",
    "collapsed": false,
    "execution": {
     "iopub.execute_input": "2023-05-20T10:07:21.777279Z",
     "iopub.status.busy": "2023-05-20T10:07:21.776847Z",
     "iopub.status.idle": "2023-05-20T10:07:21.798620Z",
     "shell.execute_reply": "2023-05-20T10:07:21.797475Z"
    },
    "jupyter": {
     "outputs_hidden": false
    },
    "papermill": {
     "duration": 0.059025,
     "end_time": "2023-05-20T10:07:21.801319",
     "exception": false,
     "start_time": "2023-05-20T10:07:21.742294",
     "status": "completed"
    },
    "tags": []
   },
   "outputs": [
    {
     "data": {
      "text/html": [
       "<div>\n",
       "<style scoped>\n",
       "    .dataframe tbody tr th:only-of-type {\n",
       "        vertical-align: middle;\n",
       "    }\n",
       "\n",
       "    .dataframe tbody tr th {\n",
       "        vertical-align: top;\n",
       "    }\n",
       "\n",
       "    .dataframe thead th {\n",
       "        text-align: right;\n",
       "    }\n",
       "</style>\n",
       "<table border=\"1\" class=\"dataframe\">\n",
       "  <thead>\n",
       "    <tr style=\"text-align: right;\">\n",
       "      <th></th>\n",
       "      <th>1/22/20</th>\n",
       "      <th>1/23/20</th>\n",
       "      <th>1/24/20</th>\n",
       "      <th>1/25/20</th>\n",
       "      <th>1/26/20</th>\n",
       "      <th>1/27/20</th>\n",
       "      <th>1/28/20</th>\n",
       "      <th>1/29/20</th>\n",
       "      <th>1/30/20</th>\n",
       "      <th>1/31/20</th>\n",
       "      <th>...</th>\n",
       "      <th>4/22/20</th>\n",
       "      <th>4/23/20</th>\n",
       "      <th>4/24/20</th>\n",
       "      <th>4/25/20</th>\n",
       "      <th>4/26/20</th>\n",
       "      <th>4/27/20</th>\n",
       "      <th>4/28/20</th>\n",
       "      <th>4/29/20</th>\n",
       "      <th>4/30/20</th>\n",
       "      <th>max_infection_rates</th>\n",
       "    </tr>\n",
       "    <tr>\n",
       "      <th>Country/Region</th>\n",
       "      <th></th>\n",
       "      <th></th>\n",
       "      <th></th>\n",
       "      <th></th>\n",
       "      <th></th>\n",
       "      <th></th>\n",
       "      <th></th>\n",
       "      <th></th>\n",
       "      <th></th>\n",
       "      <th></th>\n",
       "      <th></th>\n",
       "      <th></th>\n",
       "      <th></th>\n",
       "      <th></th>\n",
       "      <th></th>\n",
       "      <th></th>\n",
       "      <th></th>\n",
       "      <th></th>\n",
       "      <th></th>\n",
       "      <th></th>\n",
       "      <th></th>\n",
       "    </tr>\n",
       "  </thead>\n",
       "  <tbody>\n",
       "    <tr>\n",
       "      <th>Afghanistan</th>\n",
       "      <td>0</td>\n",
       "      <td>0</td>\n",
       "      <td>0</td>\n",
       "      <td>0</td>\n",
       "      <td>0</td>\n",
       "      <td>0</td>\n",
       "      <td>0</td>\n",
       "      <td>0</td>\n",
       "      <td>0</td>\n",
       "      <td>0</td>\n",
       "      <td>...</td>\n",
       "      <td>1176</td>\n",
       "      <td>1279</td>\n",
       "      <td>1351</td>\n",
       "      <td>1463</td>\n",
       "      <td>1531</td>\n",
       "      <td>1703</td>\n",
       "      <td>1828</td>\n",
       "      <td>1939</td>\n",
       "      <td>2171</td>\n",
       "      <td>232.0</td>\n",
       "    </tr>\n",
       "    <tr>\n",
       "      <th>Albania</th>\n",
       "      <td>0</td>\n",
       "      <td>0</td>\n",
       "      <td>0</td>\n",
       "      <td>0</td>\n",
       "      <td>0</td>\n",
       "      <td>0</td>\n",
       "      <td>0</td>\n",
       "      <td>0</td>\n",
       "      <td>0</td>\n",
       "      <td>0</td>\n",
       "      <td>...</td>\n",
       "      <td>634</td>\n",
       "      <td>663</td>\n",
       "      <td>678</td>\n",
       "      <td>712</td>\n",
       "      <td>726</td>\n",
       "      <td>736</td>\n",
       "      <td>750</td>\n",
       "      <td>766</td>\n",
       "      <td>773</td>\n",
       "      <td>34.0</td>\n",
       "    </tr>\n",
       "    <tr>\n",
       "      <th>Algeria</th>\n",
       "      <td>0</td>\n",
       "      <td>0</td>\n",
       "      <td>0</td>\n",
       "      <td>0</td>\n",
       "      <td>0</td>\n",
       "      <td>0</td>\n",
       "      <td>0</td>\n",
       "      <td>0</td>\n",
       "      <td>0</td>\n",
       "      <td>0</td>\n",
       "      <td>...</td>\n",
       "      <td>2910</td>\n",
       "      <td>3007</td>\n",
       "      <td>3127</td>\n",
       "      <td>3256</td>\n",
       "      <td>3382</td>\n",
       "      <td>3517</td>\n",
       "      <td>3649</td>\n",
       "      <td>3848</td>\n",
       "      <td>4006</td>\n",
       "      <td>199.0</td>\n",
       "    </tr>\n",
       "    <tr>\n",
       "      <th>Andorra</th>\n",
       "      <td>0</td>\n",
       "      <td>0</td>\n",
       "      <td>0</td>\n",
       "      <td>0</td>\n",
       "      <td>0</td>\n",
       "      <td>0</td>\n",
       "      <td>0</td>\n",
       "      <td>0</td>\n",
       "      <td>0</td>\n",
       "      <td>0</td>\n",
       "      <td>...</td>\n",
       "      <td>723</td>\n",
       "      <td>723</td>\n",
       "      <td>731</td>\n",
       "      <td>738</td>\n",
       "      <td>738</td>\n",
       "      <td>743</td>\n",
       "      <td>743</td>\n",
       "      <td>743</td>\n",
       "      <td>745</td>\n",
       "      <td>43.0</td>\n",
       "    </tr>\n",
       "    <tr>\n",
       "      <th>Angola</th>\n",
       "      <td>0</td>\n",
       "      <td>0</td>\n",
       "      <td>0</td>\n",
       "      <td>0</td>\n",
       "      <td>0</td>\n",
       "      <td>0</td>\n",
       "      <td>0</td>\n",
       "      <td>0</td>\n",
       "      <td>0</td>\n",
       "      <td>0</td>\n",
       "      <td>...</td>\n",
       "      <td>25</td>\n",
       "      <td>25</td>\n",
       "      <td>25</td>\n",
       "      <td>25</td>\n",
       "      <td>26</td>\n",
       "      <td>27</td>\n",
       "      <td>27</td>\n",
       "      <td>27</td>\n",
       "      <td>27</td>\n",
       "      <td>5.0</td>\n",
       "    </tr>\n",
       "  </tbody>\n",
       "</table>\n",
       "<p>5 rows × 101 columns</p>\n",
       "</div>"
      ],
      "text/plain": [
       "                1/22/20  1/23/20  1/24/20  1/25/20  1/26/20  1/27/20  1/28/20  \\\n",
       "Country/Region                                                                  \n",
       "Afghanistan           0        0        0        0        0        0        0   \n",
       "Albania               0        0        0        0        0        0        0   \n",
       "Algeria               0        0        0        0        0        0        0   \n",
       "Andorra               0        0        0        0        0        0        0   \n",
       "Angola                0        0        0        0        0        0        0   \n",
       "\n",
       "                1/29/20  1/30/20  1/31/20  ...  4/22/20  4/23/20  4/24/20  \\\n",
       "Country/Region                             ...                              \n",
       "Afghanistan           0        0        0  ...     1176     1279     1351   \n",
       "Albania               0        0        0  ...      634      663      678   \n",
       "Algeria               0        0        0  ...     2910     3007     3127   \n",
       "Andorra               0        0        0  ...      723      723      731   \n",
       "Angola                0        0        0  ...       25       25       25   \n",
       "\n",
       "                4/25/20  4/26/20  4/27/20  4/28/20  4/29/20  4/30/20  \\\n",
       "Country/Region                                                         \n",
       "Afghanistan        1463     1531     1703     1828     1939     2171   \n",
       "Albania             712      726      736      750      766      773   \n",
       "Algeria            3256     3382     3517     3649     3848     4006   \n",
       "Andorra             738      738      743      743      743      745   \n",
       "Angola               25       26       27       27       27       27   \n",
       "\n",
       "                max_infection_rates  \n",
       "Country/Region                       \n",
       "Afghanistan                   232.0  \n",
       "Albania                        34.0  \n",
       "Algeria                       199.0  \n",
       "Andorra                        43.0  \n",
       "Angola                          5.0  \n",
       "\n",
       "[5 rows x 101 columns]"
      ]
     },
     "execution_count": 15,
     "metadata": {},
     "output_type": "execute_result"
    }
   ],
   "source": [
    "corona_dataset_aggregated.head()"
   ]
  },
  {
   "cell_type": "markdown",
   "id": "8dbf9067",
   "metadata": {
    "_cell_guid": "2b09524b-d20b-42ef-a68c-8d407e2146a7",
    "_uuid": "ae11d1c3-813a-4ba9-84c5-b80884be5908",
    "papermill": {
     "duration": 0.032872,
     "end_time": "2023-05-20T10:07:21.868679",
     "exception": false,
     "start_time": "2023-05-20T10:07:21.835807",
     "status": "completed"
    },
    "tags": []
   },
   "source": [
    "## Creating a dataframe with relevant columns to the analysis"
   ]
  },
  {
   "cell_type": "code",
   "execution_count": 16,
   "id": "9a0aedd5",
   "metadata": {
    "_cell_guid": "85b28039-b24f-486e-83f9-c0797aa37641",
    "_uuid": "9ff523ee-3bf2-480e-a329-17279ecf565a",
    "collapsed": false,
    "execution": {
     "iopub.execute_input": "2023-05-20T10:07:21.936799Z",
     "iopub.status.busy": "2023-05-20T10:07:21.936415Z",
     "iopub.status.idle": "2023-05-20T10:07:21.941861Z",
     "shell.execute_reply": "2023-05-20T10:07:21.940740Z"
    },
    "jupyter": {
     "outputs_hidden": false
    },
    "papermill": {
     "duration": 0.042352,
     "end_time": "2023-05-20T10:07:21.944344",
     "exception": false,
     "start_time": "2023-05-20T10:07:21.901992",
     "status": "completed"
    },
    "tags": []
   },
   "outputs": [],
   "source": [
    "corona_data = pd.DataFrame(corona_dataset_aggregated[\"max_infection_rates\"])"
   ]
  },
  {
   "cell_type": "code",
   "execution_count": 17,
   "id": "f5b6e64a",
   "metadata": {
    "_cell_guid": "ba5b2bd8-019f-45f0-b479-8f85c71bdc93",
    "_uuid": "79373243-3a88-4816-be94-80fec6171bec",
    "collapsed": false,
    "execution": {
     "iopub.execute_input": "2023-05-20T10:07:22.013922Z",
     "iopub.status.busy": "2023-05-20T10:07:22.013516Z",
     "iopub.status.idle": "2023-05-20T10:07:22.024604Z",
     "shell.execute_reply": "2023-05-20T10:07:22.023403Z"
    },
    "jupyter": {
     "outputs_hidden": false
    },
    "papermill": {
     "duration": 0.049204,
     "end_time": "2023-05-20T10:07:22.026909",
     "exception": false,
     "start_time": "2023-05-20T10:07:21.977705",
     "status": "completed"
    },
    "tags": []
   },
   "outputs": [
    {
     "data": {
      "text/html": [
       "<div>\n",
       "<style scoped>\n",
       "    .dataframe tbody tr th:only-of-type {\n",
       "        vertical-align: middle;\n",
       "    }\n",
       "\n",
       "    .dataframe tbody tr th {\n",
       "        vertical-align: top;\n",
       "    }\n",
       "\n",
       "    .dataframe thead th {\n",
       "        text-align: right;\n",
       "    }\n",
       "</style>\n",
       "<table border=\"1\" class=\"dataframe\">\n",
       "  <thead>\n",
       "    <tr style=\"text-align: right;\">\n",
       "      <th></th>\n",
       "      <th>max_infection_rates</th>\n",
       "    </tr>\n",
       "    <tr>\n",
       "      <th>Country/Region</th>\n",
       "      <th></th>\n",
       "    </tr>\n",
       "  </thead>\n",
       "  <tbody>\n",
       "    <tr>\n",
       "      <th>Afghanistan</th>\n",
       "      <td>232.0</td>\n",
       "    </tr>\n",
       "    <tr>\n",
       "      <th>Albania</th>\n",
       "      <td>34.0</td>\n",
       "    </tr>\n",
       "    <tr>\n",
       "      <th>Algeria</th>\n",
       "      <td>199.0</td>\n",
       "    </tr>\n",
       "    <tr>\n",
       "      <th>Andorra</th>\n",
       "      <td>43.0</td>\n",
       "    </tr>\n",
       "    <tr>\n",
       "      <th>Angola</th>\n",
       "      <td>5.0</td>\n",
       "    </tr>\n",
       "  </tbody>\n",
       "</table>\n",
       "</div>"
      ],
      "text/plain": [
       "                max_infection_rates\n",
       "Country/Region                     \n",
       "Afghanistan                   232.0\n",
       "Albania                        34.0\n",
       "Algeria                       199.0\n",
       "Andorra                        43.0\n",
       "Angola                          5.0"
      ]
     },
     "execution_count": 17,
     "metadata": {},
     "output_type": "execute_result"
    }
   ],
   "source": [
    "corona_data.head()"
   ]
  },
  {
   "cell_type": "markdown",
   "id": "a6d4d74f",
   "metadata": {
    "_cell_guid": "3029e211-6ee4-4b5c-8c82-f7466f9b3633",
    "_uuid": "52f04b11-77c6-4c2e-b9a2-c8fd71a16a85",
    "papermill": {
     "duration": 0.033534,
     "end_time": "2023-05-20T10:07:22.094093",
     "exception": false,
     "start_time": "2023-05-20T10:07:22.060559",
     "status": "completed"
    },
    "tags": []
   },
   "source": [
    "## Importing World happiness Dataset"
   ]
  },
  {
   "cell_type": "code",
   "execution_count": 18,
   "id": "7bd1a9c7",
   "metadata": {
    "_cell_guid": "af909da2-01ba-489d-9eb2-f928b3feea17",
    "_uuid": "877520f9-25eb-452f-b196-83fa01307378",
    "collapsed": false,
    "execution": {
     "iopub.execute_input": "2023-05-20T10:07:22.165369Z",
     "iopub.status.busy": "2023-05-20T10:07:22.164936Z",
     "iopub.status.idle": "2023-05-20T10:07:22.177680Z",
     "shell.execute_reply": "2023-05-20T10:07:22.176667Z"
    },
    "jupyter": {
     "outputs_hidden": false
    },
    "papermill": {
     "duration": 0.052446,
     "end_time": "2023-05-20T10:07:22.180347",
     "exception": false,
     "start_time": "2023-05-20T10:07:22.127901",
     "status": "completed"
    },
    "tags": []
   },
   "outputs": [],
   "source": [
    "happiness_report_csv = pd.read_csv(\"/kaggle/input/covid19-and-world-happiness-report/worldwide_happiness_report.csv\")"
   ]
  },
  {
   "cell_type": "code",
   "execution_count": 19,
   "id": "3ecec8b8",
   "metadata": {
    "_cell_guid": "dd97691e-4794-4256-a134-105e253084c5",
    "_uuid": "e82042c4-c638-47ef-9c32-255e78c6e877",
    "collapsed": false,
    "execution": {
     "iopub.execute_input": "2023-05-20T10:07:22.252502Z",
     "iopub.status.busy": "2023-05-20T10:07:22.252099Z",
     "iopub.status.idle": "2023-05-20T10:07:22.269706Z",
     "shell.execute_reply": "2023-05-20T10:07:22.268654Z"
    },
    "jupyter": {
     "outputs_hidden": false
    },
    "papermill": {
     "duration": 0.056702,
     "end_time": "2023-05-20T10:07:22.271899",
     "exception": false,
     "start_time": "2023-05-20T10:07:22.215197",
     "status": "completed"
    },
    "tags": []
   },
   "outputs": [
    {
     "data": {
      "text/html": [
       "<div>\n",
       "<style scoped>\n",
       "    .dataframe tbody tr th:only-of-type {\n",
       "        vertical-align: middle;\n",
       "    }\n",
       "\n",
       "    .dataframe tbody tr th {\n",
       "        vertical-align: top;\n",
       "    }\n",
       "\n",
       "    .dataframe thead th {\n",
       "        text-align: right;\n",
       "    }\n",
       "</style>\n",
       "<table border=\"1\" class=\"dataframe\">\n",
       "  <thead>\n",
       "    <tr style=\"text-align: right;\">\n",
       "      <th></th>\n",
       "      <th>Overall rank</th>\n",
       "      <th>Country or region</th>\n",
       "      <th>Score</th>\n",
       "      <th>GDP per capita</th>\n",
       "      <th>Social support</th>\n",
       "      <th>Healthy life expectancy</th>\n",
       "      <th>Freedom to make life choices</th>\n",
       "      <th>Generosity</th>\n",
       "      <th>Perceptions of corruption</th>\n",
       "    </tr>\n",
       "  </thead>\n",
       "  <tbody>\n",
       "    <tr>\n",
       "      <th>0</th>\n",
       "      <td>1</td>\n",
       "      <td>Finland</td>\n",
       "      <td>7.769</td>\n",
       "      <td>1.340</td>\n",
       "      <td>1.587</td>\n",
       "      <td>0.986</td>\n",
       "      <td>0.596</td>\n",
       "      <td>0.153</td>\n",
       "      <td>0.393</td>\n",
       "    </tr>\n",
       "    <tr>\n",
       "      <th>1</th>\n",
       "      <td>2</td>\n",
       "      <td>Denmark</td>\n",
       "      <td>7.600</td>\n",
       "      <td>1.383</td>\n",
       "      <td>1.573</td>\n",
       "      <td>0.996</td>\n",
       "      <td>0.592</td>\n",
       "      <td>0.252</td>\n",
       "      <td>0.410</td>\n",
       "    </tr>\n",
       "    <tr>\n",
       "      <th>2</th>\n",
       "      <td>3</td>\n",
       "      <td>Norway</td>\n",
       "      <td>7.554</td>\n",
       "      <td>1.488</td>\n",
       "      <td>1.582</td>\n",
       "      <td>1.028</td>\n",
       "      <td>0.603</td>\n",
       "      <td>0.271</td>\n",
       "      <td>0.341</td>\n",
       "    </tr>\n",
       "    <tr>\n",
       "      <th>3</th>\n",
       "      <td>4</td>\n",
       "      <td>Iceland</td>\n",
       "      <td>7.494</td>\n",
       "      <td>1.380</td>\n",
       "      <td>1.624</td>\n",
       "      <td>1.026</td>\n",
       "      <td>0.591</td>\n",
       "      <td>0.354</td>\n",
       "      <td>0.118</td>\n",
       "    </tr>\n",
       "    <tr>\n",
       "      <th>4</th>\n",
       "      <td>5</td>\n",
       "      <td>Netherlands</td>\n",
       "      <td>7.488</td>\n",
       "      <td>1.396</td>\n",
       "      <td>1.522</td>\n",
       "      <td>0.999</td>\n",
       "      <td>0.557</td>\n",
       "      <td>0.322</td>\n",
       "      <td>0.298</td>\n",
       "    </tr>\n",
       "  </tbody>\n",
       "</table>\n",
       "</div>"
      ],
      "text/plain": [
       "   Overall rank Country or region  Score  GDP per capita  Social support  \\\n",
       "0             1           Finland  7.769           1.340           1.587   \n",
       "1             2           Denmark  7.600           1.383           1.573   \n",
       "2             3            Norway  7.554           1.488           1.582   \n",
       "3             4           Iceland  7.494           1.380           1.624   \n",
       "4             5       Netherlands  7.488           1.396           1.522   \n",
       "\n",
       "   Healthy life expectancy  Freedom to make life choices  Generosity  \\\n",
       "0                    0.986                         0.596       0.153   \n",
       "1                    0.996                         0.592       0.252   \n",
       "2                    1.028                         0.603       0.271   \n",
       "3                    1.026                         0.591       0.354   \n",
       "4                    0.999                         0.557       0.322   \n",
       "\n",
       "   Perceptions of corruption  \n",
       "0                      0.393  \n",
       "1                      0.410  \n",
       "2                      0.341  \n",
       "3                      0.118  \n",
       "4                      0.298  "
      ]
     },
     "execution_count": 19,
     "metadata": {},
     "output_type": "execute_result"
    }
   ],
   "source": [
    "happiness_report_csv.head()"
   ]
  },
  {
   "cell_type": "markdown",
   "id": "6ebe96f5",
   "metadata": {
    "_cell_guid": "f5890e41-6e38-48a4-9dfe-a1fa5287d727",
    "_uuid": "f3c94177-7d42-4bb3-b3c3-0a12201cf040",
    "papermill": {
     "duration": 0.033532,
     "end_time": "2023-05-20T10:07:22.339772",
     "exception": false,
     "start_time": "2023-05-20T10:07:22.306240",
     "status": "completed"
    },
    "tags": []
   },
   "source": [
    "## Removing columns not needed for the analysis"
   ]
  },
  {
   "cell_type": "code",
   "execution_count": 20,
   "id": "548d099a",
   "metadata": {
    "_cell_guid": "3f19208a-73ff-4d4f-be39-8e78deb06b37",
    "_uuid": "38e51fe8-501c-4e35-804c-ee139792928e",
    "collapsed": false,
    "execution": {
     "iopub.execute_input": "2023-05-20T10:07:22.409721Z",
     "iopub.status.busy": "2023-05-20T10:07:22.408971Z",
     "iopub.status.idle": "2023-05-20T10:07:22.413912Z",
     "shell.execute_reply": "2023-05-20T10:07:22.413088Z"
    },
    "jupyter": {
     "outputs_hidden": false
    },
    "papermill": {
     "duration": 0.042546,
     "end_time": "2023-05-20T10:07:22.416090",
     "exception": false,
     "start_time": "2023-05-20T10:07:22.373544",
     "status": "completed"
    },
    "tags": []
   },
   "outputs": [],
   "source": [
    "na_cols = [\"Overall rank\", \"Score\", \"Generosity\", \"Perceptions of corruption\"]"
   ]
  },
  {
   "cell_type": "code",
   "execution_count": 21,
   "id": "fc289bfc",
   "metadata": {
    "_cell_guid": "f274735e-50a0-49ce-905f-5d7e6eb75c77",
    "_uuid": "54bbefd5-49c6-475d-adbe-a2538dac07fe",
    "collapsed": false,
    "execution": {
     "iopub.execute_input": "2023-05-20T10:07:22.486008Z",
     "iopub.status.busy": "2023-05-20T10:07:22.485238Z",
     "iopub.status.idle": "2023-05-20T10:07:22.500165Z",
     "shell.execute_reply": "2023-05-20T10:07:22.499122Z"
    },
    "jupyter": {
     "outputs_hidden": false
    },
    "papermill": {
     "duration": 0.052597,
     "end_time": "2023-05-20T10:07:22.502465",
     "exception": false,
     "start_time": "2023-05-20T10:07:22.449868",
     "status": "completed"
    },
    "tags": []
   },
   "outputs": [
    {
     "data": {
      "text/html": [
       "<div>\n",
       "<style scoped>\n",
       "    .dataframe tbody tr th:only-of-type {\n",
       "        vertical-align: middle;\n",
       "    }\n",
       "\n",
       "    .dataframe tbody tr th {\n",
       "        vertical-align: top;\n",
       "    }\n",
       "\n",
       "    .dataframe thead th {\n",
       "        text-align: right;\n",
       "    }\n",
       "</style>\n",
       "<table border=\"1\" class=\"dataframe\">\n",
       "  <thead>\n",
       "    <tr style=\"text-align: right;\">\n",
       "      <th></th>\n",
       "      <th>Country or region</th>\n",
       "      <th>GDP per capita</th>\n",
       "      <th>Social support</th>\n",
       "      <th>Healthy life expectancy</th>\n",
       "      <th>Freedom to make life choices</th>\n",
       "    </tr>\n",
       "  </thead>\n",
       "  <tbody>\n",
       "    <tr>\n",
       "      <th>0</th>\n",
       "      <td>Finland</td>\n",
       "      <td>1.340</td>\n",
       "      <td>1.587</td>\n",
       "      <td>0.986</td>\n",
       "      <td>0.596</td>\n",
       "    </tr>\n",
       "    <tr>\n",
       "      <th>1</th>\n",
       "      <td>Denmark</td>\n",
       "      <td>1.383</td>\n",
       "      <td>1.573</td>\n",
       "      <td>0.996</td>\n",
       "      <td>0.592</td>\n",
       "    </tr>\n",
       "    <tr>\n",
       "      <th>2</th>\n",
       "      <td>Norway</td>\n",
       "      <td>1.488</td>\n",
       "      <td>1.582</td>\n",
       "      <td>1.028</td>\n",
       "      <td>0.603</td>\n",
       "    </tr>\n",
       "    <tr>\n",
       "      <th>3</th>\n",
       "      <td>Iceland</td>\n",
       "      <td>1.380</td>\n",
       "      <td>1.624</td>\n",
       "      <td>1.026</td>\n",
       "      <td>0.591</td>\n",
       "    </tr>\n",
       "    <tr>\n",
       "      <th>4</th>\n",
       "      <td>Netherlands</td>\n",
       "      <td>1.396</td>\n",
       "      <td>1.522</td>\n",
       "      <td>0.999</td>\n",
       "      <td>0.557</td>\n",
       "    </tr>\n",
       "  </tbody>\n",
       "</table>\n",
       "</div>"
      ],
      "text/plain": [
       "  Country or region  GDP per capita  Social support  Healthy life expectancy  \\\n",
       "0           Finland           1.340           1.587                    0.986   \n",
       "1           Denmark           1.383           1.573                    0.996   \n",
       "2            Norway           1.488           1.582                    1.028   \n",
       "3           Iceland           1.380           1.624                    1.026   \n",
       "4       Netherlands           1.396           1.522                    0.999   \n",
       "\n",
       "   Freedom to make life choices  \n",
       "0                         0.596  \n",
       "1                         0.592  \n",
       "2                         0.603  \n",
       "3                         0.591  \n",
       "4                         0.557  "
      ]
     },
     "execution_count": 21,
     "metadata": {},
     "output_type": "execute_result"
    }
   ],
   "source": [
    "happiness_report_csv.drop(na_cols,axis=1,inplace=True)\n",
    "happiness_report_csv.head()"
   ]
  },
  {
   "cell_type": "markdown",
   "id": "11451305",
   "metadata": {
    "_cell_guid": "58d1c470-0c6c-4802-a1c4-8f9323bb2def",
    "_uuid": "97580b88-f693-4aa6-96e4-49581e324915",
    "papermill": {
     "duration": 0.034096,
     "end_time": "2023-05-20T10:07:22.570710",
     "exception": false,
     "start_time": "2023-05-20T10:07:22.536614",
     "status": "completed"
    },
    "tags": []
   },
   "source": [
    "## Changing the indices of the dataframe"
   ]
  },
  {
   "cell_type": "code",
   "execution_count": 22,
   "id": "30c6bb64",
   "metadata": {
    "_cell_guid": "f887a795-e2dd-477e-81d3-cf4348c4171a",
    "_uuid": "bac95d1d-0bc6-40ab-b104-066e3ba7df79",
    "collapsed": false,
    "execution": {
     "iopub.execute_input": "2023-05-20T10:07:22.641630Z",
     "iopub.status.busy": "2023-05-20T10:07:22.640431Z",
     "iopub.status.idle": "2023-05-20T10:07:22.646754Z",
     "shell.execute_reply": "2023-05-20T10:07:22.645748Z"
    },
    "jupyter": {
     "outputs_hidden": false
    },
    "papermill": {
     "duration": 0.044631,
     "end_time": "2023-05-20T10:07:22.649424",
     "exception": false,
     "start_time": "2023-05-20T10:07:22.604793",
     "status": "completed"
    },
    "tags": []
   },
   "outputs": [],
   "source": [
    "happiness_report_csv.set_index(\"Country or region\",inplace=True)"
   ]
  },
  {
   "cell_type": "code",
   "execution_count": 23,
   "id": "5eb6dd5e",
   "metadata": {
    "_cell_guid": "9112c8ac-fae3-4753-a2e3-cb51fd2a09c3",
    "_uuid": "6d66e60c-8342-463b-8c6e-b6a51366c396",
    "collapsed": false,
    "execution": {
     "iopub.execute_input": "2023-05-20T10:07:22.720534Z",
     "iopub.status.busy": "2023-05-20T10:07:22.719772Z",
     "iopub.status.idle": "2023-05-20T10:07:22.734474Z",
     "shell.execute_reply": "2023-05-20T10:07:22.733410Z"
    },
    "jupyter": {
     "outputs_hidden": false
    },
    "papermill": {
     "duration": 0.05312,
     "end_time": "2023-05-20T10:07:22.736862",
     "exception": false,
     "start_time": "2023-05-20T10:07:22.683742",
     "status": "completed"
    },
    "tags": []
   },
   "outputs": [
    {
     "data": {
      "text/html": [
       "<div>\n",
       "<style scoped>\n",
       "    .dataframe tbody tr th:only-of-type {\n",
       "        vertical-align: middle;\n",
       "    }\n",
       "\n",
       "    .dataframe tbody tr th {\n",
       "        vertical-align: top;\n",
       "    }\n",
       "\n",
       "    .dataframe thead th {\n",
       "        text-align: right;\n",
       "    }\n",
       "</style>\n",
       "<table border=\"1\" class=\"dataframe\">\n",
       "  <thead>\n",
       "    <tr style=\"text-align: right;\">\n",
       "      <th></th>\n",
       "      <th>GDP per capita</th>\n",
       "      <th>Social support</th>\n",
       "      <th>Healthy life expectancy</th>\n",
       "      <th>Freedom to make life choices</th>\n",
       "    </tr>\n",
       "    <tr>\n",
       "      <th>Country or region</th>\n",
       "      <th></th>\n",
       "      <th></th>\n",
       "      <th></th>\n",
       "      <th></th>\n",
       "    </tr>\n",
       "  </thead>\n",
       "  <tbody>\n",
       "    <tr>\n",
       "      <th>Finland</th>\n",
       "      <td>1.340</td>\n",
       "      <td>1.587</td>\n",
       "      <td>0.986</td>\n",
       "      <td>0.596</td>\n",
       "    </tr>\n",
       "    <tr>\n",
       "      <th>Denmark</th>\n",
       "      <td>1.383</td>\n",
       "      <td>1.573</td>\n",
       "      <td>0.996</td>\n",
       "      <td>0.592</td>\n",
       "    </tr>\n",
       "    <tr>\n",
       "      <th>Norway</th>\n",
       "      <td>1.488</td>\n",
       "      <td>1.582</td>\n",
       "      <td>1.028</td>\n",
       "      <td>0.603</td>\n",
       "    </tr>\n",
       "    <tr>\n",
       "      <th>Iceland</th>\n",
       "      <td>1.380</td>\n",
       "      <td>1.624</td>\n",
       "      <td>1.026</td>\n",
       "      <td>0.591</td>\n",
       "    </tr>\n",
       "    <tr>\n",
       "      <th>Netherlands</th>\n",
       "      <td>1.396</td>\n",
       "      <td>1.522</td>\n",
       "      <td>0.999</td>\n",
       "      <td>0.557</td>\n",
       "    </tr>\n",
       "  </tbody>\n",
       "</table>\n",
       "</div>"
      ],
      "text/plain": [
       "                   GDP per capita  Social support  Healthy life expectancy  \\\n",
       "Country or region                                                            \n",
       "Finland                     1.340           1.587                    0.986   \n",
       "Denmark                     1.383           1.573                    0.996   \n",
       "Norway                      1.488           1.582                    1.028   \n",
       "Iceland                     1.380           1.624                    1.026   \n",
       "Netherlands                 1.396           1.522                    0.999   \n",
       "\n",
       "                   Freedom to make life choices  \n",
       "Country or region                                \n",
       "Finland                                   0.596  \n",
       "Denmark                                   0.592  \n",
       "Norway                                    0.603  \n",
       "Iceland                                   0.591  \n",
       "Netherlands                               0.557  "
      ]
     },
     "execution_count": 23,
     "metadata": {},
     "output_type": "execute_result"
    }
   ],
   "source": [
    "happiness_report_csv.head()"
   ]
  },
  {
   "cell_type": "markdown",
   "id": "7f852712",
   "metadata": {
    "_cell_guid": "700bd3ca-fe7b-43aa-831b-b4ba150e13e4",
    "_uuid": "888ac5d6-a24e-4d13-8521-bfa4224fbd37",
    "papermill": {
     "duration": 0.034453,
     "end_time": "2023-05-20T10:07:22.805970",
     "exception": false,
     "start_time": "2023-05-20T10:07:22.771517",
     "status": "completed"
    },
    "tags": []
   },
   "source": [
    "## Joining COVID-19 Confirmed Infection and World Happiness Datasets"
   ]
  },
  {
   "cell_type": "markdown",
   "id": "6f0ce138",
   "metadata": {
    "_cell_guid": "c70a1194-a0bb-4066-971b-e0cd5fe61d5a",
    "_uuid": "97f0e1be-a10c-4186-a1f0-9e07cf08a39c",
    "papermill": {
     "duration": 0.034276,
     "end_time": "2023-05-20T10:07:22.874840",
     "exception": false,
     "start_time": "2023-05-20T10:07:22.840564",
     "status": "completed"
    },
    "tags": []
   },
   "source": [
    "### Covid-19 Dataset"
   ]
  },
  {
   "cell_type": "code",
   "execution_count": 24,
   "id": "a2183555",
   "metadata": {
    "_cell_guid": "16e6a922-5c00-4cfb-8b0f-179b716acb24",
    "_uuid": "8c4bdc09-7ea0-4452-b3e7-de6cdee50692",
    "collapsed": false,
    "execution": {
     "iopub.execute_input": "2023-05-20T10:07:22.946860Z",
     "iopub.status.busy": "2023-05-20T10:07:22.945981Z",
     "iopub.status.idle": "2023-05-20T10:07:22.956921Z",
     "shell.execute_reply": "2023-05-20T10:07:22.955826Z"
    },
    "jupyter": {
     "outputs_hidden": false
    },
    "papermill": {
     "duration": 0.050039,
     "end_time": "2023-05-20T10:07:22.959479",
     "exception": false,
     "start_time": "2023-05-20T10:07:22.909440",
     "status": "completed"
    },
    "tags": []
   },
   "outputs": [
    {
     "data": {
      "text/html": [
       "<div>\n",
       "<style scoped>\n",
       "    .dataframe tbody tr th:only-of-type {\n",
       "        vertical-align: middle;\n",
       "    }\n",
       "\n",
       "    .dataframe tbody tr th {\n",
       "        vertical-align: top;\n",
       "    }\n",
       "\n",
       "    .dataframe thead th {\n",
       "        text-align: right;\n",
       "    }\n",
       "</style>\n",
       "<table border=\"1\" class=\"dataframe\">\n",
       "  <thead>\n",
       "    <tr style=\"text-align: right;\">\n",
       "      <th></th>\n",
       "      <th>max_infection_rates</th>\n",
       "    </tr>\n",
       "    <tr>\n",
       "      <th>Country/Region</th>\n",
       "      <th></th>\n",
       "    </tr>\n",
       "  </thead>\n",
       "  <tbody>\n",
       "    <tr>\n",
       "      <th>Afghanistan</th>\n",
       "      <td>232.0</td>\n",
       "    </tr>\n",
       "    <tr>\n",
       "      <th>Albania</th>\n",
       "      <td>34.0</td>\n",
       "    </tr>\n",
       "    <tr>\n",
       "      <th>Algeria</th>\n",
       "      <td>199.0</td>\n",
       "    </tr>\n",
       "    <tr>\n",
       "      <th>Andorra</th>\n",
       "      <td>43.0</td>\n",
       "    </tr>\n",
       "    <tr>\n",
       "      <th>Angola</th>\n",
       "      <td>5.0</td>\n",
       "    </tr>\n",
       "  </tbody>\n",
       "</table>\n",
       "</div>"
      ],
      "text/plain": [
       "                max_infection_rates\n",
       "Country/Region                     \n",
       "Afghanistan                   232.0\n",
       "Albania                        34.0\n",
       "Algeria                       199.0\n",
       "Andorra                        43.0\n",
       "Angola                          5.0"
      ]
     },
     "execution_count": 24,
     "metadata": {},
     "output_type": "execute_result"
    }
   ],
   "source": [
    "corona_data.head()"
   ]
  },
  {
   "cell_type": "code",
   "execution_count": 25,
   "id": "c25694e6",
   "metadata": {
    "_cell_guid": "ef9fa17e-4aca-4516-b888-6828b1422298",
    "_uuid": "eabacf8d-ff0e-4b61-ab7f-5a589490c8cb",
    "collapsed": false,
    "execution": {
     "iopub.execute_input": "2023-05-20T10:07:23.035382Z",
     "iopub.status.busy": "2023-05-20T10:07:23.034924Z",
     "iopub.status.idle": "2023-05-20T10:07:23.041248Z",
     "shell.execute_reply": "2023-05-20T10:07:23.040412Z"
    },
    "jupyter": {
     "outputs_hidden": false
    },
    "papermill": {
     "duration": 0.046531,
     "end_time": "2023-05-20T10:07:23.043484",
     "exception": false,
     "start_time": "2023-05-20T10:07:22.996953",
     "status": "completed"
    },
    "tags": []
   },
   "outputs": [
    {
     "data": {
      "text/plain": [
       "(187, 1)"
      ]
     },
     "execution_count": 25,
     "metadata": {},
     "output_type": "execute_result"
    }
   ],
   "source": [
    "corona_data.shape"
   ]
  },
  {
   "cell_type": "markdown",
   "id": "0740d019",
   "metadata": {
    "_cell_guid": "5b7c4701-29bc-4661-997b-abac5efef168",
    "_uuid": "4a140a39-d85a-49bf-9aa2-7b188ff8772d",
    "papermill": {
     "duration": 0.035638,
     "end_time": "2023-05-20T10:07:23.114752",
     "exception": false,
     "start_time": "2023-05-20T10:07:23.079114",
     "status": "completed"
    },
    "tags": []
   },
   "source": [
    "### World happiness report Dataset"
   ]
  },
  {
   "cell_type": "code",
   "execution_count": 26,
   "id": "d6ec06e8",
   "metadata": {
    "_cell_guid": "e869b6a2-42ca-45af-af25-dff9cbc02007",
    "_uuid": "b4eb5986-8920-4d6e-85e5-44406bad22f4",
    "collapsed": false,
    "execution": {
     "iopub.execute_input": "2023-05-20T10:07:23.187715Z",
     "iopub.status.busy": "2023-05-20T10:07:23.186939Z",
     "iopub.status.idle": "2023-05-20T10:07:23.202110Z",
     "shell.execute_reply": "2023-05-20T10:07:23.200946Z"
    },
    "jupyter": {
     "outputs_hidden": false
    },
    "papermill": {
     "duration": 0.054513,
     "end_time": "2023-05-20T10:07:23.204438",
     "exception": false,
     "start_time": "2023-05-20T10:07:23.149925",
     "status": "completed"
    },
    "tags": []
   },
   "outputs": [
    {
     "data": {
      "text/html": [
       "<div>\n",
       "<style scoped>\n",
       "    .dataframe tbody tr th:only-of-type {\n",
       "        vertical-align: middle;\n",
       "    }\n",
       "\n",
       "    .dataframe tbody tr th {\n",
       "        vertical-align: top;\n",
       "    }\n",
       "\n",
       "    .dataframe thead th {\n",
       "        text-align: right;\n",
       "    }\n",
       "</style>\n",
       "<table border=\"1\" class=\"dataframe\">\n",
       "  <thead>\n",
       "    <tr style=\"text-align: right;\">\n",
       "      <th></th>\n",
       "      <th>GDP per capita</th>\n",
       "      <th>Social support</th>\n",
       "      <th>Healthy life expectancy</th>\n",
       "      <th>Freedom to make life choices</th>\n",
       "    </tr>\n",
       "    <tr>\n",
       "      <th>Country or region</th>\n",
       "      <th></th>\n",
       "      <th></th>\n",
       "      <th></th>\n",
       "      <th></th>\n",
       "    </tr>\n",
       "  </thead>\n",
       "  <tbody>\n",
       "    <tr>\n",
       "      <th>Finland</th>\n",
       "      <td>1.340</td>\n",
       "      <td>1.587</td>\n",
       "      <td>0.986</td>\n",
       "      <td>0.596</td>\n",
       "    </tr>\n",
       "    <tr>\n",
       "      <th>Denmark</th>\n",
       "      <td>1.383</td>\n",
       "      <td>1.573</td>\n",
       "      <td>0.996</td>\n",
       "      <td>0.592</td>\n",
       "    </tr>\n",
       "    <tr>\n",
       "      <th>Norway</th>\n",
       "      <td>1.488</td>\n",
       "      <td>1.582</td>\n",
       "      <td>1.028</td>\n",
       "      <td>0.603</td>\n",
       "    </tr>\n",
       "    <tr>\n",
       "      <th>Iceland</th>\n",
       "      <td>1.380</td>\n",
       "      <td>1.624</td>\n",
       "      <td>1.026</td>\n",
       "      <td>0.591</td>\n",
       "    </tr>\n",
       "    <tr>\n",
       "      <th>Netherlands</th>\n",
       "      <td>1.396</td>\n",
       "      <td>1.522</td>\n",
       "      <td>0.999</td>\n",
       "      <td>0.557</td>\n",
       "    </tr>\n",
       "  </tbody>\n",
       "</table>\n",
       "</div>"
      ],
      "text/plain": [
       "                   GDP per capita  Social support  Healthy life expectancy  \\\n",
       "Country or region                                                            \n",
       "Finland                     1.340           1.587                    0.986   \n",
       "Denmark                     1.383           1.573                    0.996   \n",
       "Norway                      1.488           1.582                    1.028   \n",
       "Iceland                     1.380           1.624                    1.026   \n",
       "Netherlands                 1.396           1.522                    0.999   \n",
       "\n",
       "                   Freedom to make life choices  \n",
       "Country or region                                \n",
       "Finland                                   0.596  \n",
       "Denmark                                   0.592  \n",
       "Norway                                    0.603  \n",
       "Iceland                                   0.591  \n",
       "Netherlands                               0.557  "
      ]
     },
     "execution_count": 26,
     "metadata": {},
     "output_type": "execute_result"
    }
   ],
   "source": [
    "happiness_report_csv.head()"
   ]
  },
  {
   "cell_type": "code",
   "execution_count": 27,
   "id": "a52024b5",
   "metadata": {
    "_cell_guid": "caf08947-f816-4926-9212-a9d300185ab8",
    "_uuid": "60a19ef7-7c53-46e5-a280-8c1675c7e584",
    "collapsed": false,
    "execution": {
     "iopub.execute_input": "2023-05-20T10:07:23.278105Z",
     "iopub.status.busy": "2023-05-20T10:07:23.277362Z",
     "iopub.status.idle": "2023-05-20T10:07:23.283805Z",
     "shell.execute_reply": "2023-05-20T10:07:23.282878Z"
    },
    "jupyter": {
     "outputs_hidden": false
    },
    "papermill": {
     "duration": 0.045694,
     "end_time": "2023-05-20T10:07:23.285962",
     "exception": false,
     "start_time": "2023-05-20T10:07:23.240268",
     "status": "completed"
    },
    "tags": []
   },
   "outputs": [
    {
     "data": {
      "text/plain": [
       "(156, 4)"
      ]
     },
     "execution_count": 27,
     "metadata": {},
     "output_type": "execute_result"
    }
   ],
   "source": [
    "happiness_report_csv.shape"
   ]
  },
  {
   "cell_type": "code",
   "execution_count": 28,
   "id": "efe85cbf",
   "metadata": {
    "_cell_guid": "13b20550-8038-4c06-b214-78b3982938bc",
    "_uuid": "faefe0bf-0b4d-4f3f-a21c-f5cdd257c238",
    "collapsed": false,
    "execution": {
     "iopub.execute_input": "2023-05-20T10:07:23.358941Z",
     "iopub.status.busy": "2023-05-20T10:07:23.358562Z",
     "iopub.status.idle": "2023-05-20T10:07:23.376291Z",
     "shell.execute_reply": "2023-05-20T10:07:23.375092Z"
    },
    "jupyter": {
     "outputs_hidden": false
    },
    "papermill": {
     "duration": 0.057309,
     "end_time": "2023-05-20T10:07:23.378762",
     "exception": false,
     "start_time": "2023-05-20T10:07:23.321453",
     "status": "completed"
    },
    "tags": []
   },
   "outputs": [
    {
     "data": {
      "text/html": [
       "<div>\n",
       "<style scoped>\n",
       "    .dataframe tbody tr th:only-of-type {\n",
       "        vertical-align: middle;\n",
       "    }\n",
       "\n",
       "    .dataframe tbody tr th {\n",
       "        vertical-align: top;\n",
       "    }\n",
       "\n",
       "    .dataframe thead th {\n",
       "        text-align: right;\n",
       "    }\n",
       "</style>\n",
       "<table border=\"1\" class=\"dataframe\">\n",
       "  <thead>\n",
       "    <tr style=\"text-align: right;\">\n",
       "      <th></th>\n",
       "      <th>max_infection_rates</th>\n",
       "      <th>GDP per capita</th>\n",
       "      <th>Social support</th>\n",
       "      <th>Healthy life expectancy</th>\n",
       "      <th>Freedom to make life choices</th>\n",
       "    </tr>\n",
       "  </thead>\n",
       "  <tbody>\n",
       "    <tr>\n",
       "      <th>Afghanistan</th>\n",
       "      <td>232.0</td>\n",
       "      <td>0.350</td>\n",
       "      <td>0.517</td>\n",
       "      <td>0.361</td>\n",
       "      <td>0.000</td>\n",
       "    </tr>\n",
       "    <tr>\n",
       "      <th>Albania</th>\n",
       "      <td>34.0</td>\n",
       "      <td>0.947</td>\n",
       "      <td>0.848</td>\n",
       "      <td>0.874</td>\n",
       "      <td>0.383</td>\n",
       "    </tr>\n",
       "    <tr>\n",
       "      <th>Algeria</th>\n",
       "      <td>199.0</td>\n",
       "      <td>1.002</td>\n",
       "      <td>1.160</td>\n",
       "      <td>0.785</td>\n",
       "      <td>0.086</td>\n",
       "    </tr>\n",
       "    <tr>\n",
       "      <th>Argentina</th>\n",
       "      <td>291.0</td>\n",
       "      <td>1.092</td>\n",
       "      <td>1.432</td>\n",
       "      <td>0.881</td>\n",
       "      <td>0.471</td>\n",
       "    </tr>\n",
       "    <tr>\n",
       "      <th>Armenia</th>\n",
       "      <td>134.0</td>\n",
       "      <td>0.850</td>\n",
       "      <td>1.055</td>\n",
       "      <td>0.815</td>\n",
       "      <td>0.283</td>\n",
       "    </tr>\n",
       "  </tbody>\n",
       "</table>\n",
       "</div>"
      ],
      "text/plain": [
       "             max_infection_rates  GDP per capita  Social support  \\\n",
       "Afghanistan                232.0           0.350           0.517   \n",
       "Albania                     34.0           0.947           0.848   \n",
       "Algeria                    199.0           1.002           1.160   \n",
       "Argentina                  291.0           1.092           1.432   \n",
       "Armenia                    134.0           0.850           1.055   \n",
       "\n",
       "             Healthy life expectancy  Freedom to make life choices  \n",
       "Afghanistan                    0.361                         0.000  \n",
       "Albania                        0.874                         0.383  \n",
       "Algeria                        0.785                         0.086  \n",
       "Argentina                      0.881                         0.471  \n",
       "Armenia                        0.815                         0.283  "
      ]
     },
     "execution_count": 28,
     "metadata": {},
     "output_type": "execute_result"
    }
   ],
   "source": [
    "data = corona_data.join(happiness_report_csv,how=\"inner\")\n",
    "data.head()"
   ]
  },
  {
   "cell_type": "markdown",
   "id": "b4d4b6cb",
   "metadata": {
    "_cell_guid": "e7533f09-e057-49cc-b9c5-8edb343d8f36",
    "_uuid": "81ed345b-2364-4750-b3ac-fb316e09ef31",
    "papermill": {
     "duration": 0.037836,
     "end_time": "2023-05-20T10:07:23.452955",
     "exception": false,
     "start_time": "2023-05-20T10:07:23.415119",
     "status": "completed"
    },
    "tags": []
   },
   "source": [
    "## Correlation matirx for inital insights"
   ]
  },
  {
   "cell_type": "code",
   "execution_count": 29,
   "id": "3a390710",
   "metadata": {
    "_cell_guid": "9c5715e6-3455-4be5-82ef-6c9a861d9786",
    "_uuid": "ae924fa5-b798-4161-8ef2-bcb9cbad3551",
    "collapsed": false,
    "execution": {
     "iopub.execute_input": "2023-05-20T10:07:23.529981Z",
     "iopub.status.busy": "2023-05-20T10:07:23.529586Z",
     "iopub.status.idle": "2023-05-20T10:07:23.544773Z",
     "shell.execute_reply": "2023-05-20T10:07:23.543663Z"
    },
    "jupyter": {
     "outputs_hidden": false
    },
    "papermill": {
     "duration": 0.056003,
     "end_time": "2023-05-20T10:07:23.547005",
     "exception": false,
     "start_time": "2023-05-20T10:07:23.491002",
     "status": "completed"
    },
    "tags": []
   },
   "outputs": [
    {
     "data": {
      "text/html": [
       "<div>\n",
       "<style scoped>\n",
       "    .dataframe tbody tr th:only-of-type {\n",
       "        vertical-align: middle;\n",
       "    }\n",
       "\n",
       "    .dataframe tbody tr th {\n",
       "        vertical-align: top;\n",
       "    }\n",
       "\n",
       "    .dataframe thead th {\n",
       "        text-align: right;\n",
       "    }\n",
       "</style>\n",
       "<table border=\"1\" class=\"dataframe\">\n",
       "  <thead>\n",
       "    <tr style=\"text-align: right;\">\n",
       "      <th></th>\n",
       "      <th>max_infection_rates</th>\n",
       "      <th>GDP per capita</th>\n",
       "      <th>Social support</th>\n",
       "      <th>Healthy life expectancy</th>\n",
       "      <th>Freedom to make life choices</th>\n",
       "    </tr>\n",
       "  </thead>\n",
       "  <tbody>\n",
       "    <tr>\n",
       "      <th>max_infection_rates</th>\n",
       "      <td>1.000000</td>\n",
       "      <td>0.250118</td>\n",
       "      <td>0.191958</td>\n",
       "      <td>0.289263</td>\n",
       "      <td>0.078196</td>\n",
       "    </tr>\n",
       "    <tr>\n",
       "      <th>GDP per capita</th>\n",
       "      <td>0.250118</td>\n",
       "      <td>1.000000</td>\n",
       "      <td>0.759468</td>\n",
       "      <td>0.863062</td>\n",
       "      <td>0.394603</td>\n",
       "    </tr>\n",
       "    <tr>\n",
       "      <th>Social support</th>\n",
       "      <td>0.191958</td>\n",
       "      <td>0.759468</td>\n",
       "      <td>1.000000</td>\n",
       "      <td>0.765286</td>\n",
       "      <td>0.456246</td>\n",
       "    </tr>\n",
       "    <tr>\n",
       "      <th>Healthy life expectancy</th>\n",
       "      <td>0.289263</td>\n",
       "      <td>0.863062</td>\n",
       "      <td>0.765286</td>\n",
       "      <td>1.000000</td>\n",
       "      <td>0.427892</td>\n",
       "    </tr>\n",
       "    <tr>\n",
       "      <th>Freedom to make life choices</th>\n",
       "      <td>0.078196</td>\n",
       "      <td>0.394603</td>\n",
       "      <td>0.456246</td>\n",
       "      <td>0.427892</td>\n",
       "      <td>1.000000</td>\n",
       "    </tr>\n",
       "  </tbody>\n",
       "</table>\n",
       "</div>"
      ],
      "text/plain": [
       "                              max_infection_rates  GDP per capita  \\\n",
       "max_infection_rates                      1.000000        0.250118   \n",
       "GDP per capita                           0.250118        1.000000   \n",
       "Social support                           0.191958        0.759468   \n",
       "Healthy life expectancy                  0.289263        0.863062   \n",
       "Freedom to make life choices             0.078196        0.394603   \n",
       "\n",
       "                              Social support  Healthy life expectancy  \\\n",
       "max_infection_rates                 0.191958                 0.289263   \n",
       "GDP per capita                      0.759468                 0.863062   \n",
       "Social support                      1.000000                 0.765286   \n",
       "Healthy life expectancy             0.765286                 1.000000   \n",
       "Freedom to make life choices        0.456246                 0.427892   \n",
       "\n",
       "                              Freedom to make life choices  \n",
       "max_infection_rates                               0.078196  \n",
       "GDP per capita                                    0.394603  \n",
       "Social support                                    0.456246  \n",
       "Healthy life expectancy                           0.427892  \n",
       "Freedom to make life choices                      1.000000  "
      ]
     },
     "execution_count": 29,
     "metadata": {},
     "output_type": "execute_result"
    }
   ],
   "source": [
    "data.corr()"
   ]
  },
  {
   "cell_type": "markdown",
   "id": "de9e266e",
   "metadata": {
    "_cell_guid": "0e4cd9b2-5313-4ff4-8053-a81ea93bcc1c",
    "_uuid": "3d1be3bc-e9e9-4149-8fe7-7193f9b91834",
    "papermill": {
     "duration": 0.036186,
     "end_time": "2023-05-20T10:07:23.619547",
     "exception": false,
     "start_time": "2023-05-20T10:07:23.583361",
     "status": "completed"
    },
    "tags": []
   },
   "source": [
    "### Visualization of the results"
   ]
  },
  {
   "cell_type": "code",
   "execution_count": 30,
   "id": "40073033",
   "metadata": {
    "_cell_guid": "f4c35c10-4b2d-4ce9-8e14-5b2e314293df",
    "_uuid": "f99d2b0e-d6c1-4d82-ac20-e458b68ab8ea",
    "collapsed": false,
    "execution": {
     "iopub.execute_input": "2023-05-20T10:07:23.694704Z",
     "iopub.status.busy": "2023-05-20T10:07:23.693551Z",
     "iopub.status.idle": "2023-05-20T10:07:23.708697Z",
     "shell.execute_reply": "2023-05-20T10:07:23.707062Z"
    },
    "jupyter": {
     "outputs_hidden": false
    },
    "papermill": {
     "duration": 0.05595,
     "end_time": "2023-05-20T10:07:23.711917",
     "exception": false,
     "start_time": "2023-05-20T10:07:23.655967",
     "status": "completed"
    },
    "tags": []
   },
   "outputs": [
    {
     "data": {
      "text/html": [
       "<div>\n",
       "<style scoped>\n",
       "    .dataframe tbody tr th:only-of-type {\n",
       "        vertical-align: middle;\n",
       "    }\n",
       "\n",
       "    .dataframe tbody tr th {\n",
       "        vertical-align: top;\n",
       "    }\n",
       "\n",
       "    .dataframe thead th {\n",
       "        text-align: right;\n",
       "    }\n",
       "</style>\n",
       "<table border=\"1\" class=\"dataframe\">\n",
       "  <thead>\n",
       "    <tr style=\"text-align: right;\">\n",
       "      <th></th>\n",
       "      <th>max_infection_rates</th>\n",
       "      <th>GDP per capita</th>\n",
       "      <th>Social support</th>\n",
       "      <th>Healthy life expectancy</th>\n",
       "      <th>Freedom to make life choices</th>\n",
       "    </tr>\n",
       "  </thead>\n",
       "  <tbody>\n",
       "    <tr>\n",
       "      <th>Afghanistan</th>\n",
       "      <td>232.0</td>\n",
       "      <td>0.350</td>\n",
       "      <td>0.517</td>\n",
       "      <td>0.361</td>\n",
       "      <td>0.000</td>\n",
       "    </tr>\n",
       "    <tr>\n",
       "      <th>Albania</th>\n",
       "      <td>34.0</td>\n",
       "      <td>0.947</td>\n",
       "      <td>0.848</td>\n",
       "      <td>0.874</td>\n",
       "      <td>0.383</td>\n",
       "    </tr>\n",
       "    <tr>\n",
       "      <th>Algeria</th>\n",
       "      <td>199.0</td>\n",
       "      <td>1.002</td>\n",
       "      <td>1.160</td>\n",
       "      <td>0.785</td>\n",
       "      <td>0.086</td>\n",
       "    </tr>\n",
       "    <tr>\n",
       "      <th>Argentina</th>\n",
       "      <td>291.0</td>\n",
       "      <td>1.092</td>\n",
       "      <td>1.432</td>\n",
       "      <td>0.881</td>\n",
       "      <td>0.471</td>\n",
       "    </tr>\n",
       "    <tr>\n",
       "      <th>Armenia</th>\n",
       "      <td>134.0</td>\n",
       "      <td>0.850</td>\n",
       "      <td>1.055</td>\n",
       "      <td>0.815</td>\n",
       "      <td>0.283</td>\n",
       "    </tr>\n",
       "  </tbody>\n",
       "</table>\n",
       "</div>"
      ],
      "text/plain": [
       "             max_infection_rates  GDP per capita  Social support  \\\n",
       "Afghanistan                232.0           0.350           0.517   \n",
       "Albania                     34.0           0.947           0.848   \n",
       "Algeria                    199.0           1.002           1.160   \n",
       "Argentina                  291.0           1.092           1.432   \n",
       "Armenia                    134.0           0.850           1.055   \n",
       "\n",
       "             Healthy life expectancy  Freedom to make life choices  \n",
       "Afghanistan                    0.361                         0.000  \n",
       "Albania                        0.874                         0.383  \n",
       "Algeria                        0.785                         0.086  \n",
       "Argentina                      0.881                         0.471  \n",
       "Armenia                        0.815                         0.283  "
      ]
     },
     "execution_count": 30,
     "metadata": {},
     "output_type": "execute_result"
    }
   ],
   "source": [
    "data.head()"
   ]
  },
  {
   "cell_type": "markdown",
   "id": "48916d3a",
   "metadata": {
    "_cell_guid": "5d2ac9ee-c8a4-4fe0-bf0c-55c14fae80a3",
    "_uuid": "d4dbd9ef-3a84-49f0-a7c1-d536b60b2f7f",
    "papermill": {
     "duration": 0.037712,
     "end_time": "2023-05-20T10:07:23.788107",
     "exception": false,
     "start_time": "2023-05-20T10:07:23.750395",
     "status": "completed"
    },
    "tags": []
   },
   "source": [
    "## Plotting GDP vs maximum infection rates"
   ]
  },
  {
   "cell_type": "code",
   "execution_count": 31,
   "id": "2e08e745",
   "metadata": {
    "_cell_guid": "b052c675-ba88-4240-bf09-3b43df941376",
    "_uuid": "3b72e317-786e-47ad-bff7-e55b848d8885",
    "collapsed": false,
    "execution": {
     "iopub.execute_input": "2023-05-20T10:07:23.866108Z",
     "iopub.status.busy": "2023-05-20T10:07:23.865138Z",
     "iopub.status.idle": "2023-05-20T10:07:24.119740Z",
     "shell.execute_reply": "2023-05-20T10:07:24.118652Z"
    },
    "jupyter": {
     "outputs_hidden": false
    },
    "papermill": {
     "duration": 0.295979,
     "end_time": "2023-05-20T10:07:24.122136",
     "exception": false,
     "start_time": "2023-05-20T10:07:23.826157",
     "status": "completed"
    },
    "tags": []
   },
   "outputs": [
    {
     "data": {
      "text/plain": [
       "<AxesSubplot: xlabel='GDP per capita', ylabel='max_infection_rates'>"
      ]
     },
     "execution_count": 31,
     "metadata": {},
     "output_type": "execute_result"
    },
    {
     "data": {
      "image/png": "[encoded data removed]",
      "text/plain": [
       "<Figure size 640x480 with 1 Axes>"
      ]
     },
     "metadata": {},
     "output_type": "display_data"
    }
   ],
   "source": [
    "sns.scatterplot(x=\"GDP per capita\", y=np.log(data[\"max_infection_rates\"]), data=data)"
   ]
  },
  {
   "cell_type": "code",
   "execution_count": 32,
   "id": "ee9d0f3c",
   "metadata": {
    "_cell_guid": "7fa735eb-0d1f-46fd-9d85-716e2005822d",
    "_uuid": "ba002300-4270-43b9-ae0e-a35a8b5e73b3",
    "collapsed": false,
    "execution": {
     "iopub.execute_input": "2023-05-20T10:07:24.200467Z",
     "iopub.status.busy": "2023-05-20T10:07:24.199244Z",
     "iopub.status.idle": "2023-05-20T10:07:24.553243Z",
     "shell.execute_reply": "2023-05-20T10:07:24.552406Z"
    },
    "jupyter": {
     "outputs_hidden": false
    },
    "papermill": {
     "duration": 0.395955,
     "end_time": "2023-05-20T10:07:24.556105",
     "exception": false,
     "start_time": "2023-05-20T10:07:24.160150",
     "status": "completed"
    },
    "tags": []
   },
   "outputs": [
    {
     "data": {
      "text/plain": [
       "<AxesSubplot: xlabel='GDP per capita', ylabel='max_infection_rates'>"
      ]
     },
     "execution_count": 32,
     "metadata": {},
     "output_type": "execute_result"
    },
    {
     "data": {
      "image/png": "[encoded data removed]",
      "text/plain": [
       "<Figure size 640x480 with 1 Axes>"
      ]
     },
     "metadata": {},
     "output_type": "display_data"
    }
   ],
   "source": [
    "sns.regplot(x=\"GDP per capita\", y=np.log(data[\"max_infection_rates\"]), data=data)"
   ]
  },
  {
   "cell_type": "markdown",
   "id": "3bed8f27",
   "metadata": {
    "_cell_guid": "da2e8d0d-75de-40fa-8c4a-64e21d39bf93",
    "_uuid": "9ac2e569-1c9e-4bc3-a668-c7ee9e79fcff",
    "papermill": {
     "duration": 0.039615,
     "end_time": "2023-05-20T10:07:24.634700",
     "exception": false,
     "start_time": "2023-05-20T10:07:24.595085",
     "status": "completed"
    },
    "tags": []
   },
   "source": [
    "## Plotting Social support vs maximum infection rates"
   ]
  },
  {
   "cell_type": "code",
   "execution_count": 33,
   "id": "94799562",
   "metadata": {
    "_cell_guid": "385bf78f-5b6b-4e91-ac4d-fabe7c5d013c",
    "_uuid": "a1aea8ce-b98e-46fb-882e-39622441b416",
    "collapsed": false,
    "execution": {
     "iopub.execute_input": "2023-05-20T10:07:24.715655Z",
     "iopub.status.busy": "2023-05-20T10:07:24.715210Z",
     "iopub.status.idle": "2023-05-20T10:07:24.942165Z",
     "shell.execute_reply": "2023-05-20T10:07:24.940988Z"
    },
    "jupyter": {
     "outputs_hidden": false
    },
    "papermill": {
     "duration": 0.269876,
     "end_time": "2023-05-20T10:07:24.944457",
     "exception": false,
     "start_time": "2023-05-20T10:07:24.674581",
     "status": "completed"
    },
    "tags": []
   },
   "outputs": [
    {
     "data": {
      "text/plain": [
       "<AxesSubplot: xlabel='Social support', ylabel='max_infection_rates'>"
      ]
     },
     "execution_count": 33,
     "metadata": {},
     "output_type": "execute_result"
    },
    {
     "data": {
      "image/png": "[encoded data removed]",
      "text/plain": [
       "<Figure size 640x480 with 1 Axes>"
      ]
     },
     "metadata": {},
     "output_type": "display_data"
    }
   ],
   "source": [
    "sns.scatterplot(x=\"Social support\", y=np.log(data[\"max_infection_rates\"]), data=data)"
   ]
  },
  {
   "cell_type": "code",
   "execution_count": 34,
   "id": "37d85ac9",
   "metadata": {
    "_cell_guid": "1c0308ed-9765-41c5-9a6e-8671aefce3ff",
    "_uuid": "e16a72fd-b4d4-4f11-87b0-d64ad0d44132",
    "collapsed": false,
    "execution": {
     "iopub.execute_input": "2023-05-20T10:07:25.038236Z",
     "iopub.status.busy": "2023-05-20T10:07:25.037427Z",
     "iopub.status.idle": "2023-05-20T10:07:25.386245Z",
     "shell.execute_reply": "2023-05-20T10:07:25.385105Z"
    },
    "jupyter": {
     "outputs_hidden": false
    },
    "papermill": {
     "duration": 0.393916,
     "end_time": "2023-05-20T10:07:25.388771",
     "exception": false,
     "start_time": "2023-05-20T10:07:24.994855",
     "status": "completed"
    },
    "tags": []
   },
   "outputs": [
    {
     "data": {
      "text/plain": [
       "<AxesSubplot: xlabel='Social support', ylabel='max_infection_rates'>"
      ]
     },
     "execution_count": 34,
     "metadata": {},
     "output_type": "execute_result"
    },
    {
     "data": {
      "image/png": "[encoded data removed]",
      "text/plain": [
       "<Figure size 640x480 with 1 Axes>"
      ]
     },
     "metadata": {},
     "output_type": "display_data"
    }
   ],
   "source": [
    "sns.regplot(x=\"Social support\", y=np.log(data[\"max_infection_rates\"]), data=data)"
   ]
  },
  {
   "cell_type": "markdown",
   "id": "89a0f572",
   "metadata": {
    "_cell_guid": "12dffae1-cbb6-4fb0-8d11-9013773d053a",
    "_uuid": "7355b316-9e00-4811-adc3-2dabd6e886b0",
    "papermill": {
     "duration": 0.039728,
     "end_time": "2023-05-20T10:07:25.468417",
     "exception": false,
     "start_time": "2023-05-20T10:07:25.428689",
     "status": "completed"
    },
    "tags": []
   },
   "source": [
    "## Plotting Healthy life expectancy vs maximum infection rates"
   ]
  },
  {
   "cell_type": "code",
   "execution_count": 35,
   "id": "c6549a2b",
   "metadata": {
    "_cell_guid": "c77e522f-e34e-490a-99ce-f929611ee5d0",
    "_uuid": "3669d987-609c-43d3-bfb1-a3cda6c56258",
    "collapsed": false,
    "execution": {
     "iopub.execute_input": "2023-05-20T10:07:25.550178Z",
     "iopub.status.busy": "2023-05-20T10:07:25.549517Z",
     "iopub.status.idle": "2023-05-20T10:07:25.767888Z",
     "shell.execute_reply": "2023-05-20T10:07:25.766765Z"
    },
    "jupyter": {
     "outputs_hidden": false
    },
    "papermill": {
     "duration": 0.261844,
     "end_time": "2023-05-20T10:07:25.770304",
     "exception": false,
     "start_time": "2023-05-20T10:07:25.508460",
     "status": "completed"
    },
    "tags": []
   },
   "outputs": [
    {
     "data": {
      "text/plain": [
       "<AxesSubplot: xlabel='Healthy life expectancy', ylabel='max_infection_rates'>"
      ]
     },
     "execution_count": 35,
     "metadata": {},
     "output_type": "execute_result"
    },
    {
     "data": {
      "image/png": "[encoded data removed]",
      "text/plain": [
       "<Figure size 640x480 with 1 Axes>"
      ]
     },
     "metadata": {},
     "output_type": "display_data"
    }
   ],
   "source": [
    "sns.scatterplot(x=\"Healthy life expectancy\", y=np.log(data[\"max_infection_rates\"]), data=data)"
   ]
  },
  {
   "cell_type": "code",
   "execution_count": 36,
   "id": "bba924b6",
   "metadata": {
    "_cell_guid": "a9d25b3f-b77b-4453-b599-2882eb9dbf74",
    "_uuid": "9e674c23-cf14-4e08-8002-e7144727a227",
    "collapsed": false,
    "execution": {
     "iopub.execute_input": "2023-05-20T10:07:25.854135Z",
     "iopub.status.busy": "2023-05-20T10:07:25.853730Z",
     "iopub.status.idle": "2023-05-20T10:07:26.177560Z",
     "shell.execute_reply": "2023-05-20T10:07:26.176425Z"
    },
    "jupyter": {
     "outputs_hidden": false
    },
    "papermill": {
     "duration": 0.368814,
     "end_time": "2023-05-20T10:07:26.180210",
     "exception": false,
     "start_time": "2023-05-20T10:07:25.811396",
     "status": "completed"
    },
    "tags": []
   },
   "outputs": [
    {
     "data": {
      "text/plain": [
       "<AxesSubplot: xlabel='Healthy life expectancy', ylabel='max_infection_rates'>"
      ]
     },
     "execution_count": 36,
     "metadata": {},
     "output_type": "execute_result"
    },
    {
     "data": {
      "image/png": "[encoded data removed]",
      "text/plain": [
       "<Figure size 640x480 with 1 Axes>"
      ]
     },
     "metadata": {},
     "output_type": "display_data"
    }
   ],
   "source": [
    "sns.regplot(x=\"Healthy life expectancy\", y=np.log(data[\"max_infection_rates\"]), data=data)"
   ]
  },
  {
   "cell_type": "markdown",
   "id": "86baa486",
   "metadata": {
    "_cell_guid": "519865e9-a8aa-4a74-bf63-9c23f1e36e9f",
    "_uuid": "ddf137b7-cbd0-41d0-af31-53707ae9f970",
    "papermill": {
     "duration": 0.041504,
     "end_time": "2023-05-20T10:07:26.263176",
     "exception": false,
     "start_time": "2023-05-20T10:07:26.221672",
     "status": "completed"
    },
    "tags": []
   },
   "source": [
    "## Plotting Freedom to make life choices vs maximum infection rates"
   ]
  },
  {
   "cell_type": "code",
   "execution_count": 37,
   "id": "4e3a2aa8",
   "metadata": {
    "_cell_guid": "38de9ed1-0f89-42f4-bbdc-34d0396b1445",
    "_uuid": "6751dd45-d0a8-4928-9618-436d976603e9",
    "collapsed": false,
    "execution": {
     "iopub.execute_input": "2023-05-20T10:07:26.352619Z",
     "iopub.status.busy": "2023-05-20T10:07:26.351456Z",
     "iopub.status.idle": "2023-05-20T10:07:26.615245Z",
     "shell.execute_reply": "2023-05-20T10:07:26.613982Z"
    },
    "jupyter": {
     "outputs_hidden": false
    },
    "papermill": {
     "duration": 0.311575,
     "end_time": "2023-05-20T10:07:26.617857",
     "exception": false,
     "start_time": "2023-05-20T10:07:26.306282",
     "status": "completed"
    },
    "tags": []
   },
   "outputs": [
    {
     "data": {
      "text/plain": [
       "<AxesSubplot: xlabel='Freedom to make life choices', ylabel='max_infection_rates'>"
      ]
     },
     "execution_count": 37,
     "metadata": {},
     "output_type": "execute_result"
    },
    {
     "data": {
      "image/png": "[encoded data removed]",
      "text/plain": [
       "<Figure size 640x480 with 1 Axes>"
      ]
     },
     "metadata": {},
     "output_type": "display_data"
    }
   ],
   "source": [
    "sns.scatterplot(x=\"Freedom to make life choices\", y=np.log(data[\"max_infection_rates\"]), data=data)"
   ]
  },
  {
   "cell_type": "code",
   "execution_count": 38,
   "id": "e8f9903d",
   "metadata": {
    "_cell_guid": "5ebb926d-0234-4ad5-a329-b18cedb1da70",
    "_uuid": "e71fd809-53b5-4d58-8762-f8de8321b434",
    "collapsed": false,
    "execution": {
     "iopub.execute_input": "2023-05-20T10:07:26.706712Z",
     "iopub.status.busy": "2023-05-20T10:07:26.705971Z",
     "iopub.status.idle": "2023-05-20T10:07:27.091045Z",
     "shell.execute_reply": "2023-05-20T10:07:27.089938Z"
    },
    "jupyter": {
     "outputs_hidden": false
    },
    "papermill": {
     "duration": 0.43185,
     "end_time": "2023-05-20T10:07:27.093530",
     "exception": false,
     "start_time": "2023-05-20T10:07:26.661680",
     "status": "completed"
    },
    "tags": []
   },
   "outputs": [
    {
     "data": {
      "text/plain": [
       "<AxesSubplot: xlabel='Freedom to make life choices', ylabel='max_infection_rates'>"
      ]
     },
     "execution_count": 38,
     "metadata": {},
     "output_type": "execute_result"
    },
    {
     "data": {
      "image/png": "[encoded data removed]",
      "text/plain": [
       "<Figure size 640x480 with 1 Axes>"
      ]
     },
     "metadata": {},
     "output_type": "display_data"
    }
   ],
   "source": [
    "sns.regplot(x=\"Freedom to make life choices\", y=np.log(data[\"max_infection_rates\"]), data=data)"
   ]
  },
  {
   "cell_type": "markdown",
   "id": "65e538c9",
   "metadata": {
    "_cell_guid": "336b0856-8091-4d42-978f-85dae3bcb4e4",
    "_uuid": "339d7467-7c42-444d-b8c0-3997d9ebb55f",
    "papermill": {
     "duration": 0.043822,
     "end_time": "2023-05-20T10:07:27.182366",
     "exception": false,
     "start_time": "2023-05-20T10:07:27.138544",
     "status": "completed"
    },
    "tags": []
   },
   "source": [
    "## Inital Findings"
   ]
  },
  {
   "cell_type": "markdown",
   "id": "60670838",
   "metadata": {
    "_cell_guid": "2ea8fb8d-a419-4d40-a5ac-5e896aebd49b",
    "_uuid": "5087e199-11d1-4ce1-84c4-186514744eb0",
    "papermill": {
     "duration": 0.043624,
     "end_time": "2023-05-20T10:07:27.270478",
     "exception": false,
     "start_time": "2023-05-20T10:07:27.226854",
     "status": "completed"
    },
    "tags": []
   },
   "source": [
    "Results from this initial analysis show that people who are living in more developed countries are more susceptible to getting COVID-19 compared to less developed countries."
   ]
  },
  {
   "cell_type": "markdown",
   "id": "0253251c",
   "metadata": {
    "_cell_guid": "07f73749-e258-4c9f-aea7-610f34bf83f9",
    "_uuid": "42770b5e-e7c4-4c39-8ad4-34b70f196002",
    "papermill": {
     "duration": 0.04324,
     "end_time": "2023-05-20T10:07:27.356857",
     "exception": false,
     "start_time": "2023-05-20T10:07:27.313617",
     "status": "completed"
    },
    "tags": []
   },
   "source": [
    "## Futher Analysis"
   ]
  },
  {
   "cell_type": "markdown",
   "id": "1c56ed83",
   "metadata": {
    "_cell_guid": "877afb97-5713-4c68-8199-d666cc1d280b",
    "_uuid": "ca0d67bc-febf-440f-b285-9efb58c9b8cc",
    "papermill": {
     "duration": 0.044735,
     "end_time": "2023-05-20T10:07:27.444714",
     "exception": false,
     "start_time": "2023-05-20T10:07:27.399979",
     "status": "completed"
    },
    "tags": []
   },
   "source": [
    "To confirm if the initial analysis is correct, I need to compare and confirm that it is not being represented due to a lack of COVID-19 test kits in the less developed countries.\n",
    "\n",
    "In order to prove that this is not the case, I will complete a further analysis where I will use a dataset related to the cumulative number of deaths instead of the confirmed COVID-19 cases."
   ]
  },
  {
   "cell_type": "markdown",
   "id": "31ec158d",
   "metadata": {
    "_cell_guid": "ffa2c3e1-44c1-4598-8beb-68b64c1e29ef",
    "_uuid": "2be8f5c2-97eb-4cd9-8bf2-7d5ffc21e72c",
    "papermill": {
     "duration": 0.04299,
     "end_time": "2023-05-20T10:07:27.531461",
     "exception": false,
     "start_time": "2023-05-20T10:07:27.488471",
     "status": "completed"
    },
    "tags": []
   },
   "source": [
    "## Importing Covid-19 Deaths Dataset"
   ]
  },
  {
   "cell_type": "code",
   "execution_count": 39,
   "id": "679cd05b",
   "metadata": {
    "_cell_guid": "26f0ac03-2538-4d54-a106-0473666a2a28",
    "_uuid": "2ea268a5-d7ae-46b8-8e92-69c5f1250698",
    "collapsed": false,
    "execution": {
     "iopub.execute_input": "2023-05-20T10:07:27.619245Z",
     "iopub.status.busy": "2023-05-20T10:07:27.618827Z",
     "iopub.status.idle": "2023-05-20T10:07:27.659924Z",
     "shell.execute_reply": "2023-05-20T10:07:27.658530Z"
    },
    "jupyter": {
     "outputs_hidden": false
    },
    "papermill": {
     "duration": 0.088302,
     "end_time": "2023-05-20T10:07:27.662572",
     "exception": false,
     "start_time": "2023-05-20T10:07:27.574270",
     "status": "completed"
    },
    "tags": []
   },
   "outputs": [
    {
     "data": {
      "text/html": [
       "<div>\n",
       "<style scoped>\n",
       "    .dataframe tbody tr th:only-of-type {\n",
       "        vertical-align: middle;\n",
       "    }\n",
       "\n",
       "    .dataframe tbody tr th {\n",
       "        vertical-align: top;\n",
       "    }\n",
       "\n",
       "    .dataframe thead th {\n",
       "        text-align: right;\n",
       "    }\n",
       "</style>\n",
       "<table border=\"1\" class=\"dataframe\">\n",
       "  <thead>\n",
       "    <tr style=\"text-align: right;\">\n",
       "      <th></th>\n",
       "      <th>Province/State</th>\n",
       "      <th>Country/Region</th>\n",
       "      <th>Lat</th>\n",
       "      <th>Long</th>\n",
       "      <th>1/22/20</th>\n",
       "      <th>1/23/20</th>\n",
       "      <th>1/24/20</th>\n",
       "      <th>1/25/20</th>\n",
       "      <th>1/26/20</th>\n",
       "      <th>1/27/20</th>\n",
       "      <th>...</th>\n",
       "      <th>4/21/20</th>\n",
       "      <th>4/22/20</th>\n",
       "      <th>4/23/20</th>\n",
       "      <th>4/24/20</th>\n",
       "      <th>4/25/20</th>\n",
       "      <th>4/26/20</th>\n",
       "      <th>4/27/20</th>\n",
       "      <th>4/28/20</th>\n",
       "      <th>4/29/20</th>\n",
       "      <th>4/30/20</th>\n",
       "    </tr>\n",
       "  </thead>\n",
       "  <tbody>\n",
       "    <tr>\n",
       "      <th>0</th>\n",
       "      <td>NaN</td>\n",
       "      <td>Afghanistan</td>\n",
       "      <td>33.0000</td>\n",
       "      <td>65.0000</td>\n",
       "      <td>0</td>\n",
       "      <td>0</td>\n",
       "      <td>0</td>\n",
       "      <td>0</td>\n",
       "      <td>0</td>\n",
       "      <td>0</td>\n",
       "      <td>...</td>\n",
       "      <td>36</td>\n",
       "      <td>40</td>\n",
       "      <td>42</td>\n",
       "      <td>43</td>\n",
       "      <td>47</td>\n",
       "      <td>50</td>\n",
       "      <td>57</td>\n",
       "      <td>58</td>\n",
       "      <td>60</td>\n",
       "      <td>64</td>\n",
       "    </tr>\n",
       "    <tr>\n",
       "      <th>1</th>\n",
       "      <td>NaN</td>\n",
       "      <td>Albania</td>\n",
       "      <td>41.1533</td>\n",
       "      <td>20.1683</td>\n",
       "      <td>0</td>\n",
       "      <td>0</td>\n",
       "      <td>0</td>\n",
       "      <td>0</td>\n",
       "      <td>0</td>\n",
       "      <td>0</td>\n",
       "      <td>...</td>\n",
       "      <td>26</td>\n",
       "      <td>27</td>\n",
       "      <td>27</td>\n",
       "      <td>27</td>\n",
       "      <td>27</td>\n",
       "      <td>28</td>\n",
       "      <td>28</td>\n",
       "      <td>30</td>\n",
       "      <td>30</td>\n",
       "      <td>31</td>\n",
       "    </tr>\n",
       "    <tr>\n",
       "      <th>2</th>\n",
       "      <td>NaN</td>\n",
       "      <td>Algeria</td>\n",
       "      <td>28.0339</td>\n",
       "      <td>1.6596</td>\n",
       "      <td>0</td>\n",
       "      <td>0</td>\n",
       "      <td>0</td>\n",
       "      <td>0</td>\n",
       "      <td>0</td>\n",
       "      <td>0</td>\n",
       "      <td>...</td>\n",
       "      <td>392</td>\n",
       "      <td>402</td>\n",
       "      <td>407</td>\n",
       "      <td>415</td>\n",
       "      <td>419</td>\n",
       "      <td>425</td>\n",
       "      <td>432</td>\n",
       "      <td>437</td>\n",
       "      <td>444</td>\n",
       "      <td>450</td>\n",
       "    </tr>\n",
       "    <tr>\n",
       "      <th>3</th>\n",
       "      <td>NaN</td>\n",
       "      <td>Andorra</td>\n",
       "      <td>42.5063</td>\n",
       "      <td>1.5218</td>\n",
       "      <td>0</td>\n",
       "      <td>0</td>\n",
       "      <td>0</td>\n",
       "      <td>0</td>\n",
       "      <td>0</td>\n",
       "      <td>0</td>\n",
       "      <td>...</td>\n",
       "      <td>37</td>\n",
       "      <td>37</td>\n",
       "      <td>37</td>\n",
       "      <td>40</td>\n",
       "      <td>40</td>\n",
       "      <td>40</td>\n",
       "      <td>40</td>\n",
       "      <td>41</td>\n",
       "      <td>42</td>\n",
       "      <td>42</td>\n",
       "    </tr>\n",
       "    <tr>\n",
       "      <th>4</th>\n",
       "      <td>NaN</td>\n",
       "      <td>Angola</td>\n",
       "      <td>-11.2027</td>\n",
       "      <td>17.8739</td>\n",
       "      <td>0</td>\n",
       "      <td>0</td>\n",
       "      <td>0</td>\n",
       "      <td>0</td>\n",
       "      <td>0</td>\n",
       "      <td>0</td>\n",
       "      <td>...</td>\n",
       "      <td>2</td>\n",
       "      <td>2</td>\n",
       "      <td>2</td>\n",
       "      <td>2</td>\n",
       "      <td>2</td>\n",
       "      <td>2</td>\n",
       "      <td>2</td>\n",
       "      <td>2</td>\n",
       "      <td>2</td>\n",
       "      <td>2</td>\n",
       "    </tr>\n",
       "    <tr>\n",
       "      <th>5</th>\n",
       "      <td>NaN</td>\n",
       "      <td>Antigua and Barbuda</td>\n",
       "      <td>17.0608</td>\n",
       "      <td>-61.7964</td>\n",
       "      <td>0</td>\n",
       "      <td>0</td>\n",
       "      <td>0</td>\n",
       "      <td>0</td>\n",
       "      <td>0</td>\n",
       "      <td>0</td>\n",
       "      <td>...</td>\n",
       "      <td>3</td>\n",
       "      <td>3</td>\n",
       "      <td>3</td>\n",
       "      <td>3</td>\n",
       "      <td>3</td>\n",
       "      <td>3</td>\n",
       "      <td>3</td>\n",
       "      <td>3</td>\n",
       "      <td>3</td>\n",
       "      <td>3</td>\n",
       "    </tr>\n",
       "    <tr>\n",
       "      <th>6</th>\n",
       "      <td>NaN</td>\n",
       "      <td>Argentina</td>\n",
       "      <td>-38.4161</td>\n",
       "      <td>-63.6167</td>\n",
       "      <td>0</td>\n",
       "      <td>0</td>\n",
       "      <td>0</td>\n",
       "      <td>0</td>\n",
       "      <td>0</td>\n",
       "      <td>0</td>\n",
       "      <td>...</td>\n",
       "      <td>147</td>\n",
       "      <td>152</td>\n",
       "      <td>165</td>\n",
       "      <td>176</td>\n",
       "      <td>185</td>\n",
       "      <td>192</td>\n",
       "      <td>197</td>\n",
       "      <td>207</td>\n",
       "      <td>214</td>\n",
       "      <td>218</td>\n",
       "    </tr>\n",
       "    <tr>\n",
       "      <th>7</th>\n",
       "      <td>NaN</td>\n",
       "      <td>Armenia</td>\n",
       "      <td>40.0691</td>\n",
       "      <td>45.0382</td>\n",
       "      <td>0</td>\n",
       "      <td>0</td>\n",
       "      <td>0</td>\n",
       "      <td>0</td>\n",
       "      <td>0</td>\n",
       "      <td>0</td>\n",
       "      <td>...</td>\n",
       "      <td>24</td>\n",
       "      <td>24</td>\n",
       "      <td>24</td>\n",
       "      <td>27</td>\n",
       "      <td>28</td>\n",
       "      <td>28</td>\n",
       "      <td>29</td>\n",
       "      <td>30</td>\n",
       "      <td>30</td>\n",
       "      <td>32</td>\n",
       "    </tr>\n",
       "    <tr>\n",
       "      <th>8</th>\n",
       "      <td>Australian Capital Territory</td>\n",
       "      <td>Australia</td>\n",
       "      <td>-35.4735</td>\n",
       "      <td>149.0124</td>\n",
       "      <td>0</td>\n",
       "      <td>0</td>\n",
       "      <td>0</td>\n",
       "      <td>0</td>\n",
       "      <td>0</td>\n",
       "      <td>0</td>\n",
       "      <td>...</td>\n",
       "      <td>3</td>\n",
       "      <td>3</td>\n",
       "      <td>3</td>\n",
       "      <td>3</td>\n",
       "      <td>3</td>\n",
       "      <td>3</td>\n",
       "      <td>3</td>\n",
       "      <td>3</td>\n",
       "      <td>3</td>\n",
       "      <td>3</td>\n",
       "    </tr>\n",
       "    <tr>\n",
       "      <th>9</th>\n",
       "      <td>New South Wales</td>\n",
       "      <td>Australia</td>\n",
       "      <td>-33.8688</td>\n",
       "      <td>151.2093</td>\n",
       "      <td>0</td>\n",
       "      <td>0</td>\n",
       "      <td>0</td>\n",
       "      <td>0</td>\n",
       "      <td>0</td>\n",
       "      <td>0</td>\n",
       "      <td>...</td>\n",
       "      <td>26</td>\n",
       "      <td>26</td>\n",
       "      <td>31</td>\n",
       "      <td>33</td>\n",
       "      <td>33</td>\n",
       "      <td>34</td>\n",
       "      <td>34</td>\n",
       "      <td>39</td>\n",
       "      <td>40</td>\n",
       "      <td>41</td>\n",
       "    </tr>\n",
       "  </tbody>\n",
       "</table>\n",
       "<p>10 rows × 104 columns</p>\n",
       "</div>"
      ],
      "text/plain": [
       "                 Province/State       Country/Region      Lat      Long  \\\n",
       "0                           NaN          Afghanistan  33.0000   65.0000   \n",
       "1                           NaN              Albania  41.1533   20.1683   \n",
       "2                           NaN              Algeria  28.0339    1.6596   \n",
       "3                           NaN              Andorra  42.5063    1.5218   \n",
       "4                           NaN               Angola -11.2027   17.8739   \n",
       "5                           NaN  Antigua and Barbuda  17.0608  -61.7964   \n",
       "6                           NaN            Argentina -38.4161  -63.6167   \n",
       "7                           NaN              Armenia  40.0691   45.0382   \n",
       "8  Australian Capital Territory            Australia -35.4735  149.0124   \n",
       "9               New South Wales            Australia -33.8688  151.2093   \n",
       "\n",
       "   1/22/20  1/23/20  1/24/20  1/25/20  1/26/20  1/27/20  ...  4/21/20  \\\n",
       "0        0        0        0        0        0        0  ...       36   \n",
       "1        0        0        0        0        0        0  ...       26   \n",
       "2        0        0        0        0        0        0  ...      392   \n",
       "3        0        0        0        0        0        0  ...       37   \n",
       "4        0        0        0        0        0        0  ...        2   \n",
       "5        0        0        0        0        0        0  ...        3   \n",
       "6        0        0        0        0        0        0  ...      147   \n",
       "7        0        0        0        0        0        0  ...       24   \n",
       "8        0        0        0        0        0        0  ...        3   \n",
       "9        0        0        0        0        0        0  ...       26   \n",
       "\n",
       "   4/22/20  4/23/20  4/24/20  4/25/20  4/26/20  4/27/20  4/28/20  4/29/20  \\\n",
       "0       40       42       43       47       50       57       58       60   \n",
       "1       27       27       27       27       28       28       30       30   \n",
       "2      402      407      415      419      425      432      437      444   \n",
       "3       37       37       40       40       40       40       41       42   \n",
       "4        2        2        2        2        2        2        2        2   \n",
       "5        3        3        3        3        3        3        3        3   \n",
       "6      152      165      176      185      192      197      207      214   \n",
       "7       24       24       27       28       28       29       30       30   \n",
       "8        3        3        3        3        3        3        3        3   \n",
       "9       26       31       33       33       34       34       39       40   \n",
       "\n",
       "   4/30/20  \n",
       "0       64  \n",
       "1       31  \n",
       "2      450  \n",
       "3       42  \n",
       "4        2  \n",
       "5        3  \n",
       "6      218  \n",
       "7       32  \n",
       "8        3  \n",
       "9       41  \n",
       "\n",
       "[10 rows x 104 columns]"
      ]
     },
     "execution_count": 39,
     "metadata": {},
     "output_type": "execute_result"
    }
   ],
   "source": [
    "corona_deaths_dataset_csv = pd.read_csv(\"/kaggle/input/covid19-and-world-happiness-report/covid19_deaths_dataset.csv\")\n",
    "corona_deaths_dataset_csv.head(10)"
   ]
  },
  {
   "cell_type": "code",
   "execution_count": 40,
   "id": "b30c0292",
   "metadata": {
    "_cell_guid": "42605cfd-8398-404b-a376-55f3311cecb5",
    "_uuid": "2b4ae2a7-c2a3-4216-903b-eaf4ae2c98d9",
    "collapsed": false,
    "execution": {
     "iopub.execute_input": "2023-05-20T10:07:27.754771Z",
     "iopub.status.busy": "2023-05-20T10:07:27.754361Z",
     "iopub.status.idle": "2023-05-20T10:07:27.761413Z",
     "shell.execute_reply": "2023-05-20T10:07:27.760370Z"
    },
    "jupyter": {
     "outputs_hidden": false
    },
    "papermill": {
     "duration": 0.056677,
     "end_time": "2023-05-20T10:07:27.763668",
     "exception": false,
     "start_time": "2023-05-20T10:07:27.706991",
     "status": "completed"
    },
    "tags": []
   },
   "outputs": [
    {
     "data": {
      "text/plain": [
       "(266, 104)"
      ]
     },
     "execution_count": 40,
     "metadata": {},
     "output_type": "execute_result"
    }
   ],
   "source": [
    "corona_deaths_dataset_csv.shape"
   ]
  },
  {
   "cell_type": "markdown",
   "id": "a32df31d",
   "metadata": {
    "_cell_guid": "f6e7a1d9-1a23-4af8-b394-ea2d1e8db99a",
    "_uuid": "9d03d202-c936-452b-a964-4ff51921d0c8",
    "papermill": {
     "duration": 0.044817,
     "end_time": "2023-05-20T10:07:27.852753",
     "exception": false,
     "start_time": "2023-05-20T10:07:27.807936",
     "status": "completed"
    },
    "tags": []
   },
   "source": [
    "## Removing columns not needed for the analysis"
   ]
  },
  {
   "cell_type": "code",
   "execution_count": 41,
   "id": "a97d1ce4",
   "metadata": {
    "_cell_guid": "671500fb-a5ef-4060-a8b1-dc038d781c4b",
    "_uuid": "b9bc38d2-9e38-4a32-a827-1538a6ec82f6",
    "collapsed": false,
    "execution": {
     "iopub.execute_input": "2023-05-20T10:07:27.944661Z",
     "iopub.status.busy": "2023-05-20T10:07:27.944221Z",
     "iopub.status.idle": "2023-05-20T10:07:27.950565Z",
     "shell.execute_reply": "2023-05-20T10:07:27.949601Z"
    },
    "jupyter": {
     "outputs_hidden": false
    },
    "papermill": {
     "duration": 0.055233,
     "end_time": "2023-05-20T10:07:27.952876",
     "exception": false,
     "start_time": "2023-05-20T10:07:27.897643",
     "status": "completed"
    },
    "tags": []
   },
   "outputs": [],
   "source": [
    "df = corona_deaths_dataset_csv.drop([\"Lat\", \"Long\"],axis=1,inplace=True)"
   ]
  },
  {
   "cell_type": "code",
   "execution_count": 42,
   "id": "3a89ac12",
   "metadata": {
    "_cell_guid": "de323629-d1b7-464a-8406-100df8730c1d",
    "_uuid": "4cb7a67f-3cec-4564-aee1-cf6712aae8b8",
    "collapsed": false,
    "execution": {
     "iopub.execute_input": "2023-05-20T10:07:28.066097Z",
     "iopub.status.busy": "2023-05-20T10:07:28.065579Z",
     "iopub.status.idle": "2023-05-20T10:07:28.088525Z",
     "shell.execute_reply": "2023-05-20T10:07:28.087236Z"
    },
    "jupyter": {
     "outputs_hidden": false
    },
    "papermill": {
     "duration": 0.08363,
     "end_time": "2023-05-20T10:07:28.091079",
     "exception": false,
     "start_time": "2023-05-20T10:07:28.007449",
     "status": "completed"
    },
    "tags": []
   },
   "outputs": [
    {
     "data": {
      "text/html": [
       "<div>\n",
       "<style scoped>\n",
       "    .dataframe tbody tr th:only-of-type {\n",
       "        vertical-align: middle;\n",
       "    }\n",
       "\n",
       "    .dataframe tbody tr th {\n",
       "        vertical-align: top;\n",
       "    }\n",
       "\n",
       "    .dataframe thead th {\n",
       "        text-align: right;\n",
       "    }\n",
       "</style>\n",
       "<table border=\"1\" class=\"dataframe\">\n",
       "  <thead>\n",
       "    <tr style=\"text-align: right;\">\n",
       "      <th></th>\n",
       "      <th>Province/State</th>\n",
       "      <th>Country/Region</th>\n",
       "      <th>1/22/20</th>\n",
       "      <th>1/23/20</th>\n",
       "      <th>1/24/20</th>\n",
       "      <th>1/25/20</th>\n",
       "      <th>1/26/20</th>\n",
       "      <th>1/27/20</th>\n",
       "      <th>1/28/20</th>\n",
       "      <th>1/29/20</th>\n",
       "      <th>...</th>\n",
       "      <th>4/21/20</th>\n",
       "      <th>4/22/20</th>\n",
       "      <th>4/23/20</th>\n",
       "      <th>4/24/20</th>\n",
       "      <th>4/25/20</th>\n",
       "      <th>4/26/20</th>\n",
       "      <th>4/27/20</th>\n",
       "      <th>4/28/20</th>\n",
       "      <th>4/29/20</th>\n",
       "      <th>4/30/20</th>\n",
       "    </tr>\n",
       "  </thead>\n",
       "  <tbody>\n",
       "    <tr>\n",
       "      <th>0</th>\n",
       "      <td>NaN</td>\n",
       "      <td>Afghanistan</td>\n",
       "      <td>0</td>\n",
       "      <td>0</td>\n",
       "      <td>0</td>\n",
       "      <td>0</td>\n",
       "      <td>0</td>\n",
       "      <td>0</td>\n",
       "      <td>0</td>\n",
       "      <td>0</td>\n",
       "      <td>...</td>\n",
       "      <td>36</td>\n",
       "      <td>40</td>\n",
       "      <td>42</td>\n",
       "      <td>43</td>\n",
       "      <td>47</td>\n",
       "      <td>50</td>\n",
       "      <td>57</td>\n",
       "      <td>58</td>\n",
       "      <td>60</td>\n",
       "      <td>64</td>\n",
       "    </tr>\n",
       "    <tr>\n",
       "      <th>1</th>\n",
       "      <td>NaN</td>\n",
       "      <td>Albania</td>\n",
       "      <td>0</td>\n",
       "      <td>0</td>\n",
       "      <td>0</td>\n",
       "      <td>0</td>\n",
       "      <td>0</td>\n",
       "      <td>0</td>\n",
       "      <td>0</td>\n",
       "      <td>0</td>\n",
       "      <td>...</td>\n",
       "      <td>26</td>\n",
       "      <td>27</td>\n",
       "      <td>27</td>\n",
       "      <td>27</td>\n",
       "      <td>27</td>\n",
       "      <td>28</td>\n",
       "      <td>28</td>\n",
       "      <td>30</td>\n",
       "      <td>30</td>\n",
       "      <td>31</td>\n",
       "    </tr>\n",
       "    <tr>\n",
       "      <th>2</th>\n",
       "      <td>NaN</td>\n",
       "      <td>Algeria</td>\n",
       "      <td>0</td>\n",
       "      <td>0</td>\n",
       "      <td>0</td>\n",
       "      <td>0</td>\n",
       "      <td>0</td>\n",
       "      <td>0</td>\n",
       "      <td>0</td>\n",
       "      <td>0</td>\n",
       "      <td>...</td>\n",
       "      <td>392</td>\n",
       "      <td>402</td>\n",
       "      <td>407</td>\n",
       "      <td>415</td>\n",
       "      <td>419</td>\n",
       "      <td>425</td>\n",
       "      <td>432</td>\n",
       "      <td>437</td>\n",
       "      <td>444</td>\n",
       "      <td>450</td>\n",
       "    </tr>\n",
       "    <tr>\n",
       "      <th>3</th>\n",
       "      <td>NaN</td>\n",
       "      <td>Andorra</td>\n",
       "      <td>0</td>\n",
       "      <td>0</td>\n",
       "      <td>0</td>\n",
       "      <td>0</td>\n",
       "      <td>0</td>\n",
       "      <td>0</td>\n",
       "      <td>0</td>\n",
       "      <td>0</td>\n",
       "      <td>...</td>\n",
       "      <td>37</td>\n",
       "      <td>37</td>\n",
       "      <td>37</td>\n",
       "      <td>40</td>\n",
       "      <td>40</td>\n",
       "      <td>40</td>\n",
       "      <td>40</td>\n",
       "      <td>41</td>\n",
       "      <td>42</td>\n",
       "      <td>42</td>\n",
       "    </tr>\n",
       "    <tr>\n",
       "      <th>4</th>\n",
       "      <td>NaN</td>\n",
       "      <td>Angola</td>\n",
       "      <td>0</td>\n",
       "      <td>0</td>\n",
       "      <td>0</td>\n",
       "      <td>0</td>\n",
       "      <td>0</td>\n",
       "      <td>0</td>\n",
       "      <td>0</td>\n",
       "      <td>0</td>\n",
       "      <td>...</td>\n",
       "      <td>2</td>\n",
       "      <td>2</td>\n",
       "      <td>2</td>\n",
       "      <td>2</td>\n",
       "      <td>2</td>\n",
       "      <td>2</td>\n",
       "      <td>2</td>\n",
       "      <td>2</td>\n",
       "      <td>2</td>\n",
       "      <td>2</td>\n",
       "    </tr>\n",
       "    <tr>\n",
       "      <th>5</th>\n",
       "      <td>NaN</td>\n",
       "      <td>Antigua and Barbuda</td>\n",
       "      <td>0</td>\n",
       "      <td>0</td>\n",
       "      <td>0</td>\n",
       "      <td>0</td>\n",
       "      <td>0</td>\n",
       "      <td>0</td>\n",
       "      <td>0</td>\n",
       "      <td>0</td>\n",
       "      <td>...</td>\n",
       "      <td>3</td>\n",
       "      <td>3</td>\n",
       "      <td>3</td>\n",
       "      <td>3</td>\n",
       "      <td>3</td>\n",
       "      <td>3</td>\n",
       "      <td>3</td>\n",
       "      <td>3</td>\n",
       "      <td>3</td>\n",
       "      <td>3</td>\n",
       "    </tr>\n",
       "    <tr>\n",
       "      <th>6</th>\n",
       "      <td>NaN</td>\n",
       "      <td>Argentina</td>\n",
       "      <td>0</td>\n",
       "      <td>0</td>\n",
       "      <td>0</td>\n",
       "      <td>0</td>\n",
       "      <td>0</td>\n",
       "      <td>0</td>\n",
       "      <td>0</td>\n",
       "      <td>0</td>\n",
       "      <td>...</td>\n",
       "      <td>147</td>\n",
       "      <td>152</td>\n",
       "      <td>165</td>\n",
       "      <td>176</td>\n",
       "      <td>185</td>\n",
       "      <td>192</td>\n",
       "      <td>197</td>\n",
       "      <td>207</td>\n",
       "      <td>214</td>\n",
       "      <td>218</td>\n",
       "    </tr>\n",
       "    <tr>\n",
       "      <th>7</th>\n",
       "      <td>NaN</td>\n",
       "      <td>Armenia</td>\n",
       "      <td>0</td>\n",
       "      <td>0</td>\n",
       "      <td>0</td>\n",
       "      <td>0</td>\n",
       "      <td>0</td>\n",
       "      <td>0</td>\n",
       "      <td>0</td>\n",
       "      <td>0</td>\n",
       "      <td>...</td>\n",
       "      <td>24</td>\n",
       "      <td>24</td>\n",
       "      <td>24</td>\n",
       "      <td>27</td>\n",
       "      <td>28</td>\n",
       "      <td>28</td>\n",
       "      <td>29</td>\n",
       "      <td>30</td>\n",
       "      <td>30</td>\n",
       "      <td>32</td>\n",
       "    </tr>\n",
       "    <tr>\n",
       "      <th>8</th>\n",
       "      <td>Australian Capital Territory</td>\n",
       "      <td>Australia</td>\n",
       "      <td>0</td>\n",
       "      <td>0</td>\n",
       "      <td>0</td>\n",
       "      <td>0</td>\n",
       "      <td>0</td>\n",
       "      <td>0</td>\n",
       "      <td>0</td>\n",
       "      <td>0</td>\n",
       "      <td>...</td>\n",
       "      <td>3</td>\n",
       "      <td>3</td>\n",
       "      <td>3</td>\n",
       "      <td>3</td>\n",
       "      <td>3</td>\n",
       "      <td>3</td>\n",
       "      <td>3</td>\n",
       "      <td>3</td>\n",
       "      <td>3</td>\n",
       "      <td>3</td>\n",
       "    </tr>\n",
       "    <tr>\n",
       "      <th>9</th>\n",
       "      <td>New South Wales</td>\n",
       "      <td>Australia</td>\n",
       "      <td>0</td>\n",
       "      <td>0</td>\n",
       "      <td>0</td>\n",
       "      <td>0</td>\n",
       "      <td>0</td>\n",
       "      <td>0</td>\n",
       "      <td>0</td>\n",
       "      <td>0</td>\n",
       "      <td>...</td>\n",
       "      <td>26</td>\n",
       "      <td>26</td>\n",
       "      <td>31</td>\n",
       "      <td>33</td>\n",
       "      <td>33</td>\n",
       "      <td>34</td>\n",
       "      <td>34</td>\n",
       "      <td>39</td>\n",
       "      <td>40</td>\n",
       "      <td>41</td>\n",
       "    </tr>\n",
       "  </tbody>\n",
       "</table>\n",
       "<p>10 rows × 102 columns</p>\n",
       "</div>"
      ],
      "text/plain": [
       "                 Province/State       Country/Region  1/22/20  1/23/20  \\\n",
       "0                           NaN          Afghanistan        0        0   \n",
       "1                           NaN              Albania        0        0   \n",
       "2                           NaN              Algeria        0        0   \n",
       "3                           NaN              Andorra        0        0   \n",
       "4                           NaN               Angola        0        0   \n",
       "5                           NaN  Antigua and Barbuda        0        0   \n",
       "6                           NaN            Argentina        0        0   \n",
       "7                           NaN              Armenia        0        0   \n",
       "8  Australian Capital Territory            Australia        0        0   \n",
       "9               New South Wales            Australia        0        0   \n",
       "\n",
       "   1/24/20  1/25/20  1/26/20  1/27/20  1/28/20  1/29/20  ...  4/21/20  \\\n",
       "0        0        0        0        0        0        0  ...       36   \n",
       "1        0        0        0        0        0        0  ...       26   \n",
       "2        0        0        0        0        0        0  ...      392   \n",
       "3        0        0        0        0        0        0  ...       37   \n",
       "4        0        0        0        0        0        0  ...        2   \n",
       "5        0        0        0        0        0        0  ...        3   \n",
       "6        0        0        0        0        0        0  ...      147   \n",
       "7        0        0        0        0        0        0  ...       24   \n",
       "8        0        0        0        0        0        0  ...        3   \n",
       "9        0        0        0        0        0        0  ...       26   \n",
       "\n",
       "   4/22/20  4/23/20  4/24/20  4/25/20  4/26/20  4/27/20  4/28/20  4/29/20  \\\n",
       "0       40       42       43       47       50       57       58       60   \n",
       "1       27       27       27       27       28       28       30       30   \n",
       "2      402      407      415      419      425      432      437      444   \n",
       "3       37       37       40       40       40       40       41       42   \n",
       "4        2        2        2        2        2        2        2        2   \n",
       "5        3        3        3        3        3        3        3        3   \n",
       "6      152      165      176      185      192      197      207      214   \n",
       "7       24       24       27       28       28       29       30       30   \n",
       "8        3        3        3        3        3        3        3        3   \n",
       "9       26       31       33       33       34       34       39       40   \n",
       "\n",
       "   4/30/20  \n",
       "0       64  \n",
       "1       31  \n",
       "2      450  \n",
       "3       42  \n",
       "4        2  \n",
       "5        3  \n",
       "6      218  \n",
       "7       32  \n",
       "8        3  \n",
       "9       41  \n",
       "\n",
       "[10 rows x 102 columns]"
      ]
     },
     "execution_count": 42,
     "metadata": {},
     "output_type": "execute_result"
    }
   ],
   "source": [
    "corona_deaths_dataset_csv.head(10)"
   ]
  },
  {
   "cell_type": "markdown",
   "id": "bd77ea82",
   "metadata": {
    "_cell_guid": "25839cb5-05ef-40ff-9ec1-7161ae653cff",
    "_uuid": "bd5d6850-61f0-4b7c-a910-fb6fdb44bdf2",
    "papermill": {
     "duration": 0.044218,
     "end_time": "2023-05-20T10:07:28.180031",
     "exception": false,
     "start_time": "2023-05-20T10:07:28.135813",
     "status": "completed"
    },
    "tags": []
   },
   "source": [
    "## Aggregating rows by country"
   ]
  },
  {
   "cell_type": "code",
   "execution_count": 43,
   "id": "474c1117",
   "metadata": {
    "_cell_guid": "9bd1b370-5484-4e57-ac38-9e07d1cc7255",
    "_uuid": "10fbf05d-26fa-4bed-a0e2-76d30a33b22a",
    "collapsed": false,
    "execution": {
     "iopub.execute_input": "2023-05-20T10:07:28.271857Z",
     "iopub.status.busy": "2023-05-20T10:07:28.271476Z",
     "iopub.status.idle": "2023-05-20T10:07:28.281850Z",
     "shell.execute_reply": "2023-05-20T10:07:28.280576Z"
    },
    "jupyter": {
     "outputs_hidden": false
    },
    "papermill": {
     "duration": 0.059433,
     "end_time": "2023-05-20T10:07:28.284184",
     "exception": false,
     "start_time": "2023-05-20T10:07:28.224751",
     "status": "completed"
    },
    "tags": []
   },
   "outputs": [
    {
     "name": "stderr",
     "output_type": "stream",
     "text": [
      "/tmp/ipykernel_20/3353960659.py:1: FutureWarning: The default value of numeric_only in DataFrameGroupBy.sum is deprecated. In a future version, numeric_only will default to False. Either specify numeric_only or select only columns which should be valid for the function.\n",
      "  corona_deaths_dataset_aggregated = corona_deaths_dataset_csv.groupby(\"Country/Region\").sum()\n"
     ]
    }
   ],
   "source": [
    "corona_deaths_dataset_aggregated = corona_deaths_dataset_csv.groupby(\"Country/Region\").sum()"
   ]
  },
  {
   "cell_type": "code",
   "execution_count": 44,
   "id": "1133bdb0",
   "metadata": {
    "_cell_guid": "0c401d52-6acd-4907-bf0b-2e8e132a2d6f",
    "_uuid": "0ef70497-2ec3-4996-8961-467fd3be56ab",
    "collapsed": false,
    "execution": {
     "iopub.execute_input": "2023-05-20T10:07:28.376995Z",
     "iopub.status.busy": "2023-05-20T10:07:28.375652Z",
     "iopub.status.idle": "2023-05-20T10:07:28.395503Z",
     "shell.execute_reply": "2023-05-20T10:07:28.394417Z"
    },
    "jupyter": {
     "outputs_hidden": false
    },
    "papermill": {
     "duration": 0.068313,
     "end_time": "2023-05-20T10:07:28.398040",
     "exception": false,
     "start_time": "2023-05-20T10:07:28.329727",
     "status": "completed"
    },
    "tags": []
   },
   "outputs": [
    {
     "data": {
      "text/html": [
       "<div>\n",
       "<style scoped>\n",
       "    .dataframe tbody tr th:only-of-type {\n",
       "        vertical-align: middle;\n",
       "    }\n",
       "\n",
       "    .dataframe tbody tr th {\n",
       "        vertical-align: top;\n",
       "    }\n",
       "\n",
       "    .dataframe thead th {\n",
       "        text-align: right;\n",
       "    }\n",
       "</style>\n",
       "<table border=\"1\" class=\"dataframe\">\n",
       "  <thead>\n",
       "    <tr style=\"text-align: right;\">\n",
       "      <th></th>\n",
       "      <th>1/22/20</th>\n",
       "      <th>1/23/20</th>\n",
       "      <th>1/24/20</th>\n",
       "      <th>1/25/20</th>\n",
       "      <th>1/26/20</th>\n",
       "      <th>1/27/20</th>\n",
       "      <th>1/28/20</th>\n",
       "      <th>1/29/20</th>\n",
       "      <th>1/30/20</th>\n",
       "      <th>1/31/20</th>\n",
       "      <th>...</th>\n",
       "      <th>4/21/20</th>\n",
       "      <th>4/22/20</th>\n",
       "      <th>4/23/20</th>\n",
       "      <th>4/24/20</th>\n",
       "      <th>4/25/20</th>\n",
       "      <th>4/26/20</th>\n",
       "      <th>4/27/20</th>\n",
       "      <th>4/28/20</th>\n",
       "      <th>4/29/20</th>\n",
       "      <th>4/30/20</th>\n",
       "    </tr>\n",
       "    <tr>\n",
       "      <th>Country/Region</th>\n",
       "      <th></th>\n",
       "      <th></th>\n",
       "      <th></th>\n",
       "      <th></th>\n",
       "      <th></th>\n",
       "      <th></th>\n",
       "      <th></th>\n",
       "      <th></th>\n",
       "      <th></th>\n",
       "      <th></th>\n",
       "      <th></th>\n",
       "      <th></th>\n",
       "      <th></th>\n",
       "      <th></th>\n",
       "      <th></th>\n",
       "      <th></th>\n",
       "      <th></th>\n",
       "      <th></th>\n",
       "      <th></th>\n",
       "      <th></th>\n",
       "      <th></th>\n",
       "    </tr>\n",
       "  </thead>\n",
       "  <tbody>\n",
       "    <tr>\n",
       "      <th>Afghanistan</th>\n",
       "      <td>0</td>\n",
       "      <td>0</td>\n",
       "      <td>0</td>\n",
       "      <td>0</td>\n",
       "      <td>0</td>\n",
       "      <td>0</td>\n",
       "      <td>0</td>\n",
       "      <td>0</td>\n",
       "      <td>0</td>\n",
       "      <td>0</td>\n",
       "      <td>...</td>\n",
       "      <td>36</td>\n",
       "      <td>40</td>\n",
       "      <td>42</td>\n",
       "      <td>43</td>\n",
       "      <td>47</td>\n",
       "      <td>50</td>\n",
       "      <td>57</td>\n",
       "      <td>58</td>\n",
       "      <td>60</td>\n",
       "      <td>64</td>\n",
       "    </tr>\n",
       "    <tr>\n",
       "      <th>Albania</th>\n",
       "      <td>0</td>\n",
       "      <td>0</td>\n",
       "      <td>0</td>\n",
       "      <td>0</td>\n",
       "      <td>0</td>\n",
       "      <td>0</td>\n",
       "      <td>0</td>\n",
       "      <td>0</td>\n",
       "      <td>0</td>\n",
       "      <td>0</td>\n",
       "      <td>...</td>\n",
       "      <td>26</td>\n",
       "      <td>27</td>\n",
       "      <td>27</td>\n",
       "      <td>27</td>\n",
       "      <td>27</td>\n",
       "      <td>28</td>\n",
       "      <td>28</td>\n",
       "      <td>30</td>\n",
       "      <td>30</td>\n",
       "      <td>31</td>\n",
       "    </tr>\n",
       "    <tr>\n",
       "      <th>Algeria</th>\n",
       "      <td>0</td>\n",
       "      <td>0</td>\n",
       "      <td>0</td>\n",
       "      <td>0</td>\n",
       "      <td>0</td>\n",
       "      <td>0</td>\n",
       "      <td>0</td>\n",
       "      <td>0</td>\n",
       "      <td>0</td>\n",
       "      <td>0</td>\n",
       "      <td>...</td>\n",
       "      <td>392</td>\n",
       "      <td>402</td>\n",
       "      <td>407</td>\n",
       "      <td>415</td>\n",
       "      <td>419</td>\n",
       "      <td>425</td>\n",
       "      <td>432</td>\n",
       "      <td>437</td>\n",
       "      <td>444</td>\n",
       "      <td>450</td>\n",
       "    </tr>\n",
       "    <tr>\n",
       "      <th>Andorra</th>\n",
       "      <td>0</td>\n",
       "      <td>0</td>\n",
       "      <td>0</td>\n",
       "      <td>0</td>\n",
       "      <td>0</td>\n",
       "      <td>0</td>\n",
       "      <td>0</td>\n",
       "      <td>0</td>\n",
       "      <td>0</td>\n",
       "      <td>0</td>\n",
       "      <td>...</td>\n",
       "      <td>37</td>\n",
       "      <td>37</td>\n",
       "      <td>37</td>\n",
       "      <td>40</td>\n",
       "      <td>40</td>\n",
       "      <td>40</td>\n",
       "      <td>40</td>\n",
       "      <td>41</td>\n",
       "      <td>42</td>\n",
       "      <td>42</td>\n",
       "    </tr>\n",
       "    <tr>\n",
       "      <th>Angola</th>\n",
       "      <td>0</td>\n",
       "      <td>0</td>\n",
       "      <td>0</td>\n",
       "      <td>0</td>\n",
       "      <td>0</td>\n",
       "      <td>0</td>\n",
       "      <td>0</td>\n",
       "      <td>0</td>\n",
       "      <td>0</td>\n",
       "      <td>0</td>\n",
       "      <td>...</td>\n",
       "      <td>2</td>\n",
       "      <td>2</td>\n",
       "      <td>2</td>\n",
       "      <td>2</td>\n",
       "      <td>2</td>\n",
       "      <td>2</td>\n",
       "      <td>2</td>\n",
       "      <td>2</td>\n",
       "      <td>2</td>\n",
       "      <td>2</td>\n",
       "    </tr>\n",
       "  </tbody>\n",
       "</table>\n",
       "<p>5 rows × 100 columns</p>\n",
       "</div>"
      ],
      "text/plain": [
       "                1/22/20  1/23/20  1/24/20  1/25/20  1/26/20  1/27/20  1/28/20  \\\n",
       "Country/Region                                                                  \n",
       "Afghanistan           0        0        0        0        0        0        0   \n",
       "Albania               0        0        0        0        0        0        0   \n",
       "Algeria               0        0        0        0        0        0        0   \n",
       "Andorra               0        0        0        0        0        0        0   \n",
       "Angola                0        0        0        0        0        0        0   \n",
       "\n",
       "                1/29/20  1/30/20  1/31/20  ...  4/21/20  4/22/20  4/23/20  \\\n",
       "Country/Region                             ...                              \n",
       "Afghanistan           0        0        0  ...       36       40       42   \n",
       "Albania               0        0        0  ...       26       27       27   \n",
       "Algeria               0        0        0  ...      392      402      407   \n",
       "Andorra               0        0        0  ...       37       37       37   \n",
       "Angola                0        0        0  ...        2        2        2   \n",
       "\n",
       "                4/24/20  4/25/20  4/26/20  4/27/20  4/28/20  4/29/20  4/30/20  \n",
       "Country/Region                                                                 \n",
       "Afghanistan          43       47       50       57       58       60       64  \n",
       "Albania              27       27       28       28       30       30       31  \n",
       "Algeria             415      419      425      432      437      444      450  \n",
       "Andorra              40       40       40       40       41       42       42  \n",
       "Angola                2        2        2        2        2        2        2  \n",
       "\n",
       "[5 rows x 100 columns]"
      ]
     },
     "execution_count": 44,
     "metadata": {},
     "output_type": "execute_result"
    }
   ],
   "source": [
    "corona_deaths_dataset_aggregated.head()"
   ]
  },
  {
   "cell_type": "markdown",
   "id": "b33f02ed",
   "metadata": {
    "_cell_guid": "c34d24de-c1d8-423c-b8aa-496c41531675",
    "_uuid": "8bc5f42f-b3ab-4e7c-bd46-206674c0b19f",
    "papermill": {
     "duration": 0.046075,
     "end_time": "2023-05-20T10:07:28.490053",
     "exception": false,
     "start_time": "2023-05-20T10:07:28.443978",
     "status": "completed"
    },
    "tags": []
   },
   "source": [
    "## Inital visualization of related data to a sample of coutries. China, Italy and Spain"
   ]
  },
  {
   "cell_type": "code",
   "execution_count": 45,
   "id": "1e6a2309",
   "metadata": {
    "_cell_guid": "8b975eb0-f00b-41a3-9ee1-0036df604fd5",
    "_uuid": "b1554e42-27f5-4523-a247-88e00c922806",
    "collapsed": false,
    "execution": {
     "iopub.execute_input": "2023-05-20T10:07:28.585222Z",
     "iopub.status.busy": "2023-05-20T10:07:28.584079Z",
     "iopub.status.idle": "2023-05-20T10:07:28.880373Z",
     "shell.execute_reply": "2023-05-20T10:07:28.879482Z"
    },
    "jupyter": {
     "outputs_hidden": false
    },
    "papermill": {
     "duration": 0.347002,
     "end_time": "2023-05-20T10:07:28.882966",
     "exception": false,
     "start_time": "2023-05-20T10:07:28.535964",
     "status": "completed"
    },
    "tags": []
   },
   "outputs": [
    {
     "data": {
      "text/plain": [
       "<matplotlib.legend.Legend at 0x78952691eb60>"
      ]
     },
     "execution_count": 45,
     "metadata": {},
     "output_type": "execute_result"
    },
    {
     "data": {
      "image/png": "[encoded data removed]",
      "text/plain": [
       "<Figure size 640x480 with 1 Axes>"
      ]
     },
     "metadata": {},
     "output_type": "display_data"
    }
   ],
   "source": [
    "corona_deaths_dataset_aggregated.loc[\"China\"].plot()\n",
    "corona_deaths_dataset_aggregated.loc[\"Italy\"].plot()\n",
    "corona_deaths_dataset_aggregated.loc[\"Spain\"].plot()\n",
    "plt.legend()"
   ]
  },
  {
   "cell_type": "markdown",
   "id": "c445b345",
   "metadata": {
    "_cell_guid": "aff7dfe4-aa6e-4025-b53f-4dfdfd90877c",
    "_uuid": "e82143d4-9f1b-498c-8dc8-92a5613cc92b",
    "papermill": {
     "duration": 0.053015,
     "end_time": "2023-05-20T10:07:28.986512",
     "exception": false,
     "start_time": "2023-05-20T10:07:28.933497",
     "status": "completed"
    },
    "tags": []
   },
   "source": [
    "## Finding total deaths for China, Italy and Spain"
   ]
  },
  {
   "cell_type": "code",
   "execution_count": 46,
   "id": "01aa48d1",
   "metadata": {
    "_cell_guid": "52d93fc2-5802-4aba-8145-8f65f4875291",
    "_uuid": "cb091a85-bdab-4248-8265-962ab48f088f",
    "collapsed": false,
    "execution": {
     "iopub.execute_input": "2023-05-20T10:07:29.085493Z",
     "iopub.status.busy": "2023-05-20T10:07:29.085048Z",
     "iopub.status.idle": "2023-05-20T10:07:29.092733Z",
     "shell.execute_reply": "2023-05-20T10:07:29.091647Z"
    },
    "jupyter": {
     "outputs_hidden": false
    },
    "papermill": {
     "duration": 0.059826,
     "end_time": "2023-05-20T10:07:29.095513",
     "exception": false,
     "start_time": "2023-05-20T10:07:29.035687",
     "status": "completed"
    },
    "tags": []
   },
   "outputs": [
    {
     "data": {
      "text/plain": [
       "264084"
      ]
     },
     "execution_count": 46,
     "metadata": {},
     "output_type": "execute_result"
    }
   ],
   "source": [
    "corona_deaths_dataset_aggregated.loc[\"China\"].sum()"
   ]
  },
  {
   "cell_type": "code",
   "execution_count": 47,
   "id": "094e667a",
   "metadata": {
    "_cell_guid": "10e0ac27-2e18-4b60-a14a-7add806e51d4",
    "_uuid": "114a6e81-ab99-45db-ad65-5a5013327c0c",
    "collapsed": false,
    "execution": {
     "iopub.execute_input": "2023-05-20T10:07:29.194998Z",
     "iopub.status.busy": "2023-05-20T10:07:29.194207Z",
     "iopub.status.idle": "2023-05-20T10:07:29.202821Z",
     "shell.execute_reply": "2023-05-20T10:07:29.201279Z"
    },
    "jupyter": {
     "outputs_hidden": false
    },
    "papermill": {
     "duration": 0.060089,
     "end_time": "2023-05-20T10:07:29.205510",
     "exception": false,
     "start_time": "2023-05-20T10:07:29.145421",
     "status": "completed"
    },
    "tags": []
   },
   "outputs": [
    {
     "data": {
      "text/plain": [
       "760700"
      ]
     },
     "execution_count": 47,
     "metadata": {},
     "output_type": "execute_result"
    }
   ],
   "source": [
    "corona_deaths_dataset_aggregated.loc[\"Italy\"].sum()"
   ]
  },
  {
   "cell_type": "code",
   "execution_count": 48,
   "id": "03fa6c6f",
   "metadata": {
    "_cell_guid": "463c8866-87cf-4415-b6b0-9c05ec9b5ef8",
    "_uuid": "9dd7c44e-c3f2-477e-8b6d-52a24bc47824",
    "collapsed": false,
    "execution": {
     "iopub.execute_input": "2023-05-20T10:07:29.306885Z",
     "iopub.status.busy": "2023-05-20T10:07:29.306097Z",
     "iopub.status.idle": "2023-05-20T10:07:29.313808Z",
     "shell.execute_reply": "2023-05-20T10:07:29.312834Z"
    },
    "jupyter": {
     "outputs_hidden": false
    },
    "papermill": {
     "duration": 0.05816,
     "end_time": "2023-05-20T10:07:29.315986",
     "exception": false,
     "start_time": "2023-05-20T10:07:29.257826",
     "status": "completed"
    },
    "tags": []
   },
   "outputs": [
    {
     "data": {
      "text/plain": [
       "602739"
      ]
     },
     "execution_count": 48,
     "metadata": {},
     "output_type": "execute_result"
    }
   ],
   "source": [
    "corona_deaths_dataset_aggregated.loc[\"Spain\"].sum()"
   ]
  },
  {
   "cell_type": "markdown",
   "id": "0389dd21",
   "metadata": {
    "_cell_guid": "c1dcef52-e202-4324-aebf-ac9aa4392b9f",
    "_uuid": "f3f8c4ab-8d50-4670-bf0b-8c160760d765",
    "papermill": {
     "duration": 0.046317,
     "end_time": "2023-05-20T10:07:29.409101",
     "exception": false,
     "start_time": "2023-05-20T10:07:29.362784",
     "status": "completed"
    },
    "tags": []
   },
   "source": [
    "## Using for loop to find the total deaths for all countries"
   ]
  },
  {
   "cell_type": "code",
   "execution_count": 49,
   "id": "566b8edd",
   "metadata": {
    "_cell_guid": "73a996c9-f914-430c-ab4c-dcb079b8eef4",
    "_uuid": "d7332c9a-e837-48a1-a83a-bcee6812423e",
    "collapsed": false,
    "execution": {
     "iopub.execute_input": "2023-05-20T10:07:29.504977Z",
     "iopub.status.busy": "2023-05-20T10:07:29.504202Z",
     "iopub.status.idle": "2023-05-20T10:07:29.534883Z",
     "shell.execute_reply": "2023-05-20T10:07:29.533920Z"
    },
    "jupyter": {
     "outputs_hidden": false
    },
    "papermill": {
     "duration": 0.081592,
     "end_time": "2023-05-20T10:07:29.537464",
     "exception": false,
     "start_time": "2023-05-20T10:07:29.455872",
     "status": "completed"
    },
    "tags": []
   },
   "outputs": [],
   "source": [
    "countries = list(corona_deaths_dataset_aggregated.index)\n",
    "total_deaths = []\n",
    "for c in countries :\n",
    "    total_deaths.append(corona_deaths_dataset_aggregated.loc[c].sum())\n",
    "corona_deaths_dataset_aggregated[\"total_deaths\"] = total_deaths"
   ]
  },
  {
   "cell_type": "code",
   "execution_count": 50,
   "id": "e211137c",
   "metadata": {
    "_cell_guid": "0b46c64b-8a3e-4370-8d86-eb6fa7ae0c30",
    "_uuid": "c875c1ff-f42e-43e1-8280-baec7428ad3a",
    "collapsed": false,
    "execution": {
     "iopub.execute_input": "2023-05-20T10:07:29.636939Z",
     "iopub.status.busy": "2023-05-20T10:07:29.636290Z",
     "iopub.status.idle": "2023-05-20T10:07:29.655467Z",
     "shell.execute_reply": "2023-05-20T10:07:29.654414Z"
    },
    "jupyter": {
     "outputs_hidden": false
    },
    "papermill": {
     "duration": 0.071236,
     "end_time": "2023-05-20T10:07:29.657880",
     "exception": false,
     "start_time": "2023-05-20T10:07:29.586644",
     "status": "completed"
    },
    "tags": []
   },
   "outputs": [
    {
     "data": {
      "text/html": [
       "<div>\n",
       "<style scoped>\n",
       "    .dataframe tbody tr th:only-of-type {\n",
       "        vertical-align: middle;\n",
       "    }\n",
       "\n",
       "    .dataframe tbody tr th {\n",
       "        vertical-align: top;\n",
       "    }\n",
       "\n",
       "    .dataframe thead th {\n",
       "        text-align: right;\n",
       "    }\n",
       "</style>\n",
       "<table border=\"1\" class=\"dataframe\">\n",
       "  <thead>\n",
       "    <tr style=\"text-align: right;\">\n",
       "      <th></th>\n",
       "      <th>1/22/20</th>\n",
       "      <th>1/23/20</th>\n",
       "      <th>1/24/20</th>\n",
       "      <th>1/25/20</th>\n",
       "      <th>1/26/20</th>\n",
       "      <th>1/27/20</th>\n",
       "      <th>1/28/20</th>\n",
       "      <th>1/29/20</th>\n",
       "      <th>1/30/20</th>\n",
       "      <th>1/31/20</th>\n",
       "      <th>...</th>\n",
       "      <th>4/22/20</th>\n",
       "      <th>4/23/20</th>\n",
       "      <th>4/24/20</th>\n",
       "      <th>4/25/20</th>\n",
       "      <th>4/26/20</th>\n",
       "      <th>4/27/20</th>\n",
       "      <th>4/28/20</th>\n",
       "      <th>4/29/20</th>\n",
       "      <th>4/30/20</th>\n",
       "      <th>total_deaths</th>\n",
       "    </tr>\n",
       "    <tr>\n",
       "      <th>Country/Region</th>\n",
       "      <th></th>\n",
       "      <th></th>\n",
       "      <th></th>\n",
       "      <th></th>\n",
       "      <th></th>\n",
       "      <th></th>\n",
       "      <th></th>\n",
       "      <th></th>\n",
       "      <th></th>\n",
       "      <th></th>\n",
       "      <th></th>\n",
       "      <th></th>\n",
       "      <th></th>\n",
       "      <th></th>\n",
       "      <th></th>\n",
       "      <th></th>\n",
       "      <th></th>\n",
       "      <th></th>\n",
       "      <th></th>\n",
       "      <th></th>\n",
       "      <th></th>\n",
       "    </tr>\n",
       "  </thead>\n",
       "  <tbody>\n",
       "    <tr>\n",
       "      <th>Afghanistan</th>\n",
       "      <td>0</td>\n",
       "      <td>0</td>\n",
       "      <td>0</td>\n",
       "      <td>0</td>\n",
       "      <td>0</td>\n",
       "      <td>0</td>\n",
       "      <td>0</td>\n",
       "      <td>0</td>\n",
       "      <td>0</td>\n",
       "      <td>0</td>\n",
       "      <td>...</td>\n",
       "      <td>40</td>\n",
       "      <td>42</td>\n",
       "      <td>43</td>\n",
       "      <td>47</td>\n",
       "      <td>50</td>\n",
       "      <td>57</td>\n",
       "      <td>58</td>\n",
       "      <td>60</td>\n",
       "      <td>64</td>\n",
       "      <td>889</td>\n",
       "    </tr>\n",
       "    <tr>\n",
       "      <th>Albania</th>\n",
       "      <td>0</td>\n",
       "      <td>0</td>\n",
       "      <td>0</td>\n",
       "      <td>0</td>\n",
       "      <td>0</td>\n",
       "      <td>0</td>\n",
       "      <td>0</td>\n",
       "      <td>0</td>\n",
       "      <td>0</td>\n",
       "      <td>0</td>\n",
       "      <td>...</td>\n",
       "      <td>27</td>\n",
       "      <td>27</td>\n",
       "      <td>27</td>\n",
       "      <td>27</td>\n",
       "      <td>28</td>\n",
       "      <td>28</td>\n",
       "      <td>30</td>\n",
       "      <td>30</td>\n",
       "      <td>31</td>\n",
       "      <td>819</td>\n",
       "    </tr>\n",
       "    <tr>\n",
       "      <th>Algeria</th>\n",
       "      <td>0</td>\n",
       "      <td>0</td>\n",
       "      <td>0</td>\n",
       "      <td>0</td>\n",
       "      <td>0</td>\n",
       "      <td>0</td>\n",
       "      <td>0</td>\n",
       "      <td>0</td>\n",
       "      <td>0</td>\n",
       "      <td>0</td>\n",
       "      <td>...</td>\n",
       "      <td>402</td>\n",
       "      <td>407</td>\n",
       "      <td>415</td>\n",
       "      <td>419</td>\n",
       "      <td>425</td>\n",
       "      <td>432</td>\n",
       "      <td>437</td>\n",
       "      <td>444</td>\n",
       "      <td>450</td>\n",
       "      <td>9521</td>\n",
       "    </tr>\n",
       "    <tr>\n",
       "      <th>Andorra</th>\n",
       "      <td>0</td>\n",
       "      <td>0</td>\n",
       "      <td>0</td>\n",
       "      <td>0</td>\n",
       "      <td>0</td>\n",
       "      <td>0</td>\n",
       "      <td>0</td>\n",
       "      <td>0</td>\n",
       "      <td>0</td>\n",
       "      <td>0</td>\n",
       "      <td>...</td>\n",
       "      <td>37</td>\n",
       "      <td>37</td>\n",
       "      <td>40</td>\n",
       "      <td>40</td>\n",
       "      <td>40</td>\n",
       "      <td>40</td>\n",
       "      <td>41</td>\n",
       "      <td>42</td>\n",
       "      <td>42</td>\n",
       "      <td>956</td>\n",
       "    </tr>\n",
       "    <tr>\n",
       "      <th>Angola</th>\n",
       "      <td>0</td>\n",
       "      <td>0</td>\n",
       "      <td>0</td>\n",
       "      <td>0</td>\n",
       "      <td>0</td>\n",
       "      <td>0</td>\n",
       "      <td>0</td>\n",
       "      <td>0</td>\n",
       "      <td>0</td>\n",
       "      <td>0</td>\n",
       "      <td>...</td>\n",
       "      <td>2</td>\n",
       "      <td>2</td>\n",
       "      <td>2</td>\n",
       "      <td>2</td>\n",
       "      <td>2</td>\n",
       "      <td>2</td>\n",
       "      <td>2</td>\n",
       "      <td>2</td>\n",
       "      <td>2</td>\n",
       "      <td>66</td>\n",
       "    </tr>\n",
       "  </tbody>\n",
       "</table>\n",
       "<p>5 rows × 101 columns</p>\n",
       "</div>"
      ],
      "text/plain": [
       "                1/22/20  1/23/20  1/24/20  1/25/20  1/26/20  1/27/20  1/28/20  \\\n",
       "Country/Region                                                                  \n",
       "Afghanistan           0        0        0        0        0        0        0   \n",
       "Albania               0        0        0        0        0        0        0   \n",
       "Algeria               0        0        0        0        0        0        0   \n",
       "Andorra               0        0        0        0        0        0        0   \n",
       "Angola                0        0        0        0        0        0        0   \n",
       "\n",
       "                1/29/20  1/30/20  1/31/20  ...  4/22/20  4/23/20  4/24/20  \\\n",
       "Country/Region                             ...                              \n",
       "Afghanistan           0        0        0  ...       40       42       43   \n",
       "Albania               0        0        0  ...       27       27       27   \n",
       "Algeria               0        0        0  ...      402      407      415   \n",
       "Andorra               0        0        0  ...       37       37       40   \n",
       "Angola                0        0        0  ...        2        2        2   \n",
       "\n",
       "                4/25/20  4/26/20  4/27/20  4/28/20  4/29/20  4/30/20  \\\n",
       "Country/Region                                                         \n",
       "Afghanistan          47       50       57       58       60       64   \n",
       "Albania              27       28       28       30       30       31   \n",
       "Algeria             419      425      432      437      444      450   \n",
       "Andorra              40       40       40       41       42       42   \n",
       "Angola                2        2        2        2        2        2   \n",
       "\n",
       "                total_deaths  \n",
       "Country/Region                \n",
       "Afghanistan              889  \n",
       "Albania                  819  \n",
       "Algeria                 9521  \n",
       "Andorra                  956  \n",
       "Angola                    66  \n",
       "\n",
       "[5 rows x 101 columns]"
      ]
     },
     "execution_count": 50,
     "metadata": {},
     "output_type": "execute_result"
    }
   ],
   "source": [
    "corona_deaths_dataset_aggregated.head()"
   ]
  },
  {
   "cell_type": "markdown",
   "id": "e705931b",
   "metadata": {
    "_cell_guid": "f8197c24-37c1-4177-aafd-06b039e6ca1c",
    "_uuid": "ea8bee1e-9a2f-43d7-a78f-7a4d336e7748",
    "papermill": {
     "duration": 0.04832,
     "end_time": "2023-05-20T10:07:29.755640",
     "exception": false,
     "start_time": "2023-05-20T10:07:29.707320",
     "status": "completed"
    },
    "tags": []
   },
   "source": [
    "## Creating a dataframe with relevant columns to the analysis"
   ]
  },
  {
   "cell_type": "code",
   "execution_count": 51,
   "id": "48017fa9",
   "metadata": {
    "_cell_guid": "769b0e55-ebce-4db0-bfba-f1f79fac04c9",
    "_uuid": "19d7efcd-f3dc-42f4-81fe-e38778889cfd",
    "collapsed": false,
    "execution": {
     "iopub.execute_input": "2023-05-20T10:07:29.855351Z",
     "iopub.status.busy": "2023-05-20T10:07:29.854676Z",
     "iopub.status.idle": "2023-05-20T10:07:29.860341Z",
     "shell.execute_reply": "2023-05-20T10:07:29.859211Z"
    },
    "jupyter": {
     "outputs_hidden": false
    },
    "papermill": {
     "duration": 0.05716,
     "end_time": "2023-05-20T10:07:29.862738",
     "exception": false,
     "start_time": "2023-05-20T10:07:29.805578",
     "status": "completed"
    },
    "tags": []
   },
   "outputs": [],
   "source": [
    "corona_deaths_data = pd.DataFrame(corona_deaths_dataset_aggregated[\"total_deaths\"])"
   ]
  },
  {
   "cell_type": "code",
   "execution_count": 52,
   "id": "375db112",
   "metadata": {
    "_cell_guid": "174aa9ef-8548-45ec-b8e4-4047f31c6e02",
    "_uuid": "4f299357-c9a8-4e00-ab81-d4d16841d4d8",
    "collapsed": false,
    "execution": {
     "iopub.execute_input": "2023-05-20T10:07:29.959525Z",
     "iopub.status.busy": "2023-05-20T10:07:29.958893Z",
     "iopub.status.idle": "2023-05-20T10:07:29.968189Z",
     "shell.execute_reply": "2023-05-20T10:07:29.967212Z"
    },
    "jupyter": {
     "outputs_hidden": false
    },
    "papermill": {
     "duration": 0.060434,
     "end_time": "2023-05-20T10:07:29.970346",
     "exception": false,
     "start_time": "2023-05-20T10:07:29.909912",
     "status": "completed"
    },
    "tags": []
   },
   "outputs": [
    {
     "data": {
      "text/html": [
       "<div>\n",
       "<style scoped>\n",
       "    .dataframe tbody tr th:only-of-type {\n",
       "        vertical-align: middle;\n",
       "    }\n",
       "\n",
       "    .dataframe tbody tr th {\n",
       "        vertical-align: top;\n",
       "    }\n",
       "\n",
       "    .dataframe thead th {\n",
       "        text-align: right;\n",
       "    }\n",
       "</style>\n",
       "<table border=\"1\" class=\"dataframe\">\n",
       "  <thead>\n",
       "    <tr style=\"text-align: right;\">\n",
       "      <th></th>\n",
       "      <th>total_deaths</th>\n",
       "    </tr>\n",
       "    <tr>\n",
       "      <th>Country/Region</th>\n",
       "      <th></th>\n",
       "    </tr>\n",
       "  </thead>\n",
       "  <tbody>\n",
       "    <tr>\n",
       "      <th>Afghanistan</th>\n",
       "      <td>889</td>\n",
       "    </tr>\n",
       "    <tr>\n",
       "      <th>Albania</th>\n",
       "      <td>819</td>\n",
       "    </tr>\n",
       "    <tr>\n",
       "      <th>Algeria</th>\n",
       "      <td>9521</td>\n",
       "    </tr>\n",
       "    <tr>\n",
       "      <th>Andorra</th>\n",
       "      <td>956</td>\n",
       "    </tr>\n",
       "    <tr>\n",
       "      <th>Angola</th>\n",
       "      <td>66</td>\n",
       "    </tr>\n",
       "  </tbody>\n",
       "</table>\n",
       "</div>"
      ],
      "text/plain": [
       "                total_deaths\n",
       "Country/Region              \n",
       "Afghanistan              889\n",
       "Albania                  819\n",
       "Algeria                 9521\n",
       "Andorra                  956\n",
       "Angola                    66"
      ]
     },
     "execution_count": 52,
     "metadata": {},
     "output_type": "execute_result"
    }
   ],
   "source": [
    "corona_deaths_data.head()"
   ]
  },
  {
   "cell_type": "markdown",
   "id": "1cf734dd",
   "metadata": {
    "_cell_guid": "0382d0e1-8e33-4799-a642-5bfdfad1af1f",
    "_uuid": "28c1e474-5890-43fd-b415-d4c83b2c59b2",
    "papermill": {
     "duration": 0.047496,
     "end_time": "2023-05-20T10:07:30.065979",
     "exception": false,
     "start_time": "2023-05-20T10:07:30.018483",
     "status": "completed"
    },
    "tags": []
   },
   "source": [
    "## Joining COVID-19 Deaths and World Happiness Datasets"
   ]
  },
  {
   "cell_type": "markdown",
   "id": "939ffb90",
   "metadata": {
    "_cell_guid": "ba4770d1-9e34-435b-8c08-dbe7e512a670",
    "_uuid": "3bb12e72-51ce-4117-bf98-064297e75a77",
    "papermill": {
     "duration": 0.047185,
     "end_time": "2023-05-20T10:07:30.160615",
     "exception": false,
     "start_time": "2023-05-20T10:07:30.113430",
     "status": "completed"
    },
    "tags": []
   },
   "source": [
    "### COVID-19 Deaths Dataset"
   ]
  },
  {
   "cell_type": "code",
   "execution_count": 53,
   "id": "74c1354e",
   "metadata": {
    "_cell_guid": "e6dd2d55-8a80-4954-bd29-9153a7cf2b9d",
    "_uuid": "6b6bcff8-2ccf-49e1-9958-1fab6a5f89a7",
    "collapsed": false,
    "execution": {
     "iopub.execute_input": "2023-05-20T10:07:30.257509Z",
     "iopub.status.busy": "2023-05-20T10:07:30.256715Z",
     "iopub.status.idle": "2023-05-20T10:07:30.266515Z",
     "shell.execute_reply": "2023-05-20T10:07:30.265504Z"
    },
    "jupyter": {
     "outputs_hidden": false
    },
    "papermill": {
     "duration": 0.061076,
     "end_time": "2023-05-20T10:07:30.268853",
     "exception": false,
     "start_time": "2023-05-20T10:07:30.207777",
     "status": "completed"
    },
    "tags": []
   },
   "outputs": [
    {
     "data": {
      "text/html": [
       "<div>\n",
       "<style scoped>\n",
       "    .dataframe tbody tr th:only-of-type {\n",
       "        vertical-align: middle;\n",
       "    }\n",
       "\n",
       "    .dataframe tbody tr th {\n",
       "        vertical-align: top;\n",
       "    }\n",
       "\n",
       "    .dataframe thead th {\n",
       "        text-align: right;\n",
       "    }\n",
       "</style>\n",
       "<table border=\"1\" class=\"dataframe\">\n",
       "  <thead>\n",
       "    <tr style=\"text-align: right;\">\n",
       "      <th></th>\n",
       "      <th>total_deaths</th>\n",
       "    </tr>\n",
       "    <tr>\n",
       "      <th>Country/Region</th>\n",
       "      <th></th>\n",
       "    </tr>\n",
       "  </thead>\n",
       "  <tbody>\n",
       "    <tr>\n",
       "      <th>Afghanistan</th>\n",
       "      <td>889</td>\n",
       "    </tr>\n",
       "    <tr>\n",
       "      <th>Albania</th>\n",
       "      <td>819</td>\n",
       "    </tr>\n",
       "    <tr>\n",
       "      <th>Algeria</th>\n",
       "      <td>9521</td>\n",
       "    </tr>\n",
       "    <tr>\n",
       "      <th>Andorra</th>\n",
       "      <td>956</td>\n",
       "    </tr>\n",
       "    <tr>\n",
       "      <th>Angola</th>\n",
       "      <td>66</td>\n",
       "    </tr>\n",
       "  </tbody>\n",
       "</table>\n",
       "</div>"
      ],
      "text/plain": [
       "                total_deaths\n",
       "Country/Region              \n",
       "Afghanistan              889\n",
       "Albania                  819\n",
       "Algeria                 9521\n",
       "Andorra                  956\n",
       "Angola                    66"
      ]
     },
     "execution_count": 53,
     "metadata": {},
     "output_type": "execute_result"
    }
   ],
   "source": [
    "corona_deaths_data.head()"
   ]
  },
  {
   "cell_type": "code",
   "execution_count": 54,
   "id": "facbb63d",
   "metadata": {
    "_cell_guid": "a33f54f2-9e0b-46c8-b7d5-3e7c55654e49",
    "_uuid": "fb1dd729-6947-4ca5-af84-817b2ae1aefd",
    "collapsed": false,
    "execution": {
     "iopub.execute_input": "2023-05-20T10:07:30.374980Z",
     "iopub.status.busy": "2023-05-20T10:07:30.374599Z",
     "iopub.status.idle": "2023-05-20T10:07:30.381402Z",
     "shell.execute_reply": "2023-05-20T10:07:30.380276Z"
    },
    "jupyter": {
     "outputs_hidden": false
    },
    "papermill": {
     "duration": 0.066647,
     "end_time": "2023-05-20T10:07:30.383732",
     "exception": false,
     "start_time": "2023-05-20T10:07:30.317085",
     "status": "completed"
    },
    "tags": []
   },
   "outputs": [
    {
     "data": {
      "text/plain": [
       "(187, 1)"
      ]
     },
     "execution_count": 54,
     "metadata": {},
     "output_type": "execute_result"
    }
   ],
   "source": [
    "corona_deaths_data.shape"
   ]
  },
  {
   "cell_type": "markdown",
   "id": "5521f59e",
   "metadata": {
    "_cell_guid": "97d60246-6cf2-445f-8bf3-f6eb2d7d1350",
    "_uuid": "43a65f76-6d3a-48aa-9025-3b7d5b8972e5",
    "papermill": {
     "duration": 0.047964,
     "end_time": "2023-05-20T10:07:30.479939",
     "exception": false,
     "start_time": "2023-05-20T10:07:30.431975",
     "status": "completed"
    },
    "tags": []
   },
   "source": [
    "### World happiness report Dataset"
   ]
  },
  {
   "cell_type": "code",
   "execution_count": 55,
   "id": "94e4d514",
   "metadata": {
    "_cell_guid": "8cf3bd44-8a24-4111-b11b-28fad6bae067",
    "_uuid": "8e3f3f05-69a1-4c36-88a0-a6232e65bb78",
    "collapsed": false,
    "execution": {
     "iopub.execute_input": "2023-05-20T10:07:30.577189Z",
     "iopub.status.busy": "2023-05-20T10:07:30.576746Z",
     "iopub.status.idle": "2023-05-20T10:07:30.590884Z",
     "shell.execute_reply": "2023-05-20T10:07:30.589811Z"
    },
    "jupyter": {
     "outputs_hidden": false
    },
    "papermill": {
     "duration": 0.065231,
     "end_time": "2023-05-20T10:07:30.593071",
     "exception": false,
     "start_time": "2023-05-20T10:07:30.527840",
     "status": "completed"
    },
    "tags": []
   },
   "outputs": [
    {
     "data": {
      "text/html": [
       "<div>\n",
       "<style scoped>\n",
       "    .dataframe tbody tr th:only-of-type {\n",
       "        vertical-align: middle;\n",
       "    }\n",
       "\n",
       "    .dataframe tbody tr th {\n",
       "        vertical-align: top;\n",
       "    }\n",
       "\n",
       "    .dataframe thead th {\n",
       "        text-align: right;\n",
       "    }\n",
       "</style>\n",
       "<table border=\"1\" class=\"dataframe\">\n",
       "  <thead>\n",
       "    <tr style=\"text-align: right;\">\n",
       "      <th></th>\n",
       "      <th>GDP per capita</th>\n",
       "      <th>Social support</th>\n",
       "      <th>Healthy life expectancy</th>\n",
       "      <th>Freedom to make life choices</th>\n",
       "    </tr>\n",
       "    <tr>\n",
       "      <th>Country or region</th>\n",
       "      <th></th>\n",
       "      <th></th>\n",
       "      <th></th>\n",
       "      <th></th>\n",
       "    </tr>\n",
       "  </thead>\n",
       "  <tbody>\n",
       "    <tr>\n",
       "      <th>Finland</th>\n",
       "      <td>1.340</td>\n",
       "      <td>1.587</td>\n",
       "      <td>0.986</td>\n",
       "      <td>0.596</td>\n",
       "    </tr>\n",
       "    <tr>\n",
       "      <th>Denmark</th>\n",
       "      <td>1.383</td>\n",
       "      <td>1.573</td>\n",
       "      <td>0.996</td>\n",
       "      <td>0.592</td>\n",
       "    </tr>\n",
       "    <tr>\n",
       "      <th>Norway</th>\n",
       "      <td>1.488</td>\n",
       "      <td>1.582</td>\n",
       "      <td>1.028</td>\n",
       "      <td>0.603</td>\n",
       "    </tr>\n",
       "    <tr>\n",
       "      <th>Iceland</th>\n",
       "      <td>1.380</td>\n",
       "      <td>1.624</td>\n",
       "      <td>1.026</td>\n",
       "      <td>0.591</td>\n",
       "    </tr>\n",
       "    <tr>\n",
       "      <th>Netherlands</th>\n",
       "      <td>1.396</td>\n",
       "      <td>1.522</td>\n",
       "      <td>0.999</td>\n",
       "      <td>0.557</td>\n",
       "    </tr>\n",
       "  </tbody>\n",
       "</table>\n",
       "</div>"
      ],
      "text/plain": [
       "                   GDP per capita  Social support  Healthy life expectancy  \\\n",
       "Country or region                                                            \n",
       "Finland                     1.340           1.587                    0.986   \n",
       "Denmark                     1.383           1.573                    0.996   \n",
       "Norway                      1.488           1.582                    1.028   \n",
       "Iceland                     1.380           1.624                    1.026   \n",
       "Netherlands                 1.396           1.522                    0.999   \n",
       "\n",
       "                   Freedom to make life choices  \n",
       "Country or region                                \n",
       "Finland                                   0.596  \n",
       "Denmark                                   0.592  \n",
       "Norway                                    0.603  \n",
       "Iceland                                   0.591  \n",
       "Netherlands                               0.557  "
      ]
     },
     "execution_count": 55,
     "metadata": {},
     "output_type": "execute_result"
    }
   ],
   "source": [
    "happiness_report_csv.head()"
   ]
  },
  {
   "cell_type": "code",
   "execution_count": 56,
   "id": "e522d80c",
   "metadata": {
    "_cell_guid": "7c8f4313-b3a9-4b1b-b224-9afca9d51207",
    "_uuid": "8c3eabe6-669b-4d2a-a2bb-0507e9a6c7f7",
    "collapsed": false,
    "execution": {
     "iopub.execute_input": "2023-05-20T10:07:30.691559Z",
     "iopub.status.busy": "2023-05-20T10:07:30.690896Z",
     "iopub.status.idle": "2023-05-20T10:07:30.697573Z",
     "shell.execute_reply": "2023-05-20T10:07:30.696471Z"
    },
    "jupyter": {
     "outputs_hidden": false
    },
    "papermill": {
     "duration": 0.058453,
     "end_time": "2023-05-20T10:07:30.699723",
     "exception": false,
     "start_time": "2023-05-20T10:07:30.641270",
     "status": "completed"
    },
    "tags": []
   },
   "outputs": [
    {
     "data": {
      "text/plain": [
       "(156, 4)"
      ]
     },
     "execution_count": 56,
     "metadata": {},
     "output_type": "execute_result"
    }
   ],
   "source": [
    "happiness_report_csv.shape"
   ]
  },
  {
   "cell_type": "code",
   "execution_count": 57,
   "id": "7e0387e3",
   "metadata": {
    "_cell_guid": "89885d08-ddf5-4d43-8179-e7ad592dc067",
    "_uuid": "e4e94cb0-af9a-444c-9b33-409283db7a36",
    "collapsed": false,
    "execution": {
     "iopub.execute_input": "2023-05-20T10:07:30.801440Z",
     "iopub.status.busy": "2023-05-20T10:07:30.800977Z",
     "iopub.status.idle": "2023-05-20T10:07:30.817207Z",
     "shell.execute_reply": "2023-05-20T10:07:30.816115Z"
    },
    "jupyter": {
     "outputs_hidden": false
    },
    "papermill": {
     "duration": 0.07144,
     "end_time": "2023-05-20T10:07:30.819491",
     "exception": false,
     "start_time": "2023-05-20T10:07:30.748051",
     "status": "completed"
    },
    "tags": []
   },
   "outputs": [
    {
     "data": {
      "text/html": [
       "<div>\n",
       "<style scoped>\n",
       "    .dataframe tbody tr th:only-of-type {\n",
       "        vertical-align: middle;\n",
       "    }\n",
       "\n",
       "    .dataframe tbody tr th {\n",
       "        vertical-align: top;\n",
       "    }\n",
       "\n",
       "    .dataframe thead th {\n",
       "        text-align: right;\n",
       "    }\n",
       "</style>\n",
       "<table border=\"1\" class=\"dataframe\">\n",
       "  <thead>\n",
       "    <tr style=\"text-align: right;\">\n",
       "      <th></th>\n",
       "      <th>total_deaths</th>\n",
       "      <th>GDP per capita</th>\n",
       "      <th>Social support</th>\n",
       "      <th>Healthy life expectancy</th>\n",
       "      <th>Freedom to make life choices</th>\n",
       "    </tr>\n",
       "  </thead>\n",
       "  <tbody>\n",
       "    <tr>\n",
       "      <th>Afghanistan</th>\n",
       "      <td>889</td>\n",
       "      <td>0.350</td>\n",
       "      <td>0.517</td>\n",
       "      <td>0.361</td>\n",
       "      <td>0.000</td>\n",
       "    </tr>\n",
       "    <tr>\n",
       "      <th>Albania</th>\n",
       "      <td>819</td>\n",
       "      <td>0.947</td>\n",
       "      <td>0.848</td>\n",
       "      <td>0.874</td>\n",
       "      <td>0.383</td>\n",
       "    </tr>\n",
       "    <tr>\n",
       "      <th>Algeria</th>\n",
       "      <td>9521</td>\n",
       "      <td>1.002</td>\n",
       "      <td>1.160</td>\n",
       "      <td>0.785</td>\n",
       "      <td>0.086</td>\n",
       "    </tr>\n",
       "    <tr>\n",
       "      <th>Argentina</th>\n",
       "      <td>3640</td>\n",
       "      <td>1.092</td>\n",
       "      <td>1.432</td>\n",
       "      <td>0.881</td>\n",
       "      <td>0.471</td>\n",
       "    </tr>\n",
       "    <tr>\n",
       "      <th>Armenia</th>\n",
       "      <td>539</td>\n",
       "      <td>0.850</td>\n",
       "      <td>1.055</td>\n",
       "      <td>0.815</td>\n",
       "      <td>0.283</td>\n",
       "    </tr>\n",
       "  </tbody>\n",
       "</table>\n",
       "</div>"
      ],
      "text/plain": [
       "             total_deaths  GDP per capita  Social support  \\\n",
       "Afghanistan           889           0.350           0.517   \n",
       "Albania               819           0.947           0.848   \n",
       "Algeria              9521           1.002           1.160   \n",
       "Argentina            3640           1.092           1.432   \n",
       "Armenia               539           0.850           1.055   \n",
       "\n",
       "             Healthy life expectancy  Freedom to make life choices  \n",
       "Afghanistan                    0.361                         0.000  \n",
       "Albania                        0.874                         0.383  \n",
       "Algeria                        0.785                         0.086  \n",
       "Argentina                      0.881                         0.471  \n",
       "Armenia                        0.815                         0.283  "
      ]
     },
     "execution_count": 57,
     "metadata": {},
     "output_type": "execute_result"
    }
   ],
   "source": [
    "data_deaths = corona_deaths_data.join(happiness_report_csv,how=\"inner\")\n",
    "data_deaths.head()"
   ]
  },
  {
   "cell_type": "markdown",
   "id": "d2f18c41",
   "metadata": {
    "_cell_guid": "5b0f9bab-6054-4ea9-b663-947d4af65d78",
    "_uuid": "8cb511d2-87bf-4bc2-b947-f3571c7d13e8",
    "papermill": {
     "duration": 0.048839,
     "end_time": "2023-05-20T10:07:30.917821",
     "exception": false,
     "start_time": "2023-05-20T10:07:30.868982",
     "status": "completed"
    },
    "tags": []
   },
   "source": [
    "## Correlation matirx of futher analysis"
   ]
  },
  {
   "cell_type": "code",
   "execution_count": 58,
   "id": "47efd18e",
   "metadata": {
    "_cell_guid": "bf9e321d-03fe-4350-8bdf-bb750bd04b0e",
    "_uuid": "3c7ff133-2967-4089-8dfb-29e554342a5b",
    "collapsed": false,
    "execution": {
     "iopub.execute_input": "2023-05-20T10:07:31.018676Z",
     "iopub.status.busy": "2023-05-20T10:07:31.017854Z",
     "iopub.status.idle": "2023-05-20T10:07:31.032756Z",
     "shell.execute_reply": "2023-05-20T10:07:31.031366Z"
    },
    "jupyter": {
     "outputs_hidden": false
    },
    "papermill": {
     "duration": 0.068218,
     "end_time": "2023-05-20T10:07:31.035199",
     "exception": false,
     "start_time": "2023-05-20T10:07:30.966981",
     "status": "completed"
    },
    "tags": []
   },
   "outputs": [
    {
     "data": {
      "text/html": [
       "<div>\n",
       "<style scoped>\n",
       "    .dataframe tbody tr th:only-of-type {\n",
       "        vertical-align: middle;\n",
       "    }\n",
       "\n",
       "    .dataframe tbody tr th {\n",
       "        vertical-align: top;\n",
       "    }\n",
       "\n",
       "    .dataframe thead th {\n",
       "        text-align: right;\n",
       "    }\n",
       "</style>\n",
       "<table border=\"1\" class=\"dataframe\">\n",
       "  <thead>\n",
       "    <tr style=\"text-align: right;\">\n",
       "      <th></th>\n",
       "      <th>total_deaths</th>\n",
       "      <th>GDP per capita</th>\n",
       "      <th>Social support</th>\n",
       "      <th>Healthy life expectancy</th>\n",
       "      <th>Freedom to make life choices</th>\n",
       "    </tr>\n",
       "  </thead>\n",
       "  <tbody>\n",
       "    <tr>\n",
       "      <th>total_deaths</th>\n",
       "      <td>1.000000</td>\n",
       "      <td>0.232279</td>\n",
       "      <td>0.178278</td>\n",
       "      <td>0.282871</td>\n",
       "      <td>-0.006343</td>\n",
       "    </tr>\n",
       "    <tr>\n",
       "      <th>GDP per capita</th>\n",
       "      <td>0.232279</td>\n",
       "      <td>1.000000</td>\n",
       "      <td>0.759468</td>\n",
       "      <td>0.863062</td>\n",
       "      <td>0.394603</td>\n",
       "    </tr>\n",
       "    <tr>\n",
       "      <th>Social support</th>\n",
       "      <td>0.178278</td>\n",
       "      <td>0.759468</td>\n",
       "      <td>1.000000</td>\n",
       "      <td>0.765286</td>\n",
       "      <td>0.456246</td>\n",
       "    </tr>\n",
       "    <tr>\n",
       "      <th>Healthy life expectancy</th>\n",
       "      <td>0.282871</td>\n",
       "      <td>0.863062</td>\n",
       "      <td>0.765286</td>\n",
       "      <td>1.000000</td>\n",
       "      <td>0.427892</td>\n",
       "    </tr>\n",
       "    <tr>\n",
       "      <th>Freedom to make life choices</th>\n",
       "      <td>-0.006343</td>\n",
       "      <td>0.394603</td>\n",
       "      <td>0.456246</td>\n",
       "      <td>0.427892</td>\n",
       "      <td>1.000000</td>\n",
       "    </tr>\n",
       "  </tbody>\n",
       "</table>\n",
       "</div>"
      ],
      "text/plain": [
       "                              total_deaths  GDP per capita  Social support  \\\n",
       "total_deaths                      1.000000        0.232279        0.178278   \n",
       "GDP per capita                    0.232279        1.000000        0.759468   \n",
       "Social support                    0.178278        0.759468        1.000000   \n",
       "Healthy life expectancy           0.282871        0.863062        0.765286   \n",
       "Freedom to make life choices     -0.006343        0.394603        0.456246   \n",
       "\n",
       "                              Healthy life expectancy  \\\n",
       "total_deaths                                 0.282871   \n",
       "GDP per capita                               0.863062   \n",
       "Social support                               0.765286   \n",
       "Healthy life expectancy                      1.000000   \n",
       "Freedom to make life choices                 0.427892   \n",
       "\n",
       "                              Freedom to make life choices  \n",
       "total_deaths                                     -0.006343  \n",
       "GDP per capita                                    0.394603  \n",
       "Social support                                    0.456246  \n",
       "Healthy life expectancy                           0.427892  \n",
       "Freedom to make life choices                      1.000000  "
      ]
     },
     "execution_count": 58,
     "metadata": {},
     "output_type": "execute_result"
    }
   ],
   "source": [
    "data_deaths.corr()"
   ]
  },
  {
   "cell_type": "markdown",
   "id": "fb1620f4",
   "metadata": {
    "_cell_guid": "4108ddae-6025-4ab1-87f2-f43ae344d283",
    "_uuid": "891e0d8e-e1da-4cee-89a2-fdb10dbf0c75",
    "papermill": {
     "duration": 0.052088,
     "end_time": "2023-05-20T10:07:31.137548",
     "exception": false,
     "start_time": "2023-05-20T10:07:31.085460",
     "status": "completed"
    },
    "tags": []
   },
   "source": [
    "### Visualization of the results"
   ]
  },
  {
   "cell_type": "code",
   "execution_count": 59,
   "id": "0448a4b8",
   "metadata": {
    "_cell_guid": "dd78bbb5-cdad-4981-b65c-344bf5c1dd21",
    "_uuid": "de448600-41be-4194-82fb-3b9bc75f1ae2",
    "collapsed": false,
    "execution": {
     "iopub.execute_input": "2023-05-20T10:07:31.239294Z",
     "iopub.status.busy": "2023-05-20T10:07:31.238908Z",
     "iopub.status.idle": "2023-05-20T10:07:31.252415Z",
     "shell.execute_reply": "2023-05-20T10:07:31.251601Z"
    },
    "jupyter": {
     "outputs_hidden": false
    },
    "papermill": {
     "duration": 0.06681,
     "end_time": "2023-05-20T10:07:31.254449",
     "exception": false,
     "start_time": "2023-05-20T10:07:31.187639",
     "status": "completed"
    },
    "tags": []
   },
   "outputs": [
    {
     "data": {
      "text/html": [
       "<div>\n",
       "<style scoped>\n",
       "    .dataframe tbody tr th:only-of-type {\n",
       "        vertical-align: middle;\n",
       "    }\n",
       "\n",
       "    .dataframe tbody tr th {\n",
       "        vertical-align: top;\n",
       "    }\n",
       "\n",
       "    .dataframe thead th {\n",
       "        text-align: right;\n",
       "    }\n",
       "</style>\n",
       "<table border=\"1\" class=\"dataframe\">\n",
       "  <thead>\n",
       "    <tr style=\"text-align: right;\">\n",
       "      <th></th>\n",
       "      <th>total_deaths</th>\n",
       "      <th>GDP per capita</th>\n",
       "      <th>Social support</th>\n",
       "      <th>Healthy life expectancy</th>\n",
       "      <th>Freedom to make life choices</th>\n",
       "    </tr>\n",
       "  </thead>\n",
       "  <tbody>\n",
       "    <tr>\n",
       "      <th>Afghanistan</th>\n",
       "      <td>889</td>\n",
       "      <td>0.350</td>\n",
       "      <td>0.517</td>\n",
       "      <td>0.361</td>\n",
       "      <td>0.000</td>\n",
       "    </tr>\n",
       "    <tr>\n",
       "      <th>Albania</th>\n",
       "      <td>819</td>\n",
       "      <td>0.947</td>\n",
       "      <td>0.848</td>\n",
       "      <td>0.874</td>\n",
       "      <td>0.383</td>\n",
       "    </tr>\n",
       "    <tr>\n",
       "      <th>Algeria</th>\n",
       "      <td>9521</td>\n",
       "      <td>1.002</td>\n",
       "      <td>1.160</td>\n",
       "      <td>0.785</td>\n",
       "      <td>0.086</td>\n",
       "    </tr>\n",
       "    <tr>\n",
       "      <th>Argentina</th>\n",
       "      <td>3640</td>\n",
       "      <td>1.092</td>\n",
       "      <td>1.432</td>\n",
       "      <td>0.881</td>\n",
       "      <td>0.471</td>\n",
       "    </tr>\n",
       "    <tr>\n",
       "      <th>Armenia</th>\n",
       "      <td>539</td>\n",
       "      <td>0.850</td>\n",
       "      <td>1.055</td>\n",
       "      <td>0.815</td>\n",
       "      <td>0.283</td>\n",
       "    </tr>\n",
       "  </tbody>\n",
       "</table>\n",
       "</div>"
      ],
      "text/plain": [
       "             total_deaths  GDP per capita  Social support  \\\n",
       "Afghanistan           889           0.350           0.517   \n",
       "Albania               819           0.947           0.848   \n",
       "Algeria              9521           1.002           1.160   \n",
       "Argentina            3640           1.092           1.432   \n",
       "Armenia               539           0.850           1.055   \n",
       "\n",
       "             Healthy life expectancy  Freedom to make life choices  \n",
       "Afghanistan                    0.361                         0.000  \n",
       "Albania                        0.874                         0.383  \n",
       "Algeria                        0.785                         0.086  \n",
       "Argentina                      0.881                         0.471  \n",
       "Armenia                        0.815                         0.283  "
      ]
     },
     "execution_count": 59,
     "metadata": {},
     "output_type": "execute_result"
    }
   ],
   "source": [
    "data_deaths.head()"
   ]
  },
  {
   "cell_type": "markdown",
   "id": "85e78081",
   "metadata": {
    "papermill": {
     "duration": 0.049843,
     "end_time": "2023-05-20T10:07:31.356111",
     "exception": false,
     "start_time": "2023-05-20T10:07:31.306268",
     "status": "completed"
    },
    "tags": []
   },
   "source": [
    "## Adding a shift to make all death data positive"
   ]
  },
  {
   "cell_type": "code",
   "execution_count": 60,
   "id": "95fdc793",
   "metadata": {
    "execution": {
     "iopub.execute_input": "2023-05-20T10:07:31.458712Z",
     "iopub.status.busy": "2023-05-20T10:07:31.457894Z",
     "iopub.status.idle": "2023-05-20T10:07:31.463201Z",
     "shell.execute_reply": "2023-05-20T10:07:31.462489Z"
    },
    "papermill": {
     "duration": 0.059001,
     "end_time": "2023-05-20T10:07:31.465420",
     "exception": false,
     "start_time": "2023-05-20T10:07:31.406419",
     "status": "completed"
    },
    "tags": []
   },
   "outputs": [],
   "source": [
    "shifted_deaths = data_deaths[\"total_deaths\"] - data_deaths[\"total_deaths\"].min() + 1"
   ]
  },
  {
   "cell_type": "code",
   "execution_count": 61,
   "id": "8ce2fa95",
   "metadata": {
    "execution": {
     "iopub.execute_input": "2023-05-20T10:07:31.570057Z",
     "iopub.status.busy": "2023-05-20T10:07:31.569627Z",
     "iopub.status.idle": "2023-05-20T10:07:31.574427Z",
     "shell.execute_reply": "2023-05-20T10:07:31.573399Z"
    },
    "papermill": {
     "duration": 0.060785,
     "end_time": "2023-05-20T10:07:31.576711",
     "exception": false,
     "start_time": "2023-05-20T10:07:31.515926",
     "status": "completed"
    },
    "tags": []
   },
   "outputs": [],
   "source": [
    "log_transformed_deaths = np.log(shifted_deaths)"
   ]
  },
  {
   "cell_type": "markdown",
   "id": "23732d3f",
   "metadata": {
    "_cell_guid": "8dccff1a-b210-4147-8839-5fb479ddc6ae",
    "_uuid": "00ac4413-de77-4aad-b04f-c4fd05329477",
    "papermill": {
     "duration": 0.050789,
     "end_time": "2023-05-20T10:07:31.681677",
     "exception": false,
     "start_time": "2023-05-20T10:07:31.630888",
     "status": "completed"
    },
    "tags": []
   },
   "source": [
    "## Plotting GDP vs total deaths"
   ]
  },
  {
   "cell_type": "code",
   "execution_count": 62,
   "id": "7b2b95ab",
   "metadata": {
    "_cell_guid": "b1719541-feec-4cb9-bffa-85676ab5bb2c",
    "_uuid": "f38dbbab-2b0e-46fe-97f3-c7fd3a621fab",
    "collapsed": false,
    "execution": {
     "iopub.execute_input": "2023-05-20T10:07:31.782993Z",
     "iopub.status.busy": "2023-05-20T10:07:31.782623Z",
     "iopub.status.idle": "2023-05-20T10:07:32.079130Z",
     "shell.execute_reply": "2023-05-20T10:07:32.077710Z"
    },
    "jupyter": {
     "outputs_hidden": false
    },
    "papermill": {
     "duration": 0.350175,
     "end_time": "2023-05-20T10:07:32.081758",
     "exception": false,
     "start_time": "2023-05-20T10:07:31.731583",
     "status": "completed"
    },
    "tags": []
   },
   "outputs": [
    {
     "data": {
      "text/plain": [
       "<AxesSubplot: xlabel='GDP per capita', ylabel='total_deaths'>"
      ]
     },
     "execution_count": 62,
     "metadata": {},
     "output_type": "execute_result"
    },
    {
     "data": {
      "image/png": "[encoded data removed]",
      "text/plain": [
       "<Figure size 640x480 with 1 Axes>"
      ]
     },
     "metadata": {},
     "output_type": "display_data"
    }
   ],
   "source": [
    "sns.scatterplot(x=\"GDP per capita\", y=log_transformed_deaths, data=data_deaths)"
   ]
  },
  {
   "cell_type": "code",
   "execution_count": 63,
   "id": "9e6d28db",
   "metadata": {
    "_cell_guid": "1ffad125-7898-4dd1-938c-2eeb40611ef8",
    "_uuid": "d031fdc9-1a42-460c-88ae-ae034e820bdd",
    "collapsed": false,
    "execution": {
     "iopub.execute_input": "2023-05-20T10:07:32.186596Z",
     "iopub.status.busy": "2023-05-20T10:07:32.185484Z",
     "iopub.status.idle": "2023-05-20T10:07:32.597340Z",
     "shell.execute_reply": "2023-05-20T10:07:32.596088Z"
    },
    "jupyter": {
     "outputs_hidden": false
    },
    "papermill": {
     "duration": 0.466802,
     "end_time": "2023-05-20T10:07:32.599951",
     "exception": false,
     "start_time": "2023-05-20T10:07:32.133149",
     "status": "completed"
    },
    "tags": []
   },
   "outputs": [
    {
     "data": {
      "text/plain": [
       "<AxesSubplot: xlabel='GDP per capita', ylabel='total_deaths'>"
      ]
     },
     "execution_count": 63,
     "metadata": {},
     "output_type": "execute_result"
    },
    {
     "data": {
      "image/png": "[encoded data removed]",
      "text/plain": [
       "<Figure size 640x480 with 1 Axes>"
      ]
     },
     "metadata": {},
     "output_type": "display_data"
    }
   ],
   "source": [
    "sns.regplot(x=\"GDP per capita\", y=log_transformed_deaths, data=data_deaths)"
   ]
  },
  {
   "cell_type": "markdown",
   "id": "d62f417a",
   "metadata": {
    "_cell_guid": "b261680e-0e06-428c-8e76-6fcfd1e3473f",
    "_uuid": "e1d1b925-231c-4348-8fd0-1024f9544c1a",
    "papermill": {
     "duration": 0.052342,
     "end_time": "2023-05-20T10:07:32.705598",
     "exception": false,
     "start_time": "2023-05-20T10:07:32.653256",
     "status": "completed"
    },
    "tags": []
   },
   "source": [
    "## Plotting Social support vs total deaths"
   ]
  },
  {
   "cell_type": "code",
   "execution_count": 64,
   "id": "e1385fca",
   "metadata": {
    "_cell_guid": "13c50938-bbd5-437a-aea4-84929a8a1b9d",
    "_uuid": "1d941912-7bd2-4ec4-99e2-9880bbf6354b",
    "collapsed": false,
    "execution": {
     "iopub.execute_input": "2023-05-20T10:07:32.814492Z",
     "iopub.status.busy": "2023-05-20T10:07:32.813731Z",
     "iopub.status.idle": "2023-05-20T10:07:33.263755Z",
     "shell.execute_reply": "2023-05-20T10:07:33.262679Z"
    },
    "jupyter": {
     "outputs_hidden": false
    },
    "papermill": {
     "duration": 0.509043,
     "end_time": "2023-05-20T10:07:33.266455",
     "exception": false,
     "start_time": "2023-05-20T10:07:32.757412",
     "status": "completed"
    },
    "tags": []
   },
   "outputs": [
    {
     "data": {
      "text/plain": [
       "<AxesSubplot: xlabel='Social support', ylabel='total_deaths'>"
      ]
     },
     "execution_count": 64,
     "metadata": {},
     "output_type": "execute_result"
    },
    {
     "data": {
      "image/png": "[encoded data removed]",
      "text/plain": [
       "<Figure size 640x480 with 1 Axes>"
      ]
     },
     "metadata": {},
     "output_type": "display_data"
    }
   ],
   "source": [
    "sns.scatterplot(x=\"Social support\", y=log_transformed_deaths, data=data_deaths)"
   ]
  },
  {
   "cell_type": "code",
   "execution_count": 65,
   "id": "5f644b5e",
   "metadata": {
    "execution": {
     "iopub.execute_input": "2023-05-20T10:07:33.372451Z",
     "iopub.status.busy": "2023-05-20T10:07:33.371671Z",
     "iopub.status.idle": "2023-05-20T10:07:33.787002Z",
     "shell.execute_reply": "2023-05-20T10:07:33.786030Z"
    },
    "papermill": {
     "duration": 0.471175,
     "end_time": "2023-05-20T10:07:33.789467",
     "exception": false,
     "start_time": "2023-05-20T10:07:33.318292",
     "status": "completed"
    },
    "tags": []
   },
   "outputs": [
    {
     "data": {
      "text/plain": [
       "<AxesSubplot: xlabel='Social support', ylabel='total_deaths'>"
      ]
     },
     "execution_count": 65,
     "metadata": {},
     "output_type": "execute_result"
    },
    {
     "data": {
      "image/png": "[encoded data removed]",
      "text/plain": [
       "<Figure size 640x480 with 1 Axes>"
      ]
     },
     "metadata": {},
     "output_type": "display_data"
    }
   ],
   "source": [
    "sns.regplot(x=\"Social support\", y=log_transformed_deaths, data=data_deaths)"
   ]
  },
  {
   "cell_type": "markdown",
   "id": "e138b4ff",
   "metadata": {
    "_cell_guid": "e2942159-046d-4739-8c41-87b8425fdf84",
    "_uuid": "2ab21b4d-1cbc-42db-abfa-c022b84bf7ef",
    "papermill": {
     "duration": 0.055169,
     "end_time": "2023-05-20T10:07:33.899403",
     "exception": false,
     "start_time": "2023-05-20T10:07:33.844234",
     "status": "completed"
    },
    "tags": []
   },
   "source": [
    "## Plotting Healthy life expectancy vs total deaths"
   ]
  },
  {
   "cell_type": "code",
   "execution_count": 66,
   "id": "a3ea45a7",
   "metadata": {
    "_cell_guid": "b5a39d11-468a-4d51-8b79-f0c78bfee55f",
    "_uuid": "555b7743-d4d1-408b-a968-319d2d754073",
    "collapsed": false,
    "execution": {
     "iopub.execute_input": "2023-05-20T10:07:34.007271Z",
     "iopub.status.busy": "2023-05-20T10:07:34.006497Z",
     "iopub.status.idle": "2023-05-20T10:07:34.402818Z",
     "shell.execute_reply": "2023-05-20T10:07:34.401662Z"
    },
    "jupyter": {
     "outputs_hidden": false
    },
    "papermill": {
     "duration": 0.453012,
     "end_time": "2023-05-20T10:07:34.405164",
     "exception": false,
     "start_time": "2023-05-20T10:07:33.952152",
     "status": "completed"
    },
    "tags": []
   },
   "outputs": [
    {
     "data": {
      "text/plain": [
       "<AxesSubplot: xlabel='Healthy life expectancy', ylabel='total_deaths'>"
      ]
     },
     "execution_count": 66,
     "metadata": {},
     "output_type": "execute_result"
    },
    {
     "data": {
      "image/png": "[encoded data removed]",
      "text/plain": [
       "<Figure size 640x480 with 1 Axes>"
      ]
     },
     "metadata": {},
     "output_type": "display_data"
    }
   ],
   "source": [
    "sns.regplot(x=\"Healthy life expectancy\", y=log_transformed_deaths, data=data_deaths)"
   ]
  },
  {
   "cell_type": "code",
   "execution_count": 67,
   "id": "71c85c25",
   "metadata": {
    "_cell_guid": "a269bca1-e2f0-4c60-9874-93f2e81dd234",
    "_uuid": "22b6628e-c907-4fcc-8796-937b1b07a258",
    "collapsed": false,
    "execution": {
     "iopub.execute_input": "2023-05-20T10:07:34.514234Z",
     "iopub.status.busy": "2023-05-20T10:07:34.513835Z",
     "iopub.status.idle": "2023-05-20T10:07:34.911234Z",
     "shell.execute_reply": "2023-05-20T10:07:34.909939Z"
    },
    "jupyter": {
     "outputs_hidden": false
    },
    "papermill": {
     "duration": 0.454996,
     "end_time": "2023-05-20T10:07:34.913691",
     "exception": false,
     "start_time": "2023-05-20T10:07:34.458695",
     "status": "completed"
    },
    "tags": []
   },
   "outputs": [
    {
     "data": {
      "text/plain": [
       "<AxesSubplot: xlabel='Healthy life expectancy', ylabel='total_deaths'>"
      ]
     },
     "execution_count": 67,
     "metadata": {},
     "output_type": "execute_result"
    },
    {
     "data": {
      "image/png": "[encoded data removed]",
      "text/plain": [
       "<Figure size 640x480 with 1 Axes>"
      ]
     },
     "metadata": {},
     "output_type": "display_data"
    }
   ],
   "source": [
    "sns.regplot(x=\"Healthy life expectancy\", y=log_transformed_deaths, data=data_deaths)"
   ]
  },
  {
   "cell_type": "markdown",
   "id": "1e2c4cbb",
   "metadata": {
    "papermill": {
     "duration": 0.057477,
     "end_time": "2023-05-20T10:07:35.027080",
     "exception": false,
     "start_time": "2023-05-20T10:07:34.969603",
     "status": "completed"
    },
    "tags": []
   },
   "source": [
    "## Plotting Freedom to make life choices vs total deaths"
   ]
  },
  {
   "cell_type": "code",
   "execution_count": 68,
   "id": "56471f03",
   "metadata": {
    "execution": {
     "iopub.execute_input": "2023-05-20T10:07:35.201061Z",
     "iopub.status.busy": "2023-05-20T10:07:35.199969Z",
     "iopub.status.idle": "2023-05-20T10:07:35.611560Z",
     "shell.execute_reply": "2023-05-20T10:07:35.610402Z"
    },
    "papermill": {
     "duration": 0.531187,
     "end_time": "2023-05-20T10:07:35.613882",
     "exception": false,
     "start_time": "2023-05-20T10:07:35.082695",
     "status": "completed"
    },
    "tags": []
   },
   "outputs": [
    {
     "data": {
      "text/plain": [
       "<AxesSubplot: xlabel='Freedom to make life choices', ylabel='total_deaths'>"
      ]
     },
     "execution_count": 68,
     "metadata": {},
     "output_type": "execute_result"
    },
    {
     "data": {
      "image/png": "[encoded data removed]",
      "text/plain": [
       "<Figure size 640x480 with 1 Axes>"
      ]
     },
     "metadata": {},
     "output_type": "display_data"
    }
   ],
   "source": [
    "sns.regplot(x=\"Freedom to make life choices\", y=log_transformed_deaths, data=data_deaths)"
   ]
  },
  {
   "cell_type": "code",
   "execution_count": 69,
   "id": "58067147",
   "metadata": {
    "execution": {
     "iopub.execute_input": "2023-05-20T10:07:35.727355Z",
     "iopub.status.busy": "2023-05-20T10:07:35.726942Z",
     "iopub.status.idle": "2023-05-20T10:07:36.138267Z",
     "shell.execute_reply": "2023-05-20T10:07:36.137037Z"
    },
    "papermill": {
     "duration": 0.471183,
     "end_time": "2023-05-20T10:07:36.140641",
     "exception": false,
     "start_time": "2023-05-20T10:07:35.669458",
     "status": "completed"
    },
    "tags": []
   },
   "outputs": [
    {
     "data": {
      "text/plain": [
       "<AxesSubplot: xlabel='Freedom to make life choices', ylabel='total_deaths'>"
      ]
     },
     "execution_count": 69,
     "metadata": {},
     "output_type": "execute_result"
    },
    {
     "data": {
      "image/png": "[encoded data removed]",
      "text/plain": [
       "<Figure size 640x480 with 1 Axes>"
      ]
     },
     "metadata": {},
     "output_type": "display_data"
    }
   ],
   "source": [
    "sns.regplot(x=\"Freedom to make life choices\", y=log_transformed_deaths, data=data_deaths)"
   ]
  }
 ],
 "metadata": {
  "kernelspec": {
   "display_name": "Python 3",
   "language": "python",
   "name": "python3"
  },
  "language_info": {
   "codemirror_mode": {
    "name": "ipython",
    "version": 3
   },
   "file_extension": ".py",
   "mimetype": "text/x-python",
   "name": "python",
   "nbconvert_exporter": "python",
   "pygments_lexer": "ipython3",
   "version": "3.10.10"
  },
  "papermill": {
   "default_parameters": {},
   "duration": 30.972824,
   "end_time": "2023-05-20T10:07:37.221249",
   "environment_variables": {},
   "exception": null,
   "input_path": "__notebook__.ipynb",
   "output_path": "__notebook__.ipynb",
   "parameters": {},
   "start_time": "2023-05-20T10:07:06.248425",
   "version": "2.4.0"
  }
 },
 "nbformat": 4,
 "nbformat_minor": 5
}
